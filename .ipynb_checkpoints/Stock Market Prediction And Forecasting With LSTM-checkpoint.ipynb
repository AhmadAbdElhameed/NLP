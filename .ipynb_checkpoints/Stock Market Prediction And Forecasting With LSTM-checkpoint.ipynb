{
 "cells": [
  {
   "cell_type": "code",
   "execution_count": 9,
   "id": "debc7839",
   "metadata": {},
   "outputs": [],
   "source": [
    "import pandas_datareader as pdr\n",
    "import os\n",
    "import pandas as pd"
   ]
  },
  {
   "cell_type": "code",
   "execution_count": 12,
   "id": "44757a21",
   "metadata": {},
   "outputs": [],
   "source": [
    "df = pdr.get_data_tiingo('AAPL',api_key = '9af586c352de63a9c2e555d19dc3b068059efac3')"
   ]
  },
  {
   "cell_type": "code",
   "execution_count": 13,
   "id": "094bf282",
   "metadata": {},
   "outputs": [
    {
     "data": {
      "text/html": [
       "<div>\n",
       "<style scoped>\n",
       "    .dataframe tbody tr th:only-of-type {\n",
       "        vertical-align: middle;\n",
       "    }\n",
       "\n",
       "    .dataframe tbody tr th {\n",
       "        vertical-align: top;\n",
       "    }\n",
       "\n",
       "    .dataframe thead th {\n",
       "        text-align: right;\n",
       "    }\n",
       "</style>\n",
       "<table border=\"1\" class=\"dataframe\">\n",
       "  <thead>\n",
       "    <tr style=\"text-align: right;\">\n",
       "      <th></th>\n",
       "      <th></th>\n",
       "      <th>close</th>\n",
       "      <th>high</th>\n",
       "      <th>low</th>\n",
       "      <th>open</th>\n",
       "      <th>volume</th>\n",
       "      <th>adjClose</th>\n",
       "      <th>adjHigh</th>\n",
       "      <th>adjLow</th>\n",
       "      <th>adjOpen</th>\n",
       "      <th>adjVolume</th>\n",
       "      <th>divCash</th>\n",
       "      <th>splitFactor</th>\n",
       "    </tr>\n",
       "    <tr>\n",
       "      <th>symbol</th>\n",
       "      <th>date</th>\n",
       "      <th></th>\n",
       "      <th></th>\n",
       "      <th></th>\n",
       "      <th></th>\n",
       "      <th></th>\n",
       "      <th></th>\n",
       "      <th></th>\n",
       "      <th></th>\n",
       "      <th></th>\n",
       "      <th></th>\n",
       "      <th></th>\n",
       "      <th></th>\n",
       "    </tr>\n",
       "  </thead>\n",
       "  <tbody>\n",
       "    <tr>\n",
       "      <th rowspan=\"5\" valign=\"top\">AAPL</th>\n",
       "      <th>2016-05-05 00:00:00+00:00</th>\n",
       "      <td>93.24</td>\n",
       "      <td>94.07</td>\n",
       "      <td>92.68</td>\n",
       "      <td>94.00</td>\n",
       "      <td>35890500</td>\n",
       "      <td>21.809581</td>\n",
       "      <td>22.003724</td>\n",
       "      <td>21.678592</td>\n",
       "      <td>21.987351</td>\n",
       "      <td>143562000</td>\n",
       "      <td>0.57</td>\n",
       "      <td>1.0</td>\n",
       "    </tr>\n",
       "    <tr>\n",
       "      <th>2016-05-06 00:00:00+00:00</th>\n",
       "      <td>92.72</td>\n",
       "      <td>93.45</td>\n",
       "      <td>91.85</td>\n",
       "      <td>93.37</td>\n",
       "      <td>43699886</td>\n",
       "      <td>21.687949</td>\n",
       "      <td>21.858701</td>\n",
       "      <td>21.484449</td>\n",
       "      <td>21.839989</td>\n",
       "      <td>174799544</td>\n",
       "      <td>0.00</td>\n",
       "      <td>1.0</td>\n",
       "    </tr>\n",
       "    <tr>\n",
       "      <th>2016-05-09 00:00:00+00:00</th>\n",
       "      <td>92.79</td>\n",
       "      <td>93.77</td>\n",
       "      <td>92.59</td>\n",
       "      <td>93.00</td>\n",
       "      <td>32936436</td>\n",
       "      <td>21.704322</td>\n",
       "      <td>21.933552</td>\n",
       "      <td>21.657541</td>\n",
       "      <td>21.753443</td>\n",
       "      <td>131745744</td>\n",
       "      <td>0.00</td>\n",
       "      <td>1.0</td>\n",
       "    </tr>\n",
       "    <tr>\n",
       "      <th>2016-05-10 00:00:00+00:00</th>\n",
       "      <td>93.42</td>\n",
       "      <td>93.57</td>\n",
       "      <td>92.11</td>\n",
       "      <td>93.33</td>\n",
       "      <td>33686836</td>\n",
       "      <td>21.851684</td>\n",
       "      <td>21.886770</td>\n",
       "      <td>21.545265</td>\n",
       "      <td>21.830632</td>\n",
       "      <td>134747344</td>\n",
       "      <td>0.00</td>\n",
       "      <td>1.0</td>\n",
       "    </tr>\n",
       "    <tr>\n",
       "      <th>2016-05-11 00:00:00+00:00</th>\n",
       "      <td>92.51</td>\n",
       "      <td>93.57</td>\n",
       "      <td>92.46</td>\n",
       "      <td>93.48</td>\n",
       "      <td>28719109</td>\n",
       "      <td>21.638828</td>\n",
       "      <td>21.886770</td>\n",
       "      <td>21.627132</td>\n",
       "      <td>21.865719</td>\n",
       "      <td>114876436</td>\n",
       "      <td>0.00</td>\n",
       "      <td>1.0</td>\n",
       "    </tr>\n",
       "  </tbody>\n",
       "</table>\n",
       "</div>"
      ],
      "text/plain": [
       "                                  close   high    low   open    volume  \\\n",
       "symbol date                                                              \n",
       "AAPL   2016-05-05 00:00:00+00:00  93.24  94.07  92.68  94.00  35890500   \n",
       "       2016-05-06 00:00:00+00:00  92.72  93.45  91.85  93.37  43699886   \n",
       "       2016-05-09 00:00:00+00:00  92.79  93.77  92.59  93.00  32936436   \n",
       "       2016-05-10 00:00:00+00:00  93.42  93.57  92.11  93.33  33686836   \n",
       "       2016-05-11 00:00:00+00:00  92.51  93.57  92.46  93.48  28719109   \n",
       "\n",
       "                                   adjClose    adjHigh     adjLow    adjOpen  \\\n",
       "symbol date                                                                    \n",
       "AAPL   2016-05-05 00:00:00+00:00  21.809581  22.003724  21.678592  21.987351   \n",
       "       2016-05-06 00:00:00+00:00  21.687949  21.858701  21.484449  21.839989   \n",
       "       2016-05-09 00:00:00+00:00  21.704322  21.933552  21.657541  21.753443   \n",
       "       2016-05-10 00:00:00+00:00  21.851684  21.886770  21.545265  21.830632   \n",
       "       2016-05-11 00:00:00+00:00  21.638828  21.886770  21.627132  21.865719   \n",
       "\n",
       "                                  adjVolume  divCash  splitFactor  \n",
       "symbol date                                                        \n",
       "AAPL   2016-05-05 00:00:00+00:00  143562000     0.57          1.0  \n",
       "       2016-05-06 00:00:00+00:00  174799544     0.00          1.0  \n",
       "       2016-05-09 00:00:00+00:00  131745744     0.00          1.0  \n",
       "       2016-05-10 00:00:00+00:00  134747344     0.00          1.0  \n",
       "       2016-05-11 00:00:00+00:00  114876436     0.00          1.0  "
      ]
     },
     "execution_count": 13,
     "metadata": {},
     "output_type": "execute_result"
    }
   ],
   "source": [
    "df.head()"
   ]
  },
  {
   "cell_type": "code",
   "execution_count": 14,
   "id": "3fb793a2",
   "metadata": {},
   "outputs": [
    {
     "data": {
      "text/plain": [
       "(1257, 12)"
      ]
     },
     "execution_count": 14,
     "metadata": {},
     "output_type": "execute_result"
    }
   ],
   "source": [
    "df.shape"
   ]
  },
  {
   "cell_type": "code",
   "execution_count": 17,
   "id": "dc2c3528",
   "metadata": {},
   "outputs": [],
   "source": [
    "df.to_csv(\"AAPL.csv\")"
   ]
  },
  {
   "cell_type": "code",
   "execution_count": 18,
   "id": "f4b61315",
   "metadata": {},
   "outputs": [],
   "source": [
    "df = pd.read_csv(\"AAPL.csv\")"
   ]
  },
  {
   "cell_type": "code",
   "execution_count": 21,
   "id": "13e6e025",
   "metadata": {},
   "outputs": [
    {
     "data": {
      "text/html": [
       "<div>\n",
       "<style scoped>\n",
       "    .dataframe tbody tr th:only-of-type {\n",
       "        vertical-align: middle;\n",
       "    }\n",
       "\n",
       "    .dataframe tbody tr th {\n",
       "        vertical-align: top;\n",
       "    }\n",
       "\n",
       "    .dataframe thead th {\n",
       "        text-align: right;\n",
       "    }\n",
       "</style>\n",
       "<table border=\"1\" class=\"dataframe\">\n",
       "  <thead>\n",
       "    <tr style=\"text-align: right;\">\n",
       "      <th></th>\n",
       "      <th>symbol</th>\n",
       "      <th>date</th>\n",
       "      <th>close</th>\n",
       "      <th>high</th>\n",
       "      <th>low</th>\n",
       "      <th>open</th>\n",
       "      <th>volume</th>\n",
       "      <th>adjClose</th>\n",
       "      <th>adjHigh</th>\n",
       "      <th>adjLow</th>\n",
       "      <th>adjOpen</th>\n",
       "      <th>adjVolume</th>\n",
       "      <th>divCash</th>\n",
       "      <th>splitFactor</th>\n",
       "    </tr>\n",
       "  </thead>\n",
       "  <tbody>\n",
       "    <tr>\n",
       "      <th>1252</th>\n",
       "      <td>AAPL</td>\n",
       "      <td>2021-04-27 00:00:00+00:00</td>\n",
       "      <td>134.39</td>\n",
       "      <td>135.41</td>\n",
       "      <td>134.110</td>\n",
       "      <td>135.01</td>\n",
       "      <td>66015804</td>\n",
       "      <td>134.39</td>\n",
       "      <td>135.41</td>\n",
       "      <td>134.110</td>\n",
       "      <td>135.01</td>\n",
       "      <td>66015804</td>\n",
       "      <td>0.0</td>\n",
       "      <td>1.0</td>\n",
       "    </tr>\n",
       "    <tr>\n",
       "      <th>1253</th>\n",
       "      <td>AAPL</td>\n",
       "      <td>2021-04-28 00:00:00+00:00</td>\n",
       "      <td>133.58</td>\n",
       "      <td>135.02</td>\n",
       "      <td>133.080</td>\n",
       "      <td>134.31</td>\n",
       "      <td>107760097</td>\n",
       "      <td>133.58</td>\n",
       "      <td>135.02</td>\n",
       "      <td>133.080</td>\n",
       "      <td>134.31</td>\n",
       "      <td>107760097</td>\n",
       "      <td>0.0</td>\n",
       "      <td>1.0</td>\n",
       "    </tr>\n",
       "    <tr>\n",
       "      <th>1254</th>\n",
       "      <td>AAPL</td>\n",
       "      <td>2021-04-29 00:00:00+00:00</td>\n",
       "      <td>133.48</td>\n",
       "      <td>137.07</td>\n",
       "      <td>132.450</td>\n",
       "      <td>136.47</td>\n",
       "      <td>151100953</td>\n",
       "      <td>133.48</td>\n",
       "      <td>137.07</td>\n",
       "      <td>132.450</td>\n",
       "      <td>136.47</td>\n",
       "      <td>151100953</td>\n",
       "      <td>0.0</td>\n",
       "      <td>1.0</td>\n",
       "    </tr>\n",
       "    <tr>\n",
       "      <th>1255</th>\n",
       "      <td>AAPL</td>\n",
       "      <td>2021-04-30 00:00:00+00:00</td>\n",
       "      <td>131.46</td>\n",
       "      <td>133.56</td>\n",
       "      <td>131.065</td>\n",
       "      <td>131.78</td>\n",
       "      <td>109839466</td>\n",
       "      <td>131.46</td>\n",
       "      <td>133.56</td>\n",
       "      <td>131.065</td>\n",
       "      <td>131.78</td>\n",
       "      <td>109839466</td>\n",
       "      <td>0.0</td>\n",
       "      <td>1.0</td>\n",
       "    </tr>\n",
       "    <tr>\n",
       "      <th>1256</th>\n",
       "      <td>AAPL</td>\n",
       "      <td>2021-05-03 00:00:00+00:00</td>\n",
       "      <td>132.54</td>\n",
       "      <td>134.07</td>\n",
       "      <td>131.830</td>\n",
       "      <td>132.04</td>\n",
       "      <td>75135100</td>\n",
       "      <td>132.54</td>\n",
       "      <td>134.07</td>\n",
       "      <td>131.830</td>\n",
       "      <td>132.04</td>\n",
       "      <td>75135100</td>\n",
       "      <td>0.0</td>\n",
       "      <td>1.0</td>\n",
       "    </tr>\n",
       "  </tbody>\n",
       "</table>\n",
       "</div>"
      ],
      "text/plain": [
       "     symbol                       date   close    high      low    open  \\\n",
       "1252   AAPL  2021-04-27 00:00:00+00:00  134.39  135.41  134.110  135.01   \n",
       "1253   AAPL  2021-04-28 00:00:00+00:00  133.58  135.02  133.080  134.31   \n",
       "1254   AAPL  2021-04-29 00:00:00+00:00  133.48  137.07  132.450  136.47   \n",
       "1255   AAPL  2021-04-30 00:00:00+00:00  131.46  133.56  131.065  131.78   \n",
       "1256   AAPL  2021-05-03 00:00:00+00:00  132.54  134.07  131.830  132.04   \n",
       "\n",
       "         volume  adjClose  adjHigh   adjLow  adjOpen  adjVolume  divCash  \\\n",
       "1252   66015804    134.39   135.41  134.110   135.01   66015804      0.0   \n",
       "1253  107760097    133.58   135.02  133.080   134.31  107760097      0.0   \n",
       "1254  151100953    133.48   137.07  132.450   136.47  151100953      0.0   \n",
       "1255  109839466    131.46   133.56  131.065   131.78  109839466      0.0   \n",
       "1256   75135100    132.54   134.07  131.830   132.04   75135100      0.0   \n",
       "\n",
       "      splitFactor  \n",
       "1252          1.0  \n",
       "1253          1.0  \n",
       "1254          1.0  \n",
       "1255          1.0  \n",
       "1256          1.0  "
      ]
     },
     "execution_count": 21,
     "metadata": {},
     "output_type": "execute_result"
    }
   ],
   "source": [
    "df.tail()"
   ]
  },
  {
   "cell_type": "code",
   "execution_count": 20,
   "id": "154b9e72",
   "metadata": {},
   "outputs": [
    {
     "name": "stdout",
     "output_type": "stream",
     "text": [
      "<class 'pandas.core.frame.DataFrame'>\n",
      "RangeIndex: 1257 entries, 0 to 1256\n",
      "Data columns (total 14 columns):\n",
      " #   Column       Non-Null Count  Dtype  \n",
      "---  ------       --------------  -----  \n",
      " 0   symbol       1257 non-null   object \n",
      " 1   date         1257 non-null   object \n",
      " 2   close        1257 non-null   float64\n",
      " 3   high         1257 non-null   float64\n",
      " 4   low          1257 non-null   float64\n",
      " 5   open         1257 non-null   float64\n",
      " 6   volume       1257 non-null   int64  \n",
      " 7   adjClose     1257 non-null   float64\n",
      " 8   adjHigh      1257 non-null   float64\n",
      " 9   adjLow       1257 non-null   float64\n",
      " 10  adjOpen      1257 non-null   float64\n",
      " 11  adjVolume    1257 non-null   int64  \n",
      " 12  divCash      1257 non-null   float64\n",
      " 13  splitFactor  1257 non-null   float64\n",
      "dtypes: float64(10), int64(2), object(2)\n",
      "memory usage: 137.6+ KB\n"
     ]
    }
   ],
   "source": [
    "df.info()"
   ]
  },
  {
   "cell_type": "code",
   "execution_count": 22,
   "id": "6816e0ba",
   "metadata": {},
   "outputs": [],
   "source": [
    "df1 = df.reset_index()[\"close\"]"
   ]
  },
  {
   "cell_type": "code",
   "execution_count": 23,
   "id": "cbb12816",
   "metadata": {},
   "outputs": [
    {
     "data": {
      "text/plain": [
       "0    93.24\n",
       "1    92.72\n",
       "2    92.79\n",
       "3    93.42\n",
       "4    92.51\n",
       "Name: close, dtype: float64"
      ]
     },
     "execution_count": 23,
     "metadata": {},
     "output_type": "execute_result"
    }
   ],
   "source": [
    "df1.head()"
   ]
  },
  {
   "cell_type": "code",
   "execution_count": 24,
   "id": "f5a2e608",
   "metadata": {},
   "outputs": [
    {
     "data": {
      "text/plain": [
       "[<matplotlib.lines.Line2D at 0x29ae43e92e8>]"
      ]
     },
     "execution_count": 24,
     "metadata": {},
     "output_type": "execute_result"
    },
    {
     "data": {
      "image/png": "[encoded data removed]",
      "text/plain": [
       "<Figure size 432x288 with 1 Axes>"
      ]
     },
     "metadata": {
      "needs_background": "light"
     },
     "output_type": "display_data"
    }
   ],
   "source": [
    "import matplotlib.pyplot as plt\n",
    "plt.plot(df1)"
   ]
  },
  {
   "cell_type": "code",
   "execution_count": 31,
   "id": "80050cc3",
   "metadata": {},
   "outputs": [],
   "source": [
    "from sklearn.preprocessing import MinMaxScaler\n",
    "scaler = MinMaxScaler()"
   ]
  },
  {
   "cell_type": "code",
   "execution_count": 32,
   "id": "4f7fe420",
   "metadata": {
    "scrolled": true
   },
   "outputs": [
    {
     "data": {
      "text/plain": [
       "0        93.24\n",
       "1        92.72\n",
       "2        92.79\n",
       "3        93.42\n",
       "4        92.51\n",
       "         ...  \n",
       "1252    134.39\n",
       "1253    133.58\n",
       "1254    133.48\n",
       "1255    131.46\n",
       "1256    132.54\n",
       "Name: close, Length: 1257, dtype: float64"
      ]
     },
     "execution_count": 32,
     "metadata": {},
     "output_type": "execute_result"
    }
   ],
   "source": [
    "df1"
   ]
  },
  {
   "cell_type": "code",
   "execution_count": 34,
   "id": "f70c1dee",
   "metadata": {},
   "outputs": [],
   "source": [
    "import numpy as np"
   ]
  },
  {
   "cell_type": "code",
   "execution_count": 35,
   "id": "0996c0e7",
   "metadata": {},
   "outputs": [],
   "source": [
    "df1 = scaler.fit_transform(np.array(df1).reshape(-1,1))"
   ]
  },
  {
   "cell_type": "code",
   "execution_count": 36,
   "id": "794c081c",
   "metadata": {},
   "outputs": [
    {
     "data": {
      "text/plain": [
       "array([[0.00697535],\n",
       "       [0.00572459],\n",
       "       [0.00589296],\n",
       "       ...,\n",
       "       [0.10376428],\n",
       "       [0.09890559],\n",
       "       [0.10150331]])"
      ]
     },
     "execution_count": 36,
     "metadata": {},
     "output_type": "execute_result"
    }
   ],
   "source": [
    "df1"
   ]
  },
  {
   "cell_type": "code",
   "execution_count": 37,
   "id": "640031ba",
   "metadata": {},
   "outputs": [],
   "source": [
    "## create train and test dataset\n",
    "train_size = int(len(df1)*.65)\n",
    "test_size = len(df1) - train_size"
   ]
  },
  {
   "cell_type": "code",
   "execution_count": 38,
   "id": "f7a553a8",
   "metadata": {},
   "outputs": [],
   "source": [
    "train_df,test_df = df1[0:train_size,:],df1[train_size:len(df1),:]"
   ]
  },
  {
   "cell_type": "code",
   "execution_count": 39,
   "id": "2bedfe67",
   "metadata": {},
   "outputs": [
    {
     "data": {
      "text/plain": [
       "(817, 1)"
      ]
     },
     "execution_count": 39,
     "metadata": {},
     "output_type": "execute_result"
    }
   ],
   "source": [
    "train_df.shape"
   ]
  },
  {
   "cell_type": "code",
   "execution_count": 41,
   "id": "fcad2168",
   "metadata": {},
   "outputs": [
    {
     "data": {
      "text/plain": [
       "(440, 1)"
      ]
     },
     "execution_count": 41,
     "metadata": {},
     "output_type": "execute_result"
    }
   ],
   "source": [
    "test_df.shape"
   ]
  },
  {
   "cell_type": "code",
   "execution_count": 42,
   "id": "85971ce9",
   "metadata": {},
   "outputs": [],
   "source": [
    "def build_dataset(data , timestep=1):\n",
    "    data_x , data_y = [],[]\n",
    "    for i in range(len(data) - timestep - 1):\n",
    "        temp = data[i:(i+timestep),0]\n",
    "        data_x.append(temp)\n",
    "        data_y.append(data[i + timestep , 0])\n",
    "    return np.array(data_x) , np.array(data_y)"
   ]
  },
  {
   "cell_type": "code",
   "execution_count": 46,
   "id": "ba74d129",
   "metadata": {},
   "outputs": [],
   "source": [
    "time_step = 100\n",
    "X_train,y_train = build_dataset(train_df,time_step)"
   ]
  },
  {
   "cell_type": "code",
   "execution_count": 47,
   "id": "772c8c1c",
   "metadata": {},
   "outputs": [
    {
     "data": {
      "text/plain": [
       "(716, 100)"
      ]
     },
     "execution_count": 47,
     "metadata": {},
     "output_type": "execute_result"
    }
   ],
   "source": [
    "X_train.shape"
   ]
  },
  {
   "cell_type": "code",
   "execution_count": 50,
   "id": "5964bb61",
   "metadata": {},
   "outputs": [],
   "source": [
    "X_test,y_test = build_dataset(test_df,time_step)"
   ]
  },
  {
   "cell_type": "code",
   "execution_count": 51,
   "id": "05100c8a",
   "metadata": {},
   "outputs": [
    {
     "data": {
      "text/plain": [
       "(339, 100)"
      ]
     },
     "execution_count": 51,
     "metadata": {},
     "output_type": "execute_result"
    }
   ],
   "source": [
    "X_test.shape"
   ]
  },
  {
   "cell_type": "code",
   "execution_count": 52,
   "id": "6fefcdfb",
   "metadata": {
    "scrolled": true
   },
   "outputs": [
    {
     "data": {
      "text/plain": [
       "array([[0.24774504, 0.25654841, 0.2614552 , ..., 0.45484065, 0.46580878,\n",
       "        0.46645821],\n",
       "       [0.25654841, 0.2614552 , 0.27201443, ..., 0.46580878, 0.46645821,\n",
       "        0.48002405],\n",
       "       [0.2614552 , 0.27201443, 0.26614552, ..., 0.46645821, 0.48002405,\n",
       "        0.47975947],\n",
       "       ...,\n",
       "       [0.07874925, 0.07841251, 0.07675286, ..., 0.10578473, 0.10674684,\n",
       "        0.1059531 ],\n",
       "       [0.07841251, 0.07675286, 0.08036079, ..., 0.10674684, 0.1059531 ,\n",
       "        0.10400481],\n",
       "       [0.07675286, 0.08036079, 0.08187613, ..., 0.1059531 , 0.10400481,\n",
       "        0.10376428]])"
      ]
     },
     "execution_count": 52,
     "metadata": {},
     "output_type": "execute_result"
    }
   ],
   "source": [
    "X_test"
   ]
  },
  {
   "cell_type": "code",
   "execution_count": null,
   "id": "4197dbdb",
   "metadata": {},
   "outputs": [],
   "source": [
    "## Reshape input for LSTM [samples , timesteps , features]"
   ]
  },
  {
   "cell_type": "code",
   "execution_count": 57,
   "id": "0ade9cc9",
   "metadata": {},
   "outputs": [],
   "source": [
    "X_train = X_train.reshape(X_train.shape[0],X_train.shape[1],1)\n",
    "X_test = X_test.reshape(X_test.shape[0],X_test.shape[1],1)"
   ]
  },
  {
   "cell_type": "code",
   "execution_count": 55,
   "id": "ca2aaaf0",
   "metadata": {},
   "outputs": [
    {
     "data": {
      "text/plain": [
       "(716, 100, 1)"
      ]
     },
     "execution_count": 55,
     "metadata": {},
     "output_type": "execute_result"
    }
   ],
   "source": [
    "X_train.shape"
   ]
  },
  {
   "cell_type": "code",
   "execution_count": 56,
   "id": "42c84bef",
   "metadata": {},
   "outputs": [
    {
     "data": {
      "text/plain": [
       "(339, 100, 1)"
      ]
     },
     "execution_count": 56,
     "metadata": {},
     "output_type": "execute_result"
    }
   ],
   "source": [
    "X_test.shape"
   ]
  },
  {
   "cell_type": "code",
   "execution_count": 58,
   "id": "76390736",
   "metadata": {},
   "outputs": [],
   "source": [
    "## Create LSTM Model\n",
    "from tensorflow.keras.models import Sequential\n",
    "from tensorflow.keras.layers import Dense\n",
    "from tensorflow.keras.layers import LSTM"
   ]
  },
  {
   "cell_type": "code",
   "execution_count": 59,
   "id": "22c35770",
   "metadata": {},
   "outputs": [],
   "source": [
    "model = Sequential()\n",
    "model.add(LSTM(50,return_sequences = True,input_shape = (100,1)))\n",
    "model.add(LSTM(50,return_sequences = True))\n",
    "model.add(LSTM(50))\n",
    "model.add(Dense(1))\n",
    "model.compile(loss = 'mean_squared_error',optimizer = 'adam')"
   ]
  },
  {
   "cell_type": "code",
   "execution_count": 60,
   "id": "3c331c06",
   "metadata": {},
   "outputs": [
    {
     "name": "stdout",
     "output_type": "stream",
     "text": [
      "Model: \"sequential\"\n",
      "_________________________________________________________________\n",
      "Layer (type)                 Output Shape              Param #   \n",
      "=================================================================\n",
      "lstm (LSTM)                  (None, 100, 50)           10400     \n",
      "_________________________________________________________________\n",
      "lstm_1 (LSTM)                (None, 100, 50)           20200     \n",
      "_________________________________________________________________\n",
      "lstm_2 (LSTM)                (None, 50)                20200     \n",
      "_________________________________________________________________\n",
      "dense (Dense)                (None, 1)                 51        \n",
      "=================================================================\n",
      "Total params: 50,851\n",
      "Trainable params: 50,851\n",
      "Non-trainable params: 0\n",
      "_________________________________________________________________\n"
     ]
    }
   ],
   "source": [
    "model.summary()"
   ]
  },
  {
   "cell_type": "code",
   "execution_count": 61,
   "id": "cb8c6757",
   "metadata": {},
   "outputs": [
    {
     "name": "stdout",
     "output_type": "stream",
     "text": [
      "Epoch 1/50\n",
      "12/12 [==============================] - 9s 308ms/step - loss: 0.0148 - val_loss: 0.0531\n",
      "Epoch 2/50\n",
      "12/12 [==============================] - 2s 172ms/step - loss: 0.0029 - val_loss: 0.0279\n",
      "Epoch 3/50\n",
      "12/12 [==============================] - 2s 174ms/step - loss: 0.0013 - val_loss: 0.0250\n",
      "Epoch 4/50\n",
      "12/12 [==============================] - 2s 180ms/step - loss: 7.6346e-04 - val_loss: 0.0229\n",
      "Epoch 5/50\n",
      "12/12 [==============================] - 2s 184ms/step - loss: 5.0160e-04 - val_loss: 0.0212\n",
      "Epoch 6/50\n",
      "12/12 [==============================] - 2s 176ms/step - loss: 4.6573e-04 - val_loss: 0.0208\n",
      "Epoch 7/50\n",
      "12/12 [==============================] - 2s 200ms/step - loss: 4.2676e-04 - val_loss: 0.0204\n",
      "Epoch 8/50\n",
      "12/12 [==============================] - 2s 178ms/step - loss: 3.9461e-04 - val_loss: 0.0200\n",
      "Epoch 9/50\n",
      "12/12 [==============================] - 2s 175ms/step - loss: 4.1108e-04 - val_loss: 0.0195\n",
      "Epoch 10/50\n",
      "12/12 [==============================] - 2s 184ms/step - loss: 4.0480e-04 - val_loss: 0.0190\n",
      "Epoch 11/50\n",
      "12/12 [==============================] - 2s 187ms/step - loss: 3.8068e-04 - val_loss: 0.0185\n",
      "Epoch 12/50\n",
      "12/12 [==============================] - 2s 198ms/step - loss: 4.1092e-04 - val_loss: 0.0179\n",
      "Epoch 13/50\n",
      "12/12 [==============================] - 2s 184ms/step - loss: 3.6436e-04 - val_loss: 0.0174\n",
      "Epoch 14/50\n",
      "12/12 [==============================] - 2s 178ms/step - loss: 3.6580e-04 - val_loss: 0.0169\n",
      "Epoch 15/50\n",
      "12/12 [==============================] - 2s 183ms/step - loss: 3.4877e-04 - val_loss: 0.0163\n",
      "Epoch 16/50\n",
      "12/12 [==============================] - 2s 178ms/step - loss: 3.2125e-04 - val_loss: 0.0155\n",
      "Epoch 17/50\n",
      "12/12 [==============================] - 2s 180ms/step - loss: 3.2378e-04 - val_loss: 0.0161\n",
      "Epoch 18/50\n",
      "12/12 [==============================] - 2s 193ms/step - loss: 3.2027e-04 - val_loss: 0.0146\n",
      "Epoch 19/50\n",
      "12/12 [==============================] - 2s 203ms/step - loss: 2.7196e-04 - val_loss: 0.0142\n",
      "Epoch 20/50\n",
      "12/12 [==============================] - 2s 195ms/step - loss: 2.9117e-04 - val_loss: 0.0137\n",
      "Epoch 21/50\n",
      "12/12 [==============================] - 2s 182ms/step - loss: 2.7285e-04 - val_loss: 0.0141\n",
      "Epoch 22/50\n",
      "12/12 [==============================] - 2s 190ms/step - loss: 2.2683e-04 - val_loss: 0.0138\n",
      "Epoch 23/50\n",
      "12/12 [==============================] - 2s 194ms/step - loss: 2.3490e-04 - val_loss: 0.0143\n",
      "Epoch 24/50\n",
      "12/12 [==============================] - 2s 193ms/step - loss: 2.4269e-04 - val_loss: 0.0147\n",
      "Epoch 25/50\n",
      "12/12 [==============================] - 2s 195ms/step - loss: 2.3740e-04 - val_loss: 0.0162\n",
      "Epoch 26/50\n",
      "12/12 [==============================] - 2s 210ms/step - loss: 2.3513e-04 - val_loss: 0.0133\n",
      "Epoch 27/50\n",
      "12/12 [==============================] - 2s 198ms/step - loss: 2.6269e-04 - val_loss: 0.0137\n",
      "Epoch 28/50\n",
      "12/12 [==============================] - 2s 196ms/step - loss: 2.8905e-04 - val_loss: 0.0186\n",
      "Epoch 29/50\n",
      "12/12 [==============================] - 2s 204ms/step - loss: 4.2559e-04 - val_loss: 0.0124\n",
      "Epoch 30/50\n",
      "12/12 [==============================] - 2s 209ms/step - loss: 2.5050e-04 - val_loss: 0.0136\n",
      "Epoch 31/50\n",
      "12/12 [==============================] - 2s 205ms/step - loss: 2.3206e-04 - val_loss: 0.0126\n",
      "Epoch 32/50\n",
      "12/12 [==============================] - 2s 199ms/step - loss: 2.0344e-04 - val_loss: 0.0142\n",
      "Epoch 33/50\n",
      "12/12 [==============================] - 3s 210ms/step - loss: 2.1183e-04 - val_loss: 0.0141\n",
      "Epoch 34/50\n",
      "12/12 [==============================] - 2s 202ms/step - loss: 2.0169e-04 - val_loss: 0.0139\n",
      "Epoch 35/50\n",
      "12/12 [==============================] - 3s 215ms/step - loss: 1.8232e-04 - val_loss: 0.0131\n",
      "Epoch 36/50\n",
      "12/12 [==============================] - 2s 201ms/step - loss: 2.3014e-04 - val_loss: 0.0143\n",
      "Epoch 37/50\n",
      "12/12 [==============================] - 3s 233ms/step - loss: 1.9363e-04 - val_loss: 0.0131\n",
      "Epoch 38/50\n",
      "12/12 [==============================] - 3s 212ms/step - loss: 1.8597e-04 - val_loss: 0.0123\n",
      "Epoch 39/50\n",
      "12/12 [==============================] - 3s 228ms/step - loss: 1.9750e-04 - val_loss: 0.0130\n",
      "Epoch 40/50\n",
      "12/12 [==============================] - 3s 231ms/step - loss: 2.0888e-04 - val_loss: 0.0119\n",
      "Epoch 41/50\n",
      "12/12 [==============================] - 2s 211ms/step - loss: 2.2040e-04 - val_loss: 0.0124\n",
      "Epoch 42/50\n",
      "12/12 [==============================] - 3s 213ms/step - loss: 1.9108e-04 - val_loss: 0.0113\n",
      "Epoch 43/50\n",
      "12/12 [==============================] - 2s 208ms/step - loss: 1.9409e-04 - val_loss: 0.0121\n",
      "Epoch 44/50\n",
      "12/12 [==============================] - 2s 206ms/step - loss: 1.6619e-04 - val_loss: 0.0119\n",
      "Epoch 45/50\n",
      "12/12 [==============================] - 3s 219ms/step - loss: 1.7904e-04 - val_loss: 0.0137\n",
      "Epoch 46/50\n",
      "12/12 [==============================] - 3s 257ms/step - loss: 1.9721e-04 - val_loss: 0.0120\n",
      "Epoch 47/50\n",
      "12/12 [==============================] - 3s 229ms/step - loss: 1.7829e-04 - val_loss: 0.0112\n",
      "Epoch 48/50\n",
      "12/12 [==============================] - 2s 203ms/step - loss: 1.8095e-04 - val_loss: 0.0125\n",
      "Epoch 49/50\n",
      "12/12 [==============================] - 2s 201ms/step - loss: 1.7865e-04 - val_loss: 0.0105\n",
      "Epoch 50/50\n",
      "12/12 [==============================] - 2s 204ms/step - loss: 2.0462e-04 - val_loss: 0.0124\n"
     ]
    },
    {
     "data": {
      "text/plain": [
       "<tensorflow.python.keras.callbacks.History at 0x29afb0bd390>"
      ]
     },
     "execution_count": 61,
     "metadata": {},
     "output_type": "execute_result"
    }
   ],
   "source": [
    "model.fit(X_train,y_train,epochs=50,validation_data=(X_test,y_test),batch_size=64)"
   ]
  },
  {
   "cell_type": "code",
   "execution_count": 62,
   "id": "73d31470",
   "metadata": {},
   "outputs": [],
   "source": [
    "train_pred = model.predict(X_train)"
   ]
  },
  {
   "cell_type": "code",
   "execution_count": 63,
   "id": "a602b9c9",
   "metadata": {},
   "outputs": [],
   "source": [
    "test_pred = model.predict(X_test)"
   ]
  },
  {
   "cell_type": "code",
   "execution_count": 64,
   "id": "6e7c60cc",
   "metadata": {},
   "outputs": [],
   "source": [
    "train_pred = scaler.inverse_transform(train_pred)\n",
    "test_pred = scaler.inverse_transform(test_pred)"
   ]
  },
  {
   "cell_type": "code",
   "execution_count": 65,
   "id": "e4f0d7d8",
   "metadata": {},
   "outputs": [
    {
     "data": {
      "text/plain": [
       "167.19710188153363"
      ]
     },
     "execution_count": 65,
     "metadata": {},
     "output_type": "execute_result"
    }
   ],
   "source": [
    "## calculate RMSE performance\n",
    "import math \n",
    "from sklearn.metrics import mean_squared_error\n",
    "math.sqrt(mean_squared_error(y_train,train_pred))"
   ]
  },
  {
   "cell_type": "code",
   "execution_count": 66,
   "id": "124a7ec6",
   "metadata": {},
   "outputs": [
    {
     "data": {
      "text/plain": [
       "230.28826222239286"
      ]
     },
     "execution_count": 66,
     "metadata": {},
     "output_type": "execute_result"
    }
   ],
   "source": [
    "## Test data RMSE\n",
    "math.sqrt(mean_squared_error(y_test,test_pred))"
   ]
  },
  {
   "cell_type": "code",
   "execution_count": 67,
   "id": "6d6a4bd5",
   "metadata": {},
   "outputs": [],
   "source": [
    "## Plotting \n",
    "back_time = 100\n",
    "train_predict_plot = np.empty_like(df1)\n",
    "train_predict_plot[:,:] = np.nan\n",
    "train_predict_plot[back_time : len(train_pred) + back_time , :] = train_pred"
   ]
  },
  {
   "cell_type": "code",
   "execution_count": 68,
   "id": "3ac93bae",
   "metadata": {},
   "outputs": [],
   "source": [
    "test_predict_plot = np.empty_like(df1)\n",
    "test_predict_plot[:,:] = np.nan\n",
    "test_predict_plot[len(train_pred) + (back_time * 2) + 1 : len(df1)-1,:] = test_pred\n"
   ]
  },
  {
   "cell_type": "code",
   "execution_count": 69,
   "id": "92fb186d",
   "metadata": {},
   "outputs": [
    {
     "data": {
      "image/png": "[encoded data removed]",
      "text/plain": [
       "<Figure size 432x288 with 1 Axes>"
      ]
     },
     "metadata": {
      "needs_background": "light"
     },
     "output_type": "display_data"
    }
   ],
   "source": [
    "plt.plot(scaler.inverse_transform(df1))\n",
    "plt.plot(train_predict_plot)\n",
    "plt.plot(test_predict_plot)\n",
    "plt.show()"
   ]
  },
  {
   "cell_type": "code",
   "execution_count": 70,
   "id": "7eb9bfb7",
   "metadata": {},
   "outputs": [
    {
     "data": {
      "text/plain": [
       "440"
      ]
     },
     "execution_count": 70,
     "metadata": {},
     "output_type": "execute_result"
    }
   ],
   "source": [
    "len(test_df)"
   ]
  },
  {
   "cell_type": "code",
   "execution_count": 71,
   "id": "f977986f",
   "metadata": {},
   "outputs": [
    {
     "data": {
      "text/plain": [
       "(1, 100)"
      ]
     },
     "execution_count": 71,
     "metadata": {},
     "output_type": "execute_result"
    }
   ],
   "source": [
    "x_input = test_df[340:].reshape(1,-1)\n",
    "x_input.shape"
   ]
  },
  {
   "cell_type": "code",
   "execution_count": 72,
   "id": "b2a4a118",
   "metadata": {},
   "outputs": [],
   "source": [
    "temp_input = list(x_input)\n",
    "temp_input = temp_input[0].tolist()"
   ]
  },
  {
   "cell_type": "code",
   "execution_count": 76,
   "id": "c10cfe45",
   "metadata": {},
   "outputs": [
    {
     "data": {
      "text/plain": [
       "[0.11191822008418523,\n",
       " 0.11720986169573056,\n",
       " 0.12647023451593503,\n",
       " 0.1270475045099218,\n",
       " 0.12440168370414911,\n",
       " 0.11244738424533973,\n",
       " 0.10010823812387254,\n",
       " 0.10535177390258565,\n",
       " 0.10739627179795552,\n",
       " 0.10487071557426336,\n",
       " 0.11316897173782314,\n",
       " 0.11165363800360789,\n",
       " 0.11201443174984965,\n",
       " 0.10984966927239925,\n",
       " 0.10835838845460005,\n",
       " 0.10773301262778107,\n",
       " 0.1083102826217679,\n",
       " 0.10306674684305472,\n",
       " 0.09741431148526758,\n",
       " 0.09469633193024657,\n",
       " 0.09508117859290438,\n",
       " 0.08577269993986769,\n",
       " 0.08543595911004209,\n",
       " 0.08420926037282017,\n",
       " 0.07372218881539383,\n",
       " 0.07437161755862898,\n",
       " 0.09007817197835238,\n",
       " 0.08365604329524956,\n",
       " 0.0762958508719182,\n",
       " 0.07165363800360791,\n",
       " 0.07475646422128684,\n",
       " 0.0625856885147324,\n",
       " 0.07395069152134692,\n",
       " 0.0712928442573662,\n",
       " 0.07605532170775703,\n",
       " 0.07381840048105831,\n",
       " 0.0809380637402285,\n",
       " 0.08473842453397473,\n",
       " 0.0827901383042694,\n",
       " 0.07261575466025255,\n",
       " 0.07131689717378231,\n",
       " 0.07949488875526156,\n",
       " 0.07745039085989175,\n",
       " 0.07155742633794349,\n",
       " 0.07276007215874924,\n",
       " 0.07425135297654839,\n",
       " 0.07468430547203847,\n",
       " 0.0711004209260373,\n",
       " 0.07651232711966327,\n",
       " 0.07855682501503308,\n",
       " 0.08553217077570657,\n",
       " 0.08627781118460609,\n",
       " 0.09034275405892966,\n",
       " 0.09625977149729409,\n",
       " 0.10259771497294046,\n",
       " 0.09837642814191222,\n",
       " 0.10604930847865301,\n",
       " 0.10027660853878534,\n",
       " 0.10621767889356581,\n",
       " 0.10539987973541787,\n",
       " 0.10703547805171376,\n",
       " 0.10287432351172582,\n",
       " 0.1038123872519543,\n",
       " 0.10006013229104027,\n",
       " 0.10578472639807573,\n",
       " 0.10674684305472038,\n",
       " 0.10595309681298853,\n",
       " 0.10400481058328326,\n",
       " 0.10376428141912203,\n",
       " 0.09890559230306673,\n",
       " 0.1015033072760072,\n",
       " 0.10499398410320282,\n",
       " 0.10444493591785431,\n",
       " 0.10395652055740356,\n",
       " 0.10355810821056366,\n",
       " 0.10324812680482864,\n",
       " 0.10301078110933304,\n",
       " 0.10282644629478455,\n",
       " 0.10267708450555801,\n",
       " 0.10254857689142227,\n",
       " 0.10243107378482819,\n",
       " 0.10231845080852509,\n",
       " 0.10220745205879211,\n",
       " 0.10209652781486511,\n",
       " 0.10198532044887543,\n",
       " 0.1018739715218544,\n",
       " 0.10176292061805725,\n",
       " 0.10165242105722427,\n",
       " 0.1015428677201271,\n",
       " 0.1014343649148941,\n",
       " 0.10132697224617004,\n",
       " 0.10122063755989075,\n",
       " 0.10111536085605621,\n",
       " 0.10101103782653809,\n",
       " 0.10090753436088562,\n",
       " 0.10080483555793762,\n",
       " 0.10070274770259857,\n",
       " 0.10060127824544907,\n",
       " 0.10050033032894135,\n",
       " 0.10039987415075302,\n",
       " 0.1002998799085617]"
      ]
     },
     "execution_count": 76,
     "metadata": {},
     "output_type": "execute_result"
    }
   ],
   "source": [
    "temp_input"
   ]
  },
  {
   "cell_type": "code",
   "execution_count": 74,
   "id": "40ebec1d",
   "metadata": {},
   "outputs": [
    {
     "name": "stdout",
     "output_type": "stream",
     "text": [
      "[0.10499398]\n",
      "101\n",
      "1 day input [0.07562237 0.0791341  0.0771377  0.07562237 0.09029465 0.09012628\n",
      " 0.09226699 0.08734817 0.0911365  0.09991581 0.09770295 0.10013229\n",
      " 0.11148527 0.10710764 0.10434155 0.1018641  0.09397474 0.09782321\n",
      " 0.08721587 0.09760673 0.10032471 0.09294047 0.09250752 0.09753458\n",
      " 0.0927721  0.08851473 0.09017438 0.10027661 0.11191822 0.11720986\n",
      " 0.12647023 0.1270475  0.12440168 0.11244738 0.10010824 0.10535177\n",
      " 0.10739627 0.10487072 0.11316897 0.11165364 0.11201443 0.10984967\n",
      " 0.10835839 0.10773301 0.10831028 0.10306675 0.09741431 0.09469633\n",
      " 0.09508118 0.0857727  0.08543596 0.08420926 0.07372219 0.07437162\n",
      " 0.09007817 0.08365604 0.07629585 0.07165364 0.07475646 0.06258569\n",
      " 0.07395069 0.07129284 0.07605532 0.0738184  0.08093806 0.08473842\n",
      " 0.08279014 0.07261575 0.0713169  0.07949489 0.07745039 0.07155743\n",
      " 0.07276007 0.07425135 0.07468431 0.07110042 0.07651233 0.07855683\n",
      " 0.08553217 0.08627781 0.09034275 0.09625977 0.10259771 0.09837643\n",
      " 0.10604931 0.10027661 0.10621768 0.10539988 0.10703548 0.10287432\n",
      " 0.10381239 0.10006013 0.10578473 0.10674684 0.1059531  0.10400481\n",
      " 0.10376428 0.09890559 0.10150331 0.10499398]\n",
      "1 day output [[0.10444494]]\n",
      "2 day input [0.0791341  0.0771377  0.07562237 0.09029465 0.09012628 0.09226699\n",
      " 0.08734817 0.0911365  0.09991581 0.09770295 0.10013229 0.11148527\n",
      " 0.10710764 0.10434155 0.1018641  0.09397474 0.09782321 0.08721587\n",
      " 0.09760673 0.10032471 0.09294047 0.09250752 0.09753458 0.0927721\n",
      " 0.08851473 0.09017438 0.10027661 0.11191822 0.11720986 0.12647023\n",
      " 0.1270475  0.12440168 0.11244738 0.10010824 0.10535177 0.10739627\n",
      " 0.10487072 0.11316897 0.11165364 0.11201443 0.10984967 0.10835839\n",
      " 0.10773301 0.10831028 0.10306675 0.09741431 0.09469633 0.09508118\n",
      " 0.0857727  0.08543596 0.08420926 0.07372219 0.07437162 0.09007817\n",
      " 0.08365604 0.07629585 0.07165364 0.07475646 0.06258569 0.07395069\n",
      " 0.07129284 0.07605532 0.0738184  0.08093806 0.08473842 0.08279014\n",
      " 0.07261575 0.0713169  0.07949489 0.07745039 0.07155743 0.07276007\n",
      " 0.07425135 0.07468431 0.07110042 0.07651233 0.07855683 0.08553217\n",
      " 0.08627781 0.09034275 0.09625977 0.10259771 0.09837643 0.10604931\n",
      " 0.10027661 0.10621768 0.10539988 0.10703548 0.10287432 0.10381239\n",
      " 0.10006013 0.10578473 0.10674684 0.1059531  0.10400481 0.10376428\n",
      " 0.09890559 0.10150331 0.10499398 0.10444494]\n",
      "2 day output [[0.10395652]]\n",
      "3 day input [0.0771377  0.07562237 0.09029465 0.09012628 0.09226699 0.08734817\n",
      " 0.0911365  0.09991581 0.09770295 0.10013229 0.11148527 0.10710764\n",
      " 0.10434155 0.1018641  0.09397474 0.09782321 0.08721587 0.09760673\n",
      " 0.10032471 0.09294047 0.09250752 0.09753458 0.0927721  0.08851473\n",
      " 0.09017438 0.10027661 0.11191822 0.11720986 0.12647023 0.1270475\n",
      " 0.12440168 0.11244738 0.10010824 0.10535177 0.10739627 0.10487072\n",
      " 0.11316897 0.11165364 0.11201443 0.10984967 0.10835839 0.10773301\n",
      " 0.10831028 0.10306675 0.09741431 0.09469633 0.09508118 0.0857727\n",
      " 0.08543596 0.08420926 0.07372219 0.07437162 0.09007817 0.08365604\n",
      " 0.07629585 0.07165364 0.07475646 0.06258569 0.07395069 0.07129284\n",
      " 0.07605532 0.0738184  0.08093806 0.08473842 0.08279014 0.07261575\n",
      " 0.0713169  0.07949489 0.07745039 0.07155743 0.07276007 0.07425135\n",
      " 0.07468431 0.07110042 0.07651233 0.07855683 0.08553217 0.08627781\n",
      " 0.09034275 0.09625977 0.10259771 0.09837643 0.10604931 0.10027661\n",
      " 0.10621768 0.10539988 0.10703548 0.10287432 0.10381239 0.10006013\n",
      " 0.10578473 0.10674684 0.1059531  0.10400481 0.10376428 0.09890559\n",
      " 0.10150331 0.10499398 0.10444494 0.10395652]\n",
      "3 day output [[0.10355811]]\n",
      "4 day input [0.07562237 0.09029465 0.09012628 0.09226699 0.08734817 0.0911365\n",
      " 0.09991581 0.09770295 0.10013229 0.11148527 0.10710764 0.10434155\n",
      " 0.1018641  0.09397474 0.09782321 0.08721587 0.09760673 0.10032471\n",
      " 0.09294047 0.09250752 0.09753458 0.0927721  0.08851473 0.09017438\n",
      " 0.10027661 0.11191822 0.11720986 0.12647023 0.1270475  0.12440168\n",
      " 0.11244738 0.10010824 0.10535177 0.10739627 0.10487072 0.11316897\n",
      " 0.11165364 0.11201443 0.10984967 0.10835839 0.10773301 0.10831028\n",
      " 0.10306675 0.09741431 0.09469633 0.09508118 0.0857727  0.08543596\n",
      " 0.08420926 0.07372219 0.07437162 0.09007817 0.08365604 0.07629585\n",
      " 0.07165364 0.07475646 0.06258569 0.07395069 0.07129284 0.07605532\n",
      " 0.0738184  0.08093806 0.08473842 0.08279014 0.07261575 0.0713169\n",
      " 0.07949489 0.07745039 0.07155743 0.07276007 0.07425135 0.07468431\n",
      " 0.07110042 0.07651233 0.07855683 0.08553217 0.08627781 0.09034275\n",
      " 0.09625977 0.10259771 0.09837643 0.10604931 0.10027661 0.10621768\n",
      " 0.10539988 0.10703548 0.10287432 0.10381239 0.10006013 0.10578473\n",
      " 0.10674684 0.1059531  0.10400481 0.10376428 0.09890559 0.10150331\n",
      " 0.10499398 0.10444494 0.10395652 0.10355811]\n",
      "4 day output [[0.10324813]]\n",
      "5 day input [0.09029465 0.09012628 0.09226699 0.08734817 0.0911365  0.09991581\n",
      " 0.09770295 0.10013229 0.11148527 0.10710764 0.10434155 0.1018641\n",
      " 0.09397474 0.09782321 0.08721587 0.09760673 0.10032471 0.09294047\n",
      " 0.09250752 0.09753458 0.0927721  0.08851473 0.09017438 0.10027661\n",
      " 0.11191822 0.11720986 0.12647023 0.1270475  0.12440168 0.11244738\n",
      " 0.10010824 0.10535177 0.10739627 0.10487072 0.11316897 0.11165364\n",
      " 0.11201443 0.10984967 0.10835839 0.10773301 0.10831028 0.10306675\n",
      " 0.09741431 0.09469633 0.09508118 0.0857727  0.08543596 0.08420926\n",
      " 0.07372219 0.07437162 0.09007817 0.08365604 0.07629585 0.07165364\n",
      " 0.07475646 0.06258569 0.07395069 0.07129284 0.07605532 0.0738184\n",
      " 0.08093806 0.08473842 0.08279014 0.07261575 0.0713169  0.07949489\n",
      " 0.07745039 0.07155743 0.07276007 0.07425135 0.07468431 0.07110042\n",
      " 0.07651233 0.07855683 0.08553217 0.08627781 0.09034275 0.09625977\n",
      " 0.10259771 0.09837643 0.10604931 0.10027661 0.10621768 0.10539988\n",
      " 0.10703548 0.10287432 0.10381239 0.10006013 0.10578473 0.10674684\n",
      " 0.1059531  0.10400481 0.10376428 0.09890559 0.10150331 0.10499398\n",
      " 0.10444494 0.10395652 0.10355811 0.10324813]\n",
      "5 day output [[0.10301078]]\n",
      "6 day input [0.09012628 0.09226699 0.08734817 0.0911365  0.09991581 0.09770295\n",
      " 0.10013229 0.11148527 0.10710764 0.10434155 0.1018641  0.09397474\n",
      " 0.09782321 0.08721587 0.09760673 0.10032471 0.09294047 0.09250752\n",
      " 0.09753458 0.0927721  0.08851473 0.09017438 0.10027661 0.11191822\n",
      " 0.11720986 0.12647023 0.1270475  0.12440168 0.11244738 0.10010824\n",
      " 0.10535177 0.10739627 0.10487072 0.11316897 0.11165364 0.11201443\n",
      " 0.10984967 0.10835839 0.10773301 0.10831028 0.10306675 0.09741431\n",
      " 0.09469633 0.09508118 0.0857727  0.08543596 0.08420926 0.07372219\n",
      " 0.07437162 0.09007817 0.08365604 0.07629585 0.07165364 0.07475646\n",
      " 0.06258569 0.07395069 0.07129284 0.07605532 0.0738184  0.08093806\n",
      " 0.08473842 0.08279014 0.07261575 0.0713169  0.07949489 0.07745039\n",
      " 0.07155743 0.07276007 0.07425135 0.07468431 0.07110042 0.07651233\n",
      " 0.07855683 0.08553217 0.08627781 0.09034275 0.09625977 0.10259771\n",
      " 0.09837643 0.10604931 0.10027661 0.10621768 0.10539988 0.10703548\n",
      " 0.10287432 0.10381239 0.10006013 0.10578473 0.10674684 0.1059531\n",
      " 0.10400481 0.10376428 0.09890559 0.10150331 0.10499398 0.10444494\n",
      " 0.10395652 0.10355811 0.10324813 0.10301078]\n",
      "6 day output [[0.10282645]]\n",
      "7 day input [0.09226699 0.08734817 0.0911365  0.09991581 0.09770295 0.10013229\n",
      " 0.11148527 0.10710764 0.10434155 0.1018641  0.09397474 0.09782321\n",
      " 0.08721587 0.09760673 0.10032471 0.09294047 0.09250752 0.09753458\n",
      " 0.0927721  0.08851473 0.09017438 0.10027661 0.11191822 0.11720986\n",
      " 0.12647023 0.1270475  0.12440168 0.11244738 0.10010824 0.10535177\n",
      " 0.10739627 0.10487072 0.11316897 0.11165364 0.11201443 0.10984967\n",
      " 0.10835839 0.10773301 0.10831028 0.10306675 0.09741431 0.09469633\n",
      " 0.09508118 0.0857727  0.08543596 0.08420926 0.07372219 0.07437162\n",
      " 0.09007817 0.08365604 0.07629585 0.07165364 0.07475646 0.06258569\n",
      " 0.07395069 0.07129284 0.07605532 0.0738184  0.08093806 0.08473842\n",
      " 0.08279014 0.07261575 0.0713169  0.07949489 0.07745039 0.07155743\n",
      " 0.07276007 0.07425135 0.07468431 0.07110042 0.07651233 0.07855683\n",
      " 0.08553217 0.08627781 0.09034275 0.09625977 0.10259771 0.09837643\n",
      " 0.10604931 0.10027661 0.10621768 0.10539988 0.10703548 0.10287432\n",
      " 0.10381239 0.10006013 0.10578473 0.10674684 0.1059531  0.10400481\n",
      " 0.10376428 0.09890559 0.10150331 0.10499398 0.10444494 0.10395652\n",
      " 0.10355811 0.10324813 0.10301078 0.10282645]\n",
      "7 day output [[0.10267708]]\n",
      "8 day input [0.08734817 0.0911365  0.09991581 0.09770295 0.10013229 0.11148527\n",
      " 0.10710764 0.10434155 0.1018641  0.09397474 0.09782321 0.08721587\n",
      " 0.09760673 0.10032471 0.09294047 0.09250752 0.09753458 0.0927721\n",
      " 0.08851473 0.09017438 0.10027661 0.11191822 0.11720986 0.12647023\n",
      " 0.1270475  0.12440168 0.11244738 0.10010824 0.10535177 0.10739627\n",
      " 0.10487072 0.11316897 0.11165364 0.11201443 0.10984967 0.10835839\n",
      " 0.10773301 0.10831028 0.10306675 0.09741431 0.09469633 0.09508118\n",
      " 0.0857727  0.08543596 0.08420926 0.07372219 0.07437162 0.09007817\n",
      " 0.08365604 0.07629585 0.07165364 0.07475646 0.06258569 0.07395069\n",
      " 0.07129284 0.07605532 0.0738184  0.08093806 0.08473842 0.08279014\n",
      " 0.07261575 0.0713169  0.07949489 0.07745039 0.07155743 0.07276007\n",
      " 0.07425135 0.07468431 0.07110042 0.07651233 0.07855683 0.08553217\n",
      " 0.08627781 0.09034275 0.09625977 0.10259771 0.09837643 0.10604931\n",
      " 0.10027661 0.10621768 0.10539988 0.10703548 0.10287432 0.10381239\n",
      " 0.10006013 0.10578473 0.10674684 0.1059531  0.10400481 0.10376428\n",
      " 0.09890559 0.10150331 0.10499398 0.10444494 0.10395652 0.10355811\n",
      " 0.10324813 0.10301078 0.10282645 0.10267708]\n"
     ]
    },
    {
     "name": "stdout",
     "output_type": "stream",
     "text": [
      "8 day output [[0.10254858]]\n",
      "9 day input [0.0911365  0.09991581 0.09770295 0.10013229 0.11148527 0.10710764\n",
      " 0.10434155 0.1018641  0.09397474 0.09782321 0.08721587 0.09760673\n",
      " 0.10032471 0.09294047 0.09250752 0.09753458 0.0927721  0.08851473\n",
      " 0.09017438 0.10027661 0.11191822 0.11720986 0.12647023 0.1270475\n",
      " 0.12440168 0.11244738 0.10010824 0.10535177 0.10739627 0.10487072\n",
      " 0.11316897 0.11165364 0.11201443 0.10984967 0.10835839 0.10773301\n",
      " 0.10831028 0.10306675 0.09741431 0.09469633 0.09508118 0.0857727\n",
      " 0.08543596 0.08420926 0.07372219 0.07437162 0.09007817 0.08365604\n",
      " 0.07629585 0.07165364 0.07475646 0.06258569 0.07395069 0.07129284\n",
      " 0.07605532 0.0738184  0.08093806 0.08473842 0.08279014 0.07261575\n",
      " 0.0713169  0.07949489 0.07745039 0.07155743 0.07276007 0.07425135\n",
      " 0.07468431 0.07110042 0.07651233 0.07855683 0.08553217 0.08627781\n",
      " 0.09034275 0.09625977 0.10259771 0.09837643 0.10604931 0.10027661\n",
      " 0.10621768 0.10539988 0.10703548 0.10287432 0.10381239 0.10006013\n",
      " 0.10578473 0.10674684 0.1059531  0.10400481 0.10376428 0.09890559\n",
      " 0.10150331 0.10499398 0.10444494 0.10395652 0.10355811 0.10324813\n",
      " 0.10301078 0.10282645 0.10267708 0.10254858]\n",
      "9 day output [[0.10243107]]\n",
      "10 day input [0.09991581 0.09770295 0.10013229 0.11148527 0.10710764 0.10434155\n",
      " 0.1018641  0.09397474 0.09782321 0.08721587 0.09760673 0.10032471\n",
      " 0.09294047 0.09250752 0.09753458 0.0927721  0.08851473 0.09017438\n",
      " 0.10027661 0.11191822 0.11720986 0.12647023 0.1270475  0.12440168\n",
      " 0.11244738 0.10010824 0.10535177 0.10739627 0.10487072 0.11316897\n",
      " 0.11165364 0.11201443 0.10984967 0.10835839 0.10773301 0.10831028\n",
      " 0.10306675 0.09741431 0.09469633 0.09508118 0.0857727  0.08543596\n",
      " 0.08420926 0.07372219 0.07437162 0.09007817 0.08365604 0.07629585\n",
      " 0.07165364 0.07475646 0.06258569 0.07395069 0.07129284 0.07605532\n",
      " 0.0738184  0.08093806 0.08473842 0.08279014 0.07261575 0.0713169\n",
      " 0.07949489 0.07745039 0.07155743 0.07276007 0.07425135 0.07468431\n",
      " 0.07110042 0.07651233 0.07855683 0.08553217 0.08627781 0.09034275\n",
      " 0.09625977 0.10259771 0.09837643 0.10604931 0.10027661 0.10621768\n",
      " 0.10539988 0.10703548 0.10287432 0.10381239 0.10006013 0.10578473\n",
      " 0.10674684 0.1059531  0.10400481 0.10376428 0.09890559 0.10150331\n",
      " 0.10499398 0.10444494 0.10395652 0.10355811 0.10324813 0.10301078\n",
      " 0.10282645 0.10267708 0.10254858 0.10243107]\n",
      "10 day output [[0.10231845]]\n",
      "11 day input [0.09770295 0.10013229 0.11148527 0.10710764 0.10434155 0.1018641\n",
      " 0.09397474 0.09782321 0.08721587 0.09760673 0.10032471 0.09294047\n",
      " 0.09250752 0.09753458 0.0927721  0.08851473 0.09017438 0.10027661\n",
      " 0.11191822 0.11720986 0.12647023 0.1270475  0.12440168 0.11244738\n",
      " 0.10010824 0.10535177 0.10739627 0.10487072 0.11316897 0.11165364\n",
      " 0.11201443 0.10984967 0.10835839 0.10773301 0.10831028 0.10306675\n",
      " 0.09741431 0.09469633 0.09508118 0.0857727  0.08543596 0.08420926\n",
      " 0.07372219 0.07437162 0.09007817 0.08365604 0.07629585 0.07165364\n",
      " 0.07475646 0.06258569 0.07395069 0.07129284 0.07605532 0.0738184\n",
      " 0.08093806 0.08473842 0.08279014 0.07261575 0.0713169  0.07949489\n",
      " 0.07745039 0.07155743 0.07276007 0.07425135 0.07468431 0.07110042\n",
      " 0.07651233 0.07855683 0.08553217 0.08627781 0.09034275 0.09625977\n",
      " 0.10259771 0.09837643 0.10604931 0.10027661 0.10621768 0.10539988\n",
      " 0.10703548 0.10287432 0.10381239 0.10006013 0.10578473 0.10674684\n",
      " 0.1059531  0.10400481 0.10376428 0.09890559 0.10150331 0.10499398\n",
      " 0.10444494 0.10395652 0.10355811 0.10324813 0.10301078 0.10282645\n",
      " 0.10267708 0.10254858 0.10243107 0.10231845]\n",
      "11 day output [[0.10220745]]\n",
      "12 day input [0.10013229 0.11148527 0.10710764 0.10434155 0.1018641  0.09397474\n",
      " 0.09782321 0.08721587 0.09760673 0.10032471 0.09294047 0.09250752\n",
      " 0.09753458 0.0927721  0.08851473 0.09017438 0.10027661 0.11191822\n",
      " 0.11720986 0.12647023 0.1270475  0.12440168 0.11244738 0.10010824\n",
      " 0.10535177 0.10739627 0.10487072 0.11316897 0.11165364 0.11201443\n",
      " 0.10984967 0.10835839 0.10773301 0.10831028 0.10306675 0.09741431\n",
      " 0.09469633 0.09508118 0.0857727  0.08543596 0.08420926 0.07372219\n",
      " 0.07437162 0.09007817 0.08365604 0.07629585 0.07165364 0.07475646\n",
      " 0.06258569 0.07395069 0.07129284 0.07605532 0.0738184  0.08093806\n",
      " 0.08473842 0.08279014 0.07261575 0.0713169  0.07949489 0.07745039\n",
      " 0.07155743 0.07276007 0.07425135 0.07468431 0.07110042 0.07651233\n",
      " 0.07855683 0.08553217 0.08627781 0.09034275 0.09625977 0.10259771\n",
      " 0.09837643 0.10604931 0.10027661 0.10621768 0.10539988 0.10703548\n",
      " 0.10287432 0.10381239 0.10006013 0.10578473 0.10674684 0.1059531\n",
      " 0.10400481 0.10376428 0.09890559 0.10150331 0.10499398 0.10444494\n",
      " 0.10395652 0.10355811 0.10324813 0.10301078 0.10282645 0.10267708\n",
      " 0.10254858 0.10243107 0.10231845 0.10220745]\n",
      "12 day output [[0.10209653]]\n",
      "13 day input [0.11148527 0.10710764 0.10434155 0.1018641  0.09397474 0.09782321\n",
      " 0.08721587 0.09760673 0.10032471 0.09294047 0.09250752 0.09753458\n",
      " 0.0927721  0.08851473 0.09017438 0.10027661 0.11191822 0.11720986\n",
      " 0.12647023 0.1270475  0.12440168 0.11244738 0.10010824 0.10535177\n",
      " 0.10739627 0.10487072 0.11316897 0.11165364 0.11201443 0.10984967\n",
      " 0.10835839 0.10773301 0.10831028 0.10306675 0.09741431 0.09469633\n",
      " 0.09508118 0.0857727  0.08543596 0.08420926 0.07372219 0.07437162\n",
      " 0.09007817 0.08365604 0.07629585 0.07165364 0.07475646 0.06258569\n",
      " 0.07395069 0.07129284 0.07605532 0.0738184  0.08093806 0.08473842\n",
      " 0.08279014 0.07261575 0.0713169  0.07949489 0.07745039 0.07155743\n",
      " 0.07276007 0.07425135 0.07468431 0.07110042 0.07651233 0.07855683\n",
      " 0.08553217 0.08627781 0.09034275 0.09625977 0.10259771 0.09837643\n",
      " 0.10604931 0.10027661 0.10621768 0.10539988 0.10703548 0.10287432\n",
      " 0.10381239 0.10006013 0.10578473 0.10674684 0.1059531  0.10400481\n",
      " 0.10376428 0.09890559 0.10150331 0.10499398 0.10444494 0.10395652\n",
      " 0.10355811 0.10324813 0.10301078 0.10282645 0.10267708 0.10254858\n",
      " 0.10243107 0.10231845 0.10220745 0.10209653]\n",
      "13 day output [[0.10198532]]\n",
      "14 day input [0.10710764 0.10434155 0.1018641  0.09397474 0.09782321 0.08721587\n",
      " 0.09760673 0.10032471 0.09294047 0.09250752 0.09753458 0.0927721\n",
      " 0.08851473 0.09017438 0.10027661 0.11191822 0.11720986 0.12647023\n",
      " 0.1270475  0.12440168 0.11244738 0.10010824 0.10535177 0.10739627\n",
      " 0.10487072 0.11316897 0.11165364 0.11201443 0.10984967 0.10835839\n",
      " 0.10773301 0.10831028 0.10306675 0.09741431 0.09469633 0.09508118\n",
      " 0.0857727  0.08543596 0.08420926 0.07372219 0.07437162 0.09007817\n",
      " 0.08365604 0.07629585 0.07165364 0.07475646 0.06258569 0.07395069\n",
      " 0.07129284 0.07605532 0.0738184  0.08093806 0.08473842 0.08279014\n",
      " 0.07261575 0.0713169  0.07949489 0.07745039 0.07155743 0.07276007\n",
      " 0.07425135 0.07468431 0.07110042 0.07651233 0.07855683 0.08553217\n",
      " 0.08627781 0.09034275 0.09625977 0.10259771 0.09837643 0.10604931\n",
      " 0.10027661 0.10621768 0.10539988 0.10703548 0.10287432 0.10381239\n",
      " 0.10006013 0.10578473 0.10674684 0.1059531  0.10400481 0.10376428\n",
      " 0.09890559 0.10150331 0.10499398 0.10444494 0.10395652 0.10355811\n",
      " 0.10324813 0.10301078 0.10282645 0.10267708 0.10254858 0.10243107\n",
      " 0.10231845 0.10220745 0.10209653 0.10198532]\n",
      "14 day output [[0.10187397]]\n",
      "15 day input [0.10434155 0.1018641  0.09397474 0.09782321 0.08721587 0.09760673\n",
      " 0.10032471 0.09294047 0.09250752 0.09753458 0.0927721  0.08851473\n",
      " 0.09017438 0.10027661 0.11191822 0.11720986 0.12647023 0.1270475\n",
      " 0.12440168 0.11244738 0.10010824 0.10535177 0.10739627 0.10487072\n",
      " 0.11316897 0.11165364 0.11201443 0.10984967 0.10835839 0.10773301\n",
      " 0.10831028 0.10306675 0.09741431 0.09469633 0.09508118 0.0857727\n",
      " 0.08543596 0.08420926 0.07372219 0.07437162 0.09007817 0.08365604\n",
      " 0.07629585 0.07165364 0.07475646 0.06258569 0.07395069 0.07129284\n",
      " 0.07605532 0.0738184  0.08093806 0.08473842 0.08279014 0.07261575\n",
      " 0.0713169  0.07949489 0.07745039 0.07155743 0.07276007 0.07425135\n",
      " 0.07468431 0.07110042 0.07651233 0.07855683 0.08553217 0.08627781\n",
      " 0.09034275 0.09625977 0.10259771 0.09837643 0.10604931 0.10027661\n",
      " 0.10621768 0.10539988 0.10703548 0.10287432 0.10381239 0.10006013\n",
      " 0.10578473 0.10674684 0.1059531  0.10400481 0.10376428 0.09890559\n",
      " 0.10150331 0.10499398 0.10444494 0.10395652 0.10355811 0.10324813\n",
      " 0.10301078 0.10282645 0.10267708 0.10254858 0.10243107 0.10231845\n",
      " 0.10220745 0.10209653 0.10198532 0.10187397]\n",
      "15 day output [[0.10176292]]\n",
      "16 day input [0.1018641  0.09397474 0.09782321 0.08721587 0.09760673 0.10032471\n",
      " 0.09294047 0.09250752 0.09753458 0.0927721  0.08851473 0.09017438\n",
      " 0.10027661 0.11191822 0.11720986 0.12647023 0.1270475  0.12440168\n",
      " 0.11244738 0.10010824 0.10535177 0.10739627 0.10487072 0.11316897\n",
      " 0.11165364 0.11201443 0.10984967 0.10835839 0.10773301 0.10831028\n",
      " 0.10306675 0.09741431 0.09469633 0.09508118 0.0857727  0.08543596\n",
      " 0.08420926 0.07372219 0.07437162 0.09007817 0.08365604 0.07629585\n",
      " 0.07165364 0.07475646 0.06258569 0.07395069 0.07129284 0.07605532\n",
      " 0.0738184  0.08093806 0.08473842 0.08279014 0.07261575 0.0713169\n",
      " 0.07949489 0.07745039 0.07155743 0.07276007 0.07425135 0.07468431\n",
      " 0.07110042 0.07651233 0.07855683 0.08553217 0.08627781 0.09034275\n",
      " 0.09625977 0.10259771 0.09837643 0.10604931 0.10027661 0.10621768\n",
      " 0.10539988 0.10703548 0.10287432 0.10381239 0.10006013 0.10578473\n",
      " 0.10674684 0.1059531  0.10400481 0.10376428 0.09890559 0.10150331\n",
      " 0.10499398 0.10444494 0.10395652 0.10355811 0.10324813 0.10301078\n",
      " 0.10282645 0.10267708 0.10254858 0.10243107 0.10231845 0.10220745\n",
      " 0.10209653 0.10198532 0.10187397 0.10176292]\n"
     ]
    },
    {
     "name": "stdout",
     "output_type": "stream",
     "text": [
      "16 day output [[0.10165242]]\n",
      "17 day input [0.09397474 0.09782321 0.08721587 0.09760673 0.10032471 0.09294047\n",
      " 0.09250752 0.09753458 0.0927721  0.08851473 0.09017438 0.10027661\n",
      " 0.11191822 0.11720986 0.12647023 0.1270475  0.12440168 0.11244738\n",
      " 0.10010824 0.10535177 0.10739627 0.10487072 0.11316897 0.11165364\n",
      " 0.11201443 0.10984967 0.10835839 0.10773301 0.10831028 0.10306675\n",
      " 0.09741431 0.09469633 0.09508118 0.0857727  0.08543596 0.08420926\n",
      " 0.07372219 0.07437162 0.09007817 0.08365604 0.07629585 0.07165364\n",
      " 0.07475646 0.06258569 0.07395069 0.07129284 0.07605532 0.0738184\n",
      " 0.08093806 0.08473842 0.08279014 0.07261575 0.0713169  0.07949489\n",
      " 0.07745039 0.07155743 0.07276007 0.07425135 0.07468431 0.07110042\n",
      " 0.07651233 0.07855683 0.08553217 0.08627781 0.09034275 0.09625977\n",
      " 0.10259771 0.09837643 0.10604931 0.10027661 0.10621768 0.10539988\n",
      " 0.10703548 0.10287432 0.10381239 0.10006013 0.10578473 0.10674684\n",
      " 0.1059531  0.10400481 0.10376428 0.09890559 0.10150331 0.10499398\n",
      " 0.10444494 0.10395652 0.10355811 0.10324813 0.10301078 0.10282645\n",
      " 0.10267708 0.10254858 0.10243107 0.10231845 0.10220745 0.10209653\n",
      " 0.10198532 0.10187397 0.10176292 0.10165242]\n",
      "17 day output [[0.10154287]]\n",
      "18 day input [0.09782321 0.08721587 0.09760673 0.10032471 0.09294047 0.09250752\n",
      " 0.09753458 0.0927721  0.08851473 0.09017438 0.10027661 0.11191822\n",
      " 0.11720986 0.12647023 0.1270475  0.12440168 0.11244738 0.10010824\n",
      " 0.10535177 0.10739627 0.10487072 0.11316897 0.11165364 0.11201443\n",
      " 0.10984967 0.10835839 0.10773301 0.10831028 0.10306675 0.09741431\n",
      " 0.09469633 0.09508118 0.0857727  0.08543596 0.08420926 0.07372219\n",
      " 0.07437162 0.09007817 0.08365604 0.07629585 0.07165364 0.07475646\n",
      " 0.06258569 0.07395069 0.07129284 0.07605532 0.0738184  0.08093806\n",
      " 0.08473842 0.08279014 0.07261575 0.0713169  0.07949489 0.07745039\n",
      " 0.07155743 0.07276007 0.07425135 0.07468431 0.07110042 0.07651233\n",
      " 0.07855683 0.08553217 0.08627781 0.09034275 0.09625977 0.10259771\n",
      " 0.09837643 0.10604931 0.10027661 0.10621768 0.10539988 0.10703548\n",
      " 0.10287432 0.10381239 0.10006013 0.10578473 0.10674684 0.1059531\n",
      " 0.10400481 0.10376428 0.09890559 0.10150331 0.10499398 0.10444494\n",
      " 0.10395652 0.10355811 0.10324813 0.10301078 0.10282645 0.10267708\n",
      " 0.10254858 0.10243107 0.10231845 0.10220745 0.10209653 0.10198532\n",
      " 0.10187397 0.10176292 0.10165242 0.10154287]\n",
      "18 day output [[0.10143436]]\n",
      "19 day input [0.08721587 0.09760673 0.10032471 0.09294047 0.09250752 0.09753458\n",
      " 0.0927721  0.08851473 0.09017438 0.10027661 0.11191822 0.11720986\n",
      " 0.12647023 0.1270475  0.12440168 0.11244738 0.10010824 0.10535177\n",
      " 0.10739627 0.10487072 0.11316897 0.11165364 0.11201443 0.10984967\n",
      " 0.10835839 0.10773301 0.10831028 0.10306675 0.09741431 0.09469633\n",
      " 0.09508118 0.0857727  0.08543596 0.08420926 0.07372219 0.07437162\n",
      " 0.09007817 0.08365604 0.07629585 0.07165364 0.07475646 0.06258569\n",
      " 0.07395069 0.07129284 0.07605532 0.0738184  0.08093806 0.08473842\n",
      " 0.08279014 0.07261575 0.0713169  0.07949489 0.07745039 0.07155743\n",
      " 0.07276007 0.07425135 0.07468431 0.07110042 0.07651233 0.07855683\n",
      " 0.08553217 0.08627781 0.09034275 0.09625977 0.10259771 0.09837643\n",
      " 0.10604931 0.10027661 0.10621768 0.10539988 0.10703548 0.10287432\n",
      " 0.10381239 0.10006013 0.10578473 0.10674684 0.1059531  0.10400481\n",
      " 0.10376428 0.09890559 0.10150331 0.10499398 0.10444494 0.10395652\n",
      " 0.10355811 0.10324813 0.10301078 0.10282645 0.10267708 0.10254858\n",
      " 0.10243107 0.10231845 0.10220745 0.10209653 0.10198532 0.10187397\n",
      " 0.10176292 0.10165242 0.10154287 0.10143436]\n",
      "19 day output [[0.10132697]]\n",
      "20 day input [0.09760673 0.10032471 0.09294047 0.09250752 0.09753458 0.0927721\n",
      " 0.08851473 0.09017438 0.10027661 0.11191822 0.11720986 0.12647023\n",
      " 0.1270475  0.12440168 0.11244738 0.10010824 0.10535177 0.10739627\n",
      " 0.10487072 0.11316897 0.11165364 0.11201443 0.10984967 0.10835839\n",
      " 0.10773301 0.10831028 0.10306675 0.09741431 0.09469633 0.09508118\n",
      " 0.0857727  0.08543596 0.08420926 0.07372219 0.07437162 0.09007817\n",
      " 0.08365604 0.07629585 0.07165364 0.07475646 0.06258569 0.07395069\n",
      " 0.07129284 0.07605532 0.0738184  0.08093806 0.08473842 0.08279014\n",
      " 0.07261575 0.0713169  0.07949489 0.07745039 0.07155743 0.07276007\n",
      " 0.07425135 0.07468431 0.07110042 0.07651233 0.07855683 0.08553217\n",
      " 0.08627781 0.09034275 0.09625977 0.10259771 0.09837643 0.10604931\n",
      " 0.10027661 0.10621768 0.10539988 0.10703548 0.10287432 0.10381239\n",
      " 0.10006013 0.10578473 0.10674684 0.1059531  0.10400481 0.10376428\n",
      " 0.09890559 0.10150331 0.10499398 0.10444494 0.10395652 0.10355811\n",
      " 0.10324813 0.10301078 0.10282645 0.10267708 0.10254858 0.10243107\n",
      " 0.10231845 0.10220745 0.10209653 0.10198532 0.10187397 0.10176292\n",
      " 0.10165242 0.10154287 0.10143436 0.10132697]\n",
      "20 day output [[0.10122064]]\n",
      "21 day input [0.10032471 0.09294047 0.09250752 0.09753458 0.0927721  0.08851473\n",
      " 0.09017438 0.10027661 0.11191822 0.11720986 0.12647023 0.1270475\n",
      " 0.12440168 0.11244738 0.10010824 0.10535177 0.10739627 0.10487072\n",
      " 0.11316897 0.11165364 0.11201443 0.10984967 0.10835839 0.10773301\n",
      " 0.10831028 0.10306675 0.09741431 0.09469633 0.09508118 0.0857727\n",
      " 0.08543596 0.08420926 0.07372219 0.07437162 0.09007817 0.08365604\n",
      " 0.07629585 0.07165364 0.07475646 0.06258569 0.07395069 0.07129284\n",
      " 0.07605532 0.0738184  0.08093806 0.08473842 0.08279014 0.07261575\n",
      " 0.0713169  0.07949489 0.07745039 0.07155743 0.07276007 0.07425135\n",
      " 0.07468431 0.07110042 0.07651233 0.07855683 0.08553217 0.08627781\n",
      " 0.09034275 0.09625977 0.10259771 0.09837643 0.10604931 0.10027661\n",
      " 0.10621768 0.10539988 0.10703548 0.10287432 0.10381239 0.10006013\n",
      " 0.10578473 0.10674684 0.1059531  0.10400481 0.10376428 0.09890559\n",
      " 0.10150331 0.10499398 0.10444494 0.10395652 0.10355811 0.10324813\n",
      " 0.10301078 0.10282645 0.10267708 0.10254858 0.10243107 0.10231845\n",
      " 0.10220745 0.10209653 0.10198532 0.10187397 0.10176292 0.10165242\n",
      " 0.10154287 0.10143436 0.10132697 0.10122064]\n",
      "21 day output [[0.10111536]]\n",
      "22 day input [0.09294047 0.09250752 0.09753458 0.0927721  0.08851473 0.09017438\n",
      " 0.10027661 0.11191822 0.11720986 0.12647023 0.1270475  0.12440168\n",
      " 0.11244738 0.10010824 0.10535177 0.10739627 0.10487072 0.11316897\n",
      " 0.11165364 0.11201443 0.10984967 0.10835839 0.10773301 0.10831028\n",
      " 0.10306675 0.09741431 0.09469633 0.09508118 0.0857727  0.08543596\n",
      " 0.08420926 0.07372219 0.07437162 0.09007817 0.08365604 0.07629585\n",
      " 0.07165364 0.07475646 0.06258569 0.07395069 0.07129284 0.07605532\n",
      " 0.0738184  0.08093806 0.08473842 0.08279014 0.07261575 0.0713169\n",
      " 0.07949489 0.07745039 0.07155743 0.07276007 0.07425135 0.07468431\n",
      " 0.07110042 0.07651233 0.07855683 0.08553217 0.08627781 0.09034275\n",
      " 0.09625977 0.10259771 0.09837643 0.10604931 0.10027661 0.10621768\n",
      " 0.10539988 0.10703548 0.10287432 0.10381239 0.10006013 0.10578473\n",
      " 0.10674684 0.1059531  0.10400481 0.10376428 0.09890559 0.10150331\n",
      " 0.10499398 0.10444494 0.10395652 0.10355811 0.10324813 0.10301078\n",
      " 0.10282645 0.10267708 0.10254858 0.10243107 0.10231845 0.10220745\n",
      " 0.10209653 0.10198532 0.10187397 0.10176292 0.10165242 0.10154287\n",
      " 0.10143436 0.10132697 0.10122064 0.10111536]\n",
      "22 day output [[0.10101104]]\n",
      "23 day input [0.09250752 0.09753458 0.0927721  0.08851473 0.09017438 0.10027661\n",
      " 0.11191822 0.11720986 0.12647023 0.1270475  0.12440168 0.11244738\n",
      " 0.10010824 0.10535177 0.10739627 0.10487072 0.11316897 0.11165364\n",
      " 0.11201443 0.10984967 0.10835839 0.10773301 0.10831028 0.10306675\n",
      " 0.09741431 0.09469633 0.09508118 0.0857727  0.08543596 0.08420926\n",
      " 0.07372219 0.07437162 0.09007817 0.08365604 0.07629585 0.07165364\n",
      " 0.07475646 0.06258569 0.07395069 0.07129284 0.07605532 0.0738184\n",
      " 0.08093806 0.08473842 0.08279014 0.07261575 0.0713169  0.07949489\n",
      " 0.07745039 0.07155743 0.07276007 0.07425135 0.07468431 0.07110042\n",
      " 0.07651233 0.07855683 0.08553217 0.08627781 0.09034275 0.09625977\n",
      " 0.10259771 0.09837643 0.10604931 0.10027661 0.10621768 0.10539988\n",
      " 0.10703548 0.10287432 0.10381239 0.10006013 0.10578473 0.10674684\n",
      " 0.1059531  0.10400481 0.10376428 0.09890559 0.10150331 0.10499398\n",
      " 0.10444494 0.10395652 0.10355811 0.10324813 0.10301078 0.10282645\n",
      " 0.10267708 0.10254858 0.10243107 0.10231845 0.10220745 0.10209653\n",
      " 0.10198532 0.10187397 0.10176292 0.10165242 0.10154287 0.10143436\n",
      " 0.10132697 0.10122064 0.10111536 0.10101104]\n",
      "23 day output [[0.10090753]]\n",
      "24 day input [0.09753458 0.0927721  0.08851473 0.09017438 0.10027661 0.11191822\n",
      " 0.11720986 0.12647023 0.1270475  0.12440168 0.11244738 0.10010824\n",
      " 0.10535177 0.10739627 0.10487072 0.11316897 0.11165364 0.11201443\n",
      " 0.10984967 0.10835839 0.10773301 0.10831028 0.10306675 0.09741431\n",
      " 0.09469633 0.09508118 0.0857727  0.08543596 0.08420926 0.07372219\n",
      " 0.07437162 0.09007817 0.08365604 0.07629585 0.07165364 0.07475646\n",
      " 0.06258569 0.07395069 0.07129284 0.07605532 0.0738184  0.08093806\n",
      " 0.08473842 0.08279014 0.07261575 0.0713169  0.07949489 0.07745039\n",
      " 0.07155743 0.07276007 0.07425135 0.07468431 0.07110042 0.07651233\n",
      " 0.07855683 0.08553217 0.08627781 0.09034275 0.09625977 0.10259771\n",
      " 0.09837643 0.10604931 0.10027661 0.10621768 0.10539988 0.10703548\n",
      " 0.10287432 0.10381239 0.10006013 0.10578473 0.10674684 0.1059531\n",
      " 0.10400481 0.10376428 0.09890559 0.10150331 0.10499398 0.10444494\n",
      " 0.10395652 0.10355811 0.10324813 0.10301078 0.10282645 0.10267708\n",
      " 0.10254858 0.10243107 0.10231845 0.10220745 0.10209653 0.10198532\n",
      " 0.10187397 0.10176292 0.10165242 0.10154287 0.10143436 0.10132697\n",
      " 0.10122064 0.10111536 0.10101104 0.10090753]\n",
      "24 day output [[0.10080484]]\n",
      "25 day input [0.0927721  0.08851473 0.09017438 0.10027661 0.11191822 0.11720986\n",
      " 0.12647023 0.1270475  0.12440168 0.11244738 0.10010824 0.10535177\n",
      " 0.10739627 0.10487072 0.11316897 0.11165364 0.11201443 0.10984967\n",
      " 0.10835839 0.10773301 0.10831028 0.10306675 0.09741431 0.09469633\n",
      " 0.09508118 0.0857727  0.08543596 0.08420926 0.07372219 0.07437162\n",
      " 0.09007817 0.08365604 0.07629585 0.07165364 0.07475646 0.06258569\n",
      " 0.07395069 0.07129284 0.07605532 0.0738184  0.08093806 0.08473842\n",
      " 0.08279014 0.07261575 0.0713169  0.07949489 0.07745039 0.07155743\n",
      " 0.07276007 0.07425135 0.07468431 0.07110042 0.07651233 0.07855683\n",
      " 0.08553217 0.08627781 0.09034275 0.09625977 0.10259771 0.09837643\n",
      " 0.10604931 0.10027661 0.10621768 0.10539988 0.10703548 0.10287432\n",
      " 0.10381239 0.10006013 0.10578473 0.10674684 0.1059531  0.10400481\n",
      " 0.10376428 0.09890559 0.10150331 0.10499398 0.10444494 0.10395652\n",
      " 0.10355811 0.10324813 0.10301078 0.10282645 0.10267708 0.10254858\n",
      " 0.10243107 0.10231845 0.10220745 0.10209653 0.10198532 0.10187397\n",
      " 0.10176292 0.10165242 0.10154287 0.10143436 0.10132697 0.10122064\n",
      " 0.10111536 0.10101104 0.10090753 0.10080484]\n",
      "25 day output [[0.10070275]]\n",
      "26 day input [0.08851473 0.09017438 0.10027661 0.11191822 0.11720986 0.12647023\n",
      " 0.1270475  0.12440168 0.11244738 0.10010824 0.10535177 0.10739627\n",
      " 0.10487072 0.11316897 0.11165364 0.11201443 0.10984967 0.10835839\n",
      " 0.10773301 0.10831028 0.10306675 0.09741431 0.09469633 0.09508118\n",
      " 0.0857727  0.08543596 0.08420926 0.07372219 0.07437162 0.09007817\n",
      " 0.08365604 0.07629585 0.07165364 0.07475646 0.06258569 0.07395069\n",
      " 0.07129284 0.07605532 0.0738184  0.08093806 0.08473842 0.08279014\n",
      " 0.07261575 0.0713169  0.07949489 0.07745039 0.07155743 0.07276007\n",
      " 0.07425135 0.07468431 0.07110042 0.07651233 0.07855683 0.08553217\n",
      " 0.08627781 0.09034275 0.09625977 0.10259771 0.09837643 0.10604931\n",
      " 0.10027661 0.10621768 0.10539988 0.10703548 0.10287432 0.10381239\n",
      " 0.10006013 0.10578473 0.10674684 0.1059531  0.10400481 0.10376428\n",
      " 0.09890559 0.10150331 0.10499398 0.10444494 0.10395652 0.10355811\n",
      " 0.10324813 0.10301078 0.10282645 0.10267708 0.10254858 0.10243107\n",
      " 0.10231845 0.10220745 0.10209653 0.10198532 0.10187397 0.10176292\n",
      " 0.10165242 0.10154287 0.10143436 0.10132697 0.10122064 0.10111536\n"
     ]
    },
    {
     "name": "stdout",
     "output_type": "stream",
     "text": [
      " 0.10101104 0.10090753 0.10080484 0.10070275]\n",
      "26 day output [[0.10060128]]\n",
      "27 day input [0.09017438 0.10027661 0.11191822 0.11720986 0.12647023 0.1270475\n",
      " 0.12440168 0.11244738 0.10010824 0.10535177 0.10739627 0.10487072\n",
      " 0.11316897 0.11165364 0.11201443 0.10984967 0.10835839 0.10773301\n",
      " 0.10831028 0.10306675 0.09741431 0.09469633 0.09508118 0.0857727\n",
      " 0.08543596 0.08420926 0.07372219 0.07437162 0.09007817 0.08365604\n",
      " 0.07629585 0.07165364 0.07475646 0.06258569 0.07395069 0.07129284\n",
      " 0.07605532 0.0738184  0.08093806 0.08473842 0.08279014 0.07261575\n",
      " 0.0713169  0.07949489 0.07745039 0.07155743 0.07276007 0.07425135\n",
      " 0.07468431 0.07110042 0.07651233 0.07855683 0.08553217 0.08627781\n",
      " 0.09034275 0.09625977 0.10259771 0.09837643 0.10604931 0.10027661\n",
      " 0.10621768 0.10539988 0.10703548 0.10287432 0.10381239 0.10006013\n",
      " 0.10578473 0.10674684 0.1059531  0.10400481 0.10376428 0.09890559\n",
      " 0.10150331 0.10499398 0.10444494 0.10395652 0.10355811 0.10324813\n",
      " 0.10301078 0.10282645 0.10267708 0.10254858 0.10243107 0.10231845\n",
      " 0.10220745 0.10209653 0.10198532 0.10187397 0.10176292 0.10165242\n",
      " 0.10154287 0.10143436 0.10132697 0.10122064 0.10111536 0.10101104\n",
      " 0.10090753 0.10080484 0.10070275 0.10060128]\n",
      "27 day output [[0.10050033]]\n",
      "28 day input [0.10027661 0.11191822 0.11720986 0.12647023 0.1270475  0.12440168\n",
      " 0.11244738 0.10010824 0.10535177 0.10739627 0.10487072 0.11316897\n",
      " 0.11165364 0.11201443 0.10984967 0.10835839 0.10773301 0.10831028\n",
      " 0.10306675 0.09741431 0.09469633 0.09508118 0.0857727  0.08543596\n",
      " 0.08420926 0.07372219 0.07437162 0.09007817 0.08365604 0.07629585\n",
      " 0.07165364 0.07475646 0.06258569 0.07395069 0.07129284 0.07605532\n",
      " 0.0738184  0.08093806 0.08473842 0.08279014 0.07261575 0.0713169\n",
      " 0.07949489 0.07745039 0.07155743 0.07276007 0.07425135 0.07468431\n",
      " 0.07110042 0.07651233 0.07855683 0.08553217 0.08627781 0.09034275\n",
      " 0.09625977 0.10259771 0.09837643 0.10604931 0.10027661 0.10621768\n",
      " 0.10539988 0.10703548 0.10287432 0.10381239 0.10006013 0.10578473\n",
      " 0.10674684 0.1059531  0.10400481 0.10376428 0.09890559 0.10150331\n",
      " 0.10499398 0.10444494 0.10395652 0.10355811 0.10324813 0.10301078\n",
      " 0.10282645 0.10267708 0.10254858 0.10243107 0.10231845 0.10220745\n",
      " 0.10209653 0.10198532 0.10187397 0.10176292 0.10165242 0.10154287\n",
      " 0.10143436 0.10132697 0.10122064 0.10111536 0.10101104 0.10090753\n",
      " 0.10080484 0.10070275 0.10060128 0.10050033]\n",
      "28 day output [[0.10039987]]\n",
      "29 day input [0.11191822 0.11720986 0.12647023 0.1270475  0.12440168 0.11244738\n",
      " 0.10010824 0.10535177 0.10739627 0.10487072 0.11316897 0.11165364\n",
      " 0.11201443 0.10984967 0.10835839 0.10773301 0.10831028 0.10306675\n",
      " 0.09741431 0.09469633 0.09508118 0.0857727  0.08543596 0.08420926\n",
      " 0.07372219 0.07437162 0.09007817 0.08365604 0.07629585 0.07165364\n",
      " 0.07475646 0.06258569 0.07395069 0.07129284 0.07605532 0.0738184\n",
      " 0.08093806 0.08473842 0.08279014 0.07261575 0.0713169  0.07949489\n",
      " 0.07745039 0.07155743 0.07276007 0.07425135 0.07468431 0.07110042\n",
      " 0.07651233 0.07855683 0.08553217 0.08627781 0.09034275 0.09625977\n",
      " 0.10259771 0.09837643 0.10604931 0.10027661 0.10621768 0.10539988\n",
      " 0.10703548 0.10287432 0.10381239 0.10006013 0.10578473 0.10674684\n",
      " 0.1059531  0.10400481 0.10376428 0.09890559 0.10150331 0.10499398\n",
      " 0.10444494 0.10395652 0.10355811 0.10324813 0.10301078 0.10282645\n",
      " 0.10267708 0.10254858 0.10243107 0.10231845 0.10220745 0.10209653\n",
      " 0.10198532 0.10187397 0.10176292 0.10165242 0.10154287 0.10143436\n",
      " 0.10132697 0.10122064 0.10111536 0.10101104 0.10090753 0.10080484\n",
      " 0.10070275 0.10060128 0.10050033 0.10039987]\n",
      "29 day output [[0.10029988]]\n"
     ]
    }
   ],
   "source": [
    "## prediction for next 10 days\n",
    "from numpy import array\n",
    "\n",
    "output = []\n",
    "num_steps = 100\n",
    "i = 0\n",
    "while(i < 30):\n",
    "    if(len(temp_input) > 100):\n",
    "        x_input = np.array(temp_input[1:])\n",
    "        print(\"{} day input {}\".format(i,x_input))\n",
    "        x_input = x_input.reshape(1,-1)\n",
    "        x_input = x_input.reshape((1,num_steps,1))\n",
    "        y_hat = model.predict(x_input,verbose = 0)\n",
    "        print('{} day output {}'.format(i,y_hat))\n",
    "        temp_input.extend(y_hat[0].tolist())\n",
    "        temp_input = temp_input[1:]\n",
    "        output.extend(y_hat.tolist())\n",
    "        i = i + 1\n",
    "    else :\n",
    "        x_input = x_input.reshape((1,num_steps,1))\n",
    "        y_hat = model.predict(x_input,verbose = 0)\n",
    "        print(y_hat[0])\n",
    "        temp_input.extend(y_hat[0].tolist())\n",
    "        print(len(temp_input))\n",
    "        output.extend(y_hat.tolist())\n",
    "        i = i +1"
   ]
  },
  {
   "cell_type": "code",
   "execution_count": 75,
   "id": "96f7b24e",
   "metadata": {},
   "outputs": [
    {
     "name": "stdout",
     "output_type": "stream",
     "text": [
      "[[0.10499398410320282], [0.10444493591785431], [0.10395652055740356], [0.10355810821056366], [0.10324812680482864], [0.10301078110933304], [0.10282644629478455], [0.10267708450555801], [0.10254857689142227], [0.10243107378482819], [0.10231845080852509], [0.10220745205879211], [0.10209652781486511], [0.10198532044887543], [0.1018739715218544], [0.10176292061805725], [0.10165242105722427], [0.1015428677201271], [0.1014343649148941], [0.10132697224617004], [0.10122063755989075], [0.10111536085605621], [0.10101103782653809], [0.10090753436088562], [0.10080483555793762], [0.10070274770259857], [0.10060127824544907], [0.10050033032894135], [0.10039987415075302], [0.1002998799085617]]\n"
     ]
    }
   ],
   "source": [
    "print(output)"
   ]
  },
  {
   "cell_type": "code",
   "execution_count": 77,
   "id": "f74cee7f",
   "metadata": {},
   "outputs": [],
   "source": [
    "day_new = np.arange(1,101)\n",
    "day_pred = np.arange(101,131)"
   ]
  },
  {
   "cell_type": "code",
   "execution_count": 78,
   "id": "2e6d8648",
   "metadata": {},
   "outputs": [],
   "source": [
    "import matplotlib.pyplot as plt"
   ]
  },
  {
   "cell_type": "code",
   "execution_count": 79,
   "id": "90b00150",
   "metadata": {},
   "outputs": [
    {
     "data": {
      "text/plain": [
       "1257"
      ]
     },
     "execution_count": 79,
     "metadata": {},
     "output_type": "execute_result"
    }
   ],
   "source": [
    "len(df1)"
   ]
  },
  {
   "cell_type": "code",
   "execution_count": 80,
   "id": "82a4e5d1",
   "metadata": {},
   "outputs": [],
   "source": [
    "df2 = df1.tolist()\n",
    "df2.extend(output)"
   ]
  },
  {
   "cell_type": "code",
   "execution_count": 82,
   "id": "ae1eb283",
   "metadata": {},
   "outputs": [
    {
     "data": {
      "text/plain": [
       "[<matplotlib.lines.Line2D at 0x29ae4402208>]"
      ]
     },
     "execution_count": 82,
     "metadata": {},
     "output_type": "execute_result"
    },
    {
     "data": {
      "image/png": "[encoded data removed]",
      "text/plain": [
       "<Figure size 432x288 with 1 Axes>"
      ]
     },
     "metadata": {
      "needs_background": "light"
     },
     "output_type": "display_data"
    }
   ],
   "source": [
    "plt.plot(day_new,scaler.inverse_transform(df1[1157:]))\n",
    "plt.plot(day_pred,scaler.inverse_transform(output))"
   ]
  },
  {
   "cell_type": "code",
   "execution_count": 84,
   "id": "02ba7e10",
   "metadata": {},
   "outputs": [
    {
     "data": {
      "text/plain": [
       "[<matplotlib.lines.Line2D at 0x29a87c312e8>]"
      ]
     },
     "execution_count": 84,
     "metadata": {},
     "output_type": "execute_result"
    },
    {
     "data": {
      "image/png": "[encoded data removed]",
      "text/plain": [
       "<Figure size 432x288 with 1 Axes>"
      ]
     },
     "metadata": {
      "needs_background": "light"
     },
     "output_type": "display_data"
    }
   ],
   "source": [
    "df2 = df1.tolist()\n",
    "df2.extend(output)\n",
    "plt.plot(df2[1:])"
   ]
  },
  {
   "cell_type": "code",
   "execution_count": 85,
   "id": "8d18b41a",
   "metadata": {},
   "outputs": [
    {
     "data": {
      "text/plain": [
       "[<matplotlib.lines.Line2D at 0x29a88d31438>]"
      ]
     },
     "execution_count": 85,
     "metadata": {},
     "output_type": "execute_result"
    },
    {
     "data": {
      "image/png": "[encoded data removed]",
      "text/plain": [
       "<Figure size 432x288 with 1 Axes>"
      ]
     },
     "metadata": {
      "needs_background": "light"
     },
     "output_type": "display_data"
    }
   ],
   "source": [
    "df2 = df1.tolist()\n",
    "df2.extend(output)\n",
    "plt.plot(df2[1100:])"
   ]
  },
  {
   "cell_type": "code",
   "execution_count": null,
   "id": "9573b3ad",
   "metadata": {},
   "outputs": [],
   "source": []
  }
 ],
 "metadata": {
  "kernelspec": {
   "display_name": "Python 3",
   "language": "python",
   "name": "python3"
  },
  "language_info": {
   "codemirror_mode": {
    "name": "ipython",
    "version": 3
   },
   "file_extension": ".py",
   "mimetype": "text/x-python",
   "name": "python",
   "nbconvert_exporter": "python",
   "pygments_lexer": "ipython3",
   "version": "3.6.9"
  }
 },
 "nbformat": 4,
 "nbformat_minor": 5
}
