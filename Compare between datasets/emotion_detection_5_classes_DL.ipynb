{
 "cells": [
  {
   "cell_type": "code",
   "execution_count": 1,
   "id": "6fd2b9d5",
   "metadata": {},
   "outputs": [
    {
     "name": "stderr",
     "output_type": "stream",
     "text": [
      "[nltk_data] Downloading package punkt to C:\\Users\\Ahmad Abd\n",
      "[nltk_data]     Elhameed\\AppData\\Roaming\\nltk_data...\n",
      "[nltk_data]   Package punkt is already up-to-date!\n",
      "[nltk_data] Downloading package stopwords to C:\\Users\\Ahmad Abd\n",
      "[nltk_data]     Elhameed\\AppData\\Roaming\\nltk_data...\n",
      "[nltk_data]   Package stopwords is already up-to-date!\n",
      "[nltk_data] Downloading package wordnet to C:\\Users\\Ahmad Abd\n",
      "[nltk_data]     Elhameed\\AppData\\Roaming\\nltk_data...\n",
      "[nltk_data]   Package wordnet is already up-to-date!\n",
      "[nltk_data] Downloading package averaged_perceptron_tagger to\n",
      "[nltk_data]     C:\\Users\\Ahmad Abd\n",
      "[nltk_data]     Elhameed\\AppData\\Roaming\\nltk_data...\n",
      "[nltk_data]   Package averaged_perceptron_tagger is already up-to-\n",
      "[nltk_data]       date!\n",
      "[nltk_data] Downloading package stopwords to C:\\Users\\Ahmad Abd\n",
      "[nltk_data]     Elhameed\\AppData\\Roaming\\nltk_data...\n",
      "[nltk_data]   Package stopwords is already up-to-date!\n"
     ]
    }
   ],
   "source": [
    "import os # accessing directory structure\n",
    "import pandas as pd\n",
    "import numpy as np\n",
    "import seaborn as sns\n",
    "import matplotlib.pyplot as plt \n",
    "from mpl_toolkits.mplot3d import Axes3D\n",
    "from sklearn.preprocessing import StandardScaler\n",
    "from sklearn.preprocessing import LabelEncoder\n",
    "from sklearn.preprocessing import OneHotEncoder\n",
    "import re \n",
    "import nltk\n",
    "from nltk.corpus import stopwords\n",
    "from nltk.stem import PorterStemmer\n",
    "%matplotlib inline\n",
    "# import libraries\n",
    "from nltk.tokenize import word_tokenize , sent_tokenize\n",
    "from sklearn.pipeline import Pipeline , FeatureUnion\n",
    "import re\n",
    "import nltk\n",
    "nltk.download('punkt')\n",
    "nltk.download('stopwords')\n",
    "nltk.download('wordnet')\n",
    "nltk.download('averaged_perceptron_tagger')\n",
    "from nltk.corpus import stopwords\n",
    "from sklearn.datasets import make_multilabel_classification\n",
    "from sklearn.multioutput import MultiOutputClassifier\n",
    "from sklearn.neighbors import KNeighborsClassifier\n",
    "from nltk.stem import WordNetLemmatizer\n",
    "from sklearn.feature_extraction.text import CountVectorizer, TfidfTransformer\n",
    "from sklearn.naive_bayes import MultinomialNB\n",
    "from sklearn.ensemble import RandomForestClassifier, AdaBoostClassifier \n",
    "from sklearn.ensemble import GradientBoostingClassifier ,BaggingClassifier ,ExtraTreesClassifier\n",
    "from sklearn.model_selection import train_test_split,  GridSearchCV \n",
    "from sklearn.metrics import classification_report ,confusion_matrix , accuracy_score\n",
    "from sklearn.base import BaseEstimator, TransformerMixin\n",
    "import pickle\n",
    "from tensorflow.keras.preprocessing.text import one_hot\n",
    "from tensorflow.keras.preprocessing.sequence import pad_sequences\n",
    "\n",
    "nltk.download('stopwords')\n",
    "stopwords = set(nltk.corpus.stopwords.words('english'))\n",
    "import os # accessing directory structure\n",
    "import pandas as pd\n",
    "import numpy as np\n",
    "import matplotlib.pyplot as plt \n",
    "from mpl_toolkits.mplot3d import Axes3D\n",
    "from sklearn.preprocessing import StandardScaler\n",
    "from sklearn.preprocessing import LabelEncoder\n",
    "from sklearn.preprocessing import OneHotEncoder\n",
    "from tensorflow.keras.models import Sequential\n",
    "from tensorflow.keras.layers import Embedding\n",
    "from tensorflow.keras.layers import LSTM\n",
    "from tensorflow.keras.layers import SimpleRNN\n",
    "from tensorflow.keras.layers import GRU\n",
    "from tensorflow.keras.layers import Dense\n",
    "from tensorflow.keras.layers import Dropout\n",
    "from tensorflow.keras.optimizers import Adam\n",
    "import re \n",
    "import nltk\n",
    "from nltk.corpus import stopwords\n",
    "from nltk.stem import PorterStemmer\n",
    "%matplotlib inline"
   ]
  },
  {
   "cell_type": "code",
   "execution_count": 19,
   "id": "e2e47629",
   "metadata": {},
   "outputs": [],
   "source": [
    "##\n",
    "df = pd.read_csv(\"df_5_classes.csv\")"
   ]
  },
  {
   "cell_type": "code",
   "execution_count": 20,
   "id": "8748e2df",
   "metadata": {},
   "outputs": [
    {
     "data": {
      "text/plain": [
       "['.ipynb_checkpoints',\n",
       " '6-class-data',\n",
       " 'Compare between datasets',\n",
       " 'df_5_classes',\n",
       " 'df_5_classes.csv',\n",
       " 'Emotion Detection from Text.zip',\n",
       " 'emotion-labels-test.csv',\n",
       " 'emotion-labels-train.csv',\n",
       " 'emotion-labels-val.csv',\n",
       " 'Emotion_Classification_4_classes.ipynb',\n",
       " 'emotion_detection_4classes-DL.ipynb',\n",
       " 'emotion_detection_4classes.ipynb',\n",
       " 'emotion_detection_5classes.ipynb',\n",
       " 'emotion_detection_5classes_2nd.ipynb',\n",
       " 'emotion_detection_5_classes_DL.ipynb',\n",
       " 'model.h5',\n",
       " 'New_version_emotion_FAIL.ipynb',\n",
       " 'text_emotion.csv',\n",
       " 'text_emotion.csv.zip',\n",
       " 'tweet_emotions.csv']"
      ]
     },
     "execution_count": 20,
     "metadata": {},
     "output_type": "execute_result"
    }
   ],
   "source": [
    "os.listdir()"
   ]
  },
  {
   "cell_type": "code",
   "execution_count": 21,
   "id": "59824eab",
   "metadata": {},
   "outputs": [
    {
     "data": {
      "text/html": [
       "<div>\n",
       "<style scoped>\n",
       "    .dataframe tbody tr th:only-of-type {\n",
       "        vertical-align: middle;\n",
       "    }\n",
       "\n",
       "    .dataframe tbody tr th {\n",
       "        vertical-align: top;\n",
       "    }\n",
       "\n",
       "    .dataframe thead th {\n",
       "        text-align: right;\n",
       "    }\n",
       "</style>\n",
       "<table border=\"1\" class=\"dataframe\">\n",
       "  <thead>\n",
       "    <tr style=\"text-align: right;\">\n",
       "      <th></th>\n",
       "      <th>Unnamed: 0</th>\n",
       "      <th>tweet_id</th>\n",
       "      <th>sentiment</th>\n",
       "      <th>content</th>\n",
       "      <th>char_length</th>\n",
       "      <th>token_length</th>\n",
       "    </tr>\n",
       "  </thead>\n",
       "  <tbody>\n",
       "    <tr>\n",
       "      <th>0</th>\n",
       "      <td>1</td>\n",
       "      <td>1956967666</td>\n",
       "      <td>sadness</td>\n",
       "      <td>Layin n bed with a headache  ughhhh...waitin o...</td>\n",
       "      <td>60</td>\n",
       "      <td>11</td>\n",
       "    </tr>\n",
       "    <tr>\n",
       "      <th>1</th>\n",
       "      <td>2</td>\n",
       "      <td>1956967696</td>\n",
       "      <td>sadness</td>\n",
       "      <td>Funeral ceremony...gloomy friday...</td>\n",
       "      <td>35</td>\n",
       "      <td>3</td>\n",
       "    </tr>\n",
       "    <tr>\n",
       "      <th>2</th>\n",
       "      <td>4</td>\n",
       "      <td>1956968416</td>\n",
       "      <td>neutral</td>\n",
       "      <td>@dannycastillo We want to trade with someone w...</td>\n",
       "      <td>86</td>\n",
       "      <td>15</td>\n",
       "    </tr>\n",
       "    <tr>\n",
       "      <th>3</th>\n",
       "      <td>5</td>\n",
       "      <td>1956968477</td>\n",
       "      <td>worry</td>\n",
       "      <td>Re-pinging @ghostridah14: why didn't you go to...</td>\n",
       "      <td>84</td>\n",
       "      <td>15</td>\n",
       "    </tr>\n",
       "    <tr>\n",
       "      <th>4</th>\n",
       "      <td>6</td>\n",
       "      <td>1956968487</td>\n",
       "      <td>sadness</td>\n",
       "      <td>I should be sleep, but im not! thinking about ...</td>\n",
       "      <td>132</td>\n",
       "      <td>26</td>\n",
       "    </tr>\n",
       "  </tbody>\n",
       "</table>\n",
       "</div>"
      ],
      "text/plain": [
       "   Unnamed: 0    tweet_id sentiment  \\\n",
       "0           1  1956967666   sadness   \n",
       "1           2  1956967696   sadness   \n",
       "2           4  1956968416   neutral   \n",
       "3           5  1956968477     worry   \n",
       "4           6  1956968487   sadness   \n",
       "\n",
       "                                             content  char_length  \\\n",
       "0  Layin n bed with a headache  ughhhh...waitin o...           60   \n",
       "1                Funeral ceremony...gloomy friday...           35   \n",
       "2  @dannycastillo We want to trade with someone w...           86   \n",
       "3  Re-pinging @ghostridah14: why didn't you go to...           84   \n",
       "4  I should be sleep, but im not! thinking about ...          132   \n",
       "\n",
       "   token_length  \n",
       "0            11  \n",
       "1             3  \n",
       "2            15  \n",
       "3            15  \n",
       "4            26  "
      ]
     },
     "execution_count": 21,
     "metadata": {},
     "output_type": "execute_result"
    }
   ],
   "source": [
    "df.head()"
   ]
  },
  {
   "cell_type": "code",
   "execution_count": 22,
   "id": "5854b254",
   "metadata": {},
   "outputs": [
    {
     "name": "stdout",
     "output_type": "stream",
     "text": [
      "<class 'pandas.core.frame.DataFrame'>\n",
      "RangeIndex: 31313 entries, 0 to 31312\n",
      "Data columns (total 6 columns):\n",
      " #   Column        Non-Null Count  Dtype \n",
      "---  ------        --------------  ----- \n",
      " 0   Unnamed: 0    31313 non-null  int64 \n",
      " 1   tweet_id      31313 non-null  int64 \n",
      " 2   sentiment     31313 non-null  object\n",
      " 3   content       31313 non-null  object\n",
      " 4   char_length   31313 non-null  int64 \n",
      " 5   token_length  31313 non-null  int64 \n",
      "dtypes: int64(4), object(2)\n",
      "memory usage: 1.4+ MB\n"
     ]
    }
   ],
   "source": [
    "df.info()"
   ]
  },
  {
   "cell_type": "code",
   "execution_count": 23,
   "id": "fa4b748c",
   "metadata": {},
   "outputs": [],
   "source": [
    "def describe_data(data_type,data,label):\n",
    "    print(data_type,\" DESCRIPTION\")\n",
    "    print(\"--------------------------\")\n",
    "    size=data.shape\n",
    "    null_values=data.isnull().sum().sum()\n",
    "    \n",
    "    label_count=data[label].value_counts()\n",
    "    print(data_type,\" shape:\",size,\"\\n\")\n",
    "    print(data_type,\" contains:\",null_values,\" null values\\n\")\n",
    "    print(\"Label counts:\")  \n",
    "    print(label_count)\n",
    "    print()\n",
    "    \n",
    "    print(\"*****\",data_type,\" label count plot ****\")\n",
    "    sns.countplot(\n",
    "        data=data,\n",
    "        x=label\n",
    "    )"
   ]
  },
  {
   "cell_type": "code",
   "execution_count": 26,
   "id": "ddccb11d",
   "metadata": {},
   "outputs": [
    {
     "name": "stdout",
     "output_type": "stream",
     "text": [
      "Dataset Info  DESCRIPTION\n",
      "--------------------------\n",
      "Dataset Info  shape: (31313, 6) \n",
      "\n",
      "Dataset Info  contains: 0  null values\n",
      "\n",
      "Label counts:\n",
      "neutral      8638\n",
      "worry        8459\n",
      "happiness    5209\n",
      "sadness      5165\n",
      "love         3842\n",
      "Name: sentiment, dtype: int64\n",
      "\n",
      "***** Dataset Info  label count plot ****\n"
     ]
    },
    {
     "data": {
      "image/png": "[encoded data removed]",
      "text/plain": [
       "<Figure size 432x288 with 1 Axes>"
      ]
     },
     "metadata": {
      "needs_background": "light"
     },
     "output_type": "display_data"
    }
   ],
   "source": [
    "describe_data(\"Dataset Info\",df,\"sentiment\")"
   ]
  },
  {
   "cell_type": "code",
   "execution_count": 27,
   "id": "6de6dcf8",
   "metadata": {},
   "outputs": [],
   "source": [
    "vocab_size = 10000\n",
    "len_sentence = 160"
   ]
  },
  {
   "cell_type": "code",
   "execution_count": 28,
   "id": "e40b9848",
   "metadata": {},
   "outputs": [],
   "source": [
    "df[\"length\"] = [len(i) for i in df[\"content\"]]"
   ]
  },
  {
   "cell_type": "code",
   "execution_count": 29,
   "id": "998d8808",
   "metadata": {
    "scrolled": false
   },
   "outputs": [
    {
     "name": "stdout",
     "output_type": "stream",
     "text": [
      "167\n",
      "1\n"
     ]
    }
   ],
   "source": [
    "print(df[\"length\"].max())\n",
    "print(df[\"length\"].min())"
   ]
  },
  {
   "cell_type": "code",
   "execution_count": 44,
   "id": "ecb3bf79",
   "metadata": {},
   "outputs": [],
   "source": [
    "def label_encode(data,label):\n",
    "    labels=data[label].map(\n",
    "    {\n",
    "        \"sadness\":0,\n",
    "        \"neutral\":1,\n",
    "        \"worry\":2,\n",
    "        \"love\":3,\n",
    "        \"happiness\":4\n",
    "    }\n",
    "    )\n",
    "    return labels"
   ]
  },
  {
   "cell_type": "code",
   "execution_count": 45,
   "id": "b12e18e4",
   "metadata": {},
   "outputs": [],
   "source": [
    "df[\"label\"]=label_encode(df,\"sentiment\")"
   ]
  },
  {
   "cell_type": "code",
   "execution_count": 46,
   "id": "ec218179",
   "metadata": {
    "scrolled": false
   },
   "outputs": [
    {
     "data": {
      "text/html": [
       "<div>\n",
       "<style scoped>\n",
       "    .dataframe tbody tr th:only-of-type {\n",
       "        vertical-align: middle;\n",
       "    }\n",
       "\n",
       "    .dataframe tbody tr th {\n",
       "        vertical-align: top;\n",
       "    }\n",
       "\n",
       "    .dataframe thead th {\n",
       "        text-align: right;\n",
       "    }\n",
       "</style>\n",
       "<table border=\"1\" class=\"dataframe\">\n",
       "  <thead>\n",
       "    <tr style=\"text-align: right;\">\n",
       "      <th></th>\n",
       "      <th>Unnamed: 0</th>\n",
       "      <th>tweet_id</th>\n",
       "      <th>sentiment</th>\n",
       "      <th>content</th>\n",
       "      <th>char_length</th>\n",
       "      <th>token_length</th>\n",
       "      <th>length</th>\n",
       "      <th>label</th>\n",
       "    </tr>\n",
       "  </thead>\n",
       "  <tbody>\n",
       "    <tr>\n",
       "      <th>0</th>\n",
       "      <td>1</td>\n",
       "      <td>1956967666</td>\n",
       "      <td>sadness</td>\n",
       "      <td>Layin n bed with a headache  ughhhh...waitin o...</td>\n",
       "      <td>60</td>\n",
       "      <td>11</td>\n",
       "      <td>60</td>\n",
       "      <td>0</td>\n",
       "    </tr>\n",
       "    <tr>\n",
       "      <th>1</th>\n",
       "      <td>2</td>\n",
       "      <td>1956967696</td>\n",
       "      <td>sadness</td>\n",
       "      <td>Funeral ceremony...gloomy friday...</td>\n",
       "      <td>35</td>\n",
       "      <td>3</td>\n",
       "      <td>35</td>\n",
       "      <td>0</td>\n",
       "    </tr>\n",
       "    <tr>\n",
       "      <th>2</th>\n",
       "      <td>4</td>\n",
       "      <td>1956968416</td>\n",
       "      <td>neutral</td>\n",
       "      <td>@dannycastillo We want to trade with someone w...</td>\n",
       "      <td>86</td>\n",
       "      <td>15</td>\n",
       "      <td>86</td>\n",
       "      <td>1</td>\n",
       "    </tr>\n",
       "    <tr>\n",
       "      <th>3</th>\n",
       "      <td>5</td>\n",
       "      <td>1956968477</td>\n",
       "      <td>worry</td>\n",
       "      <td>Re-pinging @ghostridah14: why didn't you go to...</td>\n",
       "      <td>84</td>\n",
       "      <td>15</td>\n",
       "      <td>84</td>\n",
       "      <td>2</td>\n",
       "    </tr>\n",
       "    <tr>\n",
       "      <th>4</th>\n",
       "      <td>6</td>\n",
       "      <td>1956968487</td>\n",
       "      <td>sadness</td>\n",
       "      <td>I should be sleep, but im not! thinking about ...</td>\n",
       "      <td>132</td>\n",
       "      <td>26</td>\n",
       "      <td>132</td>\n",
       "      <td>0</td>\n",
       "    </tr>\n",
       "  </tbody>\n",
       "</table>\n",
       "</div>"
      ],
      "text/plain": [
       "   Unnamed: 0    tweet_id sentiment  \\\n",
       "0           1  1956967666   sadness   \n",
       "1           2  1956967696   sadness   \n",
       "2           4  1956968416   neutral   \n",
       "3           5  1956968477     worry   \n",
       "4           6  1956968487   sadness   \n",
       "\n",
       "                                             content  char_length  \\\n",
       "0  Layin n bed with a headache  ughhhh...waitin o...           60   \n",
       "1                Funeral ceremony...gloomy friday...           35   \n",
       "2  @dannycastillo We want to trade with someone w...           86   \n",
       "3  Re-pinging @ghostridah14: why didn't you go to...           84   \n",
       "4  I should be sleep, but im not! thinking about ...          132   \n",
       "\n",
       "   token_length  length  label  \n",
       "0            11      60      0  \n",
       "1             3      35      0  \n",
       "2            15      86      1  \n",
       "3            15      84      2  \n",
       "4            26     132      0  "
      ]
     },
     "execution_count": 46,
     "metadata": {},
     "output_type": "execute_result"
    }
   ],
   "source": [
    "df.head()"
   ]
  },
  {
   "cell_type": "code",
   "execution_count": 47,
   "id": "970405c7",
   "metadata": {},
   "outputs": [
    {
     "data": {
      "text/plain": [
       "array(['sadness', 'neutral', 'worry', 'love', 'happiness'], dtype=object)"
      ]
     },
     "execution_count": 47,
     "metadata": {},
     "output_type": "execute_result"
    }
   ],
   "source": [
    "df.sentiment.unique()"
   ]
  },
  {
   "cell_type": "code",
   "execution_count": 48,
   "id": "ed89d64e",
   "metadata": {},
   "outputs": [
    {
     "data": {
      "text/plain": [
       "neutral      8638\n",
       "worry        8459\n",
       "happiness    5209\n",
       "sadness      5165\n",
       "love         3842\n",
       "Name: sentiment, dtype: int64"
      ]
     },
     "execution_count": 48,
     "metadata": {},
     "output_type": "execute_result"
    }
   ],
   "source": [
    "df.sentiment.value_counts()"
   ]
  },
  {
   "cell_type": "code",
   "execution_count": 49,
   "id": "6b815e29",
   "metadata": {},
   "outputs": [
    {
     "data": {
      "text/plain": [
       "1    8638\n",
       "2    8459\n",
       "4    5209\n",
       "0    5165\n",
       "3    3842\n",
       "Name: label, dtype: int64"
      ]
     },
     "execution_count": 49,
     "metadata": {},
     "output_type": "execute_result"
    }
   ],
   "source": [
    "df.label.value_counts()"
   ]
  },
  {
   "cell_type": "code",
   "execution_count": 50,
   "id": "79b83cf3",
   "metadata": {},
   "outputs": [
    {
     "name": "stdout",
     "output_type": "stream",
     "text": [
      "<class 'pandas.core.frame.DataFrame'>\n",
      "RangeIndex: 31313 entries, 0 to 31312\n",
      "Data columns (total 8 columns):\n",
      " #   Column        Non-Null Count  Dtype \n",
      "---  ------        --------------  ----- \n",
      " 0   Unnamed: 0    31313 non-null  int64 \n",
      " 1   tweet_id      31313 non-null  int64 \n",
      " 2   sentiment     31313 non-null  object\n",
      " 3   content       31313 non-null  object\n",
      " 4   char_length   31313 non-null  int64 \n",
      " 5   token_length  31313 non-null  int64 \n",
      " 6   length        31313 non-null  int64 \n",
      " 7   label         31313 non-null  int64 \n",
      "dtypes: int64(6), object(2)\n",
      "memory usage: 1.9+ MB\n"
     ]
    }
   ],
   "source": [
    "df.info()"
   ]
  },
  {
   "cell_type": "code",
   "execution_count": 51,
   "id": "27e18f43",
   "metadata": {},
   "outputs": [
    {
     "data": {
      "text/plain": [
       "<AxesSubplot:xlabel='length', ylabel='Density'>"
      ]
     },
     "execution_count": 51,
     "metadata": {},
     "output_type": "execute_result"
    },
    {
     "data": {
      "image/png": "[encoded data removed]",
      "text/plain": [
       "<Figure size 432x288 with 1 Axes>"
      ]
     },
     "metadata": {
      "needs_background": "light"
     },
     "output_type": "display_data"
    }
   ],
   "source": [
    "sns.kdeplot(x=df[\"length\"], hue=df[\"label\"])"
   ]
  },
  {
   "cell_type": "code",
   "execution_count": 52,
   "id": "fdde7e4d",
   "metadata": {},
   "outputs": [],
   "source": [
    "def text_preprocess(data, column):\n",
    "    print(data.shape)\n",
    "    lemmatizer = WordNetLemmatizer()\n",
    "    corpus = []\n",
    "    \n",
    "    for text in data[column]:\n",
    "        text = re.sub(\"[^a-zA-Z0-9]\", \" \", text)\n",
    "        \n",
    "        text = text.lower()\n",
    "        text = text.split()\n",
    "        \n",
    "        text = [lemmatizer.lemmatize(word) for word in text]\n",
    "        text = \" \".join(text)\n",
    "        \n",
    "        corpus.append(text)\n",
    "    one_hot_word = [one_hot(input_text=word, n=vocab_size) for word in corpus]\n",
    "    embeddec_doc = pad_sequences(sequences=one_hot_word,\n",
    "                              maxlen=len_sentence,\n",
    "                              padding=\"pre\")\n",
    "    print(data.shape)\n",
    "    return embeddec_doc"
   ]
  },
  {
   "cell_type": "code",
   "execution_count": 57,
   "id": "714548c9",
   "metadata": {},
   "outputs": [
    {
     "data": {
      "text/html": [
       "<div>\n",
       "<style scoped>\n",
       "    .dataframe tbody tr th:only-of-type {\n",
       "        vertical-align: middle;\n",
       "    }\n",
       "\n",
       "    .dataframe tbody tr th {\n",
       "        vertical-align: top;\n",
       "    }\n",
       "\n",
       "    .dataframe thead th {\n",
       "        text-align: right;\n",
       "    }\n",
       "</style>\n",
       "<table border=\"1\" class=\"dataframe\">\n",
       "  <thead>\n",
       "    <tr style=\"text-align: right;\">\n",
       "      <th></th>\n",
       "      <th>Unnamed: 0</th>\n",
       "      <th>tweet_id</th>\n",
       "      <th>sentiment</th>\n",
       "      <th>content</th>\n",
       "      <th>char_length</th>\n",
       "      <th>token_length</th>\n",
       "      <th>length</th>\n",
       "      <th>label</th>\n",
       "    </tr>\n",
       "  </thead>\n",
       "  <tbody>\n",
       "    <tr>\n",
       "      <th>0</th>\n",
       "      <td>1</td>\n",
       "      <td>1956967666</td>\n",
       "      <td>sadness</td>\n",
       "      <td>Layin n bed with a headache  ughhhh...waitin o...</td>\n",
       "      <td>60</td>\n",
       "      <td>11</td>\n",
       "      <td>60</td>\n",
       "      <td>0</td>\n",
       "    </tr>\n",
       "    <tr>\n",
       "      <th>1</th>\n",
       "      <td>2</td>\n",
       "      <td>1956967696</td>\n",
       "      <td>sadness</td>\n",
       "      <td>Funeral ceremony...gloomy friday...</td>\n",
       "      <td>35</td>\n",
       "      <td>3</td>\n",
       "      <td>35</td>\n",
       "      <td>0</td>\n",
       "    </tr>\n",
       "    <tr>\n",
       "      <th>2</th>\n",
       "      <td>4</td>\n",
       "      <td>1956968416</td>\n",
       "      <td>neutral</td>\n",
       "      <td>@dannycastillo We want to trade with someone w...</td>\n",
       "      <td>86</td>\n",
       "      <td>15</td>\n",
       "      <td>86</td>\n",
       "      <td>1</td>\n",
       "    </tr>\n",
       "    <tr>\n",
       "      <th>3</th>\n",
       "      <td>5</td>\n",
       "      <td>1956968477</td>\n",
       "      <td>worry</td>\n",
       "      <td>Re-pinging @ghostridah14: why didn't you go to...</td>\n",
       "      <td>84</td>\n",
       "      <td>15</td>\n",
       "      <td>84</td>\n",
       "      <td>2</td>\n",
       "    </tr>\n",
       "    <tr>\n",
       "      <th>4</th>\n",
       "      <td>6</td>\n",
       "      <td>1956968487</td>\n",
       "      <td>sadness</td>\n",
       "      <td>I should be sleep, but im not! thinking about ...</td>\n",
       "      <td>132</td>\n",
       "      <td>26</td>\n",
       "      <td>132</td>\n",
       "      <td>0</td>\n",
       "    </tr>\n",
       "  </tbody>\n",
       "</table>\n",
       "</div>"
      ],
      "text/plain": [
       "   Unnamed: 0    tweet_id sentiment  \\\n",
       "0           1  1956967666   sadness   \n",
       "1           2  1956967696   sadness   \n",
       "2           4  1956968416   neutral   \n",
       "3           5  1956968477     worry   \n",
       "4           6  1956968487   sadness   \n",
       "\n",
       "                                             content  char_length  \\\n",
       "0  Layin n bed with a headache  ughhhh...waitin o...           60   \n",
       "1                Funeral ceremony...gloomy friday...           35   \n",
       "2  @dannycastillo We want to trade with someone w...           86   \n",
       "3  Re-pinging @ghostridah14: why didn't you go to...           84   \n",
       "4  I should be sleep, but im not! thinking about ...          132   \n",
       "\n",
       "   token_length  length  label  \n",
       "0            11      60      0  \n",
       "1             3      35      0  \n",
       "2            15      86      1  \n",
       "3            15      84      2  \n",
       "4            26     132      0  "
      ]
     },
     "execution_count": 57,
     "metadata": {},
     "output_type": "execute_result"
    }
   ],
   "source": [
    "df.head()"
   ]
  },
  {
   "cell_type": "code",
   "execution_count": 62,
   "id": "982cc90e",
   "metadata": {},
   "outputs": [],
   "source": [
    "X = df['content']\n",
    "y = df['label']"
   ]
  },
  {
   "cell_type": "code",
   "execution_count": 63,
   "id": "a4d98fd2",
   "metadata": {},
   "outputs": [],
   "source": [
    "X_train, X_test, y_train, y_test = train_test_split(X, y, test_size=0.2, random_state=42)"
   ]
  },
  {
   "cell_type": "code",
   "execution_count": 72,
   "id": "2daf7fa7",
   "metadata": {},
   "outputs": [],
   "source": [
    "X_train = pd.DataFrame(X_train)\n",
    "X_test = pd.DataFrame(X_test)\n",
    "y_train = pd.DataFrame(y_train)\n",
    "y_test = pd.DataFrame(y_test)"
   ]
  },
  {
   "cell_type": "code",
   "execution_count": 75,
   "id": "6c23ea4c",
   "metadata": {},
   "outputs": [
    {
     "name": "stdout",
     "output_type": "stream",
     "text": [
      "(25050, 1)\n",
      "(25050, 1)\n"
     ]
    }
   ],
   "source": [
    "X_train_p=text_preprocess(X_train, \"content\")"
   ]
  },
  {
   "cell_type": "code",
   "execution_count": 76,
   "id": "c68952e3",
   "metadata": {},
   "outputs": [
    {
     "name": "stdout",
     "output_type": "stream",
     "text": [
      "(6263, 1)\n",
      "(6263, 1)\n"
     ]
    }
   ],
   "source": [
    "X_test_p=text_preprocess(X_test, \"content\")"
   ]
  },
  {
   "cell_type": "code",
   "execution_count": 77,
   "id": "4f4f3ade",
   "metadata": {},
   "outputs": [
    {
     "data": {
      "text/plain": [
       "array([[   0,    0,    0, ..., 6942, 5865, 1680],\n",
       "       [   0,    0,    0, ..., 7404, 8887, 6194],\n",
       "       [   0,    0,    0, ..., 1685, 8213, 8314],\n",
       "       ...,\n",
       "       [   0,    0,    0, ..., 8321, 8384, 5812],\n",
       "       [   0,    0,    0, ..., 2607, 1666, 8902],\n",
       "       [   0,    0,    0, ..., 9626, 1635, 6585]])"
      ]
     },
     "execution_count": 77,
     "metadata": {},
     "output_type": "execute_result"
    }
   ],
   "source": [
    "X_train_p"
   ]
  },
  {
   "cell_type": "code",
   "execution_count": 78,
   "id": "458b02fc",
   "metadata": {},
   "outputs": [],
   "source": [
    "encoder = OneHotEncoder()\n",
    "y_train = np.array(y_train)\n",
    "y_train = encoder.fit_transform(y_train.reshape(-1,1)).toarray()"
   ]
  },
  {
   "cell_type": "code",
   "execution_count": 79,
   "id": "f6b3fea3",
   "metadata": {},
   "outputs": [],
   "source": [
    "y_test = np.array(y_test)\n",
    "y_test = encoder.fit_transform(y_test.reshape(-1,1)).toarray()"
   ]
  },
  {
   "cell_type": "code",
   "execution_count": 81,
   "id": "2fca027f",
   "metadata": {},
   "outputs": [
    {
     "name": "stdout",
     "output_type": "stream",
     "text": [
      "(25050, 1)\n",
      "(25050, 5)\n",
      "(6263, 1)\n",
      "(6263, 5)\n"
     ]
    }
   ],
   "source": [
    "print(X_train.shape)\n",
    "print(y_train.shape)\n",
    "print(X_test.shape)\n",
    "print(y_test.shape)"
   ]
  },
  {
   "cell_type": "code",
   "execution_count": 82,
   "id": "de8ff5b1",
   "metadata": {},
   "outputs": [],
   "source": [
    "model = Sequential()\n",
    "model.add(Embedding(input_dim=vocab_size, output_dim=160, input_length=len_sentence))\n",
    "model.add(Dropout(0.2))\n",
    "model.add(LSTM(128))\n",
    "model.add(Dropout(0.2))\n",
    "model.add(Dense(64, activation=\"sigmoid\"))\n",
    "model.add(Dropout(0.2))\n",
    "model.add(Dense(5, activation=\"softmax\"))"
   ]
  },
  {
   "cell_type": "code",
   "execution_count": 83,
   "id": "88a3701a",
   "metadata": {},
   "outputs": [
    {
     "name": "stdout",
     "output_type": "stream",
     "text": [
      "Model: \"sequential\"\n",
      "_________________________________________________________________\n",
      "Layer (type)                 Output Shape              Param #   \n",
      "=================================================================\n",
      "embedding (Embedding)        (None, 160, 160)          1600000   \n",
      "_________________________________________________________________\n",
      "dropout (Dropout)            (None, 160, 160)          0         \n",
      "_________________________________________________________________\n",
      "lstm (LSTM)                  (None, 128)               147968    \n",
      "_________________________________________________________________\n",
      "dropout_1 (Dropout)          (None, 128)               0         \n",
      "_________________________________________________________________\n",
      "dense (Dense)                (None, 64)                8256      \n",
      "_________________________________________________________________\n",
      "dropout_2 (Dropout)          (None, 64)                0         \n",
      "_________________________________________________________________\n",
      "dense_1 (Dense)              (None, 5)                 325       \n",
      "=================================================================\n",
      "Total params: 1,756,549\n",
      "Trainable params: 1,756,549\n",
      "Non-trainable params: 0\n",
      "_________________________________________________________________\n"
     ]
    }
   ],
   "source": [
    "model.summary()"
   ]
  },
  {
   "cell_type": "code",
   "execution_count": 84,
   "id": "7bd49fab",
   "metadata": {},
   "outputs": [
    {
     "name": "stdout",
     "output_type": "stream",
     "text": [
      "Epoch 1/20\n",
      "392/392 [==============================] - 160s 403ms/step - loss: 1.6019 - accuracy: 0.2666 - val_loss: 1.3899 - val_accuracy: 0.4024\n",
      "\n",
      "Epoch 00001: val_accuracy improved from -inf to 0.40236, saving model to .\\model.h5\n",
      "Epoch 2/20\n",
      "392/392 [==============================] - 182s 464ms/step - loss: 1.2927 - accuracy: 0.4537 - val_loss: 1.3311 - val_accuracy: 0.4340\n",
      "\n",
      "Epoch 00002: val_accuracy improved from 0.40236 to 0.43398, saving model to .\\model.h5\n",
      "Epoch 3/20\n",
      "392/392 [==============================] - 215s 548ms/step - loss: 1.1637 - accuracy: 0.5159 - val_loss: 1.3754 - val_accuracy: 0.4244\n",
      "\n",
      "Epoch 00003: val_accuracy did not improve from 0.43398\n",
      "Epoch 4/20\n",
      "392/392 [==============================] - 216s 552ms/step - loss: 1.0632 - accuracy: 0.5749 - val_loss: 1.4359 - val_accuracy: 0.4123\n",
      "\n",
      "Epoch 00004: val_accuracy did not improve from 0.43398\n",
      "Epoch 5/20\n",
      "392/392 [==============================] - 231s 590ms/step - loss: 0.9756 - accuracy: 0.6216 - val_loss: 1.4896 - val_accuracy: 0.4033\n",
      "\n",
      "Epoch 00005: val_accuracy did not improve from 0.43398\n",
      "Epoch 6/20\n",
      "392/392 [==============================] - 220s 560ms/step - loss: 0.8663 - accuracy: 0.6756 - val_loss: 1.6177 - val_accuracy: 0.3905\n",
      "\n",
      "Epoch 00006: val_accuracy did not improve from 0.43398\n",
      "Epoch 7/20\n",
      "392/392 [==============================] - 202s 515ms/step - loss: 0.7672 - accuracy: 0.7240 - val_loss: 1.7371 - val_accuracy: 0.3883\n",
      "\n",
      "Epoch 00007: val_accuracy did not improve from 0.43398\n",
      "Epoch 00007: early stopping\n"
     ]
    }
   ],
   "source": [
    "model.compile(optimizer=\"Adam\", loss = \"categorical_crossentropy\", metrics=[\"accuracy\"])\n",
    "from keras.callbacks import EarlyStopping, ModelCheckpoint\n",
    "early_stop = EarlyStopping(monitor = 'val_loss', mode = 'min', verbose = 1, patience = 5)\n",
    "check_point = ModelCheckpoint('./model.h5', monitor = 'val_accuracy', mode = 'max', verbose = 1, save_best_only = True)\n",
    "hist = model.fit(X_train_p, y_train, epochs = 20, batch_size = 64, validation_data=(X_test_p, y_test),verbose = 1, callbacks= [early_stop, check_point])"
   ]
  },
  {
   "cell_type": "code",
   "execution_count": 85,
   "id": "8479f13b",
   "metadata": {},
   "outputs": [],
   "source": [
    "model = Sequential()\n",
    "model.add(Embedding(input_dim=vocab_size, output_dim=160, input_length=len_sentence))\n",
    "model.add(Dropout(0.2))\n",
    "model.add(SimpleRNN(128))\n",
    "model.add(Dropout(0.2))\n",
    "model.add(Dense(64, activation=\"sigmoid\"))\n",
    "model.add(Dropout(0.2))\n",
    "model.add(Dense(5, activation=\"softmax\"))"
   ]
  },
  {
   "cell_type": "code",
   "execution_count": 86,
   "id": "e75d9b71",
   "metadata": {},
   "outputs": [
    {
     "name": "stdout",
     "output_type": "stream",
     "text": [
      "Model: \"sequential_1\"\n",
      "_________________________________________________________________\n",
      "Layer (type)                 Output Shape              Param #   \n",
      "=================================================================\n",
      "embedding_1 (Embedding)      (None, 160, 160)          1600000   \n",
      "_________________________________________________________________\n",
      "dropout_3 (Dropout)          (None, 160, 160)          0         \n",
      "_________________________________________________________________\n",
      "simple_rnn (SimpleRNN)       (None, 128)               36992     \n",
      "_________________________________________________________________\n",
      "dropout_4 (Dropout)          (None, 128)               0         \n",
      "_________________________________________________________________\n",
      "dense_2 (Dense)              (None, 64)                8256      \n",
      "_________________________________________________________________\n",
      "dropout_5 (Dropout)          (None, 64)                0         \n",
      "_________________________________________________________________\n",
      "dense_3 (Dense)              (None, 5)                 325       \n",
      "=================================================================\n",
      "Total params: 1,645,573\n",
      "Trainable params: 1,645,573\n",
      "Non-trainable params: 0\n",
      "_________________________________________________________________\n"
     ]
    }
   ],
   "source": [
    "model.summary()"
   ]
  },
  {
   "cell_type": "code",
   "execution_count": 87,
   "id": "98655390",
   "metadata": {},
   "outputs": [
    {
     "name": "stdout",
     "output_type": "stream",
     "text": [
      "Epoch 1/20\n",
      "392/392 [==============================] - 51s 128ms/step - loss: 1.6075 - accuracy: 0.2626 - val_loss: 1.5665 - val_accuracy: 0.2864\n",
      "\n",
      "Epoch 00001: val_accuracy improved from -inf to 0.28644, saving model to .\\model.h5\n",
      "Epoch 2/20\n",
      "392/392 [==============================] - 55s 140ms/step - loss: 1.5477 - accuracy: 0.2933 - val_loss: 1.5472 - val_accuracy: 0.2930\n",
      "\n",
      "Epoch 00002: val_accuracy improved from 0.28644 to 0.29299, saving model to .\\model.h5\n",
      "Epoch 3/20\n",
      "392/392 [==============================] - 54s 138ms/step - loss: 1.4336 - accuracy: 0.3725 - val_loss: 1.4494 - val_accuracy: 0.3541\n",
      "\n",
      "Epoch 00003: val_accuracy improved from 0.29299 to 0.35414, saving model to .\\model.h5\n",
      "Epoch 4/20\n",
      "392/392 [==============================] - 52s 133ms/step - loss: 1.2752 - accuracy: 0.4605 - val_loss: 1.4452 - val_accuracy: 0.3677\n",
      "\n",
      "Epoch 00004: val_accuracy improved from 0.35414 to 0.36772, saving model to .\\model.h5\n",
      "Epoch 5/20\n",
      "392/392 [==============================] - 52s 132ms/step - loss: 1.1682 - accuracy: 0.5156 - val_loss: 1.4808 - val_accuracy: 0.3647\n",
      "\n",
      "Epoch 00005: val_accuracy did not improve from 0.36772\n",
      "Epoch 6/20\n",
      "392/392 [==============================] - 53s 135ms/step - loss: 1.0295 - accuracy: 0.5920 - val_loss: 1.5466 - val_accuracy: 0.3744\n",
      "\n",
      "Epoch 00006: val_accuracy improved from 0.36772 to 0.37442, saving model to .\\model.h5\n",
      "Epoch 7/20\n",
      "392/392 [==============================] - 51s 131ms/step - loss: 1.0036 - accuracy: 0.6051 - val_loss: 1.5747 - val_accuracy: 0.3680\n",
      "\n",
      "Epoch 00007: val_accuracy did not improve from 0.37442\n",
      "Epoch 8/20\n",
      "392/392 [==============================] - 52s 133ms/step - loss: 0.9246 - accuracy: 0.6381 - val_loss: 1.6547 - val_accuracy: 0.3679\n",
      "\n",
      "Epoch 00008: val_accuracy did not improve from 0.37442\n",
      "Epoch 9/20\n",
      "392/392 [==============================] - 52s 134ms/step - loss: 0.8464 - accuracy: 0.6722 - val_loss: 1.7173 - val_accuracy: 0.3656\n",
      "\n",
      "Epoch 00009: val_accuracy did not improve from 0.37442\n",
      "Epoch 00009: early stopping\n"
     ]
    }
   ],
   "source": [
    "model.compile(optimizer=\"Adam\", loss = \"categorical_crossentropy\", metrics=[\"accuracy\"])\n",
    "from keras.callbacks import EarlyStopping, ModelCheckpoint\n",
    "early_stop = EarlyStopping(monitor = 'val_loss', mode = 'min', verbose = 1, patience = 5)\n",
    "check_point = ModelCheckpoint('./model.h5', monitor = 'val_accuracy', mode = 'max', verbose = 1, save_best_only = True)\n",
    "hist = model.fit(X_train_p, y_train, epochs = 20, batch_size = 64, validation_data=(X_test_p, y_test),verbose = 1, callbacks= [early_stop, check_point])"
   ]
  },
  {
   "cell_type": "code",
   "execution_count": 88,
   "id": "4413af94",
   "metadata": {},
   "outputs": [],
   "source": [
    "model = Sequential()\n",
    "model.add(Embedding(input_dim=vocab_size, output_dim=160, input_length=len_sentence))\n",
    "model.add(Dropout(0.2))\n",
    "model.add(GRU(128))\n",
    "model.add(Dropout(0.2))\n",
    "model.add(Dense(64, activation=\"sigmoid\"))\n",
    "model.add(Dropout(0.2))\n",
    "model.add(Dense(5, activation=\"softmax\"))"
   ]
  },
  {
   "cell_type": "code",
   "execution_count": 89,
   "id": "5f0880ea",
   "metadata": {},
   "outputs": [
    {
     "name": "stdout",
     "output_type": "stream",
     "text": [
      "Model: \"sequential_2\"\n",
      "_________________________________________________________________\n",
      "Layer (type)                 Output Shape              Param #   \n",
      "=================================================================\n",
      "embedding_2 (Embedding)      (None, 160, 160)          1600000   \n",
      "_________________________________________________________________\n",
      "dropout_6 (Dropout)          (None, 160, 160)          0         \n",
      "_________________________________________________________________\n",
      "gru (GRU)                    (None, 128)               111360    \n",
      "_________________________________________________________________\n",
      "dropout_7 (Dropout)          (None, 128)               0         \n",
      "_________________________________________________________________\n",
      "dense_4 (Dense)              (None, 64)                8256      \n",
      "_________________________________________________________________\n",
      "dropout_8 (Dropout)          (None, 64)                0         \n",
      "_________________________________________________________________\n",
      "dense_5 (Dense)              (None, 5)                 325       \n",
      "=================================================================\n",
      "Total params: 1,719,941\n",
      "Trainable params: 1,719,941\n",
      "Non-trainable params: 0\n",
      "_________________________________________________________________\n"
     ]
    }
   ],
   "source": [
    "model.summary()"
   ]
  },
  {
   "cell_type": "code",
   "execution_count": 90,
   "id": "f5ca9231",
   "metadata": {},
   "outputs": [
    {
     "name": "stdout",
     "output_type": "stream",
     "text": [
      "Epoch 1/20\n",
      "392/392 [==============================] - 118s 295ms/step - loss: 1.5247 - accuracy: 0.3167 - val_loss: 1.3402 - val_accuracy: 0.4209\n",
      "\n",
      "Epoch 00001: val_accuracy improved from -inf to 0.42088, saving model to .\\model.h5\n",
      "Epoch 2/20\n",
      "392/392 [==============================] - 115s 294ms/step - loss: 1.2433 - accuracy: 0.4752 - val_loss: 1.3399 - val_accuracy: 0.4292\n",
      "\n",
      "Epoch 00002: val_accuracy improved from 0.42088 to 0.42919, saving model to .\\model.h5\n",
      "Epoch 3/20\n",
      "392/392 [==============================] - 117s 299ms/step - loss: 1.1272 - accuracy: 0.5406 - val_loss: 1.3932 - val_accuracy: 0.4194\n",
      "\n",
      "Epoch 00003: val_accuracy did not improve from 0.42919\n",
      "Epoch 4/20\n",
      "392/392 [==============================] - 117s 297ms/step - loss: 0.9865 - accuracy: 0.6097 - val_loss: 1.4827 - val_accuracy: 0.4155\n",
      "\n",
      "Epoch 00004: val_accuracy did not improve from 0.42919\n",
      "Epoch 5/20\n",
      "392/392 [==============================] - 116s 295ms/step - loss: 0.8612 - accuracy: 0.6719 - val_loss: 1.6064 - val_accuracy: 0.3957\n",
      "\n",
      "Epoch 00005: val_accuracy did not improve from 0.42919\n",
      "Epoch 6/20\n",
      "392/392 [==============================] - 118s 300ms/step - loss: 0.7399 - accuracy: 0.7321 - val_loss: 1.8113 - val_accuracy: 0.3791\n",
      "\n",
      "Epoch 00006: val_accuracy did not improve from 0.42919\n",
      "Epoch 7/20\n",
      "392/392 [==============================] - 118s 302ms/step - loss: 0.6433 - accuracy: 0.7696 - val_loss: 1.9543 - val_accuracy: 0.3706\n",
      "\n",
      "Epoch 00007: val_accuracy did not improve from 0.42919\n",
      "Epoch 00007: early stopping\n"
     ]
    }
   ],
   "source": [
    "model.compile(optimizer=\"Adam\", loss = \"categorical_crossentropy\", metrics=[\"accuracy\"])\n",
    "from keras.callbacks import EarlyStopping, ModelCheckpoint\n",
    "early_stop = EarlyStopping(monitor = 'val_loss', mode = 'min', verbose = 1, patience = 5)\n",
    "check_point = ModelCheckpoint('./model.h5', monitor = 'val_accuracy', mode = 'max', verbose = 1, save_best_only = True)\n",
    "hist = model.fit(X_train_p, y_train, epochs = 20, batch_size = 64, validation_data=(X_test_p, y_test),verbose = 1, callbacks= [early_stop, check_point])"
   ]
  },
  {
   "cell_type": "code",
   "execution_count": null,
   "id": "b72e71b6",
   "metadata": {},
   "outputs": [],
   "source": []
  }
 ],
 "metadata": {
  "kernelspec": {
   "display_name": "Python 3",
   "language": "python",
   "name": "python3"
  },
  "language_info": {
   "codemirror_mode": {
    "name": "ipython",
    "version": 3
   },
   "file_extension": ".py",
   "mimetype": "text/x-python",
   "name": "python",
   "nbconvert_exporter": "python",
   "pygments_lexer": "ipython3",
   "version": "3.6.9"
  }
 },
 "nbformat": 4,
 "nbformat_minor": 5
}
