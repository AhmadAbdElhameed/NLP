{
 "cells": [
  {
   "cell_type": "code",
   "execution_count": 1,
   "id": "1d99589c",
   "metadata": {},
   "outputs": [],
   "source": [
    "import os # accessing directory structure\n",
    "import pandas as pd\n",
    "import numpy as np\n",
    "import seaborn as sns\n",
    "import matplotlib.pyplot as plt \n",
    "from mpl_toolkits.mplot3d import Axes3D\n",
    "from sklearn.preprocessing import StandardScaler\n",
    "from sklearn.preprocessing import LabelEncoder\n",
    "from sklearn.preprocessing import OneHotEncoder\n",
    "import re \n",
    "import nltk\n",
    "from nltk.corpus import stopwords\n",
    "from nltk.stem import PorterStemmer\n",
    "%matplotlib inline"
   ]
  },
  {
   "cell_type": "code",
   "execution_count": 2,
   "id": "6edea8bf",
   "metadata": {},
   "outputs": [
    {
     "name": "stderr",
     "output_type": "stream",
     "text": [
      "[nltk_data] Downloading package punkt to C:\\Users\\Ahmad Abd\n",
      "[nltk_data]     Elhameed\\AppData\\Roaming\\nltk_data...\n",
      "[nltk_data]   Package punkt is already up-to-date!\n",
      "[nltk_data] Downloading package stopwords to C:\\Users\\Ahmad Abd\n",
      "[nltk_data]     Elhameed\\AppData\\Roaming\\nltk_data...\n",
      "[nltk_data]   Package stopwords is already up-to-date!\n",
      "[nltk_data] Downloading package wordnet to C:\\Users\\Ahmad Abd\n",
      "[nltk_data]     Elhameed\\AppData\\Roaming\\nltk_data...\n",
      "[nltk_data]   Package wordnet is already up-to-date!\n",
      "[nltk_data] Downloading package averaged_perceptron_tagger to\n",
      "[nltk_data]     C:\\Users\\Ahmad Abd\n",
      "[nltk_data]     Elhameed\\AppData\\Roaming\\nltk_data...\n",
      "[nltk_data]   Package averaged_perceptron_tagger is already up-to-\n",
      "[nltk_data]       date!\n"
     ]
    }
   ],
   "source": [
    "# import libraries\n",
    "from nltk.tokenize import word_tokenize , sent_tokenize\n",
    "from sklearn.pipeline import Pipeline , FeatureUnion\n",
    "import re\n",
    "import nltk\n",
    "nltk.download('punkt')\n",
    "nltk.download('stopwords')\n",
    "nltk.download('wordnet')\n",
    "nltk.download('averaged_perceptron_tagger')\n",
    "from nltk.corpus import stopwords\n",
    "from sklearn.datasets import make_multilabel_classification\n",
    "from sklearn.multioutput import MultiOutputClassifier\n",
    "from sklearn.neighbors import KNeighborsClassifier\n",
    "from nltk.stem import WordNetLemmatizer\n",
    "from sklearn.feature_extraction.text import CountVectorizer, TfidfTransformer\n",
    "from sklearn.naive_bayes import MultinomialNB\n",
    "from sklearn.ensemble import RandomForestClassifier, AdaBoostClassifier \n",
    "from sklearn.ensemble import GradientBoostingClassifier ,BaggingClassifier ,ExtraTreesClassifier\n",
    "from sklearn.model_selection import train_test_split,  GridSearchCV \n",
    "from sklearn.metrics import classification_report ,confusion_matrix , accuracy_score\n",
    "from sklearn.base import BaseEstimator, TransformerMixin\n",
    "import pickle"
   ]
  },
  {
   "cell_type": "code",
   "execution_count": 3,
   "id": "2926dbbb",
   "metadata": {},
   "outputs": [
    {
     "data": {
      "text/plain": [
       "['.ipynb_checkpoints',\n",
       " 'Emotion Detection from Text.zip',\n",
       " 'emotion-labels-test.csv',\n",
       " 'emotion-labels-train.csv',\n",
       " 'emotion-labels-val.csv',\n",
       " 'emotion_detection_4classes.ipynb',\n",
       " 'emotion_detection_5classes.ipynb',\n",
       " 'text_emotion.csv',\n",
       " 'text_emotion.csv.zip',\n",
       " 'tweet_emotions.csv']"
      ]
     },
     "execution_count": 3,
     "metadata": {},
     "output_type": "execute_result"
    }
   ],
   "source": [
    "os.listdir()"
   ]
  },
  {
   "cell_type": "code",
   "execution_count": 4,
   "id": "db5727fc",
   "metadata": {},
   "outputs": [
    {
     "name": "stdout",
     "output_type": "stream",
     "text": [
      "C:\\Users\\Ahmad Abd Elhameed\\emotion detection study\n"
     ]
    }
   ],
   "source": [
    "!pwd"
   ]
  },
  {
   "cell_type": "code",
   "execution_count": 6,
   "id": "25671473",
   "metadata": {},
   "outputs": [],
   "source": [
    "test_data = pd.read_csv(\"emotion-labels-test.csv\")\n",
    "train_data = pd.read_csv(\"emotion-labels-train.csv\")\n",
    "validation_data = pd.read_csv(\"emotion-labels-val.csv\")"
   ]
  },
  {
   "cell_type": "code",
   "execution_count": 7,
   "id": "1a8a8ef2",
   "metadata": {},
   "outputs": [
    {
     "data": {
      "text/html": [
       "<div>\n",
       "<style scoped>\n",
       "    .dataframe tbody tr th:only-of-type {\n",
       "        vertical-align: middle;\n",
       "    }\n",
       "\n",
       "    .dataframe tbody tr th {\n",
       "        vertical-align: top;\n",
       "    }\n",
       "\n",
       "    .dataframe thead th {\n",
       "        text-align: right;\n",
       "    }\n",
       "</style>\n",
       "<table border=\"1\" class=\"dataframe\">\n",
       "  <thead>\n",
       "    <tr style=\"text-align: right;\">\n",
       "      <th></th>\n",
       "      <th>text</th>\n",
       "      <th>label</th>\n",
       "    </tr>\n",
       "  </thead>\n",
       "  <tbody>\n",
       "    <tr>\n",
       "      <th>0</th>\n",
       "      <td>You must be knowing #blithe means (adj.)  Happ...</td>\n",
       "      <td>joy</td>\n",
       "    </tr>\n",
       "    <tr>\n",
       "      <th>1</th>\n",
       "      <td>Old saying 'A #smile shared is one gained for ...</td>\n",
       "      <td>joy</td>\n",
       "    </tr>\n",
       "    <tr>\n",
       "      <th>2</th>\n",
       "      <td>Bridget Jones' Baby was bloody hilarious 😅 #Br...</td>\n",
       "      <td>joy</td>\n",
       "    </tr>\n",
       "    <tr>\n",
       "      <th>3</th>\n",
       "      <td>@Elaminova sparkling water makes your life spa...</td>\n",
       "      <td>joy</td>\n",
       "    </tr>\n",
       "    <tr>\n",
       "      <th>4</th>\n",
       "      <td>I'm tired of everybody telling me to chill out...</td>\n",
       "      <td>joy</td>\n",
       "    </tr>\n",
       "  </tbody>\n",
       "</table>\n",
       "</div>"
      ],
      "text/plain": [
       "                                                text label\n",
       "0  You must be knowing #blithe means (adj.)  Happ...   joy\n",
       "1  Old saying 'A #smile shared is one gained for ...   joy\n",
       "2  Bridget Jones' Baby was bloody hilarious 😅 #Br...   joy\n",
       "3  @Elaminova sparkling water makes your life spa...   joy\n",
       "4  I'm tired of everybody telling me to chill out...   joy"
      ]
     },
     "execution_count": 7,
     "metadata": {},
     "output_type": "execute_result"
    }
   ],
   "source": [
    "test_data.head()"
   ]
  },
  {
   "cell_type": "code",
   "execution_count": 8,
   "id": "c2afeb7c",
   "metadata": {},
   "outputs": [
    {
     "data": {
      "text/plain": [
       "(3142, 2)"
      ]
     },
     "execution_count": 8,
     "metadata": {},
     "output_type": "execute_result"
    }
   ],
   "source": [
    "test_data.shape"
   ]
  },
  {
   "cell_type": "code",
   "execution_count": 9,
   "id": "21f51a51",
   "metadata": {},
   "outputs": [
    {
     "data": {
      "text/plain": [
       "array(['joy', 'fear', 'anger', 'sadness'], dtype=object)"
      ]
     },
     "execution_count": 9,
     "metadata": {},
     "output_type": "execute_result"
    }
   ],
   "source": [
    "test_data.label.unique()"
   ]
  },
  {
   "cell_type": "code",
   "execution_count": 10,
   "id": "f5e94f80",
   "metadata": {},
   "outputs": [
    {
     "data": {
      "text/plain": [
       "fear       1147\n",
       "anger       857\n",
       "joy         823\n",
       "sadness     786\n",
       "Name: label, dtype: int64"
      ]
     },
     "execution_count": 10,
     "metadata": {},
     "output_type": "execute_result"
    }
   ],
   "source": [
    "train_data.label.value_counts()"
   ]
  },
  {
   "cell_type": "code",
   "execution_count": 11,
   "id": "d7681a7f",
   "metadata": {},
   "outputs": [
    {
     "name": "stdout",
     "output_type": "stream",
     "text": [
      "Train :  (3613, 2)\n",
      "Test :  (3142, 2)\n",
      "Validation :  (347, 2)\n"
     ]
    }
   ],
   "source": [
    "print(\"Train : \", train_data.shape)\n",
    "print(\"Test : \", test_data.shape)\n",
    "print(\"Validation : \", validation_data.shape)"
   ]
  },
  {
   "cell_type": "markdown",
   "id": "0f719e57",
   "metadata": {},
   "source": [
    "## Data Understanding\n",
    "describe_data function will help us understand each dataset"
   ]
  },
  {
   "cell_type": "code",
   "execution_count": 12,
   "id": "3c016358",
   "metadata": {},
   "outputs": [],
   "source": [
    "def describe_data(data_type,data,label):\n",
    "    print(data_type,\" DESCRIPTION\")\n",
    "    print(\"--------------------------\")\n",
    "    size=data.shape\n",
    "    null_values=data.isnull().sum().sum()\n",
    "    \n",
    "    label_count=data[label].value_counts()\n",
    "    print(data_type,\" shape:\",size,\"\\n\")\n",
    "    print(data_type,\" contains:\",null_values,\" null values\\n\")\n",
    "    print(\"Label counts:\")  \n",
    "    print(label_count)\n",
    "    print()\n",
    "    \n",
    "    print(\"*****\",data_type,\" label count plot ****\")\n",
    "    sns.countplot(\n",
    "        data=data,\n",
    "        x=label\n",
    "    )"
   ]
  },
  {
   "cell_type": "code",
   "execution_count": 13,
   "id": "ac5a5306",
   "metadata": {},
   "outputs": [
    {
     "name": "stdout",
     "output_type": "stream",
     "text": [
      "Training Data  DESCRIPTION\n",
      "--------------------------\n",
      "Training Data  shape: (3613, 2) \n",
      "\n",
      "Training Data  contains: 0  null values\n",
      "\n",
      "Label counts:\n",
      "fear       1147\n",
      "anger       857\n",
      "joy         823\n",
      "sadness     786\n",
      "Name: label, dtype: int64\n",
      "\n",
      "***** Training Data  label count plot ****\n"
     ]
    },
    {
     "data": {
      "image/png": "[encoded data removed]",
      "text/plain": [
       "<Figure size 432x288 with 1 Axes>"
      ]
     },
     "metadata": {
      "needs_background": "light"
     },
     "output_type": "display_data"
    }
   ],
   "source": [
    "describe_data(\"Training Data\",train_data,\"label\")"
   ]
  },
  {
   "cell_type": "code",
   "execution_count": 14,
   "id": "af68b7fb",
   "metadata": {},
   "outputs": [
    {
     "name": "stdout",
     "output_type": "stream",
     "text": [
      "Testing Data  DESCRIPTION\n",
      "--------------------------\n",
      "Testing Data  shape: (3142, 2) \n",
      "\n",
      "Testing Data  contains: 0  null values\n",
      "\n",
      "Label counts:\n",
      "fear       995\n",
      "anger      760\n",
      "joy        714\n",
      "sadness    673\n",
      "Name: label, dtype: int64\n",
      "\n",
      "***** Testing Data  label count plot ****\n"
     ]
    },
    {
     "data": {
      "image/png": "[encoded data removed]",
      "text/plain": [
       "<Figure size 432x288 with 1 Axes>"
      ]
     },
     "metadata": {
      "needs_background": "light"
     },
     "output_type": "display_data"
    }
   ],
   "source": [
    "describe_data(\"Testing Data\",test_data,\"label\")"
   ]
  },
  {
   "cell_type": "code",
   "execution_count": 15,
   "id": "68b3c4b6",
   "metadata": {},
   "outputs": [
    {
     "name": "stdout",
     "output_type": "stream",
     "text": [
      "Validation Data  DESCRIPTION\n",
      "--------------------------\n",
      "Validation Data  shape: (347, 2) \n",
      "\n",
      "Validation Data  contains: 0  null values\n",
      "\n",
      "Label counts:\n",
      "fear       110\n",
      "anger       84\n",
      "joy         79\n",
      "sadness     74\n",
      "Name: label, dtype: int64\n",
      "\n",
      "***** Validation Data  label count plot ****\n"
     ]
    },
    {
     "data": {
      "image/png": "[encoded data removed]",
      "text/plain": [
       "<Figure size 432x288 with 1 Axes>"
      ]
     },
     "metadata": {
      "needs_background": "light"
     },
     "output_type": "display_data"
    }
   ],
   "source": [
    "describe_data(\"Validation Data\",validation_data,\"label\")"
   ]
  },
  {
   "cell_type": "code",
   "execution_count": 18,
   "id": "a2023b22",
   "metadata": {},
   "outputs": [
    {
     "name": "stdout",
     "output_type": "stream",
     "text": [
      "<class 'pandas.core.frame.DataFrame'>\n",
      "RangeIndex: 347 entries, 0 to 346\n",
      "Data columns (total 2 columns):\n",
      " #   Column  Non-Null Count  Dtype \n",
      "---  ------  --------------  ----- \n",
      " 0   text    347 non-null    object\n",
      " 1   label   347 non-null    object\n",
      "dtypes: object(2)\n",
      "memory usage: 5.5+ KB\n"
     ]
    }
   ],
   "source": [
    "validation_data.info()"
   ]
  },
  {
   "cell_type": "code",
   "execution_count": 19,
   "id": "85184b6b",
   "metadata": {},
   "outputs": [],
   "source": [
    "def label_encode(data,label):\n",
    "    labels=data[label].map(\n",
    "    {\n",
    "        \"joy\":0,\n",
    "        \"fear\":1,\n",
    "        \"anger\":2,\n",
    "        \"sadness\":3\n",
    "    }\n",
    "    )\n",
    "    return labels"
   ]
  },
  {
   "cell_type": "code",
   "execution_count": 20,
   "id": "9b3d796c",
   "metadata": {},
   "outputs": [],
   "source": [
    "train_data[\"Label\"]=label_encode(train_data,\"label\")\n",
    "validation_data[\"Label\"]=label_encode(validation_data,\"label\")\n",
    "test_data[\"Label\"]=label_encode(test_data,\"label\")"
   ]
  },
  {
   "cell_type": "code",
   "execution_count": 21,
   "id": "e167ac86",
   "metadata": {},
   "outputs": [
    {
     "data": {
      "text/html": [
       "<div>\n",
       "<style scoped>\n",
       "    .dataframe tbody tr th:only-of-type {\n",
       "        vertical-align: middle;\n",
       "    }\n",
       "\n",
       "    .dataframe tbody tr th {\n",
       "        vertical-align: top;\n",
       "    }\n",
       "\n",
       "    .dataframe thead th {\n",
       "        text-align: right;\n",
       "    }\n",
       "</style>\n",
       "<table border=\"1\" class=\"dataframe\">\n",
       "  <thead>\n",
       "    <tr style=\"text-align: right;\">\n",
       "      <th></th>\n",
       "      <th>text</th>\n",
       "      <th>label</th>\n",
       "      <th>Label</th>\n",
       "    </tr>\n",
       "  </thead>\n",
       "  <tbody>\n",
       "    <tr>\n",
       "      <th>0</th>\n",
       "      <td>Just got back from seeing @GaryDelaney in Burs...</td>\n",
       "      <td>joy</td>\n",
       "      <td>0</td>\n",
       "    </tr>\n",
       "    <tr>\n",
       "      <th>1</th>\n",
       "      <td>Oh dear an evening of absolute hilarity I don'...</td>\n",
       "      <td>joy</td>\n",
       "      <td>0</td>\n",
       "    </tr>\n",
       "    <tr>\n",
       "      <th>2</th>\n",
       "      <td>Been waiting all week for this game ❤️❤️❤️ #ch...</td>\n",
       "      <td>joy</td>\n",
       "      <td>0</td>\n",
       "    </tr>\n",
       "    <tr>\n",
       "      <th>3</th>\n",
       "      <td>@gardiner_love : Thank you so much, Gloria! Yo...</td>\n",
       "      <td>joy</td>\n",
       "      <td>0</td>\n",
       "    </tr>\n",
       "    <tr>\n",
       "      <th>4</th>\n",
       "      <td>I feel so blessed to work with the family that...</td>\n",
       "      <td>joy</td>\n",
       "      <td>0</td>\n",
       "    </tr>\n",
       "  </tbody>\n",
       "</table>\n",
       "</div>"
      ],
      "text/plain": [
       "                                                text label  Label\n",
       "0  Just got back from seeing @GaryDelaney in Burs...   joy      0\n",
       "1  Oh dear an evening of absolute hilarity I don'...   joy      0\n",
       "2  Been waiting all week for this game ❤️❤️❤️ #ch...   joy      0\n",
       "3  @gardiner_love : Thank you so much, Gloria! Yo...   joy      0\n",
       "4  I feel so blessed to work with the family that...   joy      0"
      ]
     },
     "execution_count": 21,
     "metadata": {},
     "output_type": "execute_result"
    }
   ],
   "source": [
    "train_data.head()"
   ]
  },
  {
   "cell_type": "code",
   "execution_count": 22,
   "id": "be708303",
   "metadata": {},
   "outputs": [
    {
     "name": "stdout",
     "output_type": "stream",
     "text": [
      "                                                text label  Label    0    1  \\\n",
      "0  Just got back from seeing @GaryDelaney in Burs...   joy      0  1.0  0.0   \n",
      "1  Oh dear an evening of absolute hilarity I don'...   joy      0  1.0  0.0   \n",
      "2  Been waiting all week for this game ❤️❤️❤️ #ch...   joy      0  1.0  0.0   \n",
      "3  @gardiner_love : Thank you so much, Gloria! Yo...   joy      0  1.0  0.0   \n",
      "4  I feel so blessed to work with the family that...   joy      0  1.0  0.0   \n",
      "\n",
      "     2    3  \n",
      "0  0.0  0.0  \n",
      "1  0.0  0.0  \n",
      "2  0.0  0.0  \n",
      "3  0.0  0.0  \n",
      "4  0.0  0.0  \n"
     ]
    }
   ],
   "source": [
    "# importing one hot encoder \n",
    "from sklearn.preprocessing import OneHotEncoder\n",
    "# creating one hot encoder object \n",
    "onehotencoder = OneHotEncoder()\n",
    "#reshape the 1-D country array to 2-D as fit_transform expects 2-D and finally fit the object \n",
    "X = onehotencoder.fit_transform(train_data.Label.values.reshape(-1,1)).toarray()\n",
    "#To add this back into the original dataframe \n",
    "dfOneHot = pd.DataFrame(X, columns = [str(int(i)) for i in range(train_data[\"Label\"].nunique())]) \n",
    "df = pd.concat([train_data, dfOneHot], axis=1)\n",
    "#printing to verify \n",
    "print(df.head())"
   ]
  },
  {
   "cell_type": "code",
   "execution_count": 24,
   "id": "3bf8c7b7",
   "metadata": {},
   "outputs": [],
   "source": [
    "df.rename(columns={'0': 'joy', '1': 'fear',\"2\":\"anger\",\"3\":\"sadness\"}, inplace=True)"
   ]
  },
  {
   "cell_type": "code",
   "execution_count": 25,
   "id": "395750ba",
   "metadata": {},
   "outputs": [
    {
     "data": {
      "text/html": [
       "<div>\n",
       "<style scoped>\n",
       "    .dataframe tbody tr th:only-of-type {\n",
       "        vertical-align: middle;\n",
       "    }\n",
       "\n",
       "    .dataframe tbody tr th {\n",
       "        vertical-align: top;\n",
       "    }\n",
       "\n",
       "    .dataframe thead th {\n",
       "        text-align: right;\n",
       "    }\n",
       "</style>\n",
       "<table border=\"1\" class=\"dataframe\">\n",
       "  <thead>\n",
       "    <tr style=\"text-align: right;\">\n",
       "      <th></th>\n",
       "      <th>text</th>\n",
       "      <th>label</th>\n",
       "      <th>Label</th>\n",
       "      <th>joy</th>\n",
       "      <th>fear</th>\n",
       "      <th>anger</th>\n",
       "      <th>sadness</th>\n",
       "    </tr>\n",
       "  </thead>\n",
       "  <tbody>\n",
       "    <tr>\n",
       "      <th>0</th>\n",
       "      <td>Just got back from seeing @GaryDelaney in Burs...</td>\n",
       "      <td>joy</td>\n",
       "      <td>0</td>\n",
       "      <td>1.0</td>\n",
       "      <td>0.0</td>\n",
       "      <td>0.0</td>\n",
       "      <td>0.0</td>\n",
       "    </tr>\n",
       "    <tr>\n",
       "      <th>1</th>\n",
       "      <td>Oh dear an evening of absolute hilarity I don'...</td>\n",
       "      <td>joy</td>\n",
       "      <td>0</td>\n",
       "      <td>1.0</td>\n",
       "      <td>0.0</td>\n",
       "      <td>0.0</td>\n",
       "      <td>0.0</td>\n",
       "    </tr>\n",
       "    <tr>\n",
       "      <th>2</th>\n",
       "      <td>Been waiting all week for this game ❤️❤️❤️ #ch...</td>\n",
       "      <td>joy</td>\n",
       "      <td>0</td>\n",
       "      <td>1.0</td>\n",
       "      <td>0.0</td>\n",
       "      <td>0.0</td>\n",
       "      <td>0.0</td>\n",
       "    </tr>\n",
       "    <tr>\n",
       "      <th>3</th>\n",
       "      <td>@gardiner_love : Thank you so much, Gloria! Yo...</td>\n",
       "      <td>joy</td>\n",
       "      <td>0</td>\n",
       "      <td>1.0</td>\n",
       "      <td>0.0</td>\n",
       "      <td>0.0</td>\n",
       "      <td>0.0</td>\n",
       "    </tr>\n",
       "    <tr>\n",
       "      <th>4</th>\n",
       "      <td>I feel so blessed to work with the family that...</td>\n",
       "      <td>joy</td>\n",
       "      <td>0</td>\n",
       "      <td>1.0</td>\n",
       "      <td>0.0</td>\n",
       "      <td>0.0</td>\n",
       "      <td>0.0</td>\n",
       "    </tr>\n",
       "  </tbody>\n",
       "</table>\n",
       "</div>"
      ],
      "text/plain": [
       "                                                text label  Label  joy  fear  \\\n",
       "0  Just got back from seeing @GaryDelaney in Burs...   joy      0  1.0   0.0   \n",
       "1  Oh dear an evening of absolute hilarity I don'...   joy      0  1.0   0.0   \n",
       "2  Been waiting all week for this game ❤️❤️❤️ #ch...   joy      0  1.0   0.0   \n",
       "3  @gardiner_love : Thank you so much, Gloria! Yo...   joy      0  1.0   0.0   \n",
       "4  I feel so blessed to work with the family that...   joy      0  1.0   0.0   \n",
       "\n",
       "   anger  sadness  \n",
       "0    0.0      0.0  \n",
       "1    0.0      0.0  \n",
       "2    0.0      0.0  \n",
       "3    0.0      0.0  \n",
       "4    0.0      0.0  "
      ]
     },
     "execution_count": 25,
     "metadata": {},
     "output_type": "execute_result"
    }
   ],
   "source": [
    "df.head()"
   ]
  },
  {
   "cell_type": "code",
   "execution_count": 26,
   "id": "676eb272",
   "metadata": {},
   "outputs": [],
   "source": [
    "df2 = df[[\"joy\",\"fear\",\"anger\",\"sadness\"]].astype(int)"
   ]
  },
  {
   "cell_type": "code",
   "execution_count": 27,
   "id": "9d32549d",
   "metadata": {},
   "outputs": [
    {
     "data": {
      "text/html": [
       "<div>\n",
       "<style scoped>\n",
       "    .dataframe tbody tr th:only-of-type {\n",
       "        vertical-align: middle;\n",
       "    }\n",
       "\n",
       "    .dataframe tbody tr th {\n",
       "        vertical-align: top;\n",
       "    }\n",
       "\n",
       "    .dataframe thead th {\n",
       "        text-align: right;\n",
       "    }\n",
       "</style>\n",
       "<table border=\"1\" class=\"dataframe\">\n",
       "  <thead>\n",
       "    <tr style=\"text-align: right;\">\n",
       "      <th></th>\n",
       "      <th>joy</th>\n",
       "      <th>fear</th>\n",
       "      <th>anger</th>\n",
       "      <th>sadness</th>\n",
       "    </tr>\n",
       "  </thead>\n",
       "  <tbody>\n",
       "    <tr>\n",
       "      <th>0</th>\n",
       "      <td>1</td>\n",
       "      <td>0</td>\n",
       "      <td>0</td>\n",
       "      <td>0</td>\n",
       "    </tr>\n",
       "    <tr>\n",
       "      <th>1</th>\n",
       "      <td>1</td>\n",
       "      <td>0</td>\n",
       "      <td>0</td>\n",
       "      <td>0</td>\n",
       "    </tr>\n",
       "    <tr>\n",
       "      <th>2</th>\n",
       "      <td>1</td>\n",
       "      <td>0</td>\n",
       "      <td>0</td>\n",
       "      <td>0</td>\n",
       "    </tr>\n",
       "    <tr>\n",
       "      <th>3</th>\n",
       "      <td>1</td>\n",
       "      <td>0</td>\n",
       "      <td>0</td>\n",
       "      <td>0</td>\n",
       "    </tr>\n",
       "    <tr>\n",
       "      <th>4</th>\n",
       "      <td>1</td>\n",
       "      <td>0</td>\n",
       "      <td>0</td>\n",
       "      <td>0</td>\n",
       "    </tr>\n",
       "  </tbody>\n",
       "</table>\n",
       "</div>"
      ],
      "text/plain": [
       "   joy  fear  anger  sadness\n",
       "0    1     0      0        0\n",
       "1    1     0      0        0\n",
       "2    1     0      0        0\n",
       "3    1     0      0        0\n",
       "4    1     0      0        0"
      ]
     },
     "execution_count": 27,
     "metadata": {},
     "output_type": "execute_result"
    }
   ],
   "source": [
    "df2.head()"
   ]
  },
  {
   "cell_type": "code",
   "execution_count": 29,
   "id": "b211d317",
   "metadata": {},
   "outputs": [],
   "source": [
    "df3 = pd.concat([df[\"text\"], df2], axis=1)"
   ]
  },
  {
   "cell_type": "code",
   "execution_count": 30,
   "id": "bfe75b77",
   "metadata": {},
   "outputs": [
    {
     "data": {
      "text/html": [
       "<div>\n",
       "<style scoped>\n",
       "    .dataframe tbody tr th:only-of-type {\n",
       "        vertical-align: middle;\n",
       "    }\n",
       "\n",
       "    .dataframe tbody tr th {\n",
       "        vertical-align: top;\n",
       "    }\n",
       "\n",
       "    .dataframe thead th {\n",
       "        text-align: right;\n",
       "    }\n",
       "</style>\n",
       "<table border=\"1\" class=\"dataframe\">\n",
       "  <thead>\n",
       "    <tr style=\"text-align: right;\">\n",
       "      <th></th>\n",
       "      <th>text</th>\n",
       "      <th>joy</th>\n",
       "      <th>fear</th>\n",
       "      <th>anger</th>\n",
       "      <th>sadness</th>\n",
       "    </tr>\n",
       "  </thead>\n",
       "  <tbody>\n",
       "    <tr>\n",
       "      <th>0</th>\n",
       "      <td>Just got back from seeing @GaryDelaney in Burs...</td>\n",
       "      <td>1</td>\n",
       "      <td>0</td>\n",
       "      <td>0</td>\n",
       "      <td>0</td>\n",
       "    </tr>\n",
       "    <tr>\n",
       "      <th>1</th>\n",
       "      <td>Oh dear an evening of absolute hilarity I don'...</td>\n",
       "      <td>1</td>\n",
       "      <td>0</td>\n",
       "      <td>0</td>\n",
       "      <td>0</td>\n",
       "    </tr>\n",
       "    <tr>\n",
       "      <th>2</th>\n",
       "      <td>Been waiting all week for this game ❤️❤️❤️ #ch...</td>\n",
       "      <td>1</td>\n",
       "      <td>0</td>\n",
       "      <td>0</td>\n",
       "      <td>0</td>\n",
       "    </tr>\n",
       "    <tr>\n",
       "      <th>3</th>\n",
       "      <td>@gardiner_love : Thank you so much, Gloria! Yo...</td>\n",
       "      <td>1</td>\n",
       "      <td>0</td>\n",
       "      <td>0</td>\n",
       "      <td>0</td>\n",
       "    </tr>\n",
       "    <tr>\n",
       "      <th>4</th>\n",
       "      <td>I feel so blessed to work with the family that...</td>\n",
       "      <td>1</td>\n",
       "      <td>0</td>\n",
       "      <td>0</td>\n",
       "      <td>0</td>\n",
       "    </tr>\n",
       "  </tbody>\n",
       "</table>\n",
       "</div>"
      ],
      "text/plain": [
       "                                                text  joy  fear  anger  \\\n",
       "0  Just got back from seeing @GaryDelaney in Burs...    1     0      0   \n",
       "1  Oh dear an evening of absolute hilarity I don'...    1     0      0   \n",
       "2  Been waiting all week for this game ❤️❤️❤️ #ch...    1     0      0   \n",
       "3  @gardiner_love : Thank you so much, Gloria! Yo...    1     0      0   \n",
       "4  I feel so blessed to work with the family that...    1     0      0   \n",
       "\n",
       "   sadness  \n",
       "0        0  \n",
       "1        0  \n",
       "2        0  \n",
       "3        0  \n",
       "4        0  "
      ]
     },
     "execution_count": 30,
     "metadata": {},
     "output_type": "execute_result"
    }
   ],
   "source": [
    "df3.head()"
   ]
  },
  {
   "cell_type": "code",
   "execution_count": 31,
   "id": "58d321f8",
   "metadata": {},
   "outputs": [
    {
     "data": {
      "text/html": [
       "<div>\n",
       "<style scoped>\n",
       "    .dataframe tbody tr th:only-of-type {\n",
       "        vertical-align: middle;\n",
       "    }\n",
       "\n",
       "    .dataframe tbody tr th {\n",
       "        vertical-align: top;\n",
       "    }\n",
       "\n",
       "    .dataframe thead th {\n",
       "        text-align: right;\n",
       "    }\n",
       "</style>\n",
       "<table border=\"1\" class=\"dataframe\">\n",
       "  <thead>\n",
       "    <tr style=\"text-align: right;\">\n",
       "      <th></th>\n",
       "      <th>text</th>\n",
       "      <th>label</th>\n",
       "      <th>Label</th>\n",
       "    </tr>\n",
       "  </thead>\n",
       "  <tbody>\n",
       "    <tr>\n",
       "      <th>0</th>\n",
       "      <td>You must be knowing #blithe means (adj.)  Happ...</td>\n",
       "      <td>joy</td>\n",
       "      <td>0</td>\n",
       "    </tr>\n",
       "    <tr>\n",
       "      <th>1</th>\n",
       "      <td>Old saying 'A #smile shared is one gained for ...</td>\n",
       "      <td>joy</td>\n",
       "      <td>0</td>\n",
       "    </tr>\n",
       "    <tr>\n",
       "      <th>2</th>\n",
       "      <td>Bridget Jones' Baby was bloody hilarious 😅 #Br...</td>\n",
       "      <td>joy</td>\n",
       "      <td>0</td>\n",
       "    </tr>\n",
       "    <tr>\n",
       "      <th>3</th>\n",
       "      <td>@Elaminova sparkling water makes your life spa...</td>\n",
       "      <td>joy</td>\n",
       "      <td>0</td>\n",
       "    </tr>\n",
       "    <tr>\n",
       "      <th>4</th>\n",
       "      <td>I'm tired of everybody telling me to chill out...</td>\n",
       "      <td>joy</td>\n",
       "      <td>0</td>\n",
       "    </tr>\n",
       "  </tbody>\n",
       "</table>\n",
       "</div>"
      ],
      "text/plain": [
       "                                                text label  Label\n",
       "0  You must be knowing #blithe means (adj.)  Happ...   joy      0\n",
       "1  Old saying 'A #smile shared is one gained for ...   joy      0\n",
       "2  Bridget Jones' Baby was bloody hilarious 😅 #Br...   joy      0\n",
       "3  @Elaminova sparkling water makes your life spa...   joy      0\n",
       "4  I'm tired of everybody telling me to chill out...   joy      0"
      ]
     },
     "execution_count": 31,
     "metadata": {},
     "output_type": "execute_result"
    }
   ],
   "source": [
    "test_data.head()"
   ]
  },
  {
   "cell_type": "code",
   "execution_count": 32,
   "id": "67af4461",
   "metadata": {},
   "outputs": [
    {
     "data": {
      "text/html": [
       "<div>\n",
       "<style scoped>\n",
       "    .dataframe tbody tr th:only-of-type {\n",
       "        vertical-align: middle;\n",
       "    }\n",
       "\n",
       "    .dataframe tbody tr th {\n",
       "        vertical-align: top;\n",
       "    }\n",
       "\n",
       "    .dataframe thead th {\n",
       "        text-align: right;\n",
       "    }\n",
       "</style>\n",
       "<table border=\"1\" class=\"dataframe\">\n",
       "  <thead>\n",
       "    <tr style=\"text-align: right;\">\n",
       "      <th></th>\n",
       "      <th>text</th>\n",
       "      <th>label</th>\n",
       "      <th>Label</th>\n",
       "      <th>0</th>\n",
       "      <th>1</th>\n",
       "      <th>2</th>\n",
       "      <th>3</th>\n",
       "    </tr>\n",
       "  </thead>\n",
       "  <tbody>\n",
       "    <tr>\n",
       "      <th>0</th>\n",
       "      <td>You must be knowing #blithe means (adj.)  Happ...</td>\n",
       "      <td>joy</td>\n",
       "      <td>0</td>\n",
       "      <td>1.0</td>\n",
       "      <td>0.0</td>\n",
       "      <td>0.0</td>\n",
       "      <td>0.0</td>\n",
       "    </tr>\n",
       "    <tr>\n",
       "      <th>1</th>\n",
       "      <td>Old saying 'A #smile shared is one gained for ...</td>\n",
       "      <td>joy</td>\n",
       "      <td>0</td>\n",
       "      <td>1.0</td>\n",
       "      <td>0.0</td>\n",
       "      <td>0.0</td>\n",
       "      <td>0.0</td>\n",
       "    </tr>\n",
       "    <tr>\n",
       "      <th>2</th>\n",
       "      <td>Bridget Jones' Baby was bloody hilarious 😅 #Br...</td>\n",
       "      <td>joy</td>\n",
       "      <td>0</td>\n",
       "      <td>1.0</td>\n",
       "      <td>0.0</td>\n",
       "      <td>0.0</td>\n",
       "      <td>0.0</td>\n",
       "    </tr>\n",
       "    <tr>\n",
       "      <th>3</th>\n",
       "      <td>@Elaminova sparkling water makes your life spa...</td>\n",
       "      <td>joy</td>\n",
       "      <td>0</td>\n",
       "      <td>1.0</td>\n",
       "      <td>0.0</td>\n",
       "      <td>0.0</td>\n",
       "      <td>0.0</td>\n",
       "    </tr>\n",
       "    <tr>\n",
       "      <th>4</th>\n",
       "      <td>I'm tired of everybody telling me to chill out...</td>\n",
       "      <td>joy</td>\n",
       "      <td>0</td>\n",
       "      <td>1.0</td>\n",
       "      <td>0.0</td>\n",
       "      <td>0.0</td>\n",
       "      <td>0.0</td>\n",
       "    </tr>\n",
       "  </tbody>\n",
       "</table>\n",
       "</div>"
      ],
      "text/plain": [
       "                                                text label  Label    0    1  \\\n",
       "0  You must be knowing #blithe means (adj.)  Happ...   joy      0  1.0  0.0   \n",
       "1  Old saying 'A #smile shared is one gained for ...   joy      0  1.0  0.0   \n",
       "2  Bridget Jones' Baby was bloody hilarious 😅 #Br...   joy      0  1.0  0.0   \n",
       "3  @Elaminova sparkling water makes your life spa...   joy      0  1.0  0.0   \n",
       "4  I'm tired of everybody telling me to chill out...   joy      0  1.0  0.0   \n",
       "\n",
       "     2    3  \n",
       "0  0.0  0.0  \n",
       "1  0.0  0.0  \n",
       "2  0.0  0.0  \n",
       "3  0.0  0.0  \n",
       "4  0.0  0.0  "
      ]
     },
     "execution_count": 32,
     "metadata": {},
     "output_type": "execute_result"
    }
   ],
   "source": [
    "# creating one hot encoder object \n",
    "onehotencoder = OneHotEncoder()\n",
    "#reshape the 1-D country array to 2-D as fit_transform expects 2-D and finally fit the object \n",
    "X = onehotencoder.fit_transform(test_data.Label.values.reshape(-1,1)).toarray()\n",
    "#To add this back into the original dataframe \n",
    "dfOneHot = pd.DataFrame(X, columns = [str(int(i)) for i in range(test_data[\"Label\"].nunique())]) \n",
    "df_test = pd.concat([test_data, dfOneHot], axis=1)\n",
    "#printing to verify \n",
    "df_test.head()"
   ]
  },
  {
   "cell_type": "code",
   "execution_count": 33,
   "id": "20ba90ae",
   "metadata": {},
   "outputs": [],
   "source": [
    "df_test.drop(['label',\"Label\"],axis=1,inplace=True)"
   ]
  },
  {
   "cell_type": "code",
   "execution_count": 34,
   "id": "2721a5b1",
   "metadata": {},
   "outputs": [],
   "source": [
    "df_test.rename(columns={'0': 'joy', '1': 'fear',\"2\":\"anger\",\"3\":\"sadness\"}, inplace=True)"
   ]
  },
  {
   "cell_type": "code",
   "execution_count": 35,
   "id": "71344df2",
   "metadata": {},
   "outputs": [],
   "source": [
    "df_test1 = df_test[[\"joy\",\"fear\",\"anger\",\"sadness\"]].astype(int)"
   ]
  },
  {
   "cell_type": "code",
   "execution_count": 36,
   "id": "1d3d8f59",
   "metadata": {},
   "outputs": [
    {
     "data": {
      "text/html": [
       "<div>\n",
       "<style scoped>\n",
       "    .dataframe tbody tr th:only-of-type {\n",
       "        vertical-align: middle;\n",
       "    }\n",
       "\n",
       "    .dataframe tbody tr th {\n",
       "        vertical-align: top;\n",
       "    }\n",
       "\n",
       "    .dataframe thead th {\n",
       "        text-align: right;\n",
       "    }\n",
       "</style>\n",
       "<table border=\"1\" class=\"dataframe\">\n",
       "  <thead>\n",
       "    <tr style=\"text-align: right;\">\n",
       "      <th></th>\n",
       "      <th>joy</th>\n",
       "      <th>fear</th>\n",
       "      <th>anger</th>\n",
       "      <th>sadness</th>\n",
       "    </tr>\n",
       "  </thead>\n",
       "  <tbody>\n",
       "    <tr>\n",
       "      <th>0</th>\n",
       "      <td>1</td>\n",
       "      <td>0</td>\n",
       "      <td>0</td>\n",
       "      <td>0</td>\n",
       "    </tr>\n",
       "    <tr>\n",
       "      <th>1</th>\n",
       "      <td>1</td>\n",
       "      <td>0</td>\n",
       "      <td>0</td>\n",
       "      <td>0</td>\n",
       "    </tr>\n",
       "    <tr>\n",
       "      <th>2</th>\n",
       "      <td>1</td>\n",
       "      <td>0</td>\n",
       "      <td>0</td>\n",
       "      <td>0</td>\n",
       "    </tr>\n",
       "    <tr>\n",
       "      <th>3</th>\n",
       "      <td>1</td>\n",
       "      <td>0</td>\n",
       "      <td>0</td>\n",
       "      <td>0</td>\n",
       "    </tr>\n",
       "    <tr>\n",
       "      <th>4</th>\n",
       "      <td>1</td>\n",
       "      <td>0</td>\n",
       "      <td>0</td>\n",
       "      <td>0</td>\n",
       "    </tr>\n",
       "  </tbody>\n",
       "</table>\n",
       "</div>"
      ],
      "text/plain": [
       "   joy  fear  anger  sadness\n",
       "0    1     0      0        0\n",
       "1    1     0      0        0\n",
       "2    1     0      0        0\n",
       "3    1     0      0        0\n",
       "4    1     0      0        0"
      ]
     },
     "execution_count": 36,
     "metadata": {},
     "output_type": "execute_result"
    }
   ],
   "source": [
    "df_test1.head()"
   ]
  },
  {
   "cell_type": "code",
   "execution_count": 37,
   "id": "b14ad8a8",
   "metadata": {},
   "outputs": [],
   "source": [
    "df_test2 = pd.concat([df_test[\"text\"], df_test1], axis=1)"
   ]
  },
  {
   "cell_type": "code",
   "execution_count": 38,
   "id": "ff981bc2",
   "metadata": {},
   "outputs": [
    {
     "data": {
      "text/html": [
       "<div>\n",
       "<style scoped>\n",
       "    .dataframe tbody tr th:only-of-type {\n",
       "        vertical-align: middle;\n",
       "    }\n",
       "\n",
       "    .dataframe tbody tr th {\n",
       "        vertical-align: top;\n",
       "    }\n",
       "\n",
       "    .dataframe thead th {\n",
       "        text-align: right;\n",
       "    }\n",
       "</style>\n",
       "<table border=\"1\" class=\"dataframe\">\n",
       "  <thead>\n",
       "    <tr style=\"text-align: right;\">\n",
       "      <th></th>\n",
       "      <th>text</th>\n",
       "      <th>joy</th>\n",
       "      <th>fear</th>\n",
       "      <th>anger</th>\n",
       "      <th>sadness</th>\n",
       "    </tr>\n",
       "  </thead>\n",
       "  <tbody>\n",
       "    <tr>\n",
       "      <th>0</th>\n",
       "      <td>You must be knowing #blithe means (adj.)  Happ...</td>\n",
       "      <td>1</td>\n",
       "      <td>0</td>\n",
       "      <td>0</td>\n",
       "      <td>0</td>\n",
       "    </tr>\n",
       "    <tr>\n",
       "      <th>1</th>\n",
       "      <td>Old saying 'A #smile shared is one gained for ...</td>\n",
       "      <td>1</td>\n",
       "      <td>0</td>\n",
       "      <td>0</td>\n",
       "      <td>0</td>\n",
       "    </tr>\n",
       "    <tr>\n",
       "      <th>2</th>\n",
       "      <td>Bridget Jones' Baby was bloody hilarious 😅 #Br...</td>\n",
       "      <td>1</td>\n",
       "      <td>0</td>\n",
       "      <td>0</td>\n",
       "      <td>0</td>\n",
       "    </tr>\n",
       "    <tr>\n",
       "      <th>3</th>\n",
       "      <td>@Elaminova sparkling water makes your life spa...</td>\n",
       "      <td>1</td>\n",
       "      <td>0</td>\n",
       "      <td>0</td>\n",
       "      <td>0</td>\n",
       "    </tr>\n",
       "    <tr>\n",
       "      <th>4</th>\n",
       "      <td>I'm tired of everybody telling me to chill out...</td>\n",
       "      <td>1</td>\n",
       "      <td>0</td>\n",
       "      <td>0</td>\n",
       "      <td>0</td>\n",
       "    </tr>\n",
       "  </tbody>\n",
       "</table>\n",
       "</div>"
      ],
      "text/plain": [
       "                                                text  joy  fear  anger  \\\n",
       "0  You must be knowing #blithe means (adj.)  Happ...    1     0      0   \n",
       "1  Old saying 'A #smile shared is one gained for ...    1     0      0   \n",
       "2  Bridget Jones' Baby was bloody hilarious 😅 #Br...    1     0      0   \n",
       "3  @Elaminova sparkling water makes your life spa...    1     0      0   \n",
       "4  I'm tired of everybody telling me to chill out...    1     0      0   \n",
       "\n",
       "   sadness  \n",
       "0        0  \n",
       "1        0  \n",
       "2        0  \n",
       "3        0  \n",
       "4        0  "
      ]
     },
     "execution_count": 38,
     "metadata": {},
     "output_type": "execute_result"
    }
   ],
   "source": [
    "df_test2.head()"
   ]
  },
  {
   "cell_type": "code",
   "execution_count": 39,
   "id": "f764747e",
   "metadata": {},
   "outputs": [
    {
     "data": {
      "text/html": [
       "<div>\n",
       "<style scoped>\n",
       "    .dataframe tbody tr th:only-of-type {\n",
       "        vertical-align: middle;\n",
       "    }\n",
       "\n",
       "    .dataframe tbody tr th {\n",
       "        vertical-align: top;\n",
       "    }\n",
       "\n",
       "    .dataframe thead th {\n",
       "        text-align: right;\n",
       "    }\n",
       "</style>\n",
       "<table border=\"1\" class=\"dataframe\">\n",
       "  <thead>\n",
       "    <tr style=\"text-align: right;\">\n",
       "      <th></th>\n",
       "      <th>text</th>\n",
       "      <th>label</th>\n",
       "      <th>Label</th>\n",
       "    </tr>\n",
       "  </thead>\n",
       "  <tbody>\n",
       "    <tr>\n",
       "      <th>0</th>\n",
       "      <td>@theclobra lol I thought maybe, couldn't decid...</td>\n",
       "      <td>joy</td>\n",
       "      <td>0</td>\n",
       "    </tr>\n",
       "    <tr>\n",
       "      <th>1</th>\n",
       "      <td>Nawaz Sharif is getting more funnier than @kap...</td>\n",
       "      <td>joy</td>\n",
       "      <td>0</td>\n",
       "    </tr>\n",
       "    <tr>\n",
       "      <th>2</th>\n",
       "      <td>Nawaz Sharif is getting more funnier than @kap...</td>\n",
       "      <td>joy</td>\n",
       "      <td>0</td>\n",
       "    </tr>\n",
       "    <tr>\n",
       "      <th>3</th>\n",
       "      <td>@tomderivan73 😁...I'll just people watch and e...</td>\n",
       "      <td>joy</td>\n",
       "      <td>0</td>\n",
       "    </tr>\n",
       "    <tr>\n",
       "      <th>4</th>\n",
       "      <td>I love my family so much #lucky #grateful #sma...</td>\n",
       "      <td>joy</td>\n",
       "      <td>0</td>\n",
       "    </tr>\n",
       "  </tbody>\n",
       "</table>\n",
       "</div>"
      ],
      "text/plain": [
       "                                                text label  Label\n",
       "0  @theclobra lol I thought maybe, couldn't decid...   joy      0\n",
       "1  Nawaz Sharif is getting more funnier than @kap...   joy      0\n",
       "2  Nawaz Sharif is getting more funnier than @kap...   joy      0\n",
       "3  @tomderivan73 😁...I'll just people watch and e...   joy      0\n",
       "4  I love my family so much #lucky #grateful #sma...   joy      0"
      ]
     },
     "execution_count": 39,
     "metadata": {},
     "output_type": "execute_result"
    }
   ],
   "source": [
    "validation_data.head()"
   ]
  },
  {
   "cell_type": "code",
   "execution_count": 40,
   "id": "3514d742",
   "metadata": {},
   "outputs": [
    {
     "data": {
      "text/html": [
       "<div>\n",
       "<style scoped>\n",
       "    .dataframe tbody tr th:only-of-type {\n",
       "        vertical-align: middle;\n",
       "    }\n",
       "\n",
       "    .dataframe tbody tr th {\n",
       "        vertical-align: top;\n",
       "    }\n",
       "\n",
       "    .dataframe thead th {\n",
       "        text-align: right;\n",
       "    }\n",
       "</style>\n",
       "<table border=\"1\" class=\"dataframe\">\n",
       "  <thead>\n",
       "    <tr style=\"text-align: right;\">\n",
       "      <th></th>\n",
       "      <th>text</th>\n",
       "      <th>label</th>\n",
       "      <th>Label</th>\n",
       "      <th>0</th>\n",
       "      <th>1</th>\n",
       "      <th>2</th>\n",
       "      <th>3</th>\n",
       "    </tr>\n",
       "  </thead>\n",
       "  <tbody>\n",
       "    <tr>\n",
       "      <th>0</th>\n",
       "      <td>@theclobra lol I thought maybe, couldn't decid...</td>\n",
       "      <td>joy</td>\n",
       "      <td>0</td>\n",
       "      <td>1.0</td>\n",
       "      <td>0.0</td>\n",
       "      <td>0.0</td>\n",
       "      <td>0.0</td>\n",
       "    </tr>\n",
       "    <tr>\n",
       "      <th>1</th>\n",
       "      <td>Nawaz Sharif is getting more funnier than @kap...</td>\n",
       "      <td>joy</td>\n",
       "      <td>0</td>\n",
       "      <td>1.0</td>\n",
       "      <td>0.0</td>\n",
       "      <td>0.0</td>\n",
       "      <td>0.0</td>\n",
       "    </tr>\n",
       "    <tr>\n",
       "      <th>2</th>\n",
       "      <td>Nawaz Sharif is getting more funnier than @kap...</td>\n",
       "      <td>joy</td>\n",
       "      <td>0</td>\n",
       "      <td>1.0</td>\n",
       "      <td>0.0</td>\n",
       "      <td>0.0</td>\n",
       "      <td>0.0</td>\n",
       "    </tr>\n",
       "    <tr>\n",
       "      <th>3</th>\n",
       "      <td>@tomderivan73 😁...I'll just people watch and e...</td>\n",
       "      <td>joy</td>\n",
       "      <td>0</td>\n",
       "      <td>1.0</td>\n",
       "      <td>0.0</td>\n",
       "      <td>0.0</td>\n",
       "      <td>0.0</td>\n",
       "    </tr>\n",
       "    <tr>\n",
       "      <th>4</th>\n",
       "      <td>I love my family so much #lucky #grateful #sma...</td>\n",
       "      <td>joy</td>\n",
       "      <td>0</td>\n",
       "      <td>1.0</td>\n",
       "      <td>0.0</td>\n",
       "      <td>0.0</td>\n",
       "      <td>0.0</td>\n",
       "    </tr>\n",
       "  </tbody>\n",
       "</table>\n",
       "</div>"
      ],
      "text/plain": [
       "                                                text label  Label    0    1  \\\n",
       "0  @theclobra lol I thought maybe, couldn't decid...   joy      0  1.0  0.0   \n",
       "1  Nawaz Sharif is getting more funnier than @kap...   joy      0  1.0  0.0   \n",
       "2  Nawaz Sharif is getting more funnier than @kap...   joy      0  1.0  0.0   \n",
       "3  @tomderivan73 😁...I'll just people watch and e...   joy      0  1.0  0.0   \n",
       "4  I love my family so much #lucky #grateful #sma...   joy      0  1.0  0.0   \n",
       "\n",
       "     2    3  \n",
       "0  0.0  0.0  \n",
       "1  0.0  0.0  \n",
       "2  0.0  0.0  \n",
       "3  0.0  0.0  \n",
       "4  0.0  0.0  "
      ]
     },
     "execution_count": 40,
     "metadata": {},
     "output_type": "execute_result"
    }
   ],
   "source": [
    "# creating one hot encoder object \n",
    "onehotencoder = OneHotEncoder()\n",
    "#reshape the 1-D country array to 2-D as fit_transform expects 2-D and finally fit the object \n",
    "X = onehotencoder.fit_transform(validation_data.Label.values.reshape(-1,1)).toarray()\n",
    "#To add this back into the original dataframe \n",
    "dfOneHot = pd.DataFrame(X, columns = [str(int(i)) for i in range(validation_data[\"Label\"].nunique())]) \n",
    "df_val = pd.concat([validation_data, dfOneHot], axis=1)\n",
    "#printing to verify \n",
    "df_val.head()"
   ]
  },
  {
   "cell_type": "code",
   "execution_count": 41,
   "id": "6f83cfd8",
   "metadata": {},
   "outputs": [
    {
     "data": {
      "text/html": [
       "<div>\n",
       "<style scoped>\n",
       "    .dataframe tbody tr th:only-of-type {\n",
       "        vertical-align: middle;\n",
       "    }\n",
       "\n",
       "    .dataframe tbody tr th {\n",
       "        vertical-align: top;\n",
       "    }\n",
       "\n",
       "    .dataframe thead th {\n",
       "        text-align: right;\n",
       "    }\n",
       "</style>\n",
       "<table border=\"1\" class=\"dataframe\">\n",
       "  <thead>\n",
       "    <tr style=\"text-align: right;\">\n",
       "      <th></th>\n",
       "      <th>text</th>\n",
       "      <th>joy</th>\n",
       "      <th>fear</th>\n",
       "      <th>anger</th>\n",
       "      <th>sadness</th>\n",
       "    </tr>\n",
       "  </thead>\n",
       "  <tbody>\n",
       "    <tr>\n",
       "      <th>0</th>\n",
       "      <td>@theclobra lol I thought maybe, couldn't decid...</td>\n",
       "      <td>1</td>\n",
       "      <td>0</td>\n",
       "      <td>0</td>\n",
       "      <td>0</td>\n",
       "    </tr>\n",
       "    <tr>\n",
       "      <th>1</th>\n",
       "      <td>Nawaz Sharif is getting more funnier than @kap...</td>\n",
       "      <td>1</td>\n",
       "      <td>0</td>\n",
       "      <td>0</td>\n",
       "      <td>0</td>\n",
       "    </tr>\n",
       "    <tr>\n",
       "      <th>2</th>\n",
       "      <td>Nawaz Sharif is getting more funnier than @kap...</td>\n",
       "      <td>1</td>\n",
       "      <td>0</td>\n",
       "      <td>0</td>\n",
       "      <td>0</td>\n",
       "    </tr>\n",
       "    <tr>\n",
       "      <th>3</th>\n",
       "      <td>@tomderivan73 😁...I'll just people watch and e...</td>\n",
       "      <td>1</td>\n",
       "      <td>0</td>\n",
       "      <td>0</td>\n",
       "      <td>0</td>\n",
       "    </tr>\n",
       "    <tr>\n",
       "      <th>4</th>\n",
       "      <td>I love my family so much #lucky #grateful #sma...</td>\n",
       "      <td>1</td>\n",
       "      <td>0</td>\n",
       "      <td>0</td>\n",
       "      <td>0</td>\n",
       "    </tr>\n",
       "  </tbody>\n",
       "</table>\n",
       "</div>"
      ],
      "text/plain": [
       "                                                text  joy  fear  anger  \\\n",
       "0  @theclobra lol I thought maybe, couldn't decid...    1     0      0   \n",
       "1  Nawaz Sharif is getting more funnier than @kap...    1     0      0   \n",
       "2  Nawaz Sharif is getting more funnier than @kap...    1     0      0   \n",
       "3  @tomderivan73 😁...I'll just people watch and e...    1     0      0   \n",
       "4  I love my family so much #lucky #grateful #sma...    1     0      0   \n",
       "\n",
       "   sadness  \n",
       "0        0  \n",
       "1        0  \n",
       "2        0  \n",
       "3        0  \n",
       "4        0  "
      ]
     },
     "execution_count": 41,
     "metadata": {},
     "output_type": "execute_result"
    }
   ],
   "source": [
    "df_val.rename(columns={'0': 'joy', '1': 'fear',\"2\":\"anger\",\"3\":\"sadness\"}, inplace=True)\n",
    "df_val.drop(['label',\"Label\"],axis=1,inplace=True)\n",
    "df_val1 = df_val[['joy','fear',\"anger\",\"sadness\"]].astype(int)\n",
    "df_val2 = pd.concat([df_val[\"text\"], df_val1], axis=1)\n",
    "df_val2.head()"
   ]
  },
  {
   "cell_type": "code",
   "execution_count": 42,
   "id": "2f2eda1a",
   "metadata": {},
   "outputs": [],
   "source": [
    "X = df3[\"text\"]\n",
    "y = df3[['joy','fear',\"anger\",\"sadness\"]]"
   ]
  },
  {
   "cell_type": "markdown",
   "id": "d8113440",
   "metadata": {},
   "source": [
    "## Tokenization function to process your text data"
   ]
  },
  {
   "cell_type": "code",
   "execution_count": 43,
   "id": "71418262",
   "metadata": {},
   "outputs": [],
   "source": [
    "lemmatizer = WordNetLemmatizer()"
   ]
  },
  {
   "cell_type": "code",
   "execution_count": 44,
   "id": "c6291d0c",
   "metadata": {},
   "outputs": [],
   "source": [
    "def tokenize(text):\n",
    "    lower_text = text.lower()\n",
    "    normalized_text = re.sub(r\"[^a-zA-Z0-9]\",\" \",lower_text)\n",
    "    text_token = word_tokenize(normalized_text)\n",
    "    remove_stop_words = [word for word in text_token if word not in stopwords.words('english')]\n",
    "    lemmatized = [lemmatizer.lemmatize(word) for word in remove_stop_words]\n",
    "    return lemmatized"
   ]
  },
  {
   "cell_type": "markdown",
   "id": "e8a107a1",
   "metadata": {},
   "source": [
    "## A machine learning pipeline\n",
    "This machine pipeline should take in the comment column as input and output classification results on the other 6 categories in the dataset."
   ]
  },
  {
   "cell_type": "markdown",
   "id": "15e8d0de",
   "metadata": {},
   "source": [
    "## Random Forest"
   ]
  },
  {
   "cell_type": "code",
   "execution_count": 45,
   "id": "6609d045",
   "metadata": {},
   "outputs": [],
   "source": [
    "pipeline = Pipeline([(\"vect\",CountVectorizer(tokenizer=tokenize)),\n",
    "          (\"tfidf\",TfidfTransformer()),\n",
    "          (\"clf\",MultiOutputClassifier(RandomForestClassifier()))])"
   ]
  },
  {
   "cell_type": "markdown",
   "id": "8367379c",
   "metadata": {},
   "source": [
    "### Train pipeline\n",
    "- Prepare data\n",
    "- Train pipeline"
   ]
  },
  {
   "cell_type": "code",
   "execution_count": 46,
   "id": "5796a9fe",
   "metadata": {},
   "outputs": [],
   "source": [
    "X_train = X\n",
    "y_train = y\n",
    "X_test = df_test2[\"text\"]\n",
    "y_test = df_test2[['joy','fear',\"anger\",\"sadness\"]]\n",
    "X_val = df_val2[\"text\"]\n",
    "y_val = df_val2[['joy','fear',\"anger\",\"sadness\"]]"
   ]
  },
  {
   "cell_type": "code",
   "execution_count": 47,
   "id": "488c620b",
   "metadata": {},
   "outputs": [
    {
     "name": "stdout",
     "output_type": "stream",
     "text": [
      "X_train shape =  (3613,)\n",
      "y_train shape =  (3613, 4)\n",
      "X_test shape =  (3142,)\n",
      "y_test shape =  (3142, 4)\n",
      "X_val shape =  (347,)\n",
      "y_val shape =  (347, 4)\n"
     ]
    }
   ],
   "source": [
    "print (\"X_train shape = \",X_train.shape)\n",
    "print (\"y_train shape = \",y_train.shape)\n",
    "print (\"X_test shape = \",X_test.shape)\n",
    "print (\"y_test shape = \",y_test.shape)\n",
    "print (\"X_val shape = \",X_val.shape)\n",
    "print (\"y_val shape = \",y_val.shape)"
   ]
  },
  {
   "cell_type": "code",
   "execution_count": 48,
   "id": "604ae22f",
   "metadata": {},
   "outputs": [
    {
     "data": {
      "text/plain": [
       "Pipeline(steps=[('vect',\n",
       "                 CountVectorizer(tokenizer=<function tokenize at 0x0000025AAEB47840>)),\n",
       "                ('tfidf', TfidfTransformer()),\n",
       "                ('clf',\n",
       "                 MultiOutputClassifier(estimator=RandomForestClassifier()))])"
      ]
     },
     "execution_count": 48,
     "metadata": {},
     "output_type": "execute_result"
    }
   ],
   "source": [
    "pipeline.fit(X_train,y_train)"
   ]
  },
  {
   "cell_type": "code",
   "execution_count": 49,
   "id": "c8a8b5ea",
   "metadata": {},
   "outputs": [],
   "source": [
    "def display_results(y_test, y_pred):\n",
    "    labels = np.unique(y_pred)\n",
    "    confusion_mat = confusion_matrix(y_test, y_pred, labels=labels)\n",
    "    accuracy = (y_pred == y_test).mean()\n",
    "\n",
    "    print(\"Labels:\", labels)\n",
    "    print(\"Confusion Matrix:\\n\", confusion_mat)\n",
    "    print(\"Accuracy:\", accuracy)"
   ]
  },
  {
   "cell_type": "code",
   "execution_count": 50,
   "id": "2f8d2ea9",
   "metadata": {},
   "outputs": [],
   "source": [
    "# predict on test data\n",
    "y_pred = pipeline.predict(X_test)"
   ]
  },
  {
   "cell_type": "markdown",
   "id": "12916f9a",
   "metadata": {},
   "source": [
    "## Test the model\n",
    "f1 score, precision and recall for each output category of the dataset. By iterating through the columns and calling sklearn's classification_report on each."
   ]
  },
  {
   "cell_type": "code",
   "execution_count": 51,
   "id": "1d4e9406",
   "metadata": {},
   "outputs": [],
   "source": [
    "total_scores = []\n",
    "def accuracy_report(y_test,y_pred):\n",
    "    i = 0\n",
    "    for feat in y_test:\n",
    "        print(\"Feature {}: {}\".format(i+1,feat))\n",
    "        print(classification_report(y_test[feat],y_pred[:,i]))\n",
    "        accuracy = accuracy_score(y_test.iloc[:,i],y_pred[:,i])\n",
    "        total_scores.append(accuracy)\n",
    "        i+=1\n",
    "    print(\"Total Accuracy : {:.4f}\".format(np.mean(total_scores)))"
   ]
  },
  {
   "cell_type": "code",
   "execution_count": 52,
   "id": "04132bd3",
   "metadata": {
    "scrolled": false
   },
   "outputs": [
    {
     "name": "stdout",
     "output_type": "stream",
     "text": [
      "Feature 1: joy\n",
      "              precision    recall  f1-score   support\n",
      "\n",
      "           0       0.96      0.98      0.97      2428\n",
      "           1       0.92      0.84      0.88       714\n",
      "\n",
      "    accuracy                           0.95      3142\n",
      "   macro avg       0.94      0.91      0.92      3142\n",
      "weighted avg       0.95      0.95      0.95      3142\n",
      "\n",
      "Feature 2: fear\n",
      "              precision    recall  f1-score   support\n",
      "\n",
      "           0       0.88      0.95      0.91      2147\n",
      "           1       0.87      0.72      0.79       995\n",
      "\n",
      "    accuracy                           0.88      3142\n",
      "   macro avg       0.87      0.84      0.85      3142\n",
      "weighted avg       0.88      0.88      0.87      3142\n",
      "\n",
      "Feature 3: anger\n",
      "              precision    recall  f1-score   support\n",
      "\n",
      "           0       0.92      0.98      0.95      2382\n",
      "           1       0.91      0.74      0.82       760\n",
      "\n",
      "    accuracy                           0.92      3142\n",
      "   macro avg       0.92      0.86      0.88      3142\n",
      "weighted avg       0.92      0.92      0.92      3142\n",
      "\n",
      "Feature 4: sadness\n",
      "              precision    recall  f1-score   support\n",
      "\n",
      "           0       0.94      0.96      0.95      2469\n",
      "           1       0.82      0.76      0.79       673\n",
      "\n",
      "    accuracy                           0.91      3142\n",
      "   macro avg       0.88      0.86      0.87      3142\n",
      "weighted avg       0.91      0.91      0.91      3142\n",
      "\n",
      "Total Accuracy : 0.9152\n"
     ]
    }
   ],
   "source": [
    "accuracy_report(y_test,y_pred)"
   ]
  },
  {
   "cell_type": "markdown",
   "id": "512f94ea",
   "metadata": {},
   "source": [
    "## AdaBoost"
   ]
  },
  {
   "cell_type": "code",
   "execution_count": 53,
   "id": "eb608534",
   "metadata": {},
   "outputs": [
    {
     "name": "stdout",
     "output_type": "stream",
     "text": [
      "Feature 1: joy\n",
      "              precision    recall  f1-score   support\n",
      "\n",
      "           0       0.94      0.99      0.96      2428\n",
      "           1       0.96      0.77      0.86       714\n",
      "\n",
      "    accuracy                           0.94      3142\n",
      "   macro avg       0.95      0.88      0.91      3142\n",
      "weighted avg       0.94      0.94      0.94      3142\n",
      "\n",
      "Feature 2: fear\n",
      "              precision    recall  f1-score   support\n",
      "\n",
      "           0       0.85      0.98      0.91      2147\n",
      "           1       0.94      0.63      0.76       995\n",
      "\n",
      "    accuracy                           0.87      3142\n",
      "   macro avg       0.89      0.81      0.83      3142\n",
      "weighted avg       0.88      0.87      0.86      3142\n",
      "\n",
      "Feature 3: anger\n",
      "              precision    recall  f1-score   support\n",
      "\n",
      "           0       0.92      0.99      0.95      2382\n",
      "           1       0.96      0.74      0.83       760\n",
      "\n",
      "    accuracy                           0.93      3142\n",
      "   macro avg       0.94      0.86      0.89      3142\n",
      "weighted avg       0.93      0.93      0.93      3142\n",
      "\n",
      "Feature 4: sadness\n",
      "              precision    recall  f1-score   support\n",
      "\n",
      "           0       0.93      0.97      0.95      2469\n",
      "           1       0.88      0.73      0.80       673\n",
      "\n",
      "    accuracy                           0.92      3142\n",
      "   macro avg       0.90      0.85      0.87      3142\n",
      "weighted avg       0.92      0.92      0.92      3142\n",
      "\n",
      "Total Accuracy : 0.9151\n"
     ]
    }
   ],
   "source": [
    "pipeline_adaboost = Pipeline([(\"vect\",CountVectorizer(tokenizer=tokenize)),\n",
    "          (\"tfidf\",TfidfTransformer()),\n",
    "          ('clf', MultiOutputClassifier(AdaBoostClassifier()))])\n",
    "pipeline_adaboost.fit(X_train,y_train)\n",
    "# predict on test data\n",
    "y_pred = pipeline_adaboost.predict(X_test)\n",
    "accuracy_report(y_test,y_pred)"
   ]
  },
  {
   "cell_type": "markdown",
   "id": "f8eef7ae",
   "metadata": {},
   "source": [
    "## GradientBoosting"
   ]
  },
  {
   "cell_type": "code",
   "execution_count": 54,
   "id": "b9f29339",
   "metadata": {},
   "outputs": [
    {
     "name": "stdout",
     "output_type": "stream",
     "text": [
      "Feature 1: joy\n",
      "              precision    recall  f1-score   support\n",
      "\n",
      "           0       0.93      0.98      0.95      2428\n",
      "           1       0.91      0.73      0.81       714\n",
      "\n",
      "    accuracy                           0.92      3142\n",
      "   macro avg       0.92      0.86      0.88      3142\n",
      "weighted avg       0.92      0.92      0.92      3142\n",
      "\n",
      "Feature 2: fear\n",
      "              precision    recall  f1-score   support\n",
      "\n",
      "           0       0.85      0.98      0.91      2147\n",
      "           1       0.93      0.63      0.75       995\n",
      "\n",
      "    accuracy                           0.87      3142\n",
      "   macro avg       0.89      0.80      0.83      3142\n",
      "weighted avg       0.87      0.87      0.86      3142\n",
      "\n",
      "Feature 3: anger\n",
      "              precision    recall  f1-score   support\n",
      "\n",
      "           0       0.90      0.99      0.95      2382\n",
      "           1       0.96      0.67      0.79       760\n",
      "\n",
      "    accuracy                           0.91      3142\n",
      "   macro avg       0.93      0.83      0.87      3142\n",
      "weighted avg       0.92      0.91      0.91      3142\n",
      "\n",
      "Feature 4: sadness\n",
      "              precision    recall  f1-score   support\n",
      "\n",
      "           0       0.92      0.97      0.95      2469\n",
      "           1       0.88      0.69      0.78       673\n",
      "\n",
      "    accuracy                           0.91      3142\n",
      "   macro avg       0.90      0.83      0.86      3142\n",
      "weighted avg       0.91      0.91      0.91      3142\n",
      "\n",
      "Total Accuracy : 0.9115\n"
     ]
    }
   ],
   "source": [
    "pipeline_boosting = Pipeline([(\"vect\",CountVectorizer(tokenizer=tokenize)),\n",
    "          (\"tfidf\",TfidfTransformer()),\n",
    "          ('clf', MultiOutputClassifier(GradientBoostingClassifier()))])\n",
    "pipeline_boosting.fit(X_train,y_train)\n",
    "# predict on test data\n",
    "y_pred = pipeline_boosting.predict(X_test)\n",
    "## display accuracy\n",
    "accuracy_report(y_test,y_pred)"
   ]
  },
  {
   "cell_type": "markdown",
   "id": "ccbb3edf",
   "metadata": {},
   "source": [
    "## Bagging"
   ]
  },
  {
   "cell_type": "code",
   "execution_count": 56,
   "id": "312c0257",
   "metadata": {},
   "outputs": [
    {
     "name": "stdout",
     "output_type": "stream",
     "text": [
      "Feature 1: joy\n",
      "              precision    recall  f1-score   support\n",
      "\n",
      "           0       0.96      0.98      0.97      2428\n",
      "           1       0.91      0.85      0.88       714\n",
      "\n",
      "    accuracy                           0.95      3142\n",
      "   macro avg       0.94      0.91      0.92      3142\n",
      "weighted avg       0.95      0.95      0.95      3142\n",
      "\n",
      "Feature 2: fear\n",
      "              precision    recall  f1-score   support\n",
      "\n",
      "           0       0.89      0.94      0.91      2147\n",
      "           1       0.85      0.74      0.79       995\n",
      "\n",
      "    accuracy                           0.88      3142\n",
      "   macro avg       0.87      0.84      0.85      3142\n",
      "weighted avg       0.88      0.88      0.87      3142\n",
      "\n",
      "Feature 3: anger\n",
      "              precision    recall  f1-score   support\n",
      "\n",
      "           0       0.94      0.97      0.95      2382\n",
      "           1       0.89      0.79      0.84       760\n",
      "\n",
      "    accuracy                           0.93      3142\n",
      "   macro avg       0.91      0.88      0.90      3142\n",
      "weighted avg       0.92      0.93      0.92      3142\n",
      "\n",
      "Feature 4: sadness\n",
      "              precision    recall  f1-score   support\n",
      "\n",
      "           0       0.95      0.95      0.95      2469\n",
      "           1       0.81      0.82      0.81       673\n",
      "\n",
      "    accuracy                           0.92      3142\n",
      "   macro avg       0.88      0.88      0.88      3142\n",
      "weighted avg       0.92      0.92      0.92      3142\n",
      "\n",
      "Total Accuracy : 0.9131\n"
     ]
    }
   ],
   "source": [
    "pipeline_bagging = Pipeline([(\"vect\",CountVectorizer(tokenizer=tokenize)),\n",
    "          (\"tfidf\",TfidfTransformer()),\n",
    "          ('clf', MultiOutputClassifier(BaggingClassifier()))])\n",
    "pipeline_bagging.fit(X_train,y_train)\n",
    "# predict on test data\n",
    "y_pred = pipeline_bagging.predict(X_test)\n",
    "## display accuracy\n",
    "accuracy_report(y_test,y_pred)"
   ]
  },
  {
   "cell_type": "markdown",
   "id": "225ffa12",
   "metadata": {},
   "source": [
    "## ExtraTrees"
   ]
  },
  {
   "cell_type": "code",
   "execution_count": 58,
   "id": "d230ddab",
   "metadata": {
    "scrolled": false
   },
   "outputs": [
    {
     "name": "stdout",
     "output_type": "stream",
     "text": [
      "Feature 1: joy\n",
      "              precision    recall  f1-score   support\n",
      "\n",
      "           0       0.95      0.98      0.97      2428\n",
      "           1       0.94      0.83      0.88       714\n",
      "\n",
      "    accuracy                           0.95      3142\n",
      "   macro avg       0.95      0.91      0.92      3142\n",
      "weighted avg       0.95      0.95      0.95      3142\n",
      "\n",
      "Feature 2: fear\n",
      "              precision    recall  f1-score   support\n",
      "\n",
      "           0       0.89      0.95      0.92      2147\n",
      "           1       0.87      0.76      0.81       995\n",
      "\n",
      "    accuracy                           0.89      3142\n",
      "   macro avg       0.88      0.85      0.86      3142\n",
      "weighted avg       0.89      0.89      0.89      3142\n",
      "\n",
      "Feature 3: anger\n",
      "              precision    recall  f1-score   support\n",
      "\n",
      "           0       0.93      0.97      0.95      2382\n",
      "           1       0.91      0.78      0.84       760\n",
      "\n",
      "    accuracy                           0.93      3142\n",
      "   macro avg       0.92      0.87      0.89      3142\n",
      "weighted avg       0.93      0.93      0.92      3142\n",
      "\n",
      "Feature 4: sadness\n",
      "              precision    recall  f1-score   support\n",
      "\n",
      "           0       0.95      0.95      0.95      2469\n",
      "           1       0.82      0.82      0.82       673\n",
      "\n",
      "    accuracy                           0.92      3142\n",
      "   macro avg       0.89      0.89      0.89      3142\n",
      "weighted avg       0.92      0.92      0.92      3142\n",
      "\n",
      "Total Accuracy : 0.9148\n"
     ]
    }
   ],
   "source": [
    "pipeline_extratrees = Pipeline([(\"vect\",CountVectorizer(tokenizer=tokenize)),\n",
    "          (\"tfidf\",TfidfTransformer()),\n",
    "          ('clf', MultiOutputClassifier(ExtraTreesClassifier()))])\n",
    "pipeline_extratrees.fit(X_train,y_train)\n",
    "# predict on test data\n",
    "y_pred = pipeline_extratrees.predict(X_test)\n",
    "## display accuracy\n",
    "accuracy_report(y_test,y_pred)"
   ]
  },
  {
   "cell_type": "code",
   "execution_count": 64,
   "id": "c32ad2cc",
   "metadata": {},
   "outputs": [],
   "source": [
    "from sklearn.naive_bayes import GaussianNB\n",
    "from sklearn.datasets import load_iris\n",
    "from sklearn.model_selection import cross_val_score\n",
    "from sklearn.tree import DecisionTreeClassifier\n"
   ]
  },
  {
   "cell_type": "markdown",
   "id": "677ff8ea",
   "metadata": {},
   "source": [
    "## Decision Tree"
   ]
  },
  {
   "cell_type": "code",
   "execution_count": 69,
   "id": "de419d97",
   "metadata": {
    "scrolled": false
   },
   "outputs": [
    {
     "name": "stdout",
     "output_type": "stream",
     "text": [
      "Feature 1: joy\n",
      "              precision    recall  f1-score   support\n",
      "\n",
      "           0       0.96      0.95      0.95      2428\n",
      "           1       0.83      0.86      0.85       714\n",
      "\n",
      "    accuracy                           0.93      3142\n",
      "   macro avg       0.89      0.91      0.90      3142\n",
      "weighted avg       0.93      0.93      0.93      3142\n",
      "\n",
      "Feature 2: fear\n",
      "              precision    recall  f1-score   support\n",
      "\n",
      "           0       0.89      0.90      0.89      2147\n",
      "           1       0.78      0.75      0.76       995\n",
      "\n",
      "    accuracy                           0.85      3142\n",
      "   macro avg       0.83      0.83      0.83      3142\n",
      "weighted avg       0.85      0.85      0.85      3142\n",
      "\n",
      "Feature 3: anger\n",
      "              precision    recall  f1-score   support\n",
      "\n",
      "           0       0.93      0.93      0.93      2382\n",
      "           1       0.79      0.80      0.79       760\n",
      "\n",
      "    accuracy                           0.90      3142\n",
      "   macro avg       0.86      0.86      0.86      3142\n",
      "weighted avg       0.90      0.90      0.90      3142\n",
      "\n",
      "Feature 4: sadness\n",
      "              precision    recall  f1-score   support\n",
      "\n",
      "           0       0.95      0.94      0.95      2469\n",
      "           1       0.79      0.83      0.81       673\n",
      "\n",
      "    accuracy                           0.92      3142\n",
      "   macro avg       0.87      0.88      0.88      3142\n",
      "weighted avg       0.92      0.92      0.92      3142\n",
      "\n",
      "Total Accuracy : 0.9122\n"
     ]
    }
   ],
   "source": [
    "pipeline_DT = Pipeline([(\"vect\",CountVectorizer(tokenizer=tokenize)),\n",
    "          (\"tfidf\",TfidfTransformer()),\n",
    "          (\"clf\",MultiOutputClassifier(DecisionTreeClassifier()))])\n",
    "pipeline_DT.fit(X_train,y_train)\n",
    "# predict on test data\n",
    "y_pred = pipeline_DT.predict(X_test)\n",
    "## display accuracy\n",
    "accuracy_report(y_test,y_pred)"
   ]
  },
  {
   "cell_type": "markdown",
   "id": "eff7d9c2",
   "metadata": {},
   "source": [
    "## Naive Bayes"
   ]
  },
  {
   "cell_type": "code",
   "execution_count": 70,
   "id": "1354b670",
   "metadata": {},
   "outputs": [],
   "source": [
    "from sklearn.naive_bayes import MultinomialNB"
   ]
  },
  {
   "cell_type": "code",
   "execution_count": 71,
   "id": "70fdc7ff",
   "metadata": {},
   "outputs": [
    {
     "name": "stdout",
     "output_type": "stream",
     "text": [
      "Feature 1: joy\n",
      "              precision    recall  f1-score   support\n",
      "\n",
      "           0       0.79      1.00      0.89      2428\n",
      "           1       0.98      0.12      0.22       714\n",
      "\n",
      "    accuracy                           0.80      3142\n",
      "   macro avg       0.89      0.56      0.55      3142\n",
      "weighted avg       0.84      0.80      0.73      3142\n",
      "\n",
      "Feature 2: fear\n",
      "              precision    recall  f1-score   support\n",
      "\n",
      "           0       0.74      0.99      0.85      2147\n",
      "           1       0.94      0.24      0.38       995\n",
      "\n",
      "    accuracy                           0.75      3142\n",
      "   macro avg       0.84      0.62      0.61      3142\n",
      "weighted avg       0.80      0.75      0.70      3142\n",
      "\n",
      "Feature 3: anger\n",
      "              precision    recall  f1-score   support\n",
      "\n",
      "           0       0.78      1.00      0.88      2382\n",
      "           1       0.98      0.11      0.20       760\n",
      "\n",
      "    accuracy                           0.78      3142\n",
      "   macro avg       0.88      0.55      0.54      3142\n",
      "weighted avg       0.83      0.78      0.71      3142\n",
      "\n",
      "Feature 4: sadness\n",
      "              precision    recall  f1-score   support\n",
      "\n",
      "           0       0.79      1.00      0.88      2469\n",
      "           1       0.84      0.06      0.11       673\n",
      "\n",
      "    accuracy                           0.80      3142\n",
      "   macro avg       0.82      0.53      0.50      3142\n",
      "weighted avg       0.81      0.80      0.72      3142\n",
      "\n",
      "Total Accuracy : 0.8938\n"
     ]
    }
   ],
   "source": [
    "pipeline_NV = Pipeline([(\"vect\",CountVectorizer(tokenizer=tokenize)),\n",
    "          (\"tfidf\",TfidfTransformer()),\n",
    "          (\"clf\",MultiOutputClassifier(MultinomialNB()))])\n",
    "pipeline_NV.fit(X_train,y_train)\n",
    "# predict on test data\n",
    "y_pred = pipeline_NV.predict(X_test)\n",
    "## display accuracy\n",
    "accuracy_report(y_test,y_pred)"
   ]
  },
  {
   "cell_type": "code",
   "execution_count": null,
   "id": "d2d318c2",
   "metadata": {},
   "outputs": [],
   "source": []
  }
 ],
 "metadata": {
  "kernelspec": {
   "display_name": "Python 3",
   "language": "python",
   "name": "python3"
  },
  "language_info": {
   "codemirror_mode": {
    "name": "ipython",
    "version": 3
   },
   "file_extension": ".py",
   "mimetype": "text/x-python",
   "name": "python",
   "nbconvert_exporter": "python",
   "pygments_lexer": "ipython3",
   "version": "3.6.9"
  }
 },
 "nbformat": 4,
 "nbformat_minor": 5
}
