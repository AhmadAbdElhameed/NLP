{
 "cells": [
  {
   "cell_type": "code",
   "execution_count": 84,
   "id": "e0773ede",
   "metadata": {},
   "outputs": [
    {
     "name": "stderr",
     "output_type": "stream",
     "text": [
      "[nltk_data] Downloading package punkt to C:\\Users\\Ahmad Abd\n",
      "[nltk_data]     Elhameed\\AppData\\Roaming\\nltk_data...\n",
      "[nltk_data]   Package punkt is already up-to-date!\n",
      "[nltk_data] Downloading package stopwords to C:\\Users\\Ahmad Abd\n",
      "[nltk_data]     Elhameed\\AppData\\Roaming\\nltk_data...\n",
      "[nltk_data]   Package stopwords is already up-to-date!\n",
      "[nltk_data] Downloading package wordnet to C:\\Users\\Ahmad Abd\n",
      "[nltk_data]     Elhameed\\AppData\\Roaming\\nltk_data...\n",
      "[nltk_data]   Package wordnet is already up-to-date!\n",
      "[nltk_data] Downloading package averaged_perceptron_tagger to\n",
      "[nltk_data]     C:\\Users\\Ahmad Abd\n",
      "[nltk_data]     Elhameed\\AppData\\Roaming\\nltk_data...\n",
      "[nltk_data]   Package averaged_perceptron_tagger is already up-to-\n",
      "[nltk_data]       date!\n"
     ]
    }
   ],
   "source": [
    "import os # accessing directory structure\n",
    "import pandas as pd\n",
    "import numpy as np\n",
    "import seaborn as sns\n",
    "import matplotlib.pyplot as plt \n",
    "from mpl_toolkits.mplot3d import Axes3D\n",
    "from sklearn.preprocessing import StandardScaler\n",
    "from sklearn.preprocessing import LabelEncoder\n",
    "from sklearn.preprocessing import OneHotEncoder\n",
    "import re \n",
    "import nltk\n",
    "from nltk.corpus import stopwords\n",
    "from nltk.stem import PorterStemmer\n",
    "%matplotlib inline\n",
    "# import libraries\n",
    "from nltk.tokenize import word_tokenize , sent_tokenize\n",
    "from sklearn.pipeline import Pipeline , FeatureUnion\n",
    "import re\n",
    "import nltk\n",
    "nltk.download('punkt')\n",
    "nltk.download('stopwords')\n",
    "nltk.download('wordnet')\n",
    "nltk.download('averaged_perceptron_tagger')\n",
    "from nltk.corpus import stopwords\n",
    "from sklearn.datasets import make_multilabel_classification\n",
    "from sklearn.multioutput import MultiOutputClassifier\n",
    "from sklearn.neighbors import KNeighborsClassifier\n",
    "from nltk.stem import WordNetLemmatizer\n",
    "from sklearn.feature_extraction.text import CountVectorizer, TfidfTransformer\n",
    "from sklearn.naive_bayes import MultinomialNB\n",
    "from sklearn.ensemble import RandomForestClassifier, AdaBoostClassifier \n",
    "from sklearn.ensemble import GradientBoostingClassifier ,BaggingClassifier ,ExtraTreesClassifier\n",
    "from sklearn.model_selection import train_test_split,  GridSearchCV \n",
    "from sklearn.metrics import classification_report ,confusion_matrix , accuracy_score\n",
    "from sklearn.base import BaseEstimator, TransformerMixin\n",
    "import pickle\n",
    "from sklearn.naive_bayes import GaussianNB\n",
    "from sklearn.datasets import load_iris\n",
    "from sklearn.model_selection import cross_val_score\n",
    "from sklearn.tree import DecisionTreeClassifier\n",
    "from sklearn.naive_bayes import MultinomialNB"
   ]
  },
  {
   "cell_type": "code",
   "execution_count": 2,
   "id": "dc00db2d",
   "metadata": {},
   "outputs": [
    {
     "data": {
      "text/html": [
       "<div>\n",
       "<style scoped>\n",
       "    .dataframe tbody tr th:only-of-type {\n",
       "        vertical-align: middle;\n",
       "    }\n",
       "\n",
       "    .dataframe tbody tr th {\n",
       "        vertical-align: top;\n",
       "    }\n",
       "\n",
       "    .dataframe thead th {\n",
       "        text-align: right;\n",
       "    }\n",
       "</style>\n",
       "<table border=\"1\" class=\"dataframe\">\n",
       "  <thead>\n",
       "    <tr style=\"text-align: right;\">\n",
       "      <th></th>\n",
       "      <th>tweet_id</th>\n",
       "      <th>sentiment</th>\n",
       "      <th>content</th>\n",
       "    </tr>\n",
       "  </thead>\n",
       "  <tbody>\n",
       "    <tr>\n",
       "      <th>0</th>\n",
       "      <td>1956967341</td>\n",
       "      <td>empty</td>\n",
       "      <td>@tiffanylue i know  i was listenin to bad habi...</td>\n",
       "    </tr>\n",
       "    <tr>\n",
       "      <th>1</th>\n",
       "      <td>1956967666</td>\n",
       "      <td>sadness</td>\n",
       "      <td>Layin n bed with a headache  ughhhh...waitin o...</td>\n",
       "    </tr>\n",
       "    <tr>\n",
       "      <th>2</th>\n",
       "      <td>1956967696</td>\n",
       "      <td>sadness</td>\n",
       "      <td>Funeral ceremony...gloomy friday...</td>\n",
       "    </tr>\n",
       "    <tr>\n",
       "      <th>3</th>\n",
       "      <td>1956967789</td>\n",
       "      <td>enthusiasm</td>\n",
       "      <td>wants to hang out with friends SOON!</td>\n",
       "    </tr>\n",
       "    <tr>\n",
       "      <th>4</th>\n",
       "      <td>1956968416</td>\n",
       "      <td>neutral</td>\n",
       "      <td>@dannycastillo We want to trade with someone w...</td>\n",
       "    </tr>\n",
       "    <tr>\n",
       "      <th>5</th>\n",
       "      <td>1956968477</td>\n",
       "      <td>worry</td>\n",
       "      <td>Re-pinging @ghostridah14: why didn't you go to...</td>\n",
       "    </tr>\n",
       "    <tr>\n",
       "      <th>6</th>\n",
       "      <td>1956968487</td>\n",
       "      <td>sadness</td>\n",
       "      <td>I should be sleep, but im not! thinking about ...</td>\n",
       "    </tr>\n",
       "    <tr>\n",
       "      <th>7</th>\n",
       "      <td>1956968636</td>\n",
       "      <td>worry</td>\n",
       "      <td>Hmmm. http://www.djhero.com/ is down</td>\n",
       "    </tr>\n",
       "    <tr>\n",
       "      <th>8</th>\n",
       "      <td>1956969035</td>\n",
       "      <td>sadness</td>\n",
       "      <td>@charviray Charlene my love. I miss you</td>\n",
       "    </tr>\n",
       "    <tr>\n",
       "      <th>9</th>\n",
       "      <td>1956969172</td>\n",
       "      <td>sadness</td>\n",
       "      <td>@kelcouch I'm sorry  at least it's Friday?</td>\n",
       "    </tr>\n",
       "  </tbody>\n",
       "</table>\n",
       "</div>"
      ],
      "text/plain": [
       "     tweet_id   sentiment                                            content\n",
       "0  1956967341       empty  @tiffanylue i know  i was listenin to bad habi...\n",
       "1  1956967666     sadness  Layin n bed with a headache  ughhhh...waitin o...\n",
       "2  1956967696     sadness                Funeral ceremony...gloomy friday...\n",
       "3  1956967789  enthusiasm               wants to hang out with friends SOON!\n",
       "4  1956968416     neutral  @dannycastillo We want to trade with someone w...\n",
       "5  1956968477       worry  Re-pinging @ghostridah14: why didn't you go to...\n",
       "6  1956968487     sadness  I should be sleep, but im not! thinking about ...\n",
       "7  1956968636       worry               Hmmm. http://www.djhero.com/ is down\n",
       "8  1956969035     sadness            @charviray Charlene my love. I miss you\n",
       "9  1956969172     sadness         @kelcouch I'm sorry  at least it's Friday?"
      ]
     },
     "execution_count": 2,
     "metadata": {},
     "output_type": "execute_result"
    }
   ],
   "source": [
    "df = pd.read_csv('tweet_emotions.csv', delimiter=',')\n",
    "df.head(10)"
   ]
  },
  {
   "cell_type": "code",
   "execution_count": 4,
   "id": "9be4d0d7",
   "metadata": {},
   "outputs": [
    {
     "data": {
      "text/plain": [
       "array(['empty', 'sadness', 'enthusiasm', 'neutral', 'worry', 'surprise',\n",
       "       'love', 'fun', 'hate', 'happiness', 'boredom', 'relief', 'anger'],\n",
       "      dtype=object)"
      ]
     },
     "execution_count": 4,
     "metadata": {},
     "output_type": "execute_result"
    }
   ],
   "source": [
    "df.sentiment.unique()"
   ]
  },
  {
   "cell_type": "code",
   "execution_count": null,
   "id": "cf65aeff",
   "metadata": {},
   "outputs": [],
   "source": []
  },
  {
   "cell_type": "code",
   "execution_count": 7,
   "id": "baf917bd",
   "metadata": {},
   "outputs": [],
   "source": [
    "def describe_data(data_type,data,label):\n",
    "    print(data_type,\" DESCRIPTION\")\n",
    "    print(\"--------------------------\")\n",
    "    size=data.shape\n",
    "    null_values=data.isnull().sum().sum()\n",
    "    \n",
    "    label_count=data[label].value_counts()\n",
    "    print(data_type,\" shape:\",size,\"\\n\")\n",
    "    print(data_type,\" contains:\",null_values,\" null values\\n\")\n",
    "    print(\"Label counts:\")  \n",
    "    print(label_count)\n",
    "    print()\n",
    "    \n",
    "    print(\"*****\",data_type,\" label count plot ****\")\n",
    "    plt.figure(figsize=(16,12))\n",
    "    sns.countplot(\n",
    "        data=data,\n",
    "        x=label\n",
    "    )"
   ]
  },
  {
   "cell_type": "markdown",
   "id": "5ebb80ba",
   "metadata": {},
   "source": [
    "## Data Understanding\n",
    "describe_data function will help us understand each dataset"
   ]
  },
  {
   "cell_type": "code",
   "execution_count": 8,
   "id": "ddc3d246",
   "metadata": {},
   "outputs": [
    {
     "name": "stdout",
     "output_type": "stream",
     "text": [
      "Data  DESCRIPTION\n",
      "--------------------------\n",
      "Data  shape: (40000, 3) \n",
      "\n",
      "Data  contains: 0  null values\n",
      "\n",
      "Label counts:\n",
      "neutral       8638\n",
      "worry         8459\n",
      "happiness     5209\n",
      "sadness       5165\n",
      "love          3842\n",
      "surprise      2187\n",
      "fun           1776\n",
      "relief        1526\n",
      "hate          1323\n",
      "empty          827\n",
      "enthusiasm     759\n",
      "boredom        179\n",
      "anger          110\n",
      "Name: sentiment, dtype: int64\n",
      "\n",
      "***** Data  label count plot ****\n"
     ]
    },
    {
     "data": {
      "image/png": "[encoded data removed]",
      "text/plain": [
       "<Figure size 1152x864 with 1 Axes>"
      ]
     },
     "metadata": {
      "needs_background": "light"
     },
     "output_type": "display_data"
    }
   ],
   "source": [
    "describe_data(\"Data\",df,\"sentiment\")"
   ]
  },
  {
   "cell_type": "code",
   "execution_count": 9,
   "id": "26613f1a",
   "metadata": {},
   "outputs": [
    {
     "data": {
      "image/png": "[encoded data removed]",
      "text/plain": [
       "<Figure size 864x576 with 2 Axes>"
      ]
     },
     "metadata": {
      "needs_background": "light"
     },
     "output_type": "display_data"
    }
   ],
   "source": [
    "col = 'sentiment'\n",
    "fig, (ax1, ax2)  = plt.subplots(nrows=1, ncols=2, figsize=(12,8))\n",
    "explode = list((np.array(list(df[col].dropna().value_counts()))/sum(list(df[col].dropna().value_counts())))[::-1])[:10]\n",
    "labels = list(df[col].dropna().unique())[:10]\n",
    "sizes = df[col].value_counts()[:10]\n",
    "ax2.pie(sizes,  explode=explode, startangle=60, labels=labels,autopct='%1.0f%%', pctdistance=0.9)\n",
    "ax2.add_artist(plt.Circle((0,0),0.6,fc='white'))\n",
    "sns.countplot(y =col, data = df, ax=ax1)\n",
    "ax1.set_title(\"Count of each emotion\")\n",
    "ax2.set_title(\"Percentage of each emotion\")\n",
    "plt.show()"
   ]
  },
  {
   "cell_type": "markdown",
   "id": "25fa883c",
   "metadata": {},
   "source": [
    "## We can see that there are 13 different classes and some of the are having very few examples. (i.e. Anger, Boredom, Empty etc...). This is a very imbalanced dataset and it will not allow the model to converge. We'll reduce the number of classes."
   ]
  },
  {
   "cell_type": "code",
   "execution_count": null,
   "id": "a7dbd145",
   "metadata": {},
   "outputs": [],
   "source": [
    "## I Will Keep the most five motion "
   ]
  },
  {
   "cell_type": "code",
   "execution_count": 12,
   "id": "8bdff9fa",
   "metadata": {},
   "outputs": [],
   "source": [
    "df['sentiment'] = df['sentiment'].apply(lambda x : x if x in ['happiness', 'sadness', 'worry', 'neutral', 'love'] else \"other\") "
   ]
  },
  {
   "cell_type": "code",
   "execution_count": 13,
   "id": "6ef5f907",
   "metadata": {},
   "outputs": [
    {
     "data": {
      "text/html": [
       "<div>\n",
       "<style scoped>\n",
       "    .dataframe tbody tr th:only-of-type {\n",
       "        vertical-align: middle;\n",
       "    }\n",
       "\n",
       "    .dataframe tbody tr th {\n",
       "        vertical-align: top;\n",
       "    }\n",
       "\n",
       "    .dataframe thead th {\n",
       "        text-align: right;\n",
       "    }\n",
       "</style>\n",
       "<table border=\"1\" class=\"dataframe\">\n",
       "  <thead>\n",
       "    <tr style=\"text-align: right;\">\n",
       "      <th></th>\n",
       "      <th>tweet_id</th>\n",
       "      <th>sentiment</th>\n",
       "      <th>content</th>\n",
       "    </tr>\n",
       "  </thead>\n",
       "  <tbody>\n",
       "    <tr>\n",
       "      <th>0</th>\n",
       "      <td>1956967341</td>\n",
       "      <td>other</td>\n",
       "      <td>@tiffanylue i know  i was listenin to bad habi...</td>\n",
       "    </tr>\n",
       "    <tr>\n",
       "      <th>1</th>\n",
       "      <td>1956967666</td>\n",
       "      <td>sadness</td>\n",
       "      <td>Layin n bed with a headache  ughhhh...waitin o...</td>\n",
       "    </tr>\n",
       "    <tr>\n",
       "      <th>2</th>\n",
       "      <td>1956967696</td>\n",
       "      <td>sadness</td>\n",
       "      <td>Funeral ceremony...gloomy friday...</td>\n",
       "    </tr>\n",
       "    <tr>\n",
       "      <th>3</th>\n",
       "      <td>1956967789</td>\n",
       "      <td>other</td>\n",
       "      <td>wants to hang out with friends SOON!</td>\n",
       "    </tr>\n",
       "    <tr>\n",
       "      <th>4</th>\n",
       "      <td>1956968416</td>\n",
       "      <td>neutral</td>\n",
       "      <td>@dannycastillo We want to trade with someone w...</td>\n",
       "    </tr>\n",
       "  </tbody>\n",
       "</table>\n",
       "</div>"
      ],
      "text/plain": [
       "     tweet_id sentiment                                            content\n",
       "0  1956967341     other  @tiffanylue i know  i was listenin to bad habi...\n",
       "1  1956967666   sadness  Layin n bed with a headache  ughhhh...waitin o...\n",
       "2  1956967696   sadness                Funeral ceremony...gloomy friday...\n",
       "3  1956967789     other               wants to hang out with friends SOON!\n",
       "4  1956968416   neutral  @dannycastillo We want to trade with someone w..."
      ]
     },
     "execution_count": 13,
     "metadata": {},
     "output_type": "execute_result"
    }
   ],
   "source": [
    "df.head()"
   ]
  },
  {
   "cell_type": "code",
   "execution_count": 14,
   "id": "bdb21e3d",
   "metadata": {},
   "outputs": [],
   "source": [
    "df1 = df[(df.sentiment.isin([\"sadness\", \"neutral\",\"worry\",\"love\",\"happiness\"]))]"
   ]
  },
  {
   "cell_type": "code",
   "execution_count": 15,
   "id": "9cdbaffa",
   "metadata": {},
   "outputs": [
    {
     "data": {
      "text/html": [
       "<div>\n",
       "<style scoped>\n",
       "    .dataframe tbody tr th:only-of-type {\n",
       "        vertical-align: middle;\n",
       "    }\n",
       "\n",
       "    .dataframe tbody tr th {\n",
       "        vertical-align: top;\n",
       "    }\n",
       "\n",
       "    .dataframe thead th {\n",
       "        text-align: right;\n",
       "    }\n",
       "</style>\n",
       "<table border=\"1\" class=\"dataframe\">\n",
       "  <thead>\n",
       "    <tr style=\"text-align: right;\">\n",
       "      <th></th>\n",
       "      <th>tweet_id</th>\n",
       "      <th>sentiment</th>\n",
       "      <th>content</th>\n",
       "    </tr>\n",
       "  </thead>\n",
       "  <tbody>\n",
       "    <tr>\n",
       "      <th>1</th>\n",
       "      <td>1956967666</td>\n",
       "      <td>sadness</td>\n",
       "      <td>Layin n bed with a headache  ughhhh...waitin o...</td>\n",
       "    </tr>\n",
       "    <tr>\n",
       "      <th>2</th>\n",
       "      <td>1956967696</td>\n",
       "      <td>sadness</td>\n",
       "      <td>Funeral ceremony...gloomy friday...</td>\n",
       "    </tr>\n",
       "    <tr>\n",
       "      <th>4</th>\n",
       "      <td>1956968416</td>\n",
       "      <td>neutral</td>\n",
       "      <td>@dannycastillo We want to trade with someone w...</td>\n",
       "    </tr>\n",
       "    <tr>\n",
       "      <th>5</th>\n",
       "      <td>1956968477</td>\n",
       "      <td>worry</td>\n",
       "      <td>Re-pinging @ghostridah14: why didn't you go to...</td>\n",
       "    </tr>\n",
       "    <tr>\n",
       "      <th>6</th>\n",
       "      <td>1956968487</td>\n",
       "      <td>sadness</td>\n",
       "      <td>I should be sleep, but im not! thinking about ...</td>\n",
       "    </tr>\n",
       "  </tbody>\n",
       "</table>\n",
       "</div>"
      ],
      "text/plain": [
       "     tweet_id sentiment                                            content\n",
       "1  1956967666   sadness  Layin n bed with a headache  ughhhh...waitin o...\n",
       "2  1956967696   sadness                Funeral ceremony...gloomy friday...\n",
       "4  1956968416   neutral  @dannycastillo We want to trade with someone w...\n",
       "5  1956968477     worry  Re-pinging @ghostridah14: why didn't you go to...\n",
       "6  1956968487   sadness  I should be sleep, but im not! thinking about ..."
      ]
     },
     "execution_count": 15,
     "metadata": {},
     "output_type": "execute_result"
    }
   ],
   "source": [
    "df1.head()"
   ]
  },
  {
   "cell_type": "code",
   "execution_count": 16,
   "id": "ecefc344",
   "metadata": {},
   "outputs": [
    {
     "data": {
      "text/plain": [
       "(31313, 3)"
      ]
     },
     "execution_count": 16,
     "metadata": {},
     "output_type": "execute_result"
    }
   ],
   "source": [
    "df1.shape"
   ]
  },
  {
   "cell_type": "code",
   "execution_count": 18,
   "id": "1b7bef74",
   "metadata": {},
   "outputs": [
    {
     "data": {
      "text/plain": [
       "array(['sadness', 'neutral', 'worry', 'love', 'happiness'], dtype=object)"
      ]
     },
     "execution_count": 18,
     "metadata": {},
     "output_type": "execute_result"
    }
   ],
   "source": [
    "df1.sentiment.unique()"
   ]
  },
  {
   "cell_type": "markdown",
   "id": "67377890",
   "metadata": {},
   "source": [
    "## Ok I kept the top five emotions"
   ]
  },
  {
   "cell_type": "code",
   "execution_count": 19,
   "id": "6891b9fc",
   "metadata": {},
   "outputs": [
    {
     "name": "stdout",
     "output_type": "stream",
     "text": [
      "Data  DESCRIPTION\n",
      "--------------------------\n",
      "Data  shape: (31313, 3) \n",
      "\n",
      "Data  contains: 0  null values\n",
      "\n",
      "Label counts:\n",
      "neutral      8638\n",
      "worry        8459\n",
      "happiness    5209\n",
      "sadness      5165\n",
      "love         3842\n",
      "Name: sentiment, dtype: int64\n",
      "\n",
      "***** Data  label count plot ****\n"
     ]
    },
    {
     "data": {
      "image/png": "[encoded data removed]",
      "text/plain": [
       "<Figure size 1152x864 with 1 Axes>"
      ]
     },
     "metadata": {
      "needs_background": "light"
     },
     "output_type": "display_data"
    }
   ],
   "source": [
    "describe_data(\"Data\",df1,\"sentiment\")"
   ]
  },
  {
   "cell_type": "code",
   "execution_count": 22,
   "id": "0fac58a6",
   "metadata": {},
   "outputs": [],
   "source": [
    "def label_encode(data,label):\n",
    "    labels=data[label].map(\n",
    "    {\n",
    "        \"sadness\":0,\n",
    "        \"neutral\":1,\n",
    "        \"worry\":2,\n",
    "        \"love\":3,\n",
    "        \"happiness\":4\n",
    "    }\n",
    "    )\n",
    "    return labels"
   ]
  },
  {
   "cell_type": "code",
   "execution_count": 23,
   "id": "6c6d2f10",
   "metadata": {},
   "outputs": [
    {
     "name": "stderr",
     "output_type": "stream",
     "text": [
      "C:\\Users\\Ahmad Abd Elhameed\\Anaconda3\\envs\\nlp\\lib\\site-packages\\ipykernel_launcher.py:1: SettingWithCopyWarning: \n",
      "A value is trying to be set on a copy of a slice from a DataFrame.\n",
      "Try using .loc[row_indexer,col_indexer] = value instead\n",
      "\n",
      "See the caveats in the documentation: https://pandas.pydata.org/pandas-docs/stable/user_guide/indexing.html#returning-a-view-versus-a-copy\n",
      "  \"\"\"Entry point for launching an IPython kernel.\n"
     ]
    }
   ],
   "source": [
    "df1[\"label\"]=label_encode(df1,\"sentiment\")"
   ]
  },
  {
   "cell_type": "code",
   "execution_count": 26,
   "id": "4ee5bb86",
   "metadata": {
    "scrolled": true
   },
   "outputs": [
    {
     "data": {
      "text/html": [
       "<div>\n",
       "<style scoped>\n",
       "    .dataframe tbody tr th:only-of-type {\n",
       "        vertical-align: middle;\n",
       "    }\n",
       "\n",
       "    .dataframe tbody tr th {\n",
       "        vertical-align: top;\n",
       "    }\n",
       "\n",
       "    .dataframe thead th {\n",
       "        text-align: right;\n",
       "    }\n",
       "</style>\n",
       "<table border=\"1\" class=\"dataframe\">\n",
       "  <thead>\n",
       "    <tr style=\"text-align: right;\">\n",
       "      <th></th>\n",
       "      <th>tweet_id</th>\n",
       "      <th>sentiment</th>\n",
       "      <th>content</th>\n",
       "      <th>label</th>\n",
       "    </tr>\n",
       "  </thead>\n",
       "  <tbody>\n",
       "    <tr>\n",
       "      <th>1</th>\n",
       "      <td>1956967666</td>\n",
       "      <td>sadness</td>\n",
       "      <td>Layin n bed with a headache  ughhhh...waitin o...</td>\n",
       "      <td>0</td>\n",
       "    </tr>\n",
       "    <tr>\n",
       "      <th>2</th>\n",
       "      <td>1956967696</td>\n",
       "      <td>sadness</td>\n",
       "      <td>Funeral ceremony...gloomy friday...</td>\n",
       "      <td>0</td>\n",
       "    </tr>\n",
       "    <tr>\n",
       "      <th>4</th>\n",
       "      <td>1956968416</td>\n",
       "      <td>neutral</td>\n",
       "      <td>@dannycastillo We want to trade with someone w...</td>\n",
       "      <td>1</td>\n",
       "    </tr>\n",
       "    <tr>\n",
       "      <th>5</th>\n",
       "      <td>1956968477</td>\n",
       "      <td>worry</td>\n",
       "      <td>Re-pinging @ghostridah14: why didn't you go to...</td>\n",
       "      <td>2</td>\n",
       "    </tr>\n",
       "    <tr>\n",
       "      <th>6</th>\n",
       "      <td>1956968487</td>\n",
       "      <td>sadness</td>\n",
       "      <td>I should be sleep, but im not! thinking about ...</td>\n",
       "      <td>0</td>\n",
       "    </tr>\n",
       "  </tbody>\n",
       "</table>\n",
       "</div>"
      ],
      "text/plain": [
       "     tweet_id sentiment                                            content  \\\n",
       "1  1956967666   sadness  Layin n bed with a headache  ughhhh...waitin o...   \n",
       "2  1956967696   sadness                Funeral ceremony...gloomy friday...   \n",
       "4  1956968416   neutral  @dannycastillo We want to trade with someone w...   \n",
       "5  1956968477     worry  Re-pinging @ghostridah14: why didn't you go to...   \n",
       "6  1956968487   sadness  I should be sleep, but im not! thinking about ...   \n",
       "\n",
       "   label  \n",
       "1      0  \n",
       "2      0  \n",
       "4      1  \n",
       "5      2  \n",
       "6      0  "
      ]
     },
     "execution_count": 26,
     "metadata": {},
     "output_type": "execute_result"
    }
   ],
   "source": [
    "df1.head()"
   ]
  },
  {
   "cell_type": "code",
   "execution_count": 56,
   "id": "3657438c",
   "metadata": {
    "scrolled": false
   },
   "outputs": [],
   "source": [
    "df1= df1.reset_index()"
   ]
  },
  {
   "cell_type": "code",
   "execution_count": 57,
   "id": "239f7098",
   "metadata": {},
   "outputs": [],
   "source": [
    "df1.drop(['index'],axis=1,inplace=True)"
   ]
  },
  {
   "cell_type": "code",
   "execution_count": 64,
   "id": "c555f699",
   "metadata": {},
   "outputs": [
    {
     "name": "stdout",
     "output_type": "stream",
     "text": [
      "     tweet_id sentiment                                            content  \\\n",
      "0  1956967666   sadness  Layin n bed with a headache  ughhhh...waitin o...   \n",
      "1  1956967696   sadness                Funeral ceremony...gloomy friday...   \n",
      "2  1956968416   neutral  @dannycastillo We want to trade with someone w...   \n",
      "3  1956968477     worry  Re-pinging @ghostridah14: why didn't you go to...   \n",
      "4  1956968487   sadness  I should be sleep, but im not! thinking about ...   \n",
      "\n",
      "   label    0    1    2    3    4  \n",
      "0      0  1.0  0.0  0.0  0.0  0.0  \n",
      "1      0  1.0  0.0  0.0  0.0  0.0  \n",
      "2      1  0.0  1.0  0.0  0.0  0.0  \n",
      "3      2  0.0  0.0  1.0  0.0  0.0  \n",
      "4      0  1.0  0.0  0.0  0.0  0.0  \n"
     ]
    }
   ],
   "source": [
    "# importing one hot encoder \n",
    "from sklearn.preprocessing import OneHotEncoder\n",
    "# creating one hot encoder object \n",
    "onehotencoder = OneHotEncoder()\n",
    "#reshape the 1-D country array to 2-D as fit_transform expects 2-D and finally fit the object \n",
    "X = onehotencoder.fit_transform(df1.label.values.reshape(-1,1)).toarray()\n",
    "#To add this back into the original dataframe \n",
    "one_hot = pd.DataFrame(X, columns = [str(int(i)) for i in range(df1[\"label\"].nunique())]) \n",
    "df2 = pd.concat([df1, one_hot], axis=1)\n",
    "#printing to verify \n",
    "print(df2.head())"
   ]
  },
  {
   "cell_type": "code",
   "execution_count": 65,
   "id": "49b8e675",
   "metadata": {},
   "outputs": [
    {
     "data": {
      "text/plain": [
       "(31313, 9)"
      ]
     },
     "execution_count": 65,
     "metadata": {},
     "output_type": "execute_result"
    }
   ],
   "source": [
    "df2.shape"
   ]
  },
  {
   "cell_type": "code",
   "execution_count": null,
   "id": "8ea26d6e",
   "metadata": {},
   "outputs": [],
   "source": []
  },
  {
   "cell_type": "code",
   "execution_count": 66,
   "id": "aee87605",
   "metadata": {},
   "outputs": [],
   "source": [
    "df2.rename(columns={'0': 'sadness', '1': 'neutral',\"2\":\"worry\",\"3\":\"love\",'4':\"happiness\"}, inplace=True)"
   ]
  },
  {
   "cell_type": "code",
   "execution_count": 67,
   "id": "2347d58d",
   "metadata": {},
   "outputs": [
    {
     "data": {
      "text/html": [
       "<div>\n",
       "<style scoped>\n",
       "    .dataframe tbody tr th:only-of-type {\n",
       "        vertical-align: middle;\n",
       "    }\n",
       "\n",
       "    .dataframe tbody tr th {\n",
       "        vertical-align: top;\n",
       "    }\n",
       "\n",
       "    .dataframe thead th {\n",
       "        text-align: right;\n",
       "    }\n",
       "</style>\n",
       "<table border=\"1\" class=\"dataframe\">\n",
       "  <thead>\n",
       "    <tr style=\"text-align: right;\">\n",
       "      <th></th>\n",
       "      <th>tweet_id</th>\n",
       "      <th>sentiment</th>\n",
       "      <th>content</th>\n",
       "      <th>label</th>\n",
       "      <th>sadness</th>\n",
       "      <th>neutral</th>\n",
       "      <th>worry</th>\n",
       "      <th>love</th>\n",
       "      <th>happiness</th>\n",
       "    </tr>\n",
       "  </thead>\n",
       "  <tbody>\n",
       "    <tr>\n",
       "      <th>0</th>\n",
       "      <td>1956967666</td>\n",
       "      <td>sadness</td>\n",
       "      <td>Layin n bed with a headache  ughhhh...waitin o...</td>\n",
       "      <td>0</td>\n",
       "      <td>1.0</td>\n",
       "      <td>0.0</td>\n",
       "      <td>0.0</td>\n",
       "      <td>0.0</td>\n",
       "      <td>0.0</td>\n",
       "    </tr>\n",
       "    <tr>\n",
       "      <th>1</th>\n",
       "      <td>1956967696</td>\n",
       "      <td>sadness</td>\n",
       "      <td>Funeral ceremony...gloomy friday...</td>\n",
       "      <td>0</td>\n",
       "      <td>1.0</td>\n",
       "      <td>0.0</td>\n",
       "      <td>0.0</td>\n",
       "      <td>0.0</td>\n",
       "      <td>0.0</td>\n",
       "    </tr>\n",
       "    <tr>\n",
       "      <th>2</th>\n",
       "      <td>1956968416</td>\n",
       "      <td>neutral</td>\n",
       "      <td>@dannycastillo We want to trade with someone w...</td>\n",
       "      <td>1</td>\n",
       "      <td>0.0</td>\n",
       "      <td>1.0</td>\n",
       "      <td>0.0</td>\n",
       "      <td>0.0</td>\n",
       "      <td>0.0</td>\n",
       "    </tr>\n",
       "    <tr>\n",
       "      <th>3</th>\n",
       "      <td>1956968477</td>\n",
       "      <td>worry</td>\n",
       "      <td>Re-pinging @ghostridah14: why didn't you go to...</td>\n",
       "      <td>2</td>\n",
       "      <td>0.0</td>\n",
       "      <td>0.0</td>\n",
       "      <td>1.0</td>\n",
       "      <td>0.0</td>\n",
       "      <td>0.0</td>\n",
       "    </tr>\n",
       "    <tr>\n",
       "      <th>4</th>\n",
       "      <td>1956968487</td>\n",
       "      <td>sadness</td>\n",
       "      <td>I should be sleep, but im not! thinking about ...</td>\n",
       "      <td>0</td>\n",
       "      <td>1.0</td>\n",
       "      <td>0.0</td>\n",
       "      <td>0.0</td>\n",
       "      <td>0.0</td>\n",
       "      <td>0.0</td>\n",
       "    </tr>\n",
       "  </tbody>\n",
       "</table>\n",
       "</div>"
      ],
      "text/plain": [
       "     tweet_id sentiment                                            content  \\\n",
       "0  1956967666   sadness  Layin n bed with a headache  ughhhh...waitin o...   \n",
       "1  1956967696   sadness                Funeral ceremony...gloomy friday...   \n",
       "2  1956968416   neutral  @dannycastillo We want to trade with someone w...   \n",
       "3  1956968477     worry  Re-pinging @ghostridah14: why didn't you go to...   \n",
       "4  1956968487   sadness  I should be sleep, but im not! thinking about ...   \n",
       "\n",
       "   label  sadness  neutral  worry  love  happiness  \n",
       "0      0      1.0      0.0    0.0   0.0        0.0  \n",
       "1      0      1.0      0.0    0.0   0.0        0.0  \n",
       "2      1      0.0      1.0    0.0   0.0        0.0  \n",
       "3      2      0.0      0.0    1.0   0.0        0.0  \n",
       "4      0      1.0      0.0    0.0   0.0        0.0  "
      ]
     },
     "execution_count": 67,
     "metadata": {},
     "output_type": "execute_result"
    }
   ],
   "source": [
    "df2.head()"
   ]
  },
  {
   "cell_type": "code",
   "execution_count": 68,
   "id": "ecc5cdcc",
   "metadata": {},
   "outputs": [],
   "source": [
    "y = df2[['sadness','neutral',\"worry\",\"love\",\"happiness\"]].astype(int)"
   ]
  },
  {
   "cell_type": "code",
   "execution_count": 69,
   "id": "a5734282",
   "metadata": {},
   "outputs": [
    {
     "data": {
      "text/html": [
       "<div>\n",
       "<style scoped>\n",
       "    .dataframe tbody tr th:only-of-type {\n",
       "        vertical-align: middle;\n",
       "    }\n",
       "\n",
       "    .dataframe tbody tr th {\n",
       "        vertical-align: top;\n",
       "    }\n",
       "\n",
       "    .dataframe thead th {\n",
       "        text-align: right;\n",
       "    }\n",
       "</style>\n",
       "<table border=\"1\" class=\"dataframe\">\n",
       "  <thead>\n",
       "    <tr style=\"text-align: right;\">\n",
       "      <th></th>\n",
       "      <th>sadness</th>\n",
       "      <th>neutral</th>\n",
       "      <th>worry</th>\n",
       "      <th>love</th>\n",
       "      <th>happiness</th>\n",
       "    </tr>\n",
       "  </thead>\n",
       "  <tbody>\n",
       "    <tr>\n",
       "      <th>0</th>\n",
       "      <td>1</td>\n",
       "      <td>0</td>\n",
       "      <td>0</td>\n",
       "      <td>0</td>\n",
       "      <td>0</td>\n",
       "    </tr>\n",
       "    <tr>\n",
       "      <th>1</th>\n",
       "      <td>1</td>\n",
       "      <td>0</td>\n",
       "      <td>0</td>\n",
       "      <td>0</td>\n",
       "      <td>0</td>\n",
       "    </tr>\n",
       "    <tr>\n",
       "      <th>2</th>\n",
       "      <td>0</td>\n",
       "      <td>1</td>\n",
       "      <td>0</td>\n",
       "      <td>0</td>\n",
       "      <td>0</td>\n",
       "    </tr>\n",
       "    <tr>\n",
       "      <th>3</th>\n",
       "      <td>0</td>\n",
       "      <td>0</td>\n",
       "      <td>1</td>\n",
       "      <td>0</td>\n",
       "      <td>0</td>\n",
       "    </tr>\n",
       "    <tr>\n",
       "      <th>4</th>\n",
       "      <td>1</td>\n",
       "      <td>0</td>\n",
       "      <td>0</td>\n",
       "      <td>0</td>\n",
       "      <td>0</td>\n",
       "    </tr>\n",
       "  </tbody>\n",
       "</table>\n",
       "</div>"
      ],
      "text/plain": [
       "   sadness  neutral  worry  love  happiness\n",
       "0        1        0      0     0          0\n",
       "1        1        0      0     0          0\n",
       "2        0        1      0     0          0\n",
       "3        0        0      1     0          0\n",
       "4        1        0      0     0          0"
      ]
     },
     "execution_count": 69,
     "metadata": {},
     "output_type": "execute_result"
    }
   ],
   "source": [
    "y.head()"
   ]
  },
  {
   "cell_type": "code",
   "execution_count": 72,
   "id": "8595dcc8",
   "metadata": {},
   "outputs": [],
   "source": [
    "X = df2.content"
   ]
  },
  {
   "cell_type": "code",
   "execution_count": 73,
   "id": "800c5455",
   "metadata": {},
   "outputs": [
    {
     "data": {
      "text/plain": [
       "0        Layin n bed with a headache  ughhhh...waitin o...\n",
       "1                      Funeral ceremony...gloomy friday...\n",
       "2        @dannycastillo We want to trade with someone w...\n",
       "3        Re-pinging @ghostridah14: why didn't you go to...\n",
       "4        I should be sleep, but im not! thinking about ...\n",
       "                               ...                        \n",
       "31308                                     @JohnLloydTaylor\n",
       "31309                       Happy Mothers Day  All my love\n",
       "31310    Happy Mother's Day to all the mommies out ther...\n",
       "31311    @niariley WASSUP BEAUTIFUL!!! FOLLOW ME!!  PEE...\n",
       "31312    @mopedronin bullet train from tokyo    the gf ...\n",
       "Name: content, Length: 31313, dtype: object"
      ]
     },
     "execution_count": 73,
     "metadata": {},
     "output_type": "execute_result"
    }
   ],
   "source": [
    "X"
   ]
  },
  {
   "cell_type": "code",
   "execution_count": 76,
   "id": "ebbc0ad2",
   "metadata": {},
   "outputs": [],
   "source": [
    "X_train, X_test, y_train, y_test = train_test_split(X, y, test_size=0.2, random_state=42)"
   ]
  },
  {
   "cell_type": "markdown",
   "id": "a8560217",
   "metadata": {},
   "source": [
    "## Tokenization function to process your text data"
   ]
  },
  {
   "cell_type": "code",
   "execution_count": 74,
   "id": "63960cd5",
   "metadata": {},
   "outputs": [],
   "source": [
    "lemmatizer = WordNetLemmatizer()\n",
    "def tokenize(text):\n",
    "    lower_text = text.lower()\n",
    "    normalized_text = re.sub(r\"[^a-zA-Z0-9]\",\" \",lower_text)\n",
    "    text_token = word_tokenize(normalized_text)\n",
    "    remove_stop_words = [word for word in text_token if word not in stopwords.words('english')]\n",
    "    lemmatized = [lemmatizer.lemmatize(word) for word in remove_stop_words]\n",
    "    return lemmatized"
   ]
  },
  {
   "cell_type": "markdown",
   "id": "d7129bb1",
   "metadata": {},
   "source": [
    "## Function to display results"
   ]
  },
  {
   "cell_type": "code",
   "execution_count": 77,
   "id": "a20baa0d",
   "metadata": {},
   "outputs": [],
   "source": [
    "def display_results(y_test, y_pred):\n",
    "    labels = np.unique(y_pred)\n",
    "    confusion_mat = confusion_matrix(y_test, y_pred, labels=labels)\n",
    "    accuracy = (y_pred == y_test).mean()\n",
    "\n",
    "    print(\"Labels:\", labels)\n",
    "    print(\"Confusion Matrix:\\n\", confusion_mat)\n",
    "    print(\"Accuracy:\", accuracy)"
   ]
  },
  {
   "cell_type": "markdown",
   "id": "747bca3e",
   "metadata": {},
   "source": [
    "## Accuracy report"
   ]
  },
  {
   "cell_type": "code",
   "execution_count": 82,
   "id": "cdfc57ab",
   "metadata": {},
   "outputs": [],
   "source": [
    "total_scores = []\n",
    "def accuracy_report(y_test,y_pred):\n",
    "    i = 0\n",
    "    for feat in y_test:\n",
    "        print(\"Feature {}: {}\".format(i+1,feat))\n",
    "        print(classification_report(y_test[feat],y_pred[:,i]))\n",
    "        accuracy = accuracy_score(y_test.iloc[:,i],y_pred[:,i])\n",
    "        total_scores.append(accuracy)\n",
    "        i+=1\n",
    "    print(\"Total Accuracy : {:.4f}\".format(np.mean(total_scores)))"
   ]
  },
  {
   "cell_type": "markdown",
   "id": "a3dd36f9",
   "metadata": {},
   "source": [
    "## A machine learning pipeline\n",
    "This machine pipeline should take in the comment column as input and output classification results on the other 5 categories in the dataset."
   ]
  },
  {
   "cell_type": "markdown",
   "id": "f3a00719",
   "metadata": {},
   "source": [
    "## Random Forest"
   ]
  },
  {
   "cell_type": "code",
   "execution_count": 78,
   "id": "4d9917d5",
   "metadata": {},
   "outputs": [
    {
     "ename": "NameError",
     "evalue": "name 'pipeline' is not defined",
     "output_type": "error",
     "traceback": [
      "\u001b[1;31m---------------------------------------------------------------------------\u001b[0m",
      "\u001b[1;31mNameError\u001b[0m                                 Traceback (most recent call last)",
      "\u001b[1;32m<ipython-input-78-5feafabebcd1>\u001b[0m in \u001b[0;36m<module>\u001b[1;34m\u001b[0m\n\u001b[0;32m      4\u001b[0m \u001b[0mpipeline_rf\u001b[0m\u001b[1;33m.\u001b[0m\u001b[0mfit\u001b[0m\u001b[1;33m(\u001b[0m\u001b[0mX_train\u001b[0m\u001b[1;33m,\u001b[0m\u001b[0my_train\u001b[0m\u001b[1;33m)\u001b[0m\u001b[1;33m\u001b[0m\u001b[1;33m\u001b[0m\u001b[0m\n\u001b[0;32m      5\u001b[0m \u001b[1;31m# predict on test data\u001b[0m\u001b[1;33m\u001b[0m\u001b[1;33m\u001b[0m\u001b[1;33m\u001b[0m\u001b[0m\n\u001b[1;32m----> 6\u001b[1;33m \u001b[0my_pred\u001b[0m \u001b[1;33m=\u001b[0m \u001b[0mpipeline\u001b[0m\u001b[1;33m.\u001b[0m\u001b[0mpredict\u001b[0m\u001b[1;33m(\u001b[0m\u001b[0mX_test\u001b[0m\u001b[1;33m)\u001b[0m\u001b[1;33m\u001b[0m\u001b[1;33m\u001b[0m\u001b[0m\n\u001b[0m\u001b[0;32m      7\u001b[0m \u001b[0maccuracy_report\u001b[0m\u001b[1;33m(\u001b[0m\u001b[0my_test\u001b[0m\u001b[1;33m,\u001b[0m\u001b[0my_pred\u001b[0m\u001b[1;33m)\u001b[0m\u001b[1;33m\u001b[0m\u001b[1;33m\u001b[0m\u001b[0m\n",
      "\u001b[1;31mNameError\u001b[0m: name 'pipeline' is not defined"
     ]
    }
   ],
   "source": [
    "pipeline_rf = Pipeline([(\"vect\",CountVectorizer(tokenizer=tokenize)),\n",
    "          (\"tfidf\",TfidfTransformer()),\n",
    "          (\"clf\",MultiOutputClassifier(RandomForestClassifier()))])\n",
    "pipeline_rf.fit(X_train,y_train)\n"
   ]
  },
  {
   "cell_type": "code",
   "execution_count": 83,
   "id": "26c1a742",
   "metadata": {},
   "outputs": [
    {
     "name": "stdout",
     "output_type": "stream",
     "text": [
      "Feature 1: sadness\n",
      "              precision    recall  f1-score   support\n",
      "\n",
      "           0       0.83      0.98      0.90      5156\n",
      "           1       0.46      0.08      0.13      1107\n",
      "\n",
      "    accuracy                           0.82      6263\n",
      "   macro avg       0.65      0.53      0.52      6263\n",
      "weighted avg       0.77      0.82      0.76      6263\n",
      "\n",
      "Feature 2: neutral\n",
      "              precision    recall  f1-score   support\n",
      "\n",
      "           0       0.77      0.93      0.84      4580\n",
      "           1       0.56      0.22      0.32      1683\n",
      "\n",
      "    accuracy                           0.74      6263\n",
      "   macro avg       0.66      0.58      0.58      6263\n",
      "weighted avg       0.71      0.74      0.70      6263\n",
      "\n",
      "Feature 3: worry\n",
      "              precision    recall  f1-score   support\n",
      "\n",
      "           0       0.76      0.94      0.84      4633\n",
      "           1       0.44      0.13      0.20      1630\n",
      "\n",
      "    accuracy                           0.73      6263\n",
      "   macro avg       0.60      0.54      0.52      6263\n",
      "weighted avg       0.67      0.73      0.67      6263\n",
      "\n",
      "Feature 4: love\n",
      "              precision    recall  f1-score   support\n",
      "\n",
      "           0       0.89      0.98      0.93      5454\n",
      "           1       0.58      0.22      0.32       809\n",
      "\n",
      "    accuracy                           0.88      6263\n",
      "   macro avg       0.74      0.60      0.63      6263\n",
      "weighted avg       0.85      0.88      0.85      6263\n",
      "\n",
      "Feature 5: happiness\n",
      "              precision    recall  f1-score   support\n",
      "\n",
      "           0       0.84      0.98      0.91      5229\n",
      "           1       0.44      0.07      0.12      1034\n",
      "\n",
      "    accuracy                           0.83      6263\n",
      "   macro avg       0.64      0.53      0.51      6263\n",
      "weighted avg       0.78      0.83      0.78      6263\n",
      "\n",
      "Total Accuracy : 0.8013\n"
     ]
    }
   ],
   "source": [
    "# predict on test data\n",
    "y_pred = pipeline_rf.predict(X_test)\n",
    "accuracy_report(y_test,y_pred)"
   ]
  },
  {
   "cell_type": "markdown",
   "id": "c4efc6dd",
   "metadata": {},
   "source": [
    "## AdaBoost"
   ]
  },
  {
   "cell_type": "code",
   "execution_count": 85,
   "id": "fcb40652",
   "metadata": {},
   "outputs": [
    {
     "name": "stdout",
     "output_type": "stream",
     "text": [
      "Feature 1: sadness\n",
      "              precision    recall  f1-score   support\n",
      "\n",
      "           0       0.84      0.98      0.90      5156\n",
      "           1       0.56      0.10      0.17      1107\n",
      "\n",
      "    accuracy                           0.83      6263\n",
      "   macro avg       0.70      0.54      0.53      6263\n",
      "weighted avg       0.79      0.83      0.77      6263\n",
      "\n",
      "Feature 2: neutral\n",
      "              precision    recall  f1-score   support\n",
      "\n",
      "           0       0.74      0.98      0.84      4580\n",
      "           1       0.50      0.06      0.10      1683\n",
      "\n",
      "    accuracy                           0.73      6263\n",
      "   macro avg       0.62      0.52      0.47      6263\n",
      "weighted avg       0.67      0.73      0.64      6263\n",
      "\n",
      "Feature 3: worry\n",
      "              precision    recall  f1-score   support\n",
      "\n",
      "           0       0.76      0.96      0.85      4633\n",
      "           1       0.52      0.14      0.22      1630\n",
      "\n",
      "    accuracy                           0.74      6263\n",
      "   macro avg       0.64      0.55      0.53      6263\n",
      "weighted avg       0.70      0.74      0.68      6263\n",
      "\n",
      "Feature 4: love\n",
      "              precision    recall  f1-score   support\n",
      "\n",
      "           0       0.90      0.97      0.93      5454\n",
      "           1       0.59      0.26      0.36       809\n",
      "\n",
      "    accuracy                           0.88      6263\n",
      "   macro avg       0.74      0.62      0.65      6263\n",
      "weighted avg       0.86      0.88      0.86      6263\n",
      "\n",
      "Feature 5: happiness\n",
      "              precision    recall  f1-score   support\n",
      "\n",
      "           0       0.85      0.97      0.91      5229\n",
      "           1       0.47      0.12      0.19      1034\n",
      "\n",
      "    accuracy                           0.83      6263\n",
      "   macro avg       0.66      0.55      0.55      6263\n",
      "weighted avg       0.79      0.83      0.79      6263\n",
      "\n",
      "Total Accuracy : 0.8020\n"
     ]
    }
   ],
   "source": [
    "pipeline_adaboost = Pipeline([(\"vect\",CountVectorizer(tokenizer=tokenize)),\n",
    "          (\"tfidf\",TfidfTransformer()),\n",
    "          ('clf', MultiOutputClassifier(AdaBoostClassifier()))])\n",
    "pipeline_adaboost.fit(X_train,y_train)\n",
    "# predict on test data\n",
    "y_pred = pipeline_adaboost.predict(X_test)\n",
    "accuracy_report(y_test,y_pred)"
   ]
  },
  {
   "cell_type": "markdown",
   "id": "4af74ee3",
   "metadata": {},
   "source": [
    "## GradientBoosting"
   ]
  },
  {
   "cell_type": "code",
   "execution_count": 86,
   "id": "b3af45b3",
   "metadata": {},
   "outputs": [
    {
     "name": "stdout",
     "output_type": "stream",
     "text": [
      "Feature 1: sadness\n",
      "              precision    recall  f1-score   support\n",
      "\n",
      "           0       0.83      0.99      0.90      5156\n",
      "           1       0.61      0.05      0.09      1107\n",
      "\n",
      "    accuracy                           0.83      6263\n",
      "   macro avg       0.72      0.52      0.50      6263\n",
      "weighted avg       0.79      0.83      0.76      6263\n",
      "\n",
      "Feature 2: neutral\n",
      "              precision    recall  f1-score   support\n",
      "\n",
      "           0       0.73      1.00      0.85      4580\n",
      "           1       0.73      0.00      0.01      1683\n",
      "\n",
      "    accuracy                           0.73      6263\n",
      "   macro avg       0.73      0.50      0.43      6263\n",
      "weighted avg       0.73      0.73      0.62      6263\n",
      "\n",
      "Feature 3: worry\n",
      "              precision    recall  f1-score   support\n",
      "\n",
      "           0       0.75      0.99      0.85      4633\n",
      "           1       0.64      0.04      0.08      1630\n",
      "\n",
      "    accuracy                           0.74      6263\n",
      "   macro avg       0.69      0.52      0.47      6263\n",
      "weighted avg       0.72      0.74      0.65      6263\n",
      "\n",
      "Feature 4: love\n",
      "              precision    recall  f1-score   support\n",
      "\n",
      "           0       0.90      0.97      0.94      5454\n",
      "           1       0.61      0.29      0.39       809\n",
      "\n",
      "    accuracy                           0.88      6263\n",
      "   macro avg       0.76      0.63      0.66      6263\n",
      "weighted avg       0.86      0.88      0.87      6263\n",
      "\n",
      "Feature 5: happiness\n",
      "              precision    recall  f1-score   support\n",
      "\n",
      "           0       0.84      0.99      0.91      5229\n",
      "           1       0.52      0.05      0.09      1034\n",
      "\n",
      "    accuracy                           0.84      6263\n",
      "   macro avg       0.68      0.52      0.50      6263\n",
      "weighted avg       0.79      0.84      0.77      6263\n",
      "\n",
      "Total Accuracy : 0.8029\n"
     ]
    }
   ],
   "source": [
    "pipeline_boosting = Pipeline([(\"vect\",CountVectorizer(tokenizer=tokenize)),\n",
    "          (\"tfidf\",TfidfTransformer()),\n",
    "          ('clf', MultiOutputClassifier(GradientBoostingClassifier()))])\n",
    "pipeline_boosting.fit(X_train,y_train)\n",
    "# predict on test data\n",
    "y_pred = pipeline_boosting.predict(X_test)\n",
    "## display accuracy\n",
    "accuracy_report(y_test,y_pred)"
   ]
  },
  {
   "cell_type": "markdown",
   "id": "ecc79b17",
   "metadata": {},
   "source": [
    "## Bagging"
   ]
  },
  {
   "cell_type": "code",
   "execution_count": 87,
   "id": "10e2adf8",
   "metadata": {},
   "outputs": [
    {
     "name": "stdout",
     "output_type": "stream",
     "text": [
      "Feature 1: sadness\n",
      "              precision    recall  f1-score   support\n",
      "\n",
      "           0       0.84      0.96      0.89      5156\n",
      "           1       0.42      0.15      0.22      1107\n",
      "\n",
      "    accuracy                           0.81      6263\n",
      "   macro avg       0.63      0.55      0.56      6263\n",
      "weighted avg       0.77      0.81      0.78      6263\n",
      "\n",
      "Feature 2: neutral\n",
      "              precision    recall  f1-score   support\n",
      "\n",
      "           0       0.78      0.88      0.83      4580\n",
      "           1       0.49      0.30      0.37      1683\n",
      "\n",
      "    accuracy                           0.73      6263\n",
      "   macro avg       0.63      0.59      0.60      6263\n",
      "weighted avg       0.70      0.73      0.71      6263\n",
      "\n",
      "Feature 3: worry\n",
      "              precision    recall  f1-score   support\n",
      "\n",
      "           0       0.76      0.89      0.82      4633\n",
      "           1       0.40      0.22      0.28      1630\n",
      "\n",
      "    accuracy                           0.71      6263\n",
      "   macro avg       0.58      0.55      0.55      6263\n",
      "weighted avg       0.67      0.71      0.68      6263\n",
      "\n",
      "Feature 4: love\n",
      "              precision    recall  f1-score   support\n",
      "\n",
      "           0       0.90      0.96      0.93      5454\n",
      "           1       0.52      0.29      0.38       809\n",
      "\n",
      "    accuracy                           0.87      6263\n",
      "   macro avg       0.71      0.63      0.65      6263\n",
      "weighted avg       0.85      0.87      0.86      6263\n",
      "\n",
      "Feature 5: happiness\n",
      "              precision    recall  f1-score   support\n",
      "\n",
      "           0       0.85      0.95      0.90      5229\n",
      "           1       0.36      0.15      0.21      1034\n",
      "\n",
      "    accuracy                           0.82      6263\n",
      "   macro avg       0.60      0.55      0.55      6263\n",
      "weighted avg       0.77      0.82      0.78      6263\n",
      "\n",
      "Total Accuracy : 0.7993\n"
     ]
    }
   ],
   "source": [
    "pipeline_bagging = Pipeline([(\"vect\",CountVectorizer(tokenizer=tokenize)),\n",
    "          (\"tfidf\",TfidfTransformer()),\n",
    "          ('clf', MultiOutputClassifier(BaggingClassifier()))])\n",
    "pipeline_bagging.fit(X_train,y_train)\n",
    "# predict on test data\n",
    "y_pred = pipeline_bagging.predict(X_test)\n",
    "## display accuracy\n",
    "accuracy_report(y_test,y_pred)"
   ]
  },
  {
   "cell_type": "markdown",
   "id": "d53992df",
   "metadata": {},
   "source": [
    "## ExtraTrees"
   ]
  },
  {
   "cell_type": "code",
   "execution_count": 88,
   "id": "b3236fdc",
   "metadata": {},
   "outputs": [
    {
     "name": "stdout",
     "output_type": "stream",
     "text": [
      "Feature 1: sadness\n",
      "              precision    recall  f1-score   support\n",
      "\n",
      "           0       0.83      0.98      0.90      5156\n",
      "           1       0.42      0.06      0.11      1107\n",
      "\n",
      "    accuracy                           0.82      6263\n",
      "   macro avg       0.63      0.52      0.51      6263\n",
      "weighted avg       0.76      0.82      0.76      6263\n",
      "\n",
      "Feature 2: neutral\n",
      "              precision    recall  f1-score   support\n",
      "\n",
      "           0       0.77      0.93      0.84      4580\n",
      "           1       0.54      0.22      0.32      1683\n",
      "\n",
      "    accuracy                           0.74      6263\n",
      "   macro avg       0.65      0.58      0.58      6263\n",
      "weighted avg       0.71      0.74      0.70      6263\n",
      "\n",
      "Feature 3: worry\n",
      "              precision    recall  f1-score   support\n",
      "\n",
      "           0       0.76      0.94      0.84      4633\n",
      "           1       0.45      0.13      0.21      1630\n",
      "\n",
      "    accuracy                           0.73      6263\n",
      "   macro avg       0.60      0.54      0.52      6263\n",
      "weighted avg       0.68      0.73      0.67      6263\n",
      "\n",
      "Feature 4: love\n",
      "              precision    recall  f1-score   support\n",
      "\n",
      "           0       0.89      0.98      0.93      5454\n",
      "           1       0.55      0.20      0.30       809\n",
      "\n",
      "    accuracy                           0.88      6263\n",
      "   macro avg       0.72      0.59      0.61      6263\n",
      "weighted avg       0.85      0.88      0.85      6263\n",
      "\n",
      "Feature 5: happiness\n",
      "              precision    recall  f1-score   support\n",
      "\n",
      "           0       0.84      0.98      0.90      5229\n",
      "           1       0.35      0.06      0.11      1034\n",
      "\n",
      "    accuracy                           0.83      6263\n",
      "   macro avg       0.60      0.52      0.51      6263\n",
      "weighted avg       0.76      0.83      0.77      6263\n",
      "\n",
      "Total Accuracy : 0.7992\n"
     ]
    }
   ],
   "source": [
    "pipeline_extratrees = Pipeline([(\"vect\",CountVectorizer(tokenizer=tokenize)),\n",
    "          (\"tfidf\",TfidfTransformer()),\n",
    "          ('clf', MultiOutputClassifier(ExtraTreesClassifier()))])\n",
    "pipeline_extratrees.fit(X_train,y_train)\n",
    "# predict on test data\n",
    "y_pred = pipeline_extratrees.predict(X_test)\n",
    "## display accuracy\n",
    "accuracy_report(y_test,y_pred)"
   ]
  },
  {
   "cell_type": "markdown",
   "id": "5b118ae5",
   "metadata": {},
   "source": [
    "## Decision Tree"
   ]
  },
  {
   "cell_type": "code",
   "execution_count": 89,
   "id": "cfc4bb96",
   "metadata": {},
   "outputs": [
    {
     "name": "stdout",
     "output_type": "stream",
     "text": [
      "Feature 1: sadness\n",
      "              precision    recall  f1-score   support\n",
      "\n",
      "           0       0.85      0.89      0.87      5156\n",
      "           1       0.32      0.24      0.28      1107\n",
      "\n",
      "    accuracy                           0.78      6263\n",
      "   macro avg       0.59      0.57      0.57      6263\n",
      "weighted avg       0.75      0.78      0.76      6263\n",
      "\n",
      "Feature 2: neutral\n",
      "              precision    recall  f1-score   support\n",
      "\n",
      "           0       0.77      0.82      0.79      4580\n",
      "           1       0.39      0.33      0.36      1683\n",
      "\n",
      "    accuracy                           0.68      6263\n",
      "   macro avg       0.58      0.57      0.57      6263\n",
      "weighted avg       0.67      0.68      0.67      6263\n",
      "\n",
      "Feature 3: worry\n",
      "              precision    recall  f1-score   support\n",
      "\n",
      "           0       0.77      0.79      0.78      4633\n",
      "           1       0.36      0.33      0.34      1630\n",
      "\n",
      "    accuracy                           0.67      6263\n",
      "   macro avg       0.56      0.56      0.56      6263\n",
      "weighted avg       0.66      0.67      0.67      6263\n",
      "\n",
      "Feature 4: love\n",
      "              precision    recall  f1-score   support\n",
      "\n",
      "           0       0.90      0.92      0.91      5454\n",
      "           1       0.37      0.32      0.34       809\n",
      "\n",
      "    accuracy                           0.84      6263\n",
      "   macro avg       0.63      0.62      0.63      6263\n",
      "weighted avg       0.83      0.84      0.84      6263\n",
      "\n",
      "Feature 5: happiness\n",
      "              precision    recall  f1-score   support\n",
      "\n",
      "           0       0.86      0.88      0.87      5229\n",
      "           1       0.30      0.26      0.28      1034\n",
      "\n",
      "    accuracy                           0.78      6263\n",
      "   macro avg       0.58      0.57      0.57      6263\n",
      "weighted avg       0.76      0.78      0.77      6263\n",
      "\n",
      "Total Accuracy : 0.7910\n"
     ]
    }
   ],
   "source": [
    "pipeline_DT = Pipeline([(\"vect\",CountVectorizer(tokenizer=tokenize)),\n",
    "          (\"tfidf\",TfidfTransformer()),\n",
    "          (\"clf\",MultiOutputClassifier(DecisionTreeClassifier()))])\n",
    "pipeline_DT.fit(X_train,y_train)\n",
    "# predict on test data\n",
    "y_pred = pipeline_DT.predict(X_test)\n",
    "## display accuracy\n",
    "accuracy_report(y_test,y_pred)"
   ]
  },
  {
   "cell_type": "markdown",
   "id": "c8029c32",
   "metadata": {},
   "source": [
    "## Naive Bayes"
   ]
  },
  {
   "cell_type": "code",
   "execution_count": 90,
   "id": "b73f974a",
   "metadata": {},
   "outputs": [
    {
     "name": "stdout",
     "output_type": "stream",
     "text": [
      "Feature 1: sadness\n",
      "              precision    recall  f1-score   support\n",
      "\n",
      "           0       0.82      1.00      0.90      5156\n",
      "           1       0.00      0.00      0.00      1107\n",
      "\n",
      "    accuracy                           0.82      6263\n",
      "   macro avg       0.41      0.50      0.45      6263\n",
      "weighted avg       0.68      0.82      0.74      6263\n",
      "\n",
      "Feature 2: neutral\n",
      "              precision    recall  f1-score   support\n",
      "\n",
      "           0       0.73      1.00      0.84      4580\n",
      "           1       0.62      0.00      0.01      1683\n",
      "\n",
      "    accuracy                           0.73      6263\n",
      "   macro avg       0.67      0.50      0.43      6263\n",
      "weighted avg       0.70      0.73      0.62      6263\n",
      "\n",
      "Feature 3: worry\n",
      "              precision    recall  f1-score   support\n",
      "\n",
      "           0       0.74      1.00      0.85      4633\n",
      "           1       0.58      0.01      0.03      1630\n",
      "\n",
      "    accuracy                           0.74      6263\n",
      "   macro avg       0.66      0.51      0.44      6263\n",
      "weighted avg       0.70      0.74      0.64      6263\n",
      "\n",
      "Feature 4: love\n",
      "              precision    recall  f1-score   support\n",
      "\n",
      "           0       0.87      1.00      0.93      5454\n",
      "           1       0.00      0.00      0.00       809\n",
      "\n",
      "    accuracy                           0.87      6263\n",
      "   macro avg       0.44      0.50      0.47      6263\n",
      "weighted avg       0.76      0.87      0.81      6263\n",
      "\n",
      "Feature 5: happiness\n",
      "              precision    recall  f1-score   support\n",
      "\n",
      "           0       0.83      1.00      0.91      5229\n",
      "           1       0.00      0.00      0.00      1034\n",
      "\n",
      "    accuracy                           0.83      6263\n",
      "   macro avg       0.42      0.50      0.45      6263\n",
      "weighted avg       0.70      0.83      0.76      6263\n",
      "\n",
      "Total Accuracy : 0.7923\n"
     ]
    },
    {
     "name": "stderr",
     "output_type": "stream",
     "text": [
      "C:\\Users\\Ahmad Abd Elhameed\\Anaconda3\\envs\\nlp\\lib\\site-packages\\sklearn\\metrics\\_classification.py:1248: UndefinedMetricWarning: Precision and F-score are ill-defined and being set to 0.0 in labels with no predicted samples. Use `zero_division` parameter to control this behavior.\n",
      "  _warn_prf(average, modifier, msg_start, len(result))\n",
      "C:\\Users\\Ahmad Abd Elhameed\\Anaconda3\\envs\\nlp\\lib\\site-packages\\sklearn\\metrics\\_classification.py:1248: UndefinedMetricWarning: Precision and F-score are ill-defined and being set to 0.0 in labels with no predicted samples. Use `zero_division` parameter to control this behavior.\n",
      "  _warn_prf(average, modifier, msg_start, len(result))\n",
      "C:\\Users\\Ahmad Abd Elhameed\\Anaconda3\\envs\\nlp\\lib\\site-packages\\sklearn\\metrics\\_classification.py:1248: UndefinedMetricWarning: Precision and F-score are ill-defined and being set to 0.0 in labels with no predicted samples. Use `zero_division` parameter to control this behavior.\n",
      "  _warn_prf(average, modifier, msg_start, len(result))\n"
     ]
    }
   ],
   "source": [
    "pipeline_NV = Pipeline([(\"vect\",CountVectorizer(tokenizer=tokenize)),\n",
    "          (\"tfidf\",TfidfTransformer()),\n",
    "          (\"clf\",MultiOutputClassifier(MultinomialNB()))])\n",
    "pipeline_NV.fit(X_train,y_train)\n",
    "# predict on test data\n",
    "y_pred = pipeline_NV.predict(X_test)\n",
    "## display accuracy\n",
    "accuracy_report(y_test,y_pred)"
   ]
  },
  {
   "cell_type": "code",
   "execution_count": null,
   "id": "dbb1417c",
   "metadata": {},
   "outputs": [],
   "source": []
  }
 ],
 "metadata": {
  "kernelspec": {
   "display_name": "Python 3",
   "language": "python",
   "name": "python3"
  },
  "language_info": {
   "codemirror_mode": {
    "name": "ipython",
    "version": 3
   },
   "file_extension": ".py",
   "mimetype": "text/x-python",
   "name": "python",
   "nbconvert_exporter": "python",
   "pygments_lexer": "ipython3",
   "version": "3.6.9"
  }
 },
 "nbformat": 4,
 "nbformat_minor": 5
}
