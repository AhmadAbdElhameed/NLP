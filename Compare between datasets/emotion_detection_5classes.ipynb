{
 "cells": [
  {
   "cell_type": "code",
   "execution_count": 2,
   "id": "4f1342ef",
   "metadata": {},
   "outputs": [],
   "source": [
    "from mpl_toolkits.mplot3d import Axes3D\n",
    "from sklearn.preprocessing import StandardScaler\n",
    "import matplotlib.pyplot as plt # plotting\n",
    "from wordcloud import WordCloud, STOPWORDS\n",
    "from collections import defaultdict\n",
    "import numpy as np # linear algebra\n",
    "import os # accessing directory structure\n",
    "import pandas as pd # data processing, CSV file I/O (e.g. pd.read_csv)\n",
    "import seaborn as sns\n",
    "import warnings\n",
    "warnings.filterwarnings('ignore')"
   ]
  },
  {
   "cell_type": "code",
   "execution_count": 3,
   "id": "963b79b0",
   "metadata": {},
   "outputs": [
    {
     "data": {
      "text/plain": [
       "['.ipynb_checkpoints',\n",
       " 'Emotion Detection from Text.zip',\n",
       " 'text_emotion.csv',\n",
       " 'text_emotion.csv.zip',\n",
       " 'tweet_emotions.csv',\n",
       " 'Untitled.ipynb']"
      ]
     },
     "execution_count": 3,
     "metadata": {},
     "output_type": "execute_result"
    }
   ],
   "source": [
    "os.listdir()"
   ]
  },
  {
   "cell_type": "code",
   "execution_count": 4,
   "id": "800aa491",
   "metadata": {},
   "outputs": [
    {
     "data": {
      "text/html": [
       "<div>\n",
       "<style scoped>\n",
       "    .dataframe tbody tr th:only-of-type {\n",
       "        vertical-align: middle;\n",
       "    }\n",
       "\n",
       "    .dataframe tbody tr th {\n",
       "        vertical-align: top;\n",
       "    }\n",
       "\n",
       "    .dataframe thead th {\n",
       "        text-align: right;\n",
       "    }\n",
       "</style>\n",
       "<table border=\"1\" class=\"dataframe\">\n",
       "  <thead>\n",
       "    <tr style=\"text-align: right;\">\n",
       "      <th></th>\n",
       "      <th>tweet_id</th>\n",
       "      <th>sentiment</th>\n",
       "      <th>content</th>\n",
       "    </tr>\n",
       "  </thead>\n",
       "  <tbody>\n",
       "    <tr>\n",
       "      <th>0</th>\n",
       "      <td>1956967341</td>\n",
       "      <td>empty</td>\n",
       "      <td>@tiffanylue i know  i was listenin to bad habi...</td>\n",
       "    </tr>\n",
       "    <tr>\n",
       "      <th>1</th>\n",
       "      <td>1956967666</td>\n",
       "      <td>sadness</td>\n",
       "      <td>Layin n bed with a headache  ughhhh...waitin o...</td>\n",
       "    </tr>\n",
       "    <tr>\n",
       "      <th>2</th>\n",
       "      <td>1956967696</td>\n",
       "      <td>sadness</td>\n",
       "      <td>Funeral ceremony...gloomy friday...</td>\n",
       "    </tr>\n",
       "    <tr>\n",
       "      <th>3</th>\n",
       "      <td>1956967789</td>\n",
       "      <td>enthusiasm</td>\n",
       "      <td>wants to hang out with friends SOON!</td>\n",
       "    </tr>\n",
       "    <tr>\n",
       "      <th>4</th>\n",
       "      <td>1956968416</td>\n",
       "      <td>neutral</td>\n",
       "      <td>@dannycastillo We want to trade with someone w...</td>\n",
       "    </tr>\n",
       "    <tr>\n",
       "      <th>5</th>\n",
       "      <td>1956968477</td>\n",
       "      <td>worry</td>\n",
       "      <td>Re-pinging @ghostridah14: why didn't you go to...</td>\n",
       "    </tr>\n",
       "    <tr>\n",
       "      <th>6</th>\n",
       "      <td>1956968487</td>\n",
       "      <td>sadness</td>\n",
       "      <td>I should be sleep, but im not! thinking about ...</td>\n",
       "    </tr>\n",
       "    <tr>\n",
       "      <th>7</th>\n",
       "      <td>1956968636</td>\n",
       "      <td>worry</td>\n",
       "      <td>Hmmm. http://www.djhero.com/ is down</td>\n",
       "    </tr>\n",
       "    <tr>\n",
       "      <th>8</th>\n",
       "      <td>1956969035</td>\n",
       "      <td>sadness</td>\n",
       "      <td>@charviray Charlene my love. I miss you</td>\n",
       "    </tr>\n",
       "    <tr>\n",
       "      <th>9</th>\n",
       "      <td>1956969172</td>\n",
       "      <td>sadness</td>\n",
       "      <td>@kelcouch I'm sorry  at least it's Friday?</td>\n",
       "    </tr>\n",
       "  </tbody>\n",
       "</table>\n",
       "</div>"
      ],
      "text/plain": [
       "     tweet_id   sentiment                                            content\n",
       "0  1956967341       empty  @tiffanylue i know  i was listenin to bad habi...\n",
       "1  1956967666     sadness  Layin n bed with a headache  ughhhh...waitin o...\n",
       "2  1956967696     sadness                Funeral ceremony...gloomy friday...\n",
       "3  1956967789  enthusiasm               wants to hang out with friends SOON!\n",
       "4  1956968416     neutral  @dannycastillo We want to trade with someone w...\n",
       "5  1956968477       worry  Re-pinging @ghostridah14: why didn't you go to...\n",
       "6  1956968487     sadness  I should be sleep, but im not! thinking about ...\n",
       "7  1956968636       worry               Hmmm. http://www.djhero.com/ is down\n",
       "8  1956969035     sadness            @charviray Charlene my love. I miss you\n",
       "9  1956969172     sadness         @kelcouch I'm sorry  at least it's Friday?"
      ]
     },
     "execution_count": 4,
     "metadata": {},
     "output_type": "execute_result"
    }
   ],
   "source": [
    "df = pd.read_csv('tweet_emotions.csv', delimiter=',')\n",
    "df.head(10)"
   ]
  },
  {
   "cell_type": "code",
   "execution_count": 5,
   "id": "ba6f5870",
   "metadata": {},
   "outputs": [
    {
     "data": {
      "text/plain": [
       "array(['empty', 'sadness', 'enthusiasm', 'neutral', 'worry', 'surprise',\n",
       "       'love', 'fun', 'hate', 'happiness', 'boredom', 'relief', 'anger'],\n",
       "      dtype=object)"
      ]
     },
     "execution_count": 5,
     "metadata": {},
     "output_type": "execute_result"
    }
   ],
   "source": [
    "df.sentiment.unique()"
   ]
  },
  {
   "cell_type": "code",
   "execution_count": 6,
   "id": "28d13a58",
   "metadata": {},
   "outputs": [
    {
     "data": {
      "text/plain": [
       "13"
      ]
     },
     "execution_count": 6,
     "metadata": {},
     "output_type": "execute_result"
    }
   ],
   "source": [
    "df.sentiment.nunique()"
   ]
  },
  {
   "cell_type": "markdown",
   "id": "4dc60812",
   "metadata": {},
   "source": [
    "## There Are 13 classes"
   ]
  },
  {
   "cell_type": "code",
   "execution_count": 8,
   "id": "6792f1ab",
   "metadata": {},
   "outputs": [],
   "source": [
    "def basic_eda(df, row_limit=5, list_elements_limit=10):\n",
    "    ### rows and columns\n",
    "    print('Info : There are {} columns in the dataset'.format(df.shape[1]))\n",
    "    print('Info : There are {} rows in the dataset'.format(df.shape[0]))\n",
    "    \n",
    "    print(\"==================================================\")\n",
    "    \n",
    "    ## data types\n",
    "    print(\"\\nData type information of different columns\")\n",
    "    dtypes_df = pd.DataFrame(df.dtypes).reset_index().rename(columns={0:'dtype', 'index':'column_name'})\n",
    "    cat_df = dtypes_df[dtypes_df['dtype']=='object']\n",
    "    num_df = dtypes_df[dtypes_df['dtype']!='object']\n",
    "    print('Info : There are {} categorical columns'.format(len(cat_df)))\n",
    "    print('Info : There are {} numerical columns'.format(len(dtypes_df)-len(cat_df)))\n",
    "    \n",
    "    if list_elements_limit >= len(cat_df):\n",
    "        print(\"Categorical columns : \", list(cat_df['column_name']))\n",
    "    else:\n",
    "        print(\"Categorical columns : \", list(cat_df['column_name'])[:list_elements_limit])\n",
    "        \n",
    "    if list_elements_limit >= len(num_df):\n",
    "        print(\"Numerical columns : \", list(num_df['column_name']))\n",
    "    else:\n",
    "        print(\"Numerical columns : \", list(num_df['column_name'])[:list_elements_limit])\n",
    "    \n",
    "    #dtypes_df['dtype'].value_counts().plot.bar()\n",
    "    display(dtypes_df.head(row_limit))\n",
    "    \n",
    "    print(\"==================================================\")\n",
    "    print(\"\\nDescription of numerical variables\")\n",
    "    \n",
    "    #### Describibg numerical columns\n",
    "    desc_df_num = df[list(num_df['column_name'])].describe().T.reset_index().rename(columns={'index':'column_name'})\n",
    "    display(desc_df_num.head(row_limit))\n",
    "    \n",
    "    print(\"==================================================\")\n",
    "    print(\"\\nDescription of categorical variables\")\n",
    "    \n",
    "    desc_df_cat = df[list(cat_df['column_name'])].describe().T.reset_index().rename(columns={'index':'column_name'})\n",
    "    display(desc_df_cat.head(row_limit))\n",
    "    \n",
    "    return"
   ]
  },
  {
   "cell_type": "code",
   "execution_count": 9,
   "id": "71caffb8",
   "metadata": {},
   "outputs": [
    {
     "name": "stdout",
     "output_type": "stream",
     "text": [
      "Info : There are 3 columns in the dataset\n",
      "Info : There are 40000 rows in the dataset\n",
      "==================================================\n",
      "\n",
      "Data type information of different columns\n",
      "Info : There are 2 categorical columns\n",
      "Info : There are 1 numerical columns\n",
      "Categorical columns :  ['sentiment', 'content']\n",
      "Numerical columns :  ['tweet_id']\n"
     ]
    },
    {
     "data": {
      "text/html": [
       "<div>\n",
       "<style scoped>\n",
       "    .dataframe tbody tr th:only-of-type {\n",
       "        vertical-align: middle;\n",
       "    }\n",
       "\n",
       "    .dataframe tbody tr th {\n",
       "        vertical-align: top;\n",
       "    }\n",
       "\n",
       "    .dataframe thead th {\n",
       "        text-align: right;\n",
       "    }\n",
       "</style>\n",
       "<table border=\"1\" class=\"dataframe\">\n",
       "  <thead>\n",
       "    <tr style=\"text-align: right;\">\n",
       "      <th></th>\n",
       "      <th>column_name</th>\n",
       "      <th>dtype</th>\n",
       "    </tr>\n",
       "  </thead>\n",
       "  <tbody>\n",
       "    <tr>\n",
       "      <th>0</th>\n",
       "      <td>tweet_id</td>\n",
       "      <td>int64</td>\n",
       "    </tr>\n",
       "    <tr>\n",
       "      <th>1</th>\n",
       "      <td>sentiment</td>\n",
       "      <td>object</td>\n",
       "    </tr>\n",
       "    <tr>\n",
       "      <th>2</th>\n",
       "      <td>content</td>\n",
       "      <td>object</td>\n",
       "    </tr>\n",
       "  </tbody>\n",
       "</table>\n",
       "</div>"
      ],
      "text/plain": [
       "  column_name   dtype\n",
       "0    tweet_id   int64\n",
       "1   sentiment  object\n",
       "2     content  object"
      ]
     },
     "metadata": {},
     "output_type": "display_data"
    },
    {
     "name": "stdout",
     "output_type": "stream",
     "text": [
      "==================================================\n",
      "\n",
      "Description of numerical variables\n"
     ]
    },
    {
     "data": {
      "text/html": [
       "<div>\n",
       "<style scoped>\n",
       "    .dataframe tbody tr th:only-of-type {\n",
       "        vertical-align: middle;\n",
       "    }\n",
       "\n",
       "    .dataframe tbody tr th {\n",
       "        vertical-align: top;\n",
       "    }\n",
       "\n",
       "    .dataframe thead th {\n",
       "        text-align: right;\n",
       "    }\n",
       "</style>\n",
       "<table border=\"1\" class=\"dataframe\">\n",
       "  <thead>\n",
       "    <tr style=\"text-align: right;\">\n",
       "      <th></th>\n",
       "      <th>column_name</th>\n",
       "      <th>count</th>\n",
       "      <th>mean</th>\n",
       "      <th>std</th>\n",
       "      <th>min</th>\n",
       "      <th>25%</th>\n",
       "      <th>50%</th>\n",
       "      <th>75%</th>\n",
       "      <th>max</th>\n",
       "    </tr>\n",
       "  </thead>\n",
       "  <tbody>\n",
       "    <tr>\n",
       "      <th>0</th>\n",
       "      <td>tweet_id</td>\n",
       "      <td>40000.0</td>\n",
       "      <td>1.845184e+09</td>\n",
       "      <td>1.188579e+08</td>\n",
       "      <td>1.693956e+09</td>\n",
       "      <td>1.751431e+09</td>\n",
       "      <td>1.855443e+09</td>\n",
       "      <td>1.962781e+09</td>\n",
       "      <td>1.966441e+09</td>\n",
       "    </tr>\n",
       "  </tbody>\n",
       "</table>\n",
       "</div>"
      ],
      "text/plain": [
       "  column_name    count          mean           std           min  \\\n",
       "0    tweet_id  40000.0  1.845184e+09  1.188579e+08  1.693956e+09   \n",
       "\n",
       "            25%           50%           75%           max  \n",
       "0  1.751431e+09  1.855443e+09  1.962781e+09  1.966441e+09  "
      ]
     },
     "metadata": {},
     "output_type": "display_data"
    },
    {
     "name": "stdout",
     "output_type": "stream",
     "text": [
      "==================================================\n",
      "\n",
      "Description of categorical variables\n"
     ]
    },
    {
     "data": {
      "text/html": [
       "<div>\n",
       "<style scoped>\n",
       "    .dataframe tbody tr th:only-of-type {\n",
       "        vertical-align: middle;\n",
       "    }\n",
       "\n",
       "    .dataframe tbody tr th {\n",
       "        vertical-align: top;\n",
       "    }\n",
       "\n",
       "    .dataframe thead th {\n",
       "        text-align: right;\n",
       "    }\n",
       "</style>\n",
       "<table border=\"1\" class=\"dataframe\">\n",
       "  <thead>\n",
       "    <tr style=\"text-align: right;\">\n",
       "      <th></th>\n",
       "      <th>column_name</th>\n",
       "      <th>count</th>\n",
       "      <th>unique</th>\n",
       "      <th>top</th>\n",
       "      <th>freq</th>\n",
       "    </tr>\n",
       "  </thead>\n",
       "  <tbody>\n",
       "    <tr>\n",
       "      <th>0</th>\n",
       "      <td>sentiment</td>\n",
       "      <td>40000</td>\n",
       "      <td>13</td>\n",
       "      <td>neutral</td>\n",
       "      <td>8638</td>\n",
       "    </tr>\n",
       "    <tr>\n",
       "      <th>1</th>\n",
       "      <td>content</td>\n",
       "      <td>40000</td>\n",
       "      <td>39827</td>\n",
       "      <td>I just received a mothers day card from my lov...</td>\n",
       "      <td>14</td>\n",
       "    </tr>\n",
       "  </tbody>\n",
       "</table>\n",
       "</div>"
      ],
      "text/plain": [
       "  column_name  count unique  \\\n",
       "0   sentiment  40000     13   \n",
       "1     content  40000  39827   \n",
       "\n",
       "                                                 top  freq  \n",
       "0                                            neutral  8638  \n",
       "1  I just received a mothers day card from my lov...    14  "
      ]
     },
     "metadata": {},
     "output_type": "display_data"
    }
   ],
   "source": [
    "basic_eda(df)"
   ]
  },
  {
   "cell_type": "code",
   "execution_count": 10,
   "id": "e3555023",
   "metadata": {},
   "outputs": [
    {
     "data": {
      "image/png": "[encoded data removed]",
      "text/plain": [
       "<Figure size 864x576 with 2 Axes>"
      ]
     },
     "metadata": {
      "needs_background": "light"
     },
     "output_type": "display_data"
    }
   ],
   "source": [
    "col = 'sentiment'\n",
    "fig, (ax1, ax2)  = plt.subplots(nrows=1, ncols=2, figsize=(12,8))\n",
    "explode = list((np.array(list(df[col].dropna().value_counts()))/sum(list(df[col].dropna().value_counts())))[::-1])[:10]\n",
    "labels = list(df[col].dropna().unique())[:10]\n",
    "sizes = df[col].value_counts()[:10]\n",
    "ax2.pie(sizes,  explode=explode, startangle=60, labels=labels,autopct='%1.0f%%', pctdistance=0.9)\n",
    "ax2.add_artist(plt.Circle((0,0),0.6,fc='white'))\n",
    "sns.countplot(y =col, data = df, ax=ax1)\n",
    "ax1.set_title(\"Count of each emotion\")\n",
    "ax2.set_title(\"Percentage of each emotion\")\n",
    "plt.show()"
   ]
  },
  {
   "cell_type": "markdown",
   "id": "8d20d1de",
   "metadata": {},
   "source": [
    "### We can see that there are 13 different classes and some of the are having very few examples. (i.e. Anger, Boredom, Empty etc...). This is a very imbalanced dataset and it will not allow the model to converge. We'll reduce the number of classes."
   ]
  },
  {
   "cell_type": "code",
   "execution_count": 11,
   "id": "625cf8dd",
   "metadata": {},
   "outputs": [],
   "source": [
    "df['sentiment'] = df['sentiment'].apply(lambda x : x if x in ['happiness', 'sadness', 'worry', 'neutral', 'love'] else \"other\") "
   ]
  },
  {
   "cell_type": "code",
   "execution_count": 12,
   "id": "829840db",
   "metadata": {},
   "outputs": [
    {
     "data": {
      "image/png": "[encoded data removed]",
      "text/plain": [
       "<Figure size 864x576 with 2 Axes>"
      ]
     },
     "metadata": {
      "needs_background": "light"
     },
     "output_type": "display_data"
    }
   ],
   "source": [
    "col = 'sentiment'\n",
    "fig, (ax1, ax2)  = plt.subplots(nrows=1, ncols=2, figsize=(12,8))\n",
    "explode = list((np.array(list(df[col].dropna().value_counts()))/sum(list(df[col].dropna().value_counts())))[::-1])[:10]\n",
    "labels = list(df[col].dropna().unique())[:10]\n",
    "sizes = df[col].value_counts()[:10]\n",
    "#ax.pie(sizes, explode=explode, colors=bo, startangle=60, labels=labels,autopct='%1.0f%%', pctdistance=0.9)\n",
    "ax2.pie(sizes,  explode=explode, startangle=60, labels=labels,autopct='%1.0f%%', pctdistance=0.9)\n",
    "ax2.add_artist(plt.Circle((0,0),0.6,fc='white'))\n",
    "sns.countplot(y =col, data = df, ax=ax1)\n",
    "ax1.set_title(\"Count of each emotion\")\n",
    "ax2.set_title(\"Percentage of each emotion\")\n",
    "plt.show()"
   ]
  },
  {
   "cell_type": "code",
   "execution_count": 13,
   "id": "d9fa1fb5",
   "metadata": {},
   "outputs": [],
   "source": [
    "df['char_length'] = df['content'].apply(lambda x : len(x))\n",
    "df['token_length'] = df['content'].apply(lambda x : len(x.split(\" \")))"
   ]
  },
  {
   "cell_type": "markdown",
   "id": "ddc86224",
   "metadata": {},
   "source": [
    "### Distribution of character length and token length overall"
   ]
  },
  {
   "cell_type": "code",
   "execution_count": 14,
   "id": "24defe6b",
   "metadata": {},
   "outputs": [
    {
     "data": {
      "image/png": "[encoded data removed]",
      "text/plain": [
       "<Figure size 864x432 with 2 Axes>"
      ]
     },
     "metadata": {
      "needs_background": "light"
     },
     "output_type": "display_data"
    }
   ],
   "source": [
    "fig, (ax1, ax2)  = plt.subplots(nrows=1, ncols=2, figsize=(12,6))\n",
    "sns.distplot(df['char_length'], ax=ax1)\n",
    "sns.distplot(df['token_length'], ax=ax2)\n",
    "ax1.set_title('Number of characters in the tweet')\n",
    "ax2.set_title('Number of token(words) in the tweet')\n",
    "plt.show()"
   ]
  },
  {
   "cell_type": "markdown",
   "id": "317f8674",
   "metadata": {},
   "source": [
    "### Distribution of character length sentiment-wise [Top 5 sentiments]"
   ]
  },
  {
   "cell_type": "code",
   "execution_count": 15,
   "id": "f0b776f2",
   "metadata": {},
   "outputs": [
    {
     "data": {
      "image/png": "[encoded data removed]",
      "text/plain": [
       "<Figure size 1152x576 with 1 Axes>"
      ]
     },
     "metadata": {
      "needs_background": "light"
     },
     "output_type": "display_data"
    }
   ],
   "source": [
    "fig, ax = plt.subplots(figsize=(16,8))\n",
    "for sentiment in df['sentiment'].value_counts().sort_values()[-5:].index.tolist():\n",
    "    #print(sentiment)\n",
    "    sns.kdeplot(df[df['sentiment']==sentiment]['char_length'],ax=ax, label=sentiment)\n",
    "ax.legend()\n",
    "ax.set_title(\"Distribution of character length sentiment-wise [Top 5 sentiments]\")\n",
    "plt.show()"
   ]
  },
  {
   "cell_type": "markdown",
   "id": "0929a855",
   "metadata": {},
   "source": [
    "### Distribution of token length sentiment-wise [Top 5 sentiments]"
   ]
  },
  {
   "cell_type": "code",
   "execution_count": 16,
   "id": "22ef71bc",
   "metadata": {},
   "outputs": [
    {
     "data": {
      "image/png": "[encoded data removed]",
      "text/plain": [
       "<Figure size 576x432 with 1 Axes>"
      ]
     },
     "metadata": {
      "needs_background": "light"
     },
     "output_type": "display_data"
    }
   ],
   "source": [
    "fig, ax = plt.subplots(figsize=(8,6))\n",
    "for sentiment in df['sentiment'].value_counts().sort_values()[-5:].index.tolist():\n",
    "    #print(sentiment)\n",
    "    sns.kdeplot(df[df['sentiment']==sentiment]['token_length'],ax=ax, label=sentiment)\n",
    "ax.legend()\n",
    "ax.set_title(\"Distribution of token length sentiment-wise [Top 5 sentiments]\")\n",
    "plt.show()"
   ]
  },
  {
   "cell_type": "markdown",
   "id": "fa20c64e",
   "metadata": {},
   "source": [
    "### Let's look at the most common character and token length"
   ]
  },
  {
   "cell_type": "code",
   "execution_count": 17,
   "id": "dc5b9fef",
   "metadata": {},
   "outputs": [],
   "source": [
    "avg_df = df.groupby('sentiment').agg({'char_length':'mean', 'token_length':'mean'})"
   ]
  },
  {
   "cell_type": "code",
   "execution_count": 18,
   "id": "66b7cee6",
   "metadata": {},
   "outputs": [
    {
     "data": {
      "image/png": "[encoded data removed]",
      "text/plain": [
       "<Figure size 1152x432 with 2 Axes>"
      ]
     },
     "metadata": {
      "needs_background": "light"
     },
     "output_type": "display_data"
    }
   ],
   "source": [
    "fig, (ax1, ax2)  = plt.subplots(nrows=1, ncols=2, figsize=(16,6))\n",
    "ax1.bar(avg_df.index, avg_df['char_length'])\n",
    "ax2.bar(avg_df.index, avg_df['token_length'], color='green')\n",
    "ax1.set_title('Avg number of characters')\n",
    "ax2.set_title('Avg number of token(words)')\n",
    "ax1.set_xticklabels(avg_df.index, rotation = 45)\n",
    "ax2.set_xticklabels(avg_df.index, rotation = 45)\n",
    "plt.show()"
   ]
  },
  {
   "cell_type": "markdown",
   "id": "6db9ef98",
   "metadata": {},
   "source": [
    "### Observations\n",
    "\n",
    "- There are 13 different emotions.\n",
    "- \"Neurtal\" and \"Worry\" are the most frequent emotions in the dataset.\n",
    "- Most of the tweets have around 45 characters.\n",
    "- The most frequent token length is around 10.\n",
    "- people having \"empty\" and \"neutral\" emotion write smaller tweet."
   ]
  },
  {
   "cell_type": "code",
   "execution_count": 19,
   "id": "50f56e2b",
   "metadata": {},
   "outputs": [
    {
     "name": "stdout",
     "output_type": "stream",
     "text": [
      "Collecting inflect\n",
      "  Downloading https://files.pythonhosted.org/packages/4f/a8/031641ad73a1bd1a9932261a6193864556172b333dde263fed8b5a0940cf/inflect-5.3.0-py3-none-any.whl\n",
      "Installing collected packages: inflect\n",
      "Successfully installed inflect-5.3.0\n",
      "Collecting contractions\n",
      "  Downloading https://files.pythonhosted.org/packages/93/f4/0ec4a458e4368cc3be2c799411ecf0bc961930e566dadb9624563821b3a6/contractions-0.0.52-py2.py3-none-any.whl\n",
      "Collecting textsearch>=0.0.21\n",
      "  Downloading https://files.pythonhosted.org/packages/d3/fe/021d7d76961b5ceb9f8d022c4138461d83beff36c3938dc424586085e559/textsearch-0.0.21-py2.py3-none-any.whl\n",
      "Collecting pyahocorasick\n",
      "  Downloading https://files.pythonhosted.org/packages/7f/c2/eae730037ae1cbbfaa229d27030d1d5e34a1e41114b21447d1202ae9c220/pyahocorasick-1.4.2.tar.gz (321kB)\n",
      "Collecting anyascii\n",
      "  Downloading https://files.pythonhosted.org/packages/6d/7b/19437c9a5bd16e1bb3a5bf43f7655e341882befceae0122e43c8e2c21e1e/anyascii-0.3.0-py3-none-any.whl (284kB)\n",
      "Building wheels for collected packages: pyahocorasick\n",
      "  Building wheel for pyahocorasick (setup.py): started\n",
      "  Building wheel for pyahocorasick (setup.py): finished with status 'done'\n",
      "  Created wheel for pyahocorasick: filename=pyahocorasick-1.4.2-cp36-cp36m-win_amd64.whl size=43231 sha256=4469d612acf1368257cfcc4e91dcefa860268dc40dd9d483aefa9c847595ae7a\n",
      "  Stored in directory: C:\\Users\\Ahmad Abd Elhameed\\AppData\\Local\\pip\\Cache\\wheels\\3a\\03\\34\\77e3ece0bba8b86bfac88a79f923b36d805cad63caeba38842\n",
      "Successfully built pyahocorasick\n",
      "Installing collected packages: pyahocorasick, anyascii, textsearch, contractions\n",
      "Successfully installed anyascii-0.3.0 contractions-0.0.52 pyahocorasick-1.4.2 textsearch-0.0.21\n",
      "Collecting bs4\n",
      "  Downloading https://files.pythonhosted.org/packages/10/ed/7e8b97591f6f456174139ec089c769f89a94a1a4025fe967691de971f314/bs4-0.0.1.tar.gz\n",
      "Collecting beautifulsoup4\n",
      "  Downloading https://files.pythonhosted.org/packages/69/bf/f0f194d3379d3f3347478bd267f754fc68c11cbf2fe302a6ab69447b1417/beautifulsoup4-4.10.0-py3-none-any.whl (97kB)\n",
      "Collecting soupsieve>1.2\n",
      "  Downloading https://files.pythonhosted.org/packages/36/69/d82d04022f02733bf9a72bc3b96332d360c0c5307096d76f6bb7489f7e57/soupsieve-2.2.1-py3-none-any.whl\n",
      "Building wheels for collected packages: bs4\n",
      "  Building wheel for bs4 (setup.py): started\n",
      "  Building wheel for bs4 (setup.py): finished with status 'done'\n",
      "  Created wheel for bs4: filename=bs4-0.0.1-cp36-none-any.whl size=1273 sha256=fb06b354bc9202b3ff9cc944433ed6ca21826759cc07d1f886dee3c349570c49\n",
      "  Stored in directory: C:\\Users\\Ahmad Abd Elhameed\\AppData\\Local\\pip\\Cache\\wheels\\a0\\b0\\b2\\4f80b9456b87abedbc0bf2d52235414c3467d8889be38dd472\n",
      "Successfully built bs4\n",
      "Installing collected packages: soupsieve, beautifulsoup4, bs4\n",
      "Successfully installed beautifulsoup4-4.10.0 bs4-0.0.1 soupsieve-2.2.1\n"
     ]
    }
   ],
   "source": [
    "!pip install inflect\n",
    "!pip install contractions\n",
    "!pip install bs4"
   ]
  },
  {
   "cell_type": "code",
   "execution_count": 20,
   "id": "3fcf7f7b",
   "metadata": {},
   "outputs": [],
   "source": [
    "# Data preparation and text-preprocessing\n",
    "from sklearn.preprocessing import LabelEncoder\n",
    "from sklearn.model_selection import train_test_split\n",
    "import nltk\n",
    "import inflect\n",
    "import contractions\n",
    "from bs4 import BeautifulSoup\n",
    "import re, string, unicodedata\n",
    "from nltk import word_tokenize, sent_tokenize\n",
    "from nltk.corpus import stopwords\n",
    "from nltk.stem import LancasterStemmer, WordNetLemmatizer"
   ]
  },
  {
   "cell_type": "code",
   "execution_count": 21,
   "id": "49ee4cb4",
   "metadata": {},
   "outputs": [],
   "source": [
    "#### text preprocessing\n",
    "\n",
    "def text_preprocessing_platform(df, text_col, remove_stopwords=True):\n",
    "    \n",
    "    ## Define functions for individual steps\n",
    "    # First function is used to denoise text\n",
    "    def denoise_text(text):\n",
    "        # Strip html if any. For ex. removing <html>, <p> tags\n",
    "        soup = BeautifulSoup(text, \"html.parser\")\n",
    "        text = soup.get_text()\n",
    "        # Replace contractions in the text. For ex. didn't -> did not\n",
    "        text = contractions.fix(text)\n",
    "        return text\n",
    "    \n",
    "    ## Next step is text-normalization\n",
    "    \n",
    "    # Text normalization includes many steps.\n",
    "    \n",
    "    # Each function below serves a step.\n",
    "    \n",
    "    \n",
    "    def remove_non_ascii(words):\n",
    "        \"\"\"Remove non-ASCII characters from list of tokenized words\"\"\"\n",
    "        new_words = []\n",
    "        for word in words:\n",
    "            new_word = unicodedata.normalize('NFKD', word).encode('ascii', 'ignore').decode('utf-8', 'ignore')\n",
    "            new_words.append(new_word)\n",
    "        return new_words\n",
    "    \n",
    "    \n",
    "    def to_lowercase(words):\n",
    "        \"\"\"Convert all characters to lowercase from list of tokenized words\"\"\"\n",
    "        new_words = []\n",
    "        for word in words:\n",
    "            new_word = word.lower()\n",
    "            new_words.append(new_word)\n",
    "        return new_words\n",
    "    \n",
    "    \n",
    "    def remove_punctuation(words):\n",
    "        \"\"\"Remove punctuation from list of tokenized words\"\"\"\n",
    "        new_words = []\n",
    "        for word in words:\n",
    "            new_word = re.sub(r'[^\\w\\s]', '', word)\n",
    "            if new_word != '':\n",
    "                new_words.append(new_word)\n",
    "        return new_words\n",
    "    \n",
    "    \n",
    "    def replace_numbers(words):\n",
    "        \"\"\"Replace all interger occurrences in list of tokenized words with textual representation\"\"\"\n",
    "        p = inflect.engine()\n",
    "        new_words = []\n",
    "        for word in words:\n",
    "            if word.isdigit():\n",
    "                new_word = p.number_to_words(word)\n",
    "                new_words.append(new_word)\n",
    "            else:\n",
    "                new_words.append(word)\n",
    "        return new_words\n",
    "    \n",
    "    \n",
    "    def remove_stopwords(words):\n",
    "        \"\"\"Remove stop words from list of tokenized words\"\"\"\n",
    "        new_words = []\n",
    "        for word in words:\n",
    "            if word not in stopwords.words('english'):\n",
    "                new_words.append(word)\n",
    "        return new_words\n",
    "    \n",
    "    \n",
    "    def stem_words(words):\n",
    "        \"\"\"Stem words in list of tokenized words\"\"\"\n",
    "        stemmer = LancasterStemmer()\n",
    "        stems = []\n",
    "        for word in words:\n",
    "            stem = stemmer.stem(word)\n",
    "            stems.append(stem)\n",
    "        return stems\n",
    "    \n",
    "    \n",
    "    def lemmatize_verbs(words):\n",
    "        \"\"\"Lemmatize verbs in list of tokenized words\"\"\"\n",
    "        lemmatizer = WordNetLemmatizer()\n",
    "        lemmas = []\n",
    "        for word in words:\n",
    "            lemma = lemmatizer.lemmatize(word, pos='v')\n",
    "            lemmas.append(lemma)\n",
    "        return lemmas\n",
    "    \n",
    "    \n",
    "    ### A wrap-up function for normalization\n",
    "    def normalize_text(words, remove_stopwords):\n",
    "        words = remove_non_ascii(words)\n",
    "        words = to_lowercase(words)\n",
    "        words = remove_punctuation(words)\n",
    "        words = replace_numbers(words)\n",
    "        if remove_stopwords:\n",
    "            words = remove_stopwords(words)\n",
    "        #words = stem_words(words)\n",
    "        words = lemmatize_verbs(words)\n",
    "        return words\n",
    "    \n",
    "    # All above functions work on word tokens we need a tokenizer\n",
    "    \n",
    "    # Tokenize tweet into words\n",
    "    def tokenize(text):\n",
    "        return nltk.word_tokenize(text)\n",
    "    \n",
    "    \n",
    "    # A overall wrap-up function\n",
    "    def text_prepare(text):\n",
    "        text = denoise_text(text)\n",
    "        text = ' '.join([x for x in normalize_text(tokenize(text), remove_stopwords)])\n",
    "        return text\n",
    "    \n",
    "    # run every-step\n",
    "    df[text_col] = [text_prepare(x) for x in df[text_col]]\n",
    "    \n",
    "    \n",
    "    # return processed df\n",
    "    return df"
   ]
  },
  {
   "cell_type": "code",
   "execution_count": 22,
   "id": "e5ce307c",
   "metadata": {},
   "outputs": [
    {
     "name": "stdout",
     "output_type": "stream",
     "text": [
      "Before Text Preprocessing\n"
     ]
    },
    {
     "data": {
      "text/html": [
       "<div>\n",
       "<style scoped>\n",
       "    .dataframe tbody tr th:only-of-type {\n",
       "        vertical-align: middle;\n",
       "    }\n",
       "\n",
       "    .dataframe tbody tr th {\n",
       "        vertical-align: top;\n",
       "    }\n",
       "\n",
       "    .dataframe thead th {\n",
       "        text-align: right;\n",
       "    }\n",
       "</style>\n",
       "<table border=\"1\" class=\"dataframe\">\n",
       "  <thead>\n",
       "    <tr style=\"text-align: right;\">\n",
       "      <th></th>\n",
       "      <th>content</th>\n",
       "    </tr>\n",
       "  </thead>\n",
       "  <tbody>\n",
       "    <tr>\n",
       "      <th>0</th>\n",
       "      <td>@tiffanylue i know  i was listenin to bad habi...</td>\n",
       "    </tr>\n",
       "    <tr>\n",
       "      <th>1</th>\n",
       "      <td>Layin n bed with a headache  ughhhh...waitin o...</td>\n",
       "    </tr>\n",
       "    <tr>\n",
       "      <th>2</th>\n",
       "      <td>Funeral ceremony...gloomy friday...</td>\n",
       "    </tr>\n",
       "    <tr>\n",
       "      <th>3</th>\n",
       "      <td>wants to hang out with friends SOON!</td>\n",
       "    </tr>\n",
       "    <tr>\n",
       "      <th>4</th>\n",
       "      <td>@dannycastillo We want to trade with someone w...</td>\n",
       "    </tr>\n",
       "  </tbody>\n",
       "</table>\n",
       "</div>"
      ],
      "text/plain": [
       "                                             content\n",
       "0  @tiffanylue i know  i was listenin to bad habi...\n",
       "1  Layin n bed with a headache  ughhhh...waitin o...\n",
       "2                Funeral ceremony...gloomy friday...\n",
       "3               wants to hang out with friends SOON!\n",
       "4  @dannycastillo We want to trade with someone w..."
      ]
     },
     "metadata": {},
     "output_type": "display_data"
    },
    {
     "name": "stdout",
     "output_type": "stream",
     "text": [
      "After Text Preprocessing\n"
     ]
    },
    {
     "data": {
      "text/html": [
       "<div>\n",
       "<style scoped>\n",
       "    .dataframe tbody tr th:only-of-type {\n",
       "        vertical-align: middle;\n",
       "    }\n",
       "\n",
       "    .dataframe tbody tr th {\n",
       "        vertical-align: top;\n",
       "    }\n",
       "\n",
       "    .dataframe thead th {\n",
       "        text-align: right;\n",
       "    }\n",
       "</style>\n",
       "<table border=\"1\" class=\"dataframe\">\n",
       "  <thead>\n",
       "    <tr style=\"text-align: right;\">\n",
       "      <th></th>\n",
       "      <th>content</th>\n",
       "    </tr>\n",
       "  </thead>\n",
       "  <tbody>\n",
       "    <tr>\n",
       "      <th>0</th>\n",
       "      <td>tiffanylue know listenin bad habit earlier sta...</td>\n",
       "    </tr>\n",
       "    <tr>\n",
       "      <th>1</th>\n",
       "      <td>layin n bed headache ughhhh waitin call</td>\n",
       "    </tr>\n",
       "    <tr>\n",
       "      <th>2</th>\n",
       "      <td>funeral ceremony gloomy friday</td>\n",
       "    </tr>\n",
       "    <tr>\n",
       "      <th>3</th>\n",
       "      <td>want hang friends soon</td>\n",
       "    </tr>\n",
       "    <tr>\n",
       "      <th>4</th>\n",
       "      <td>dannycastillo want trade someone houston ticke...</td>\n",
       "    </tr>\n",
       "  </tbody>\n",
       "</table>\n",
       "</div>"
      ],
      "text/plain": [
       "                                             content\n",
       "0  tiffanylue know listenin bad habit earlier sta...\n",
       "1            layin n bed headache ughhhh waitin call\n",
       "2                     funeral ceremony gloomy friday\n",
       "3                             want hang friends soon\n",
       "4  dannycastillo want trade someone houston ticke..."
      ]
     },
     "metadata": {},
     "output_type": "display_data"
    }
   ],
   "source": [
    "print(\"Before Text Preprocessing\")\n",
    "display(df.head()[['content']])\n",
    "processed_df = text_preprocessing_platform(df, 'content', remove_stopwords=False)\n",
    "print(\"After Text Preprocessing\")\n",
    "display(processed_df.head()[['content']])"
   ]
  },
  {
   "cell_type": "code",
   "execution_count": 23,
   "id": "982e04c7",
   "metadata": {},
   "outputs": [
    {
     "data": {
      "text/plain": [
       "(40000, 5)"
      ]
     },
     "execution_count": 23,
     "metadata": {},
     "output_type": "execute_result"
    }
   ],
   "source": [
    "processed_df.shape"
   ]
  },
  {
   "cell_type": "code",
   "execution_count": 24,
   "id": "b7720c9b",
   "metadata": {},
   "outputs": [
    {
     "data": {
      "text/plain": [
       "(40000, 5)"
      ]
     },
     "execution_count": 24,
     "metadata": {},
     "output_type": "execute_result"
    }
   ],
   "source": [
    "df.shape"
   ]
  },
  {
   "cell_type": "code",
   "execution_count": 25,
   "id": "ae3932c4",
   "metadata": {},
   "outputs": [
    {
     "data": {
      "text/plain": [
       "array(['other', 'sadness', 'neutral', 'worry', 'love', 'happiness'],\n",
       "      dtype=object)"
      ]
     },
     "execution_count": 25,
     "metadata": {},
     "output_type": "execute_result"
    }
   ],
   "source": [
    "processed_df.sentiment.unique()"
   ]
  },
  {
   "cell_type": "code",
   "execution_count": 26,
   "id": "dc27c0cf",
   "metadata": {},
   "outputs": [],
   "source": [
    "def label_encode(data,label):\n",
    "    labels=data[label].map(\n",
    "    {\n",
    "        \"other\":0,\n",
    "        \"sadness\":1,\n",
    "        \"neutral\":2,\n",
    "        \"worry\":3,\n",
    "        \"love\":4,\n",
    "        \"happiness\":5\n",
    "    }\n",
    "    )\n",
    "    return labels"
   ]
  },
  {
   "cell_type": "code",
   "execution_count": 27,
   "id": "1e654ba7",
   "metadata": {},
   "outputs": [],
   "source": [
    "df1 = processed_df"
   ]
  },
  {
   "cell_type": "code",
   "execution_count": 28,
   "id": "093a7415",
   "metadata": {},
   "outputs": [],
   "source": [
    "df1[\"Label\"]=label_encode(processed_df,\"sentiment\")"
   ]
  },
  {
   "cell_type": "code",
   "execution_count": 29,
   "id": "ef0e093a",
   "metadata": {},
   "outputs": [
    {
     "data": {
      "text/html": [
       "<div>\n",
       "<style scoped>\n",
       "    .dataframe tbody tr th:only-of-type {\n",
       "        vertical-align: middle;\n",
       "    }\n",
       "\n",
       "    .dataframe tbody tr th {\n",
       "        vertical-align: top;\n",
       "    }\n",
       "\n",
       "    .dataframe thead th {\n",
       "        text-align: right;\n",
       "    }\n",
       "</style>\n",
       "<table border=\"1\" class=\"dataframe\">\n",
       "  <thead>\n",
       "    <tr style=\"text-align: right;\">\n",
       "      <th></th>\n",
       "      <th>tweet_id</th>\n",
       "      <th>sentiment</th>\n",
       "      <th>content</th>\n",
       "      <th>char_length</th>\n",
       "      <th>token_length</th>\n",
       "      <th>Label</th>\n",
       "    </tr>\n",
       "  </thead>\n",
       "  <tbody>\n",
       "    <tr>\n",
       "      <th>0</th>\n",
       "      <td>1956967341</td>\n",
       "      <td>other</td>\n",
       "      <td>tiffanylue know listenin bad habit earlier sta...</td>\n",
       "      <td>92</td>\n",
       "      <td>19</td>\n",
       "      <td>0</td>\n",
       "    </tr>\n",
       "    <tr>\n",
       "      <th>1</th>\n",
       "      <td>1956967666</td>\n",
       "      <td>sadness</td>\n",
       "      <td>layin n bed headache ughhhh waitin call</td>\n",
       "      <td>60</td>\n",
       "      <td>11</td>\n",
       "      <td>1</td>\n",
       "    </tr>\n",
       "    <tr>\n",
       "      <th>2</th>\n",
       "      <td>1956967696</td>\n",
       "      <td>sadness</td>\n",
       "      <td>funeral ceremony gloomy friday</td>\n",
       "      <td>35</td>\n",
       "      <td>3</td>\n",
       "      <td>1</td>\n",
       "    </tr>\n",
       "    <tr>\n",
       "      <th>3</th>\n",
       "      <td>1956967789</td>\n",
       "      <td>other</td>\n",
       "      <td>want hang friends soon</td>\n",
       "      <td>36</td>\n",
       "      <td>7</td>\n",
       "      <td>0</td>\n",
       "    </tr>\n",
       "    <tr>\n",
       "      <th>4</th>\n",
       "      <td>1956968416</td>\n",
       "      <td>neutral</td>\n",
       "      <td>dannycastillo want trade someone houston ticke...</td>\n",
       "      <td>86</td>\n",
       "      <td>15</td>\n",
       "      <td>2</td>\n",
       "    </tr>\n",
       "  </tbody>\n",
       "</table>\n",
       "</div>"
      ],
      "text/plain": [
       "     tweet_id sentiment                                            content  \\\n",
       "0  1956967341     other  tiffanylue know listenin bad habit earlier sta...   \n",
       "1  1956967666   sadness            layin n bed headache ughhhh waitin call   \n",
       "2  1956967696   sadness                     funeral ceremony gloomy friday   \n",
       "3  1956967789     other                             want hang friends soon   \n",
       "4  1956968416   neutral  dannycastillo want trade someone houston ticke...   \n",
       "\n",
       "   char_length  token_length  Label  \n",
       "0           92            19      0  \n",
       "1           60            11      1  \n",
       "2           35             3      1  \n",
       "3           36             7      0  \n",
       "4           86            15      2  "
      ]
     },
     "execution_count": 29,
     "metadata": {},
     "output_type": "execute_result"
    }
   ],
   "source": [
    "df.head()"
   ]
  },
  {
   "cell_type": "code",
   "execution_count": 30,
   "id": "2a8b705e",
   "metadata": {},
   "outputs": [],
   "source": [
    "from sklearn.model_selection import train_test_split"
   ]
  },
  {
   "cell_type": "code",
   "execution_count": 37,
   "id": "bc5fbdb9",
   "metadata": {},
   "outputs": [],
   "source": [
    "df1 = df1[(df1.sentiment.isin([\"sadness\", \"neutral\",\"worry\",\"love\",\"happiness\"]))]"
   ]
  },
  {
   "cell_type": "code",
   "execution_count": 54,
   "id": "a851fa19",
   "metadata": {},
   "outputs": [],
   "source": [
    "df1 = df1.reset_index()"
   ]
  },
  {
   "cell_type": "code",
   "execution_count": 55,
   "id": "b91fbfa4",
   "metadata": {},
   "outputs": [
    {
     "data": {
      "text/plain": [
       "(31313, 7)"
      ]
     },
     "execution_count": 55,
     "metadata": {},
     "output_type": "execute_result"
    }
   ],
   "source": [
    "df1.shape"
   ]
  },
  {
   "cell_type": "code",
   "execution_count": 56,
   "id": "b8cc75ce",
   "metadata": {},
   "outputs": [
    {
     "data": {
      "text/html": [
       "<div>\n",
       "<style scoped>\n",
       "    .dataframe tbody tr th:only-of-type {\n",
       "        vertical-align: middle;\n",
       "    }\n",
       "\n",
       "    .dataframe tbody tr th {\n",
       "        vertical-align: top;\n",
       "    }\n",
       "\n",
       "    .dataframe thead th {\n",
       "        text-align: right;\n",
       "    }\n",
       "</style>\n",
       "<table border=\"1\" class=\"dataframe\">\n",
       "  <thead>\n",
       "    <tr style=\"text-align: right;\">\n",
       "      <th></th>\n",
       "      <th>index</th>\n",
       "      <th>tweet_id</th>\n",
       "      <th>sentiment</th>\n",
       "      <th>content</th>\n",
       "      <th>char_length</th>\n",
       "      <th>token_length</th>\n",
       "      <th>Label</th>\n",
       "    </tr>\n",
       "  </thead>\n",
       "  <tbody>\n",
       "    <tr>\n",
       "      <th>0</th>\n",
       "      <td>1</td>\n",
       "      <td>1956967666</td>\n",
       "      <td>sadness</td>\n",
       "      <td>layin n bed headache ughhhh waitin call</td>\n",
       "      <td>60</td>\n",
       "      <td>11</td>\n",
       "      <td>1</td>\n",
       "    </tr>\n",
       "    <tr>\n",
       "      <th>1</th>\n",
       "      <td>2</td>\n",
       "      <td>1956967696</td>\n",
       "      <td>sadness</td>\n",
       "      <td>funeral ceremony gloomy friday</td>\n",
       "      <td>35</td>\n",
       "      <td>3</td>\n",
       "      <td>1</td>\n",
       "    </tr>\n",
       "    <tr>\n",
       "      <th>2</th>\n",
       "      <td>4</td>\n",
       "      <td>1956968416</td>\n",
       "      <td>neutral</td>\n",
       "      <td>dannycastillo want trade someone houston ticke...</td>\n",
       "      <td>86</td>\n",
       "      <td>15</td>\n",
       "      <td>2</td>\n",
       "    </tr>\n",
       "    <tr>\n",
       "      <th>3</th>\n",
       "      <td>5</td>\n",
       "      <td>1956968477</td>\n",
       "      <td>worry</td>\n",
       "      <td>repinging ghostridah14 go prom bc bf like friends</td>\n",
       "      <td>84</td>\n",
       "      <td>15</td>\n",
       "      <td>3</td>\n",
       "    </tr>\n",
       "    <tr>\n",
       "      <th>4</th>\n",
       "      <td>6</td>\n",
       "      <td>1956968487</td>\n",
       "      <td>sadness</td>\n",
       "      <td>sleep think old friend want marry damn want tw...</td>\n",
       "      <td>132</td>\n",
       "      <td>26</td>\n",
       "      <td>1</td>\n",
       "    </tr>\n",
       "  </tbody>\n",
       "</table>\n",
       "</div>"
      ],
      "text/plain": [
       "   index    tweet_id sentiment  \\\n",
       "0      1  1956967666   sadness   \n",
       "1      2  1956967696   sadness   \n",
       "2      4  1956968416   neutral   \n",
       "3      5  1956968477     worry   \n",
       "4      6  1956968487   sadness   \n",
       "\n",
       "                                             content  char_length  \\\n",
       "0            layin n bed headache ughhhh waitin call           60   \n",
       "1                     funeral ceremony gloomy friday           35   \n",
       "2  dannycastillo want trade someone houston ticke...           86   \n",
       "3  repinging ghostridah14 go prom bc bf like friends           84   \n",
       "4  sleep think old friend want marry damn want tw...          132   \n",
       "\n",
       "   token_length  Label  \n",
       "0            11      1  \n",
       "1             3      1  \n",
       "2            15      2  \n",
       "3            15      3  \n",
       "4            26      1  "
      ]
     },
     "execution_count": 56,
     "metadata": {},
     "output_type": "execute_result"
    }
   ],
   "source": [
    "df1.head()"
   ]
  },
  {
   "cell_type": "code",
   "execution_count": 57,
   "id": "3c198b25",
   "metadata": {},
   "outputs": [],
   "source": [
    "df1.drop([\"index\"],axis=1,inplace=True)"
   ]
  },
  {
   "cell_type": "code",
   "execution_count": 58,
   "id": "42187710",
   "metadata": {},
   "outputs": [
    {
     "data": {
      "text/html": [
       "<div>\n",
       "<style scoped>\n",
       "    .dataframe tbody tr th:only-of-type {\n",
       "        vertical-align: middle;\n",
       "    }\n",
       "\n",
       "    .dataframe tbody tr th {\n",
       "        vertical-align: top;\n",
       "    }\n",
       "\n",
       "    .dataframe thead th {\n",
       "        text-align: right;\n",
       "    }\n",
       "</style>\n",
       "<table border=\"1\" class=\"dataframe\">\n",
       "  <thead>\n",
       "    <tr style=\"text-align: right;\">\n",
       "      <th></th>\n",
       "      <th>tweet_id</th>\n",
       "      <th>sentiment</th>\n",
       "      <th>content</th>\n",
       "      <th>char_length</th>\n",
       "      <th>token_length</th>\n",
       "      <th>Label</th>\n",
       "    </tr>\n",
       "  </thead>\n",
       "  <tbody>\n",
       "    <tr>\n",
       "      <th>0</th>\n",
       "      <td>1956967666</td>\n",
       "      <td>sadness</td>\n",
       "      <td>layin n bed headache ughhhh waitin call</td>\n",
       "      <td>60</td>\n",
       "      <td>11</td>\n",
       "      <td>1</td>\n",
       "    </tr>\n",
       "    <tr>\n",
       "      <th>1</th>\n",
       "      <td>1956967696</td>\n",
       "      <td>sadness</td>\n",
       "      <td>funeral ceremony gloomy friday</td>\n",
       "      <td>35</td>\n",
       "      <td>3</td>\n",
       "      <td>1</td>\n",
       "    </tr>\n",
       "    <tr>\n",
       "      <th>2</th>\n",
       "      <td>1956968416</td>\n",
       "      <td>neutral</td>\n",
       "      <td>dannycastillo want trade someone houston ticke...</td>\n",
       "      <td>86</td>\n",
       "      <td>15</td>\n",
       "      <td>2</td>\n",
       "    </tr>\n",
       "    <tr>\n",
       "      <th>3</th>\n",
       "      <td>1956968477</td>\n",
       "      <td>worry</td>\n",
       "      <td>repinging ghostridah14 go prom bc bf like friends</td>\n",
       "      <td>84</td>\n",
       "      <td>15</td>\n",
       "      <td>3</td>\n",
       "    </tr>\n",
       "    <tr>\n",
       "      <th>4</th>\n",
       "      <td>1956968487</td>\n",
       "      <td>sadness</td>\n",
       "      <td>sleep think old friend want marry damn want tw...</td>\n",
       "      <td>132</td>\n",
       "      <td>26</td>\n",
       "      <td>1</td>\n",
       "    </tr>\n",
       "  </tbody>\n",
       "</table>\n",
       "</div>"
      ],
      "text/plain": [
       "     tweet_id sentiment                                            content  \\\n",
       "0  1956967666   sadness            layin n bed headache ughhhh waitin call   \n",
       "1  1956967696   sadness                     funeral ceremony gloomy friday   \n",
       "2  1956968416   neutral  dannycastillo want trade someone houston ticke...   \n",
       "3  1956968477     worry  repinging ghostridah14 go prom bc bf like friends   \n",
       "4  1956968487   sadness  sleep think old friend want marry damn want tw...   \n",
       "\n",
       "   char_length  token_length  Label  \n",
       "0           60            11      1  \n",
       "1           35             3      1  \n",
       "2           86            15      2  \n",
       "3           84            15      3  \n",
       "4          132            26      1  "
      ]
     },
     "execution_count": 58,
     "metadata": {},
     "output_type": "execute_result"
    }
   ],
   "source": [
    "df1.head()"
   ]
  },
  {
   "cell_type": "code",
   "execution_count": 52,
   "id": "63e3b289",
   "metadata": {},
   "outputs": [],
   "source": [
    "# importing one hot encoder \n",
    "from sklearn.preprocessing import OneHotEncoder\n",
    "# creating one hot encoder object \n",
    "onehotencoder = OneHotEncoder()"
   ]
  },
  {
   "cell_type": "code",
   "execution_count": 62,
   "id": "46811704",
   "metadata": {},
   "outputs": [
    {
     "data": {
      "text/plain": [
       "5"
      ]
     },
     "execution_count": 62,
     "metadata": {},
     "output_type": "execute_result"
    }
   ],
   "source": [
    "df1.Label.nunique()"
   ]
  },
  {
   "cell_type": "code",
   "execution_count": 59,
   "id": "d4aa7158",
   "metadata": {},
   "outputs": [],
   "source": [
    "X = onehotencoder.fit_transform(df1.Label.values.reshape(-1,1)).toarray()"
   ]
  },
  {
   "cell_type": "code",
   "execution_count": 63,
   "id": "72368ddf",
   "metadata": {},
   "outputs": [],
   "source": [
    "one_hot = pd.DataFrame(X, columns = [str(int(i)) for i in range(df1[\"Label\"].nunique())]) \n",
    "df2 = pd.concat([df1, one_hot], axis=1)"
   ]
  },
  {
   "cell_type": "code",
   "execution_count": 65,
   "id": "edfa986c",
   "metadata": {
    "scrolled": true
   },
   "outputs": [
    {
     "data": {
      "text/html": [
       "<div>\n",
       "<style scoped>\n",
       "    .dataframe tbody tr th:only-of-type {\n",
       "        vertical-align: middle;\n",
       "    }\n",
       "\n",
       "    .dataframe tbody tr th {\n",
       "        vertical-align: top;\n",
       "    }\n",
       "\n",
       "    .dataframe thead th {\n",
       "        text-align: right;\n",
       "    }\n",
       "</style>\n",
       "<table border=\"1\" class=\"dataframe\">\n",
       "  <thead>\n",
       "    <tr style=\"text-align: right;\">\n",
       "      <th></th>\n",
       "      <th>tweet_id</th>\n",
       "      <th>sentiment</th>\n",
       "      <th>content</th>\n",
       "      <th>char_length</th>\n",
       "      <th>token_length</th>\n",
       "      <th>Label</th>\n",
       "      <th>0</th>\n",
       "      <th>1</th>\n",
       "      <th>2</th>\n",
       "      <th>3</th>\n",
       "      <th>4</th>\n",
       "    </tr>\n",
       "  </thead>\n",
       "  <tbody>\n",
       "    <tr>\n",
       "      <th>0</th>\n",
       "      <td>1956967666</td>\n",
       "      <td>sadness</td>\n",
       "      <td>layin n bed headache ughhhh waitin call</td>\n",
       "      <td>60</td>\n",
       "      <td>11</td>\n",
       "      <td>1</td>\n",
       "      <td>1.0</td>\n",
       "      <td>0.0</td>\n",
       "      <td>0.0</td>\n",
       "      <td>0.0</td>\n",
       "      <td>0.0</td>\n",
       "    </tr>\n",
       "    <tr>\n",
       "      <th>1</th>\n",
       "      <td>1956967696</td>\n",
       "      <td>sadness</td>\n",
       "      <td>funeral ceremony gloomy friday</td>\n",
       "      <td>35</td>\n",
       "      <td>3</td>\n",
       "      <td>1</td>\n",
       "      <td>1.0</td>\n",
       "      <td>0.0</td>\n",
       "      <td>0.0</td>\n",
       "      <td>0.0</td>\n",
       "      <td>0.0</td>\n",
       "    </tr>\n",
       "    <tr>\n",
       "      <th>2</th>\n",
       "      <td>1956968416</td>\n",
       "      <td>neutral</td>\n",
       "      <td>dannycastillo want trade someone houston ticke...</td>\n",
       "      <td>86</td>\n",
       "      <td>15</td>\n",
       "      <td>2</td>\n",
       "      <td>0.0</td>\n",
       "      <td>1.0</td>\n",
       "      <td>0.0</td>\n",
       "      <td>0.0</td>\n",
       "      <td>0.0</td>\n",
       "    </tr>\n",
       "    <tr>\n",
       "      <th>3</th>\n",
       "      <td>1956968477</td>\n",
       "      <td>worry</td>\n",
       "      <td>repinging ghostridah14 go prom bc bf like friends</td>\n",
       "      <td>84</td>\n",
       "      <td>15</td>\n",
       "      <td>3</td>\n",
       "      <td>0.0</td>\n",
       "      <td>0.0</td>\n",
       "      <td>1.0</td>\n",
       "      <td>0.0</td>\n",
       "      <td>0.0</td>\n",
       "    </tr>\n",
       "    <tr>\n",
       "      <th>4</th>\n",
       "      <td>1956968487</td>\n",
       "      <td>sadness</td>\n",
       "      <td>sleep think old friend want marry damn want tw...</td>\n",
       "      <td>132</td>\n",
       "      <td>26</td>\n",
       "      <td>1</td>\n",
       "      <td>1.0</td>\n",
       "      <td>0.0</td>\n",
       "      <td>0.0</td>\n",
       "      <td>0.0</td>\n",
       "      <td>0.0</td>\n",
       "    </tr>\n",
       "  </tbody>\n",
       "</table>\n",
       "</div>"
      ],
      "text/plain": [
       "     tweet_id sentiment                                            content  \\\n",
       "0  1956967666   sadness            layin n bed headache ughhhh waitin call   \n",
       "1  1956967696   sadness                     funeral ceremony gloomy friday   \n",
       "2  1956968416   neutral  dannycastillo want trade someone houston ticke...   \n",
       "3  1956968477     worry  repinging ghostridah14 go prom bc bf like friends   \n",
       "4  1956968487   sadness  sleep think old friend want marry damn want tw...   \n",
       "\n",
       "   char_length  token_length  Label    0    1    2    3    4  \n",
       "0           60            11      1  1.0  0.0  0.0  0.0  0.0  \n",
       "1           35             3      1  1.0  0.0  0.0  0.0  0.0  \n",
       "2           86            15      2  0.0  1.0  0.0  0.0  0.0  \n",
       "3           84            15      3  0.0  0.0  1.0  0.0  0.0  \n",
       "4          132            26      1  1.0  0.0  0.0  0.0  0.0  "
      ]
     },
     "execution_count": 65,
     "metadata": {},
     "output_type": "execute_result"
    }
   ],
   "source": [
    "df2.head()"
   ]
  },
  {
   "cell_type": "code",
   "execution_count": 66,
   "id": "7f8c56dc",
   "metadata": {},
   "outputs": [],
   "source": [
    "df2.rename(columns={'0': 'sadness', '1': 'neutral',\"2\":\"worry\",\"3\":\"love\",\"4\":\"happiness\"}, inplace=True)"
   ]
  },
  {
   "cell_type": "code",
   "execution_count": 67,
   "id": "d12b3ba4",
   "metadata": {},
   "outputs": [
    {
     "data": {
      "text/html": [
       "<div>\n",
       "<style scoped>\n",
       "    .dataframe tbody tr th:only-of-type {\n",
       "        vertical-align: middle;\n",
       "    }\n",
       "\n",
       "    .dataframe tbody tr th {\n",
       "        vertical-align: top;\n",
       "    }\n",
       "\n",
       "    .dataframe thead th {\n",
       "        text-align: right;\n",
       "    }\n",
       "</style>\n",
       "<table border=\"1\" class=\"dataframe\">\n",
       "  <thead>\n",
       "    <tr style=\"text-align: right;\">\n",
       "      <th></th>\n",
       "      <th>tweet_id</th>\n",
       "      <th>sentiment</th>\n",
       "      <th>content</th>\n",
       "      <th>char_length</th>\n",
       "      <th>token_length</th>\n",
       "      <th>Label</th>\n",
       "      <th>sadness</th>\n",
       "      <th>neutral</th>\n",
       "      <th>worry</th>\n",
       "      <th>love</th>\n",
       "      <th>happiness</th>\n",
       "    </tr>\n",
       "  </thead>\n",
       "  <tbody>\n",
       "    <tr>\n",
       "      <th>0</th>\n",
       "      <td>1956967666</td>\n",
       "      <td>sadness</td>\n",
       "      <td>layin n bed headache ughhhh waitin call</td>\n",
       "      <td>60</td>\n",
       "      <td>11</td>\n",
       "      <td>1</td>\n",
       "      <td>1.0</td>\n",
       "      <td>0.0</td>\n",
       "      <td>0.0</td>\n",
       "      <td>0.0</td>\n",
       "      <td>0.0</td>\n",
       "    </tr>\n",
       "    <tr>\n",
       "      <th>1</th>\n",
       "      <td>1956967696</td>\n",
       "      <td>sadness</td>\n",
       "      <td>funeral ceremony gloomy friday</td>\n",
       "      <td>35</td>\n",
       "      <td>3</td>\n",
       "      <td>1</td>\n",
       "      <td>1.0</td>\n",
       "      <td>0.0</td>\n",
       "      <td>0.0</td>\n",
       "      <td>0.0</td>\n",
       "      <td>0.0</td>\n",
       "    </tr>\n",
       "    <tr>\n",
       "      <th>2</th>\n",
       "      <td>1956968416</td>\n",
       "      <td>neutral</td>\n",
       "      <td>dannycastillo want trade someone houston ticke...</td>\n",
       "      <td>86</td>\n",
       "      <td>15</td>\n",
       "      <td>2</td>\n",
       "      <td>0.0</td>\n",
       "      <td>1.0</td>\n",
       "      <td>0.0</td>\n",
       "      <td>0.0</td>\n",
       "      <td>0.0</td>\n",
       "    </tr>\n",
       "    <tr>\n",
       "      <th>3</th>\n",
       "      <td>1956968477</td>\n",
       "      <td>worry</td>\n",
       "      <td>repinging ghostridah14 go prom bc bf like friends</td>\n",
       "      <td>84</td>\n",
       "      <td>15</td>\n",
       "      <td>3</td>\n",
       "      <td>0.0</td>\n",
       "      <td>0.0</td>\n",
       "      <td>1.0</td>\n",
       "      <td>0.0</td>\n",
       "      <td>0.0</td>\n",
       "    </tr>\n",
       "    <tr>\n",
       "      <th>4</th>\n",
       "      <td>1956968487</td>\n",
       "      <td>sadness</td>\n",
       "      <td>sleep think old friend want marry damn want tw...</td>\n",
       "      <td>132</td>\n",
       "      <td>26</td>\n",
       "      <td>1</td>\n",
       "      <td>1.0</td>\n",
       "      <td>0.0</td>\n",
       "      <td>0.0</td>\n",
       "      <td>0.0</td>\n",
       "      <td>0.0</td>\n",
       "    </tr>\n",
       "  </tbody>\n",
       "</table>\n",
       "</div>"
      ],
      "text/plain": [
       "     tweet_id sentiment                                            content  \\\n",
       "0  1956967666   sadness            layin n bed headache ughhhh waitin call   \n",
       "1  1956967696   sadness                     funeral ceremony gloomy friday   \n",
       "2  1956968416   neutral  dannycastillo want trade someone houston ticke...   \n",
       "3  1956968477     worry  repinging ghostridah14 go prom bc bf like friends   \n",
       "4  1956968487   sadness  sleep think old friend want marry damn want tw...   \n",
       "\n",
       "   char_length  token_length  Label  sadness  neutral  worry  love  happiness  \n",
       "0           60            11      1      1.0      0.0    0.0   0.0        0.0  \n",
       "1           35             3      1      1.0      0.0    0.0   0.0        0.0  \n",
       "2           86            15      2      0.0      1.0    0.0   0.0        0.0  \n",
       "3           84            15      3      0.0      0.0    1.0   0.0        0.0  \n",
       "4          132            26      1      1.0      0.0    0.0   0.0        0.0  "
      ]
     },
     "execution_count": 67,
     "metadata": {},
     "output_type": "execute_result"
    }
   ],
   "source": [
    "df2.head()"
   ]
  },
  {
   "cell_type": "code",
   "execution_count": 70,
   "id": "826dc5f8",
   "metadata": {},
   "outputs": [],
   "source": [
    "X = df2[\"content\"]\n",
    "y = df2[['sadness','neutral',\"worry\",\"love\",\"happiness\"]]"
   ]
  },
  {
   "cell_type": "code",
   "execution_count": 71,
   "id": "4fdbf64d",
   "metadata": {},
   "outputs": [
    {
     "data": {
      "text/plain": [
       "0              layin n bed headache ughhhh waitin call\n",
       "1                       funeral ceremony gloomy friday\n",
       "2    dannycastillo want trade someone houston ticke...\n",
       "3    repinging ghostridah14 go prom bc bf like friends\n",
       "4    sleep think old friend want marry damn want tw...\n",
       "Name: content, dtype: object"
      ]
     },
     "execution_count": 71,
     "metadata": {},
     "output_type": "execute_result"
    }
   ],
   "source": [
    "X.head()"
   ]
  },
  {
   "cell_type": "code",
   "execution_count": 72,
   "id": "c65a1829",
   "metadata": {},
   "outputs": [
    {
     "data": {
      "text/html": [
       "<div>\n",
       "<style scoped>\n",
       "    .dataframe tbody tr th:only-of-type {\n",
       "        vertical-align: middle;\n",
       "    }\n",
       "\n",
       "    .dataframe tbody tr th {\n",
       "        vertical-align: top;\n",
       "    }\n",
       "\n",
       "    .dataframe thead th {\n",
       "        text-align: right;\n",
       "    }\n",
       "</style>\n",
       "<table border=\"1\" class=\"dataframe\">\n",
       "  <thead>\n",
       "    <tr style=\"text-align: right;\">\n",
       "      <th></th>\n",
       "      <th>sadness</th>\n",
       "      <th>neutral</th>\n",
       "      <th>worry</th>\n",
       "      <th>love</th>\n",
       "      <th>happiness</th>\n",
       "    </tr>\n",
       "  </thead>\n",
       "  <tbody>\n",
       "    <tr>\n",
       "      <th>0</th>\n",
       "      <td>1.0</td>\n",
       "      <td>0.0</td>\n",
       "      <td>0.0</td>\n",
       "      <td>0.0</td>\n",
       "      <td>0.0</td>\n",
       "    </tr>\n",
       "    <tr>\n",
       "      <th>1</th>\n",
       "      <td>1.0</td>\n",
       "      <td>0.0</td>\n",
       "      <td>0.0</td>\n",
       "      <td>0.0</td>\n",
       "      <td>0.0</td>\n",
       "    </tr>\n",
       "    <tr>\n",
       "      <th>2</th>\n",
       "      <td>0.0</td>\n",
       "      <td>1.0</td>\n",
       "      <td>0.0</td>\n",
       "      <td>0.0</td>\n",
       "      <td>0.0</td>\n",
       "    </tr>\n",
       "    <tr>\n",
       "      <th>3</th>\n",
       "      <td>0.0</td>\n",
       "      <td>0.0</td>\n",
       "      <td>1.0</td>\n",
       "      <td>0.0</td>\n",
       "      <td>0.0</td>\n",
       "    </tr>\n",
       "    <tr>\n",
       "      <th>4</th>\n",
       "      <td>1.0</td>\n",
       "      <td>0.0</td>\n",
       "      <td>0.0</td>\n",
       "      <td>0.0</td>\n",
       "      <td>0.0</td>\n",
       "    </tr>\n",
       "  </tbody>\n",
       "</table>\n",
       "</div>"
      ],
      "text/plain": [
       "   sadness  neutral  worry  love  happiness\n",
       "0      1.0      0.0    0.0   0.0        0.0\n",
       "1      1.0      0.0    0.0   0.0        0.0\n",
       "2      0.0      1.0    0.0   0.0        0.0\n",
       "3      0.0      0.0    1.0   0.0        0.0\n",
       "4      1.0      0.0    0.0   0.0        0.0"
      ]
     },
     "execution_count": 72,
     "metadata": {},
     "output_type": "execute_result"
    }
   ],
   "source": [
    "y.head()"
   ]
  },
  {
   "cell_type": "code",
   "execution_count": 73,
   "id": "f02a8b17",
   "metadata": {},
   "outputs": [],
   "source": [
    "X_train, X_test, y_train, y_test = train_test_split(X, y, test_size=0.2, random_state=42)"
   ]
  },
  {
   "cell_type": "code",
   "execution_count": 74,
   "id": "7d6d0fba",
   "metadata": {},
   "outputs": [
    {
     "data": {
      "text/plain": [
       "(25050,)"
      ]
     },
     "execution_count": 74,
     "metadata": {},
     "output_type": "execute_result"
    }
   ],
   "source": [
    "X_train.shape"
   ]
  },
  {
   "cell_type": "code",
   "execution_count": 75,
   "id": "555cb16d",
   "metadata": {},
   "outputs": [
    {
     "data": {
      "text/plain": [
       "(6263,)"
      ]
     },
     "execution_count": 75,
     "metadata": {},
     "output_type": "execute_result"
    }
   ],
   "source": [
    "X_test.shape"
   ]
  },
  {
   "cell_type": "code",
   "execution_count": null,
   "id": "51cd3508",
   "metadata": {},
   "outputs": [],
   "source": []
  },
  {
   "cell_type": "code",
   "execution_count": 77,
   "id": "89f2531b",
   "metadata": {},
   "outputs": [
    {
     "name": "stderr",
     "output_type": "stream",
     "text": [
      "[nltk_data] Downloading package punkt to C:\\Users\\Ahmad Abd\n",
      "[nltk_data]     Elhameed\\AppData\\Roaming\\nltk_data...\n",
      "[nltk_data]   Package punkt is already up-to-date!\n",
      "[nltk_data] Downloading package stopwords to C:\\Users\\Ahmad Abd\n",
      "[nltk_data]     Elhameed\\AppData\\Roaming\\nltk_data...\n",
      "[nltk_data]   Unzipping corpora\\stopwords.zip.\n",
      "[nltk_data] Downloading package wordnet to C:\\Users\\Ahmad Abd\n",
      "[nltk_data]     Elhameed\\AppData\\Roaming\\nltk_data...\n",
      "[nltk_data]   Package wordnet is already up-to-date!\n",
      "[nltk_data] Downloading package averaged_perceptron_tagger to\n",
      "[nltk_data]     C:\\Users\\Ahmad Abd\n",
      "[nltk_data]     Elhameed\\AppData\\Roaming\\nltk_data...\n",
      "[nltk_data]   Package averaged_perceptron_tagger is already up-to-\n",
      "[nltk_data]       date!\n"
     ]
    }
   ],
   "source": [
    "# import libraries\n",
    "from nltk.tokenize import word_tokenize , sent_tokenize\n",
    "from sklearn.pipeline import Pipeline , FeatureUnion\n",
    "import re\n",
    "import nltk\n",
    "nltk.download('punkt')\n",
    "nltk.download('stopwords')\n",
    "nltk.download('wordnet')\n",
    "nltk.download('averaged_perceptron_tagger')\n",
    "from nltk.corpus import stopwords\n",
    "from sklearn.datasets import make_multilabel_classification\n",
    "from sklearn.multioutput import MultiOutputClassifier\n",
    "from sklearn.neighbors import KNeighborsClassifier\n",
    "from nltk.stem import WordNetLemmatizer\n",
    "from sklearn.feature_extraction.text import CountVectorizer, TfidfTransformer\n",
    "from sklearn.naive_bayes import MultinomialNB\n",
    "from sklearn.ensemble import RandomForestClassifier, AdaBoostClassifier \n",
    "from sklearn.ensemble import GradientBoostingClassifier ,BaggingClassifier ,ExtraTreesClassifier\n",
    "from sklearn.model_selection import train_test_split,  GridSearchCV \n",
    "from sklearn.metrics import classification_report ,confusion_matrix , accuracy_score\n",
    "from sklearn.base import BaseEstimator, TransformerMixin\n",
    "import pickle"
   ]
  },
  {
   "cell_type": "code",
   "execution_count": 78,
   "id": "36833768",
   "metadata": {},
   "outputs": [],
   "source": [
    "def tokenize(text):\n",
    "    text_token = word_tokenize(text)\n",
    "    return text_token"
   ]
  },
  {
   "cell_type": "markdown",
   "id": "7075df2e",
   "metadata": {},
   "source": [
    "### A machine learning pipeline\n",
    "This machine pipeline should take in the comment column as input and output classification results on the other 5 categories in the dataset."
   ]
  },
  {
   "cell_type": "markdown",
   "id": "51bcb21a",
   "metadata": {},
   "source": [
    "## Random Forest"
   ]
  },
  {
   "cell_type": "code",
   "execution_count": 79,
   "id": "c9517cfe",
   "metadata": {},
   "outputs": [],
   "source": [
    "pipeline = Pipeline([(\"vect\",CountVectorizer(tokenizer=tokenize)),\n",
    "          (\"tfidf\",TfidfTransformer()),\n",
    "          (\"clf\",MultiOutputClassifier(RandomForestClassifier()))])"
   ]
  },
  {
   "cell_type": "code",
   "execution_count": 80,
   "id": "6fec7f4c",
   "metadata": {},
   "outputs": [
    {
     "data": {
      "text/plain": [
       "Pipeline(steps=[('vect',\n",
       "                 CountVectorizer(tokenizer=<function tokenize at 0x000001D9076030D0>)),\n",
       "                ('tfidf', TfidfTransformer()),\n",
       "                ('clf',\n",
       "                 MultiOutputClassifier(estimator=RandomForestClassifier()))])"
      ]
     },
     "execution_count": 80,
     "metadata": {},
     "output_type": "execute_result"
    }
   ],
   "source": [
    "pipeline.fit(X_train,y_train)"
   ]
  },
  {
   "cell_type": "code",
   "execution_count": 81,
   "id": "eb6575ef",
   "metadata": {},
   "outputs": [],
   "source": [
    "def display_results(y_test, y_pred):\n",
    "    labels = np.unique(y_pred)\n",
    "    confusion_mat = confusion_matrix(y_test, y_pred, labels=labels)\n",
    "    accuracy = (y_pred == y_test).mean()\n",
    "\n",
    "    print(\"Labels:\", labels)\n",
    "    print(\"Confusion Matrix:\\n\", confusion_mat)\n",
    "    print(\"Accuracy:\", accuracy)"
   ]
  },
  {
   "cell_type": "code",
   "execution_count": 82,
   "id": "5549c8a0",
   "metadata": {},
   "outputs": [],
   "source": [
    "# predict on test data\n",
    "y_pred = pipeline.predict(X_test)"
   ]
  },
  {
   "cell_type": "code",
   "execution_count": 83,
   "id": "be9e0c1e",
   "metadata": {},
   "outputs": [],
   "source": [
    "total_scores = []\n",
    "def accuracy_report(y_test,y_pred):\n",
    "    i = 0\n",
    "    for feat in y_test:\n",
    "        print(\"Feature {}: {}\".format(i+1,feat))\n",
    "        print(classification_report(y_test[feat],y_pred[:,i]))\n",
    "        accuracy = accuracy_score(y_test.iloc[:,i],y_pred[:,i])\n",
    "        total_scores.append(accuracy)\n",
    "        i+=1\n",
    "    print(\"Total Accuracy : {:.4f}\".format(np.mean(total_scores)))"
   ]
  },
  {
   "cell_type": "code",
   "execution_count": 84,
   "id": "97c889de",
   "metadata": {},
   "outputs": [
    {
     "name": "stdout",
     "output_type": "stream",
     "text": [
      "Feature 1: sadness\n",
      "              precision    recall  f1-score   support\n",
      "\n",
      "         0.0       0.83      0.98      0.90      5156\n",
      "         1.0       0.43      0.08      0.13      1107\n",
      "\n",
      "    accuracy                           0.82      6263\n",
      "   macro avg       0.63      0.53      0.52      6263\n",
      "weighted avg       0.76      0.82      0.76      6263\n",
      "\n",
      "Feature 2: neutral\n",
      "              precision    recall  f1-score   support\n",
      "\n",
      "         0.0       0.77      0.91      0.84      4580\n",
      "         1.0       0.53      0.26      0.35      1683\n",
      "\n",
      "    accuracy                           0.74      6263\n",
      "   macro avg       0.65      0.59      0.59      6263\n",
      "weighted avg       0.70      0.74      0.70      6263\n",
      "\n",
      "Feature 3: worry\n",
      "              precision    recall  f1-score   support\n",
      "\n",
      "         0.0       0.76      0.94      0.84      4633\n",
      "         1.0       0.45      0.13      0.20      1630\n",
      "\n",
      "    accuracy                           0.73      6263\n",
      "   macro avg       0.60      0.54      0.52      6263\n",
      "weighted avg       0.68      0.73      0.67      6263\n",
      "\n",
      "Feature 4: love\n",
      "              precision    recall  f1-score   support\n",
      "\n",
      "         0.0       0.89      0.98      0.93      5454\n",
      "         1.0       0.58      0.22      0.32       809\n",
      "\n",
      "    accuracy                           0.88      6263\n",
      "   macro avg       0.74      0.60      0.63      6263\n",
      "weighted avg       0.85      0.88      0.85      6263\n",
      "\n",
      "Feature 5: happiness\n",
      "              precision    recall  f1-score   support\n",
      "\n",
      "         0.0       0.84      0.98      0.91      5229\n",
      "         1.0       0.46      0.07      0.13      1034\n",
      "\n",
      "    accuracy                           0.83      6263\n",
      "   macro avg       0.65      0.53      0.52      6263\n",
      "weighted avg       0.78      0.83      0.78      6263\n",
      "\n",
      "Total Accuracy : 0.8001\n"
     ]
    }
   ],
   "source": [
    "accuracy_report(y_test,y_pred)"
   ]
  },
  {
   "cell_type": "markdown",
   "id": "70b1c49e",
   "metadata": {},
   "source": [
    "## AdaBoost"
   ]
  },
  {
   "cell_type": "code",
   "execution_count": 85,
   "id": "ae76c963",
   "metadata": {},
   "outputs": [],
   "source": [
    "pipeline_adaboost = Pipeline([(\"vect\",CountVectorizer(tokenizer=tokenize)),\n",
    "          (\"tfidf\",TfidfTransformer()),\n",
    "          ('clf', MultiOutputClassifier(AdaBoostClassifier()))])"
   ]
  },
  {
   "cell_type": "code",
   "execution_count": 86,
   "id": "f8f9228c",
   "metadata": {},
   "outputs": [
    {
     "data": {
      "text/plain": [
       "Pipeline(steps=[('vect',\n",
       "                 CountVectorizer(tokenizer=<function tokenize at 0x000001D9076030D0>)),\n",
       "                ('tfidf', TfidfTransformer()),\n",
       "                ('clf', MultiOutputClassifier(estimator=AdaBoostClassifier()))])"
      ]
     },
     "execution_count": 86,
     "metadata": {},
     "output_type": "execute_result"
    }
   ],
   "source": [
    "pipeline_adaboost.fit(X_train,y_train)"
   ]
  },
  {
   "cell_type": "code",
   "execution_count": 87,
   "id": "441950a1",
   "metadata": {},
   "outputs": [],
   "source": [
    "# predict on test data\n",
    "y_pred = pipeline_adaboost.predict(X_test)"
   ]
  },
  {
   "cell_type": "code",
   "execution_count": 88,
   "id": "50176721",
   "metadata": {
    "scrolled": false
   },
   "outputs": [
    {
     "name": "stdout",
     "output_type": "stream",
     "text": [
      "Feature 1: sadness\n",
      "              precision    recall  f1-score   support\n",
      "\n",
      "         0.0       0.84      0.98      0.90      5156\n",
      "         1.0       0.56      0.10      0.17      1107\n",
      "\n",
      "    accuracy                           0.83      6263\n",
      "   macro avg       0.70      0.54      0.54      6263\n",
      "weighted avg       0.79      0.83      0.77      6263\n",
      "\n",
      "Feature 2: neutral\n",
      "              precision    recall  f1-score   support\n",
      "\n",
      "         0.0       0.74      0.98      0.84      4580\n",
      "         1.0       0.50      0.05      0.09      1683\n",
      "\n",
      "    accuracy                           0.73      6263\n",
      "   macro avg       0.62      0.52      0.47      6263\n",
      "weighted avg       0.67      0.73      0.64      6263\n",
      "\n",
      "Feature 3: worry\n",
      "              precision    recall  f1-score   support\n",
      "\n",
      "         0.0       0.76      0.95      0.84      4633\n",
      "         1.0       0.52      0.16      0.25      1630\n",
      "\n",
      "    accuracy                           0.74      6263\n",
      "   macro avg       0.64      0.55      0.55      6263\n",
      "weighted avg       0.70      0.74      0.69      6263\n",
      "\n",
      "Feature 4: love\n",
      "              precision    recall  f1-score   support\n",
      "\n",
      "         0.0       0.90      0.97      0.93      5454\n",
      "         1.0       0.59      0.28      0.38       809\n",
      "\n",
      "    accuracy                           0.88      6263\n",
      "   macro avg       0.74      0.63      0.66      6263\n",
      "weighted avg       0.86      0.88      0.86      6263\n",
      "\n",
      "Feature 5: happiness\n",
      "              precision    recall  f1-score   support\n",
      "\n",
      "         0.0       0.85      0.98      0.91      5229\n",
      "         1.0       0.49      0.11      0.18      1034\n",
      "\n",
      "    accuracy                           0.83      6263\n",
      "   macro avg       0.67      0.54      0.54      6263\n",
      "weighted avg       0.79      0.83      0.79      6263\n",
      "\n",
      "Total Accuracy : 0.8017\n"
     ]
    }
   ],
   "source": [
    "accuracy_report(y_test,y_pred)"
   ]
  },
  {
   "cell_type": "markdown",
   "id": "dbed29df",
   "metadata": {},
   "source": [
    "## Boosting"
   ]
  },
  {
   "cell_type": "code",
   "execution_count": 90,
   "id": "7f690590",
   "metadata": {},
   "outputs": [],
   "source": [
    "## Improve the model\n",
    "pipeline_boosting = Pipeline([(\"vect\",CountVectorizer(tokenizer=tokenize)),\n",
    "          (\"tfidf\",TfidfTransformer()),\n",
    "          ('clf', MultiOutputClassifier(GradientBoostingClassifier()))])"
   ]
  },
  {
   "cell_type": "code",
   "execution_count": 91,
   "id": "43b49c7a",
   "metadata": {},
   "outputs": [
    {
     "data": {
      "text/plain": [
       "Pipeline(steps=[('vect',\n",
       "                 CountVectorizer(tokenizer=<function tokenize at 0x000001D9076030D0>)),\n",
       "                ('tfidf', TfidfTransformer()),\n",
       "                ('clf',\n",
       "                 MultiOutputClassifier(estimator=GradientBoostingClassifier()))])"
      ]
     },
     "execution_count": 91,
     "metadata": {},
     "output_type": "execute_result"
    }
   ],
   "source": [
    "pipeline_boosting.fit(X_train,y_train)"
   ]
  },
  {
   "cell_type": "code",
   "execution_count": 92,
   "id": "9e58d0fe",
   "metadata": {},
   "outputs": [
    {
     "name": "stdout",
     "output_type": "stream",
     "text": [
      "Feature 1: sadness\n",
      "              precision    recall  f1-score   support\n",
      "\n",
      "         0.0       0.83      0.99      0.90      5156\n",
      "         1.0       0.62      0.05      0.09      1107\n",
      "\n",
      "    accuracy                           0.83      6263\n",
      "   macro avg       0.73      0.52      0.50      6263\n",
      "weighted avg       0.79      0.83      0.76      6263\n",
      "\n",
      "Feature 2: neutral\n",
      "              precision    recall  f1-score   support\n",
      "\n",
      "         0.0       0.73      1.00      0.84      4580\n",
      "         1.0       0.33      0.00      0.00      1683\n",
      "\n",
      "    accuracy                           0.73      6263\n",
      "   macro avg       0.53      0.50      0.42      6263\n",
      "weighted avg       0.62      0.73      0.62      6263\n",
      "\n",
      "Feature 3: worry\n",
      "              precision    recall  f1-score   support\n",
      "\n",
      "         0.0       0.75      0.99      0.85      4633\n",
      "         1.0       0.59      0.05      0.09      1630\n",
      "\n",
      "    accuracy                           0.74      6263\n",
      "   macro avg       0.67      0.52      0.47      6263\n",
      "weighted avg       0.71      0.74      0.65      6263\n",
      "\n",
      "Feature 4: love\n",
      "              precision    recall  f1-score   support\n",
      "\n",
      "         0.0       0.90      0.97      0.94      5454\n",
      "         1.0       0.59      0.30      0.39       809\n",
      "\n",
      "    accuracy                           0.88      6263\n",
      "   macro avg       0.75      0.63      0.66      6263\n",
      "weighted avg       0.86      0.88      0.87      6263\n",
      "\n",
      "Feature 5: happiness\n",
      "              precision    recall  f1-score   support\n",
      "\n",
      "         0.0       0.84      0.99      0.91      5229\n",
      "         1.0       0.54      0.06      0.11      1034\n",
      "\n",
      "    accuracy                           0.84      6263\n",
      "   macro avg       0.69      0.53      0.51      6263\n",
      "weighted avg       0.79      0.84      0.78      6263\n",
      "\n",
      "Total Accuracy : 0.8025\n"
     ]
    }
   ],
   "source": [
    "# predict on test data\n",
    "y_pred = pipeline_boosting.predict(X_test)\n",
    "## display accuracy\n",
    "accuracy_report(y_test,y_pred)"
   ]
  },
  {
   "cell_type": "markdown",
   "id": "9c3659dd",
   "metadata": {},
   "source": [
    "## Bagging"
   ]
  },
  {
   "cell_type": "code",
   "execution_count": 94,
   "id": "3ad377af",
   "metadata": {},
   "outputs": [
    {
     "name": "stdout",
     "output_type": "stream",
     "text": [
      "Feature 1: sadness\n",
      "              precision    recall  f1-score   support\n",
      "\n",
      "         0.0       0.84      0.96      0.89      5156\n",
      "         1.0       0.41      0.14      0.21      1107\n",
      "\n",
      "    accuracy                           0.81      6263\n",
      "   macro avg       0.62      0.55      0.55      6263\n",
      "weighted avg       0.76      0.81      0.77      6263\n",
      "\n",
      "Feature 2: neutral\n",
      "              precision    recall  f1-score   support\n",
      "\n",
      "         0.0       0.78      0.89      0.83      4580\n",
      "         1.0       0.50      0.30      0.38      1683\n",
      "\n",
      "    accuracy                           0.73      6263\n",
      "   macro avg       0.64      0.59      0.60      6263\n",
      "weighted avg       0.70      0.73      0.71      6263\n",
      "\n",
      "Feature 3: worry\n",
      "              precision    recall  f1-score   support\n",
      "\n",
      "         0.0       0.76      0.89      0.82      4633\n",
      "         1.0       0.41      0.21      0.28      1630\n",
      "\n",
      "    accuracy                           0.71      6263\n",
      "   macro avg       0.59      0.55      0.55      6263\n",
      "weighted avg       0.67      0.71      0.68      6263\n",
      "\n",
      "Feature 4: love\n",
      "              precision    recall  f1-score   support\n",
      "\n",
      "         0.0       0.90      0.96      0.93      5454\n",
      "         1.0       0.48      0.27      0.34       809\n",
      "\n",
      "    accuracy                           0.87      6263\n",
      "   macro avg       0.69      0.61      0.64      6263\n",
      "weighted avg       0.84      0.87      0.85      6263\n",
      "\n",
      "Feature 5: happiness\n",
      "              precision    recall  f1-score   support\n",
      "\n",
      "         0.0       0.85      0.95      0.89      5229\n",
      "         1.0       0.34      0.15      0.20      1034\n",
      "\n",
      "    accuracy                           0.81      6263\n",
      "   macro avg       0.60      0.55      0.55      6263\n",
      "weighted avg       0.77      0.81      0.78      6263\n",
      "\n",
      "Total Accuracy : 0.7988\n"
     ]
    }
   ],
   "source": [
    "pipeline_bagging = Pipeline([(\"vect\",CountVectorizer(tokenizer=tokenize)),\n",
    "          (\"tfidf\",TfidfTransformer()),\n",
    "          ('clf', MultiOutputClassifier(BaggingClassifier()))])\n",
    "pipeline_bagging.fit(X_train,y_train)\n",
    "# predict on test data\n",
    "y_pred = pipeline_bagging.predict(X_test)\n",
    "## display accuracy\n",
    "accuracy_report(y_test,y_pred)"
   ]
  },
  {
   "cell_type": "markdown",
   "id": "c76c10ec",
   "metadata": {},
   "source": [
    "## Extra Trees"
   ]
  },
  {
   "cell_type": "code",
   "execution_count": 95,
   "id": "df5a3a64",
   "metadata": {},
   "outputs": [
    {
     "name": "stdout",
     "output_type": "stream",
     "text": [
      "Feature 1: sadness\n",
      "              precision    recall  f1-score   support\n",
      "\n",
      "         0.0       0.83      0.98      0.90      5156\n",
      "         1.0       0.43      0.07      0.12      1107\n",
      "\n",
      "    accuracy                           0.82      6263\n",
      "   macro avg       0.63      0.52      0.51      6263\n",
      "weighted avg       0.76      0.82      0.76      6263\n",
      "\n",
      "Feature 2: neutral\n",
      "              precision    recall  f1-score   support\n",
      "\n",
      "         0.0       0.76      0.93      0.84      4580\n",
      "         1.0       0.52      0.21      0.30      1683\n",
      "\n",
      "    accuracy                           0.74      6263\n",
      "   macro avg       0.64      0.57      0.57      6263\n",
      "weighted avg       0.70      0.74      0.69      6263\n",
      "\n",
      "Feature 3: worry\n",
      "              precision    recall  f1-score   support\n",
      "\n",
      "         0.0       0.76      0.94      0.84      4633\n",
      "         1.0       0.43      0.13      0.21      1630\n",
      "\n",
      "    accuracy                           0.73      6263\n",
      "   macro avg       0.59      0.54      0.52      6263\n",
      "weighted avg       0.67      0.73      0.67      6263\n",
      "\n",
      "Feature 4: love\n",
      "              precision    recall  f1-score   support\n",
      "\n",
      "         0.0       0.89      0.98      0.93      5454\n",
      "         1.0       0.58      0.20      0.30       809\n",
      "\n",
      "    accuracy                           0.88      6263\n",
      "   macro avg       0.74      0.59      0.62      6263\n",
      "weighted avg       0.85      0.88      0.85      6263\n",
      "\n",
      "Feature 5: happiness\n",
      "              precision    recall  f1-score   support\n",
      "\n",
      "         0.0       0.84      0.98      0.90      5229\n",
      "         1.0       0.37      0.07      0.12      1034\n",
      "\n",
      "    accuracy                           0.83      6263\n",
      "   macro avg       0.61      0.52      0.51      6263\n",
      "weighted avg       0.76      0.83      0.77      6263\n",
      "\n",
      "Total Accuracy : 0.7986\n"
     ]
    }
   ],
   "source": [
    "pipeline_extratrees = Pipeline([(\"vect\",CountVectorizer(tokenizer=tokenize)),\n",
    "          (\"tfidf\",TfidfTransformer()),\n",
    "          ('clf', MultiOutputClassifier(ExtraTreesClassifier()))])\n",
    "pipeline_extratrees.fit(X_train,y_train)\n",
    "# predict on test data\n",
    "y_pred = pipeline_extratrees.predict(X_test)\n",
    "## display accuracy\n",
    "accuracy_report(y_test,y_pred)"
   ]
  },
  {
   "cell_type": "markdown",
   "id": "80f7216f",
   "metadata": {},
   "source": [
    "## Decision Tree"
   ]
  },
  {
   "cell_type": "code",
   "execution_count": 96,
   "id": "e10ba1a4",
   "metadata": {},
   "outputs": [],
   "source": [
    "from sklearn.naive_bayes import MultinomialNB\n",
    "from sklearn.datasets import load_iris\n",
    "from sklearn.model_selection import cross_val_score\n",
    "from sklearn.tree import DecisionTreeClassifier"
   ]
  },
  {
   "cell_type": "code",
   "execution_count": 97,
   "id": "ecbc08d8",
   "metadata": {},
   "outputs": [
    {
     "name": "stdout",
     "output_type": "stream",
     "text": [
      "Feature 1: sadness\n",
      "              precision    recall  f1-score   support\n",
      "\n",
      "         0.0       0.84      0.89      0.86      5156\n",
      "         1.0       0.30      0.23      0.26      1107\n",
      "\n",
      "    accuracy                           0.77      6263\n",
      "   macro avg       0.57      0.56      0.56      6263\n",
      "weighted avg       0.75      0.77      0.76      6263\n",
      "\n",
      "Feature 2: neutral\n",
      "              precision    recall  f1-score   support\n",
      "\n",
      "         0.0       0.76      0.81      0.79      4580\n",
      "         1.0       0.38      0.32      0.35      1683\n",
      "\n",
      "    accuracy                           0.68      6263\n",
      "   macro avg       0.57      0.56      0.57      6263\n",
      "weighted avg       0.66      0.68      0.67      6263\n",
      "\n",
      "Feature 3: worry\n",
      "              precision    recall  f1-score   support\n",
      "\n",
      "         0.0       0.77      0.79      0.78      4633\n",
      "         1.0       0.36      0.33      0.34      1630\n",
      "\n",
      "    accuracy                           0.67      6263\n",
      "   macro avg       0.56      0.56      0.56      6263\n",
      "weighted avg       0.66      0.67      0.67      6263\n",
      "\n",
      "Feature 4: love\n",
      "              precision    recall  f1-score   support\n",
      "\n",
      "         0.0       0.90      0.92      0.91      5454\n",
      "         1.0       0.38      0.35      0.37       809\n",
      "\n",
      "    accuracy                           0.84      6263\n",
      "   macro avg       0.64      0.63      0.64      6263\n",
      "weighted avg       0.84      0.84      0.84      6263\n",
      "\n",
      "Feature 5: happiness\n",
      "              precision    recall  f1-score   support\n",
      "\n",
      "         0.0       0.86      0.89      0.87      5229\n",
      "         1.0       0.31      0.25      0.28      1034\n",
      "\n",
      "    accuracy                           0.79      6263\n",
      "   macro avg       0.58      0.57      0.58      6263\n",
      "weighted avg       0.77      0.79      0.78      6263\n",
      "\n",
      "Total Accuracy : 0.7905\n"
     ]
    }
   ],
   "source": [
    "pipeline_DT = Pipeline([(\"vect\",CountVectorizer(tokenizer=tokenize)),\n",
    "          (\"tfidf\",TfidfTransformer()),\n",
    "          (\"clf\",MultiOutputClassifier(DecisionTreeClassifier()))])\n",
    "pipeline_DT.fit(X_train,y_train)\n",
    "# predict on test data\n",
    "y_pred = pipeline_DT.predict(X_test)\n",
    "## display accuracy\n",
    "accuracy_report(y_test,y_pred)"
   ]
  },
  {
   "cell_type": "markdown",
   "id": "438567fd",
   "metadata": {},
   "source": [
    "## Naive Bayes"
   ]
  },
  {
   "cell_type": "code",
   "execution_count": 98,
   "id": "cb3d9f15",
   "metadata": {},
   "outputs": [
    {
     "name": "stdout",
     "output_type": "stream",
     "text": [
      "Feature 1: sadness\n",
      "              precision    recall  f1-score   support\n",
      "\n",
      "         0.0       0.82      1.00      0.90      5156\n",
      "         1.0       0.00      0.00      0.00      1107\n",
      "\n",
      "    accuracy                           0.82      6263\n",
      "   macro avg       0.41      0.50      0.45      6263\n",
      "weighted avg       0.68      0.82      0.74      6263\n",
      "\n",
      "Feature 2: neutral\n",
      "              precision    recall  f1-score   support\n",
      "\n",
      "         0.0       0.73      1.00      0.84      4580\n",
      "         1.0       0.60      0.00      0.01      1683\n",
      "\n",
      "    accuracy                           0.73      6263\n",
      "   macro avg       0.67      0.50      0.43      6263\n",
      "weighted avg       0.70      0.73      0.62      6263\n",
      "\n",
      "Feature 3: worry\n",
      "              precision    recall  f1-score   support\n",
      "\n",
      "         0.0       0.74      1.00      0.85      4633\n",
      "         1.0       0.53      0.01      0.02      1630\n",
      "\n",
      "    accuracy                           0.74      6263\n",
      "   macro avg       0.64      0.50      0.44      6263\n",
      "weighted avg       0.69      0.74      0.63      6263\n",
      "\n",
      "Feature 4: love\n",
      "              precision    recall  f1-score   support\n",
      "\n",
      "         0.0       0.87      1.00      0.93      5454\n",
      "         1.0       0.00      0.00      0.00       809\n",
      "\n",
      "    accuracy                           0.87      6263\n",
      "   macro avg       0.44      0.50      0.47      6263\n",
      "weighted avg       0.76      0.87      0.81      6263\n",
      "\n",
      "Feature 5: happiness\n",
      "              precision    recall  f1-score   support\n",
      "\n",
      "         0.0       0.83      1.00      0.91      5229\n",
      "         1.0       0.00      0.00      0.00      1034\n",
      "\n",
      "    accuracy                           0.83      6263\n",
      "   macro avg       0.42      0.50      0.45      6263\n",
      "weighted avg       0.70      0.83      0.76      6263\n",
      "\n",
      "Total Accuracy : 0.7918\n"
     ]
    }
   ],
   "source": [
    "pipeline_NV = Pipeline([(\"vect\",CountVectorizer(tokenizer=tokenize)),\n",
    "          (\"tfidf\",TfidfTransformer()),\n",
    "          (\"clf\",MultiOutputClassifier(MultinomialNB()))])\n",
    "pipeline_NV.fit(X_train,y_train)\n",
    "# predict on test data\n",
    "y_pred = pipeline_NV.predict(X_test)\n",
    "## display accuracy\n",
    "accuracy_report(y_test,y_pred)"
   ]
  },
  {
   "cell_type": "code",
   "execution_count": null,
   "id": "67f5069f",
   "metadata": {},
   "outputs": [],
   "source": []
  }
 ],
 "metadata": {
  "kernelspec": {
   "display_name": "Python 3",
   "language": "python",
   "name": "python3"
  },
  "language_info": {
   "codemirror_mode": {
    "name": "ipython",
    "version": 3
   },
   "file_extension": ".py",
   "mimetype": "text/x-python",
   "name": "python",
   "nbconvert_exporter": "python",
   "pygments_lexer": "ipython3",
   "version": "3.6.9"
  }
 },
 "nbformat": 4,
 "nbformat_minor": 5
}
