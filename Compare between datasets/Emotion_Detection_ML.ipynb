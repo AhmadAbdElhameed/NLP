{
 "cells": [
  {
   "cell_type": "markdown",
   "id": "15a1a8c6",
   "metadata": {},
   "source": [
    "## About Data\n",
    "This dataset contains emotions expressed through text and the emotions included in the data are [\"joy\",\"sadness\",\"anger\",\"fear\",\"love\",\"surprise\"].\n",
    "\n",
    "The emotions-dataset-for-nlp contains train.txt, test.txt & val.txt for training, testing and validation purposes seperately. The text files consist of text descriptions and its corresponding label which are seperated by semicolon(;)."
   ]
  },
  {
   "cell_type": "code",
   "execution_count": 8,
   "id": "164f5bad",
   "metadata": {},
   "outputs": [],
   "source": [
    "import os # accessing directory structure\n",
    "import pandas as pd\n",
    "import numpy as np\n",
    "import seaborn as sns\n",
    "import matplotlib.pyplot as plt \n",
    "from mpl_toolkits.mplot3d import Axes3D\n",
    "from sklearn.preprocessing import StandardScaler\n",
    "from sklearn.preprocessing import LabelEncoder\n",
    "from sklearn.preprocessing import OneHotEncoder\n",
    "import re \n",
    "import nltk\n",
    "from nltk.corpus import stopwords\n",
    "from nltk.stem import PorterStemmer\n",
    "%matplotlib inline"
   ]
  },
  {
   "cell_type": "code",
   "execution_count": 135,
   "id": "3a0aa5ad",
   "metadata": {},
   "outputs": [
    {
     "name": "stderr",
     "output_type": "stream",
     "text": [
      "[nltk_data] Downloading package punkt to C:\\Users\\Ahmad Abd\n",
      "[nltk_data]     Elhameed\\AppData\\Roaming\\nltk_data...\n",
      "[nltk_data]   Package punkt is already up-to-date!\n",
      "[nltk_data] Downloading package stopwords to C:\\Users\\Ahmad Abd\n",
      "[nltk_data]     Elhameed\\AppData\\Roaming\\nltk_data...\n",
      "[nltk_data]   Package stopwords is already up-to-date!\n",
      "[nltk_data] Downloading package wordnet to C:\\Users\\Ahmad Abd\n",
      "[nltk_data]     Elhameed\\AppData\\Roaming\\nltk_data...\n",
      "[nltk_data]   Package wordnet is already up-to-date!\n",
      "[nltk_data] Downloading package averaged_perceptron_tagger to\n",
      "[nltk_data]     C:\\Users\\Ahmad Abd\n",
      "[nltk_data]     Elhameed\\AppData\\Roaming\\nltk_data...\n",
      "[nltk_data]   Package averaged_perceptron_tagger is already up-to-\n",
      "[nltk_data]       date!\n"
     ]
    }
   ],
   "source": [
    "# import libraries\n",
    "from nltk.tokenize import word_tokenize , sent_tokenize\n",
    "from sklearn.pipeline import Pipeline , FeatureUnion\n",
    "import re\n",
    "import nltk\n",
    "nltk.download('punkt')\n",
    "nltk.download('stopwords')\n",
    "nltk.download('wordnet')\n",
    "nltk.download('averaged_perceptron_tagger')\n",
    "from nltk.corpus import stopwords\n",
    "from sklearn.datasets import make_multilabel_classification\n",
    "from sklearn.multioutput import MultiOutputClassifier\n",
    "from sklearn.neighbors import KNeighborsClassifier\n",
    "from nltk.stem import WordNetLemmatizer\n",
    "from sklearn.feature_extraction.text import CountVectorizer, TfidfTransformer\n",
    "from sklearn.naive_bayes import MultinomialNB\n",
    "from sklearn.ensemble import RandomForestClassifier, AdaBoostClassifier \n",
    "from sklearn.ensemble import GradientBoostingClassifier ,BaggingClassifier ,ExtraTreesClassifier\n",
    "from sklearn.model_selection import train_test_split,  GridSearchCV \n",
    "from sklearn.metrics import classification_report ,confusion_matrix , accuracy_score\n",
    "from sklearn.base import BaseEstimator, TransformerMixin\n",
    "import pickle"
   ]
  },
  {
   "cell_type": "code",
   "execution_count": 2,
   "id": "3e0004ee",
   "metadata": {},
   "outputs": [
    {
     "name": "stdout",
     "output_type": "stream",
     "text": [
      "hypertuningNLP\n",
      "test.txt\n",
      "train.txt\n",
      "val.txt\n"
     ]
    }
   ],
   "source": [
    "path = 'emotions-dataset-for-nlp'\n",
    "files = os.listdir(path)\n",
    "for f in files:\n",
    "    print(f)"
   ]
  },
  {
   "cell_type": "code",
   "execution_count": 3,
   "id": "f7f2df08",
   "metadata": {},
   "outputs": [],
   "source": [
    "test_data = pd.read_csv(path+\"/test.txt\", header=None, sep=\";\", names=[\"Comment\",\"Emotion\"], encoding=\"utf-8\")\n",
    "train_data = pd.read_csv(path+\"/train.txt\", header=None, sep=\";\", names=[\"Comment\",\"Emotion\"], encoding=\"utf-8\")\n",
    "validation_data = pd.read_csv(path+\"/val.txt\", header=None, sep=\";\", names=[\"Comment\",\"Emotion\"], encoding=\"utf-8\")"
   ]
  },
  {
   "cell_type": "code",
   "execution_count": 4,
   "id": "b5205e23",
   "metadata": {},
   "outputs": [
    {
     "name": "stdout",
     "output_type": "stream",
     "text": [
      "Train :  (16000, 2)\n",
      "Test :  (2000, 2)\n",
      "Validation :  (2000, 2)\n"
     ]
    }
   ],
   "source": [
    "print(\"Train : \", train_data.shape)\n",
    "print(\"Test : \", test_data.shape)\n",
    "print(\"Validation : \", validation_data.shape)"
   ]
  },
  {
   "cell_type": "markdown",
   "id": "9140392a",
   "metadata": {},
   "source": [
    "## Data Understanding\n",
    "describe_data function will help us understand each dataset"
   ]
  },
  {
   "cell_type": "code",
   "execution_count": 6,
   "id": "2b95ac88",
   "metadata": {},
   "outputs": [],
   "source": [
    "def describe_data(data_type,data,label):\n",
    "    print(data_type,\" DESCRIPTION\")\n",
    "    print(\"--------------------------\")\n",
    "    size=data.shape\n",
    "    null_values=data.isnull().sum().sum()\n",
    "    \n",
    "    label_count=data[label].value_counts()\n",
    "    print(data_type,\" shape:\",size,\"\\n\")\n",
    "    print(data_type,\" contains:\",null_values,\" null values\\n\")\n",
    "    print(\"Label counts:\")  \n",
    "    print(label_count)\n",
    "    print()\n",
    "    \n",
    "    print(\"*****\",data_type,\" label count plot ****\")\n",
    "    sns.countplot(\n",
    "        data=data,\n",
    "        x=label\n",
    "    )"
   ]
  },
  {
   "cell_type": "code",
   "execution_count": 9,
   "id": "dadbd089",
   "metadata": {},
   "outputs": [
    {
     "name": "stdout",
     "output_type": "stream",
     "text": [
      "Training Data  DESCRIPTION\n",
      "--------------------------\n",
      "Training Data  shape: (16000, 2) \n",
      "\n",
      "Training Data  contains: 0  null values\n",
      "\n",
      "Label counts:\n",
      "joy         5362\n",
      "sadness     4666\n",
      "anger       2159\n",
      "fear        1937\n",
      "love        1304\n",
      "surprise     572\n",
      "Name: Emotion, dtype: int64\n",
      "\n",
      "***** Training Data  label count plot ****\n"
     ]
    },
    {
     "data": {
      "image/png": "[encoded data removed]",
      "text/plain": [
       "<Figure size 432x288 with 1 Axes>"
      ]
     },
     "metadata": {
      "needs_background": "light"
     },
     "output_type": "display_data"
    }
   ],
   "source": [
    "describe_data(\"Training Data\",train_data,\"Emotion\")"
   ]
  },
  {
   "cell_type": "code",
   "execution_count": 10,
   "id": "32a03815",
   "metadata": {},
   "outputs": [
    {
     "name": "stdout",
     "output_type": "stream",
     "text": [
      "Testing Data  DESCRIPTION\n",
      "--------------------------\n",
      "Testing Data  shape: (2000, 2) \n",
      "\n",
      "Testing Data  contains: 0  null values\n",
      "\n",
      "Label counts:\n",
      "joy         695\n",
      "sadness     581\n",
      "anger       275\n",
      "fear        224\n",
      "love        159\n",
      "surprise     66\n",
      "Name: Emotion, dtype: int64\n",
      "\n",
      "***** Testing Data  label count plot ****\n"
     ]
    },
    {
     "data": {
      "image/png": "[encoded data removed]",
      "text/plain": [
       "<Figure size 432x288 with 1 Axes>"
      ]
     },
     "metadata": {
      "needs_background": "light"
     },
     "output_type": "display_data"
    }
   ],
   "source": [
    "describe_data(\"Testing Data\",test_data,\"Emotion\")"
   ]
  },
  {
   "cell_type": "code",
   "execution_count": 11,
   "id": "8870b443",
   "metadata": {},
   "outputs": [
    {
     "name": "stdout",
     "output_type": "stream",
     "text": [
      "Validation Data  DESCRIPTION\n",
      "--------------------------\n",
      "Validation Data  shape: (2000, 2) \n",
      "\n",
      "Validation Data  contains: 0  null values\n",
      "\n",
      "Label counts:\n",
      "joy         704\n",
      "sadness     550\n",
      "anger       275\n",
      "fear        212\n",
      "love        178\n",
      "surprise     81\n",
      "Name: Emotion, dtype: int64\n",
      "\n",
      "***** Validation Data  label count plot ****\n"
     ]
    },
    {
     "data": {
      "image/png": "[encoded data removed]",
      "text/plain": [
       "<Figure size 432x288 with 1 Axes>"
      ]
     },
     "metadata": {
      "needs_background": "light"
     },
     "output_type": "display_data"
    }
   ],
   "source": [
    "describe_data(\"Validation Data\",validation_data,\"Emotion\")"
   ]
  },
  {
   "cell_type": "markdown",
   "id": "106e77e1",
   "metadata": {},
   "source": [
    "All the dataset are free of null values. The test and validate data size are equal which is smaller than the traning data, which is obvious that more data is required in traning model than validating and testing model. The Distribution of joy and sadness labels are denser than any other labels in all dataset."
   ]
  },
  {
   "cell_type": "code",
   "execution_count": 14,
   "id": "9d13e57b",
   "metadata": {},
   "outputs": [
    {
     "data": {
      "image/png": "[encoded data removed]",
      "text/plain": [
       "<Figure size 720x432 with 1 Axes>"
      ]
     },
     "metadata": {
      "needs_background": "light"
     },
     "output_type": "display_data"
    }
   ],
   "source": [
    "train_data[\"Text_Length\"]=train_data[\"Comment\"].apply(len)\n",
    "\n",
    "fig=plt.figure(figsize=(10,6))\n",
    "\n",
    "sns.kdeplot(\n",
    "    x=train_data[\"Text_Length\"],\n",
    "    hue=train_data[\"Emotion\"]\n",
    ")\n",
    "plt.show()"
   ]
  },
  {
   "cell_type": "code",
   "execution_count": 15,
   "id": "a5215c13",
   "metadata": {},
   "outputs": [
    {
     "data": {
      "text/plain": [
       "300"
      ]
     },
     "execution_count": 15,
     "metadata": {},
     "output_type": "execute_result"
    }
   ],
   "source": [
    "train_data[\"Text_Length\"].max()"
   ]
  },
  {
   "cell_type": "code",
   "execution_count": 16,
   "id": "394e1ada",
   "metadata": {},
   "outputs": [
    {
     "data": {
      "text/plain": [
       "7"
      ]
     },
     "execution_count": 16,
     "metadata": {},
     "output_type": "execute_result"
    }
   ],
   "source": [
    "train_data[\"Text_Length\"].min()"
   ]
  },
  {
   "cell_type": "markdown",
   "id": "8a2d76f5",
   "metadata": {},
   "source": [
    "We have mininum Description length of 7 and maximum length of 300 however most of them are concentrated in between 1-150"
   ]
  },
  {
   "cell_type": "code",
   "execution_count": 18,
   "id": "b197c4eb",
   "metadata": {},
   "outputs": [
    {
     "data": {
      "text/html": [
       "<div>\n",
       "<style scoped>\n",
       "    .dataframe tbody tr th:only-of-type {\n",
       "        vertical-align: middle;\n",
       "    }\n",
       "\n",
       "    .dataframe tbody tr th {\n",
       "        vertical-align: top;\n",
       "    }\n",
       "\n",
       "    .dataframe thead th {\n",
       "        text-align: right;\n",
       "    }\n",
       "</style>\n",
       "<table border=\"1\" class=\"dataframe\">\n",
       "  <thead>\n",
       "    <tr style=\"text-align: right;\">\n",
       "      <th></th>\n",
       "      <th>Text_Length</th>\n",
       "    </tr>\n",
       "  </thead>\n",
       "  <tbody>\n",
       "    <tr>\n",
       "      <th>count</th>\n",
       "      <td>16000.000000</td>\n",
       "    </tr>\n",
       "    <tr>\n",
       "      <th>mean</th>\n",
       "      <td>96.845812</td>\n",
       "    </tr>\n",
       "    <tr>\n",
       "      <th>std</th>\n",
       "      <td>55.904953</td>\n",
       "    </tr>\n",
       "    <tr>\n",
       "      <th>min</th>\n",
       "      <td>7.000000</td>\n",
       "    </tr>\n",
       "    <tr>\n",
       "      <th>25%</th>\n",
       "      <td>53.000000</td>\n",
       "    </tr>\n",
       "    <tr>\n",
       "      <th>50%</th>\n",
       "      <td>86.000000</td>\n",
       "    </tr>\n",
       "    <tr>\n",
       "      <th>75%</th>\n",
       "      <td>129.000000</td>\n",
       "    </tr>\n",
       "    <tr>\n",
       "      <th>max</th>\n",
       "      <td>300.000000</td>\n",
       "    </tr>\n",
       "  </tbody>\n",
       "</table>\n",
       "</div>"
      ],
      "text/plain": [
       "        Text_Length\n",
       "count  16000.000000\n",
       "mean      96.845812\n",
       "std       55.904953\n",
       "min        7.000000\n",
       "25%       53.000000\n",
       "50%       86.000000\n",
       "75%      129.000000\n",
       "max      300.000000"
      ]
     },
     "execution_count": 18,
     "metadata": {},
     "output_type": "execute_result"
    }
   ],
   "source": [
    "train_data[[\"Text_Length\"]].describe()"
   ]
  },
  {
   "cell_type": "markdown",
   "id": "7d43a984",
   "metadata": {},
   "source": [
    "## Data Preparation\n",
    "Before preparing text for the model wenoticed that data labels with object datatype. So to feed our data to the model it must be converted into machine understandable form. For that reason let I have label encoded the labels using the funcion \"label_encode\""
   ]
  },
  {
   "cell_type": "code",
   "execution_count": 19,
   "id": "39889eac",
   "metadata": {},
   "outputs": [],
   "source": [
    "def label_encode(data,label):\n",
    "    labels=data[label].map(\n",
    "    {\n",
    "        \"joy\":0,\n",
    "        \"sadness\":1,\n",
    "        \"anger\":2,\n",
    "        \"fear\":3,\n",
    "        \"love\":4,\n",
    "        \"surprise\":5\n",
    "    }\n",
    "    )\n",
    "    return labels"
   ]
  },
  {
   "cell_type": "code",
   "execution_count": 20,
   "id": "a27d2790",
   "metadata": {},
   "outputs": [],
   "source": [
    "## Label encode in all the dataset"
   ]
  },
  {
   "cell_type": "code",
   "execution_count": 21,
   "id": "ebf6b392",
   "metadata": {},
   "outputs": [],
   "source": [
    "train_data[\"Label\"]=label_encode(train_data,\"Emotion\")\n",
    "validation_data[\"Label\"]=label_encode(validation_data,\"Emotion\")\n",
    "test_data[\"Label\"]=label_encode(test_data,\"Emotion\")"
   ]
  },
  {
   "cell_type": "code",
   "execution_count": 22,
   "id": "46293fc4",
   "metadata": {},
   "outputs": [
    {
     "data": {
      "text/html": [
       "<div>\n",
       "<style scoped>\n",
       "    .dataframe tbody tr th:only-of-type {\n",
       "        vertical-align: middle;\n",
       "    }\n",
       "\n",
       "    .dataframe tbody tr th {\n",
       "        vertical-align: top;\n",
       "    }\n",
       "\n",
       "    .dataframe thead th {\n",
       "        text-align: right;\n",
       "    }\n",
       "</style>\n",
       "<table border=\"1\" class=\"dataframe\">\n",
       "  <thead>\n",
       "    <tr style=\"text-align: right;\">\n",
       "      <th></th>\n",
       "      <th>Comment</th>\n",
       "      <th>Emotion</th>\n",
       "      <th>Text_Length</th>\n",
       "      <th>Label</th>\n",
       "    </tr>\n",
       "  </thead>\n",
       "  <tbody>\n",
       "    <tr>\n",
       "      <th>0</th>\n",
       "      <td>i didnt feel humiliated</td>\n",
       "      <td>sadness</td>\n",
       "      <td>23</td>\n",
       "      <td>1</td>\n",
       "    </tr>\n",
       "    <tr>\n",
       "      <th>1</th>\n",
       "      <td>i can go from feeling so hopeless to so damned...</td>\n",
       "      <td>sadness</td>\n",
       "      <td>108</td>\n",
       "      <td>1</td>\n",
       "    </tr>\n",
       "    <tr>\n",
       "      <th>2</th>\n",
       "      <td>im grabbing a minute to post i feel greedy wrong</td>\n",
       "      <td>anger</td>\n",
       "      <td>48</td>\n",
       "      <td>2</td>\n",
       "    </tr>\n",
       "    <tr>\n",
       "      <th>3</th>\n",
       "      <td>i am ever feeling nostalgic about the fireplac...</td>\n",
       "      <td>love</td>\n",
       "      <td>92</td>\n",
       "      <td>4</td>\n",
       "    </tr>\n",
       "    <tr>\n",
       "      <th>4</th>\n",
       "      <td>i am feeling grouchy</td>\n",
       "      <td>anger</td>\n",
       "      <td>20</td>\n",
       "      <td>2</td>\n",
       "    </tr>\n",
       "  </tbody>\n",
       "</table>\n",
       "</div>"
      ],
      "text/plain": [
       "                                             Comment  Emotion  Text_Length  \\\n",
       "0                            i didnt feel humiliated  sadness           23   \n",
       "1  i can go from feeling so hopeless to so damned...  sadness          108   \n",
       "2   im grabbing a minute to post i feel greedy wrong    anger           48   \n",
       "3  i am ever feeling nostalgic about the fireplac...     love           92   \n",
       "4                               i am feeling grouchy    anger           20   \n",
       "\n",
       "   Label  \n",
       "0      1  \n",
       "1      1  \n",
       "2      2  \n",
       "3      4  \n",
       "4      2  "
      ]
     },
     "execution_count": 22,
     "metadata": {},
     "output_type": "execute_result"
    }
   ],
   "source": [
    "train_data.head()"
   ]
  },
  {
   "cell_type": "code",
   "execution_count": 34,
   "id": "d9e68105",
   "metadata": {},
   "outputs": [
    {
     "name": "stdout",
     "output_type": "stream",
     "text": [
      "                                             Comment  Emotion  Text_Length  \\\n",
      "0                            i didnt feel humiliated  sadness           23   \n",
      "1  i can go from feeling so hopeless to so damned...  sadness          108   \n",
      "2   im grabbing a minute to post i feel greedy wrong    anger           48   \n",
      "3  i am ever feeling nostalgic about the fireplac...     love           92   \n",
      "4                               i am feeling grouchy    anger           20   \n",
      "\n",
      "   Label    0    1    2    3    4    5  \n",
      "0      1  0.0  1.0  0.0  0.0  0.0  0.0  \n",
      "1      1  0.0  1.0  0.0  0.0  0.0  0.0  \n",
      "2      2  0.0  0.0  1.0  0.0  0.0  0.0  \n",
      "3      4  0.0  0.0  0.0  0.0  1.0  0.0  \n",
      "4      2  0.0  0.0  1.0  0.0  0.0  0.0  \n"
     ]
    }
   ],
   "source": [
    "# importing one hot encoder \n",
    "from sklearn.preprocessing import OneHotEncoder\n",
    "# creating one hot encoder object \n",
    "onehotencoder = OneHotEncoder()\n",
    "#reshape the 1-D country array to 2-D as fit_transform expects 2-D and finally fit the object \n",
    "X = onehotencoder.fit_transform(train_data.Label.values.reshape(-1,1)).toarray()\n",
    "#To add this back into the original dataframe \n",
    "dfOneHot = pd.DataFrame(X, columns = [str(int(i)) for i in range(train_data[\"Label\"].nunique())]) \n",
    "df = pd.concat([train_data, dfOneHot], axis=1)\n",
    "#printing to verify \n",
    "print(df.head())"
   ]
  },
  {
   "cell_type": "code",
   "execution_count": 36,
   "id": "ade39abe",
   "metadata": {},
   "outputs": [
    {
     "data": {
      "text/html": [
       "<div>\n",
       "<style scoped>\n",
       "    .dataframe tbody tr th:only-of-type {\n",
       "        vertical-align: middle;\n",
       "    }\n",
       "\n",
       "    .dataframe tbody tr th {\n",
       "        vertical-align: top;\n",
       "    }\n",
       "\n",
       "    .dataframe thead th {\n",
       "        text-align: right;\n",
       "    }\n",
       "</style>\n",
       "<table border=\"1\" class=\"dataframe\">\n",
       "  <thead>\n",
       "    <tr style=\"text-align: right;\">\n",
       "      <th></th>\n",
       "      <th>Comment</th>\n",
       "      <th>Emotion</th>\n",
       "      <th>Text_Length</th>\n",
       "      <th>Label</th>\n",
       "      <th>0</th>\n",
       "      <th>1</th>\n",
       "      <th>2</th>\n",
       "      <th>3</th>\n",
       "      <th>4</th>\n",
       "      <th>5</th>\n",
       "    </tr>\n",
       "  </thead>\n",
       "  <tbody>\n",
       "    <tr>\n",
       "      <th>0</th>\n",
       "      <td>i didnt feel humiliated</td>\n",
       "      <td>sadness</td>\n",
       "      <td>23</td>\n",
       "      <td>1</td>\n",
       "      <td>0.0</td>\n",
       "      <td>1.0</td>\n",
       "      <td>0.0</td>\n",
       "      <td>0.0</td>\n",
       "      <td>0.0</td>\n",
       "      <td>0.0</td>\n",
       "    </tr>\n",
       "    <tr>\n",
       "      <th>1</th>\n",
       "      <td>i can go from feeling so hopeless to so damned...</td>\n",
       "      <td>sadness</td>\n",
       "      <td>108</td>\n",
       "      <td>1</td>\n",
       "      <td>0.0</td>\n",
       "      <td>1.0</td>\n",
       "      <td>0.0</td>\n",
       "      <td>0.0</td>\n",
       "      <td>0.0</td>\n",
       "      <td>0.0</td>\n",
       "    </tr>\n",
       "    <tr>\n",
       "      <th>2</th>\n",
       "      <td>im grabbing a minute to post i feel greedy wrong</td>\n",
       "      <td>anger</td>\n",
       "      <td>48</td>\n",
       "      <td>2</td>\n",
       "      <td>0.0</td>\n",
       "      <td>0.0</td>\n",
       "      <td>1.0</td>\n",
       "      <td>0.0</td>\n",
       "      <td>0.0</td>\n",
       "      <td>0.0</td>\n",
       "    </tr>\n",
       "    <tr>\n",
       "      <th>3</th>\n",
       "      <td>i am ever feeling nostalgic about the fireplac...</td>\n",
       "      <td>love</td>\n",
       "      <td>92</td>\n",
       "      <td>4</td>\n",
       "      <td>0.0</td>\n",
       "      <td>0.0</td>\n",
       "      <td>0.0</td>\n",
       "      <td>0.0</td>\n",
       "      <td>1.0</td>\n",
       "      <td>0.0</td>\n",
       "    </tr>\n",
       "    <tr>\n",
       "      <th>4</th>\n",
       "      <td>i am feeling grouchy</td>\n",
       "      <td>anger</td>\n",
       "      <td>20</td>\n",
       "      <td>2</td>\n",
       "      <td>0.0</td>\n",
       "      <td>0.0</td>\n",
       "      <td>1.0</td>\n",
       "      <td>0.0</td>\n",
       "      <td>0.0</td>\n",
       "      <td>0.0</td>\n",
       "    </tr>\n",
       "    <tr>\n",
       "      <th>5</th>\n",
       "      <td>ive been feeling a little burdened lately wasn...</td>\n",
       "      <td>sadness</td>\n",
       "      <td>65</td>\n",
       "      <td>1</td>\n",
       "      <td>0.0</td>\n",
       "      <td>1.0</td>\n",
       "      <td>0.0</td>\n",
       "      <td>0.0</td>\n",
       "      <td>0.0</td>\n",
       "      <td>0.0</td>\n",
       "    </tr>\n",
       "    <tr>\n",
       "      <th>6</th>\n",
       "      <td>ive been taking or milligrams or times recomme...</td>\n",
       "      <td>surprise</td>\n",
       "      <td>122</td>\n",
       "      <td>5</td>\n",
       "      <td>0.0</td>\n",
       "      <td>0.0</td>\n",
       "      <td>0.0</td>\n",
       "      <td>0.0</td>\n",
       "      <td>0.0</td>\n",
       "      <td>1.0</td>\n",
       "    </tr>\n",
       "    <tr>\n",
       "      <th>7</th>\n",
       "      <td>i feel as confused about life as a teenager or...</td>\n",
       "      <td>fear</td>\n",
       "      <td>73</td>\n",
       "      <td>3</td>\n",
       "      <td>0.0</td>\n",
       "      <td>0.0</td>\n",
       "      <td>0.0</td>\n",
       "      <td>1.0</td>\n",
       "      <td>0.0</td>\n",
       "      <td>0.0</td>\n",
       "    </tr>\n",
       "    <tr>\n",
       "      <th>8</th>\n",
       "      <td>i have been with petronas for years i feel tha...</td>\n",
       "      <td>joy</td>\n",
       "      <td>98</td>\n",
       "      <td>0</td>\n",
       "      <td>1.0</td>\n",
       "      <td>0.0</td>\n",
       "      <td>0.0</td>\n",
       "      <td>0.0</td>\n",
       "      <td>0.0</td>\n",
       "      <td>0.0</td>\n",
       "    </tr>\n",
       "    <tr>\n",
       "      <th>9</th>\n",
       "      <td>i feel romantic too</td>\n",
       "      <td>love</td>\n",
       "      <td>19</td>\n",
       "      <td>4</td>\n",
       "      <td>0.0</td>\n",
       "      <td>0.0</td>\n",
       "      <td>0.0</td>\n",
       "      <td>0.0</td>\n",
       "      <td>1.0</td>\n",
       "      <td>0.0</td>\n",
       "    </tr>\n",
       "    <tr>\n",
       "      <th>10</th>\n",
       "      <td>i feel like i have to make the suffering i m s...</td>\n",
       "      <td>sadness</td>\n",
       "      <td>66</td>\n",
       "      <td>1</td>\n",
       "      <td>0.0</td>\n",
       "      <td>1.0</td>\n",
       "      <td>0.0</td>\n",
       "      <td>0.0</td>\n",
       "      <td>0.0</td>\n",
       "      <td>0.0</td>\n",
       "    </tr>\n",
       "    <tr>\n",
       "      <th>11</th>\n",
       "      <td>i do feel that running is a divine experience ...</td>\n",
       "      <td>joy</td>\n",
       "      <td>108</td>\n",
       "      <td>0</td>\n",
       "      <td>1.0</td>\n",
       "      <td>0.0</td>\n",
       "      <td>0.0</td>\n",
       "      <td>0.0</td>\n",
       "      <td>0.0</td>\n",
       "      <td>0.0</td>\n",
       "    </tr>\n",
       "    <tr>\n",
       "      <th>12</th>\n",
       "      <td>i think it s the easiest time of year to feel ...</td>\n",
       "      <td>anger</td>\n",
       "      <td>58</td>\n",
       "      <td>2</td>\n",
       "      <td>0.0</td>\n",
       "      <td>0.0</td>\n",
       "      <td>1.0</td>\n",
       "      <td>0.0</td>\n",
       "      <td>0.0</td>\n",
       "      <td>0.0</td>\n",
       "    </tr>\n",
       "    <tr>\n",
       "      <th>13</th>\n",
       "      <td>i feel low energy i m just thirsty</td>\n",
       "      <td>sadness</td>\n",
       "      <td>34</td>\n",
       "      <td>1</td>\n",
       "      <td>0.0</td>\n",
       "      <td>1.0</td>\n",
       "      <td>0.0</td>\n",
       "      <td>0.0</td>\n",
       "      <td>0.0</td>\n",
       "      <td>0.0</td>\n",
       "    </tr>\n",
       "    <tr>\n",
       "      <th>14</th>\n",
       "      <td>i have immense sympathy with the general point...</td>\n",
       "      <td>joy</td>\n",
       "      <td>219</td>\n",
       "      <td>0</td>\n",
       "      <td>1.0</td>\n",
       "      <td>0.0</td>\n",
       "      <td>0.0</td>\n",
       "      <td>0.0</td>\n",
       "      <td>0.0</td>\n",
       "      <td>0.0</td>\n",
       "    </tr>\n",
       "    <tr>\n",
       "      <th>15</th>\n",
       "      <td>i do not feel reassured anxiety is on each side</td>\n",
       "      <td>joy</td>\n",
       "      <td>47</td>\n",
       "      <td>0</td>\n",
       "      <td>1.0</td>\n",
       "      <td>0.0</td>\n",
       "      <td>0.0</td>\n",
       "      <td>0.0</td>\n",
       "      <td>0.0</td>\n",
       "      <td>0.0</td>\n",
       "    </tr>\n",
       "    <tr>\n",
       "      <th>16</th>\n",
       "      <td>i didnt really feel that embarrassed</td>\n",
       "      <td>sadness</td>\n",
       "      <td>36</td>\n",
       "      <td>1</td>\n",
       "      <td>0.0</td>\n",
       "      <td>1.0</td>\n",
       "      <td>0.0</td>\n",
       "      <td>0.0</td>\n",
       "      <td>0.0</td>\n",
       "      <td>0.0</td>\n",
       "    </tr>\n",
       "    <tr>\n",
       "      <th>17</th>\n",
       "      <td>i feel pretty pathetic most of the time</td>\n",
       "      <td>sadness</td>\n",
       "      <td>39</td>\n",
       "      <td>1</td>\n",
       "      <td>0.0</td>\n",
       "      <td>1.0</td>\n",
       "      <td>0.0</td>\n",
       "      <td>0.0</td>\n",
       "      <td>0.0</td>\n",
       "      <td>0.0</td>\n",
       "    </tr>\n",
       "    <tr>\n",
       "      <th>18</th>\n",
       "      <td>i started feeling sentimental about dolls i ha...</td>\n",
       "      <td>sadness</td>\n",
       "      <td>125</td>\n",
       "      <td>1</td>\n",
       "      <td>0.0</td>\n",
       "      <td>1.0</td>\n",
       "      <td>0.0</td>\n",
       "      <td>0.0</td>\n",
       "      <td>0.0</td>\n",
       "      <td>0.0</td>\n",
       "    </tr>\n",
       "    <tr>\n",
       "      <th>19</th>\n",
       "      <td>i now feel compromised and skeptical of the va...</td>\n",
       "      <td>fear</td>\n",
       "      <td>80</td>\n",
       "      <td>3</td>\n",
       "      <td>0.0</td>\n",
       "      <td>0.0</td>\n",
       "      <td>0.0</td>\n",
       "      <td>1.0</td>\n",
       "      <td>0.0</td>\n",
       "      <td>0.0</td>\n",
       "    </tr>\n",
       "  </tbody>\n",
       "</table>\n",
       "</div>"
      ],
      "text/plain": [
       "                                              Comment   Emotion  Text_Length  \\\n",
       "0                             i didnt feel humiliated   sadness           23   \n",
       "1   i can go from feeling so hopeless to so damned...   sadness          108   \n",
       "2    im grabbing a minute to post i feel greedy wrong     anger           48   \n",
       "3   i am ever feeling nostalgic about the fireplac...      love           92   \n",
       "4                                i am feeling grouchy     anger           20   \n",
       "5   ive been feeling a little burdened lately wasn...   sadness           65   \n",
       "6   ive been taking or milligrams or times recomme...  surprise          122   \n",
       "7   i feel as confused about life as a teenager or...      fear           73   \n",
       "8   i have been with petronas for years i feel tha...       joy           98   \n",
       "9                                 i feel romantic too      love           19   \n",
       "10  i feel like i have to make the suffering i m s...   sadness           66   \n",
       "11  i do feel that running is a divine experience ...       joy          108   \n",
       "12  i think it s the easiest time of year to feel ...     anger           58   \n",
       "13                 i feel low energy i m just thirsty   sadness           34   \n",
       "14  i have immense sympathy with the general point...       joy          219   \n",
       "15    i do not feel reassured anxiety is on each side       joy           47   \n",
       "16               i didnt really feel that embarrassed   sadness           36   \n",
       "17            i feel pretty pathetic most of the time   sadness           39   \n",
       "18  i started feeling sentimental about dolls i ha...   sadness          125   \n",
       "19  i now feel compromised and skeptical of the va...      fear           80   \n",
       "\n",
       "    Label    0    1    2    3    4    5  \n",
       "0       1  0.0  1.0  0.0  0.0  0.0  0.0  \n",
       "1       1  0.0  1.0  0.0  0.0  0.0  0.0  \n",
       "2       2  0.0  0.0  1.0  0.0  0.0  0.0  \n",
       "3       4  0.0  0.0  0.0  0.0  1.0  0.0  \n",
       "4       2  0.0  0.0  1.0  0.0  0.0  0.0  \n",
       "5       1  0.0  1.0  0.0  0.0  0.0  0.0  \n",
       "6       5  0.0  0.0  0.0  0.0  0.0  1.0  \n",
       "7       3  0.0  0.0  0.0  1.0  0.0  0.0  \n",
       "8       0  1.0  0.0  0.0  0.0  0.0  0.0  \n",
       "9       4  0.0  0.0  0.0  0.0  1.0  0.0  \n",
       "10      1  0.0  1.0  0.0  0.0  0.0  0.0  \n",
       "11      0  1.0  0.0  0.0  0.0  0.0  0.0  \n",
       "12      2  0.0  0.0  1.0  0.0  0.0  0.0  \n",
       "13      1  0.0  1.0  0.0  0.0  0.0  0.0  \n",
       "14      0  1.0  0.0  0.0  0.0  0.0  0.0  \n",
       "15      0  1.0  0.0  0.0  0.0  0.0  0.0  \n",
       "16      1  0.0  1.0  0.0  0.0  0.0  0.0  \n",
       "17      1  0.0  1.0  0.0  0.0  0.0  0.0  \n",
       "18      1  0.0  1.0  0.0  0.0  0.0  0.0  \n",
       "19      3  0.0  0.0  0.0  1.0  0.0  0.0  "
      ]
     },
     "execution_count": 36,
     "metadata": {},
     "output_type": "execute_result"
    }
   ],
   "source": [
    "df.head(20)"
   ]
  },
  {
   "cell_type": "code",
   "execution_count": 37,
   "id": "d3fb5966",
   "metadata": {},
   "outputs": [],
   "source": [
    "df.rename(columns={'0': 'joy', '1': 'sadness',\"2\":\"anger\",\"3\":\"fear\",\"4\":\"love\",\"5\":\"surprise\"}, inplace=True)"
   ]
  },
  {
   "cell_type": "code",
   "execution_count": 38,
   "id": "e8e4dce0",
   "metadata": {},
   "outputs": [
    {
     "data": {
      "text/html": [
       "<div>\n",
       "<style scoped>\n",
       "    .dataframe tbody tr th:only-of-type {\n",
       "        vertical-align: middle;\n",
       "    }\n",
       "\n",
       "    .dataframe tbody tr th {\n",
       "        vertical-align: top;\n",
       "    }\n",
       "\n",
       "    .dataframe thead th {\n",
       "        text-align: right;\n",
       "    }\n",
       "</style>\n",
       "<table border=\"1\" class=\"dataframe\">\n",
       "  <thead>\n",
       "    <tr style=\"text-align: right;\">\n",
       "      <th></th>\n",
       "      <th>Comment</th>\n",
       "      <th>Emotion</th>\n",
       "      <th>Text_Length</th>\n",
       "      <th>Label</th>\n",
       "      <th>joy</th>\n",
       "      <th>sadness</th>\n",
       "      <th>anger</th>\n",
       "      <th>fear</th>\n",
       "      <th>love</th>\n",
       "      <th>surprise</th>\n",
       "    </tr>\n",
       "  </thead>\n",
       "  <tbody>\n",
       "    <tr>\n",
       "      <th>0</th>\n",
       "      <td>i didnt feel humiliated</td>\n",
       "      <td>sadness</td>\n",
       "      <td>23</td>\n",
       "      <td>1</td>\n",
       "      <td>0.0</td>\n",
       "      <td>1.0</td>\n",
       "      <td>0.0</td>\n",
       "      <td>0.0</td>\n",
       "      <td>0.0</td>\n",
       "      <td>0.0</td>\n",
       "    </tr>\n",
       "    <tr>\n",
       "      <th>1</th>\n",
       "      <td>i can go from feeling so hopeless to so damned...</td>\n",
       "      <td>sadness</td>\n",
       "      <td>108</td>\n",
       "      <td>1</td>\n",
       "      <td>0.0</td>\n",
       "      <td>1.0</td>\n",
       "      <td>0.0</td>\n",
       "      <td>0.0</td>\n",
       "      <td>0.0</td>\n",
       "      <td>0.0</td>\n",
       "    </tr>\n",
       "    <tr>\n",
       "      <th>2</th>\n",
       "      <td>im grabbing a minute to post i feel greedy wrong</td>\n",
       "      <td>anger</td>\n",
       "      <td>48</td>\n",
       "      <td>2</td>\n",
       "      <td>0.0</td>\n",
       "      <td>0.0</td>\n",
       "      <td>1.0</td>\n",
       "      <td>0.0</td>\n",
       "      <td>0.0</td>\n",
       "      <td>0.0</td>\n",
       "    </tr>\n",
       "    <tr>\n",
       "      <th>3</th>\n",
       "      <td>i am ever feeling nostalgic about the fireplac...</td>\n",
       "      <td>love</td>\n",
       "      <td>92</td>\n",
       "      <td>4</td>\n",
       "      <td>0.0</td>\n",
       "      <td>0.0</td>\n",
       "      <td>0.0</td>\n",
       "      <td>0.0</td>\n",
       "      <td>1.0</td>\n",
       "      <td>0.0</td>\n",
       "    </tr>\n",
       "    <tr>\n",
       "      <th>4</th>\n",
       "      <td>i am feeling grouchy</td>\n",
       "      <td>anger</td>\n",
       "      <td>20</td>\n",
       "      <td>2</td>\n",
       "      <td>0.0</td>\n",
       "      <td>0.0</td>\n",
       "      <td>1.0</td>\n",
       "      <td>0.0</td>\n",
       "      <td>0.0</td>\n",
       "      <td>0.0</td>\n",
       "    </tr>\n",
       "  </tbody>\n",
       "</table>\n",
       "</div>"
      ],
      "text/plain": [
       "                                             Comment  Emotion  Text_Length  \\\n",
       "0                            i didnt feel humiliated  sadness           23   \n",
       "1  i can go from feeling so hopeless to so damned...  sadness          108   \n",
       "2   im grabbing a minute to post i feel greedy wrong    anger           48   \n",
       "3  i am ever feeling nostalgic about the fireplac...     love           92   \n",
       "4                               i am feeling grouchy    anger           20   \n",
       "\n",
       "   Label  joy  sadness  anger  fear  love  surprise  \n",
       "0      1  0.0      1.0    0.0   0.0   0.0       0.0  \n",
       "1      1  0.0      1.0    0.0   0.0   0.0       0.0  \n",
       "2      2  0.0      0.0    1.0   0.0   0.0       0.0  \n",
       "3      4  0.0      0.0    0.0   0.0   1.0       0.0  \n",
       "4      2  0.0      0.0    1.0   0.0   0.0       0.0  "
      ]
     },
     "execution_count": 38,
     "metadata": {},
     "output_type": "execute_result"
    }
   ],
   "source": [
    "df.head()"
   ]
  },
  {
   "cell_type": "code",
   "execution_count": 39,
   "id": "6307c1f7",
   "metadata": {},
   "outputs": [],
   "source": [
    "df.drop(['Emotion'],axis=1,inplace=True)"
   ]
  },
  {
   "cell_type": "code",
   "execution_count": 40,
   "id": "296a5923",
   "metadata": {},
   "outputs": [],
   "source": [
    "df.drop(['Text_Length'],axis=1,inplace=True)"
   ]
  },
  {
   "cell_type": "code",
   "execution_count": 42,
   "id": "d7539b0a",
   "metadata": {},
   "outputs": [],
   "source": [
    "df.drop(['Label'],axis=1,inplace=True)"
   ]
  },
  {
   "cell_type": "code",
   "execution_count": 43,
   "id": "0c61bb8a",
   "metadata": {},
   "outputs": [
    {
     "data": {
      "text/html": [
       "<div>\n",
       "<style scoped>\n",
       "    .dataframe tbody tr th:only-of-type {\n",
       "        vertical-align: middle;\n",
       "    }\n",
       "\n",
       "    .dataframe tbody tr th {\n",
       "        vertical-align: top;\n",
       "    }\n",
       "\n",
       "    .dataframe thead th {\n",
       "        text-align: right;\n",
       "    }\n",
       "</style>\n",
       "<table border=\"1\" class=\"dataframe\">\n",
       "  <thead>\n",
       "    <tr style=\"text-align: right;\">\n",
       "      <th></th>\n",
       "      <th>Comment</th>\n",
       "      <th>joy</th>\n",
       "      <th>sadness</th>\n",
       "      <th>anger</th>\n",
       "      <th>fear</th>\n",
       "      <th>love</th>\n",
       "      <th>surprise</th>\n",
       "    </tr>\n",
       "  </thead>\n",
       "  <tbody>\n",
       "    <tr>\n",
       "      <th>0</th>\n",
       "      <td>i didnt feel humiliated</td>\n",
       "      <td>0.0</td>\n",
       "      <td>1.0</td>\n",
       "      <td>0.0</td>\n",
       "      <td>0.0</td>\n",
       "      <td>0.0</td>\n",
       "      <td>0.0</td>\n",
       "    </tr>\n",
       "    <tr>\n",
       "      <th>1</th>\n",
       "      <td>i can go from feeling so hopeless to so damned...</td>\n",
       "      <td>0.0</td>\n",
       "      <td>1.0</td>\n",
       "      <td>0.0</td>\n",
       "      <td>0.0</td>\n",
       "      <td>0.0</td>\n",
       "      <td>0.0</td>\n",
       "    </tr>\n",
       "    <tr>\n",
       "      <th>2</th>\n",
       "      <td>im grabbing a minute to post i feel greedy wrong</td>\n",
       "      <td>0.0</td>\n",
       "      <td>0.0</td>\n",
       "      <td>1.0</td>\n",
       "      <td>0.0</td>\n",
       "      <td>0.0</td>\n",
       "      <td>0.0</td>\n",
       "    </tr>\n",
       "    <tr>\n",
       "      <th>3</th>\n",
       "      <td>i am ever feeling nostalgic about the fireplac...</td>\n",
       "      <td>0.0</td>\n",
       "      <td>0.0</td>\n",
       "      <td>0.0</td>\n",
       "      <td>0.0</td>\n",
       "      <td>1.0</td>\n",
       "      <td>0.0</td>\n",
       "    </tr>\n",
       "    <tr>\n",
       "      <th>4</th>\n",
       "      <td>i am feeling grouchy</td>\n",
       "      <td>0.0</td>\n",
       "      <td>0.0</td>\n",
       "      <td>1.0</td>\n",
       "      <td>0.0</td>\n",
       "      <td>0.0</td>\n",
       "      <td>0.0</td>\n",
       "    </tr>\n",
       "  </tbody>\n",
       "</table>\n",
       "</div>"
      ],
      "text/plain": [
       "                                             Comment  joy  sadness  anger  \\\n",
       "0                            i didnt feel humiliated  0.0      1.0    0.0   \n",
       "1  i can go from feeling so hopeless to so damned...  0.0      1.0    0.0   \n",
       "2   im grabbing a minute to post i feel greedy wrong  0.0      0.0    1.0   \n",
       "3  i am ever feeling nostalgic about the fireplac...  0.0      0.0    0.0   \n",
       "4                               i am feeling grouchy  0.0      0.0    1.0   \n",
       "\n",
       "   fear  love  surprise  \n",
       "0   0.0   0.0       0.0  \n",
       "1   0.0   0.0       0.0  \n",
       "2   0.0   0.0       0.0  \n",
       "3   0.0   1.0       0.0  \n",
       "4   0.0   0.0       0.0  "
      ]
     },
     "execution_count": 43,
     "metadata": {},
     "output_type": "execute_result"
    }
   ],
   "source": [
    "df.head()"
   ]
  },
  {
   "cell_type": "code",
   "execution_count": 52,
   "id": "0cac5a27",
   "metadata": {},
   "outputs": [],
   "source": [
    "df2 = df[[\"joy\",\"sadness\",\"anger\",\"fear\",\"love\",\"surprise\"]].astype(int)"
   ]
  },
  {
   "cell_type": "code",
   "execution_count": 53,
   "id": "5d501553",
   "metadata": {},
   "outputs": [
    {
     "data": {
      "text/html": [
       "<div>\n",
       "<style scoped>\n",
       "    .dataframe tbody tr th:only-of-type {\n",
       "        vertical-align: middle;\n",
       "    }\n",
       "\n",
       "    .dataframe tbody tr th {\n",
       "        vertical-align: top;\n",
       "    }\n",
       "\n",
       "    .dataframe thead th {\n",
       "        text-align: right;\n",
       "    }\n",
       "</style>\n",
       "<table border=\"1\" class=\"dataframe\">\n",
       "  <thead>\n",
       "    <tr style=\"text-align: right;\">\n",
       "      <th></th>\n",
       "      <th>joy</th>\n",
       "      <th>sadness</th>\n",
       "      <th>anger</th>\n",
       "      <th>fear</th>\n",
       "      <th>love</th>\n",
       "      <th>surprise</th>\n",
       "    </tr>\n",
       "  </thead>\n",
       "  <tbody>\n",
       "    <tr>\n",
       "      <th>0</th>\n",
       "      <td>0</td>\n",
       "      <td>1</td>\n",
       "      <td>0</td>\n",
       "      <td>0</td>\n",
       "      <td>0</td>\n",
       "      <td>0</td>\n",
       "    </tr>\n",
       "    <tr>\n",
       "      <th>1</th>\n",
       "      <td>0</td>\n",
       "      <td>1</td>\n",
       "      <td>0</td>\n",
       "      <td>0</td>\n",
       "      <td>0</td>\n",
       "      <td>0</td>\n",
       "    </tr>\n",
       "    <tr>\n",
       "      <th>2</th>\n",
       "      <td>0</td>\n",
       "      <td>0</td>\n",
       "      <td>1</td>\n",
       "      <td>0</td>\n",
       "      <td>0</td>\n",
       "      <td>0</td>\n",
       "    </tr>\n",
       "    <tr>\n",
       "      <th>3</th>\n",
       "      <td>0</td>\n",
       "      <td>0</td>\n",
       "      <td>0</td>\n",
       "      <td>0</td>\n",
       "      <td>1</td>\n",
       "      <td>0</td>\n",
       "    </tr>\n",
       "    <tr>\n",
       "      <th>4</th>\n",
       "      <td>0</td>\n",
       "      <td>0</td>\n",
       "      <td>1</td>\n",
       "      <td>0</td>\n",
       "      <td>0</td>\n",
       "      <td>0</td>\n",
       "    </tr>\n",
       "  </tbody>\n",
       "</table>\n",
       "</div>"
      ],
      "text/plain": [
       "   joy  sadness  anger  fear  love  surprise\n",
       "0    0        1      0     0     0         0\n",
       "1    0        1      0     0     0         0\n",
       "2    0        0      1     0     0         0\n",
       "3    0        0      0     0     1         0\n",
       "4    0        0      1     0     0         0"
      ]
     },
     "execution_count": 53,
     "metadata": {},
     "output_type": "execute_result"
    }
   ],
   "source": [
    "df2.head()"
   ]
  },
  {
   "cell_type": "code",
   "execution_count": 57,
   "id": "f48c0c50",
   "metadata": {},
   "outputs": [],
   "source": [
    "df3 = pd.concat([df[\"Comment\"], df2], axis=1)"
   ]
  },
  {
   "cell_type": "code",
   "execution_count": 58,
   "id": "9df047a0",
   "metadata": {},
   "outputs": [
    {
     "data": {
      "text/html": [
       "<div>\n",
       "<style scoped>\n",
       "    .dataframe tbody tr th:only-of-type {\n",
       "        vertical-align: middle;\n",
       "    }\n",
       "\n",
       "    .dataframe tbody tr th {\n",
       "        vertical-align: top;\n",
       "    }\n",
       "\n",
       "    .dataframe thead th {\n",
       "        text-align: right;\n",
       "    }\n",
       "</style>\n",
       "<table border=\"1\" class=\"dataframe\">\n",
       "  <thead>\n",
       "    <tr style=\"text-align: right;\">\n",
       "      <th></th>\n",
       "      <th>Comment</th>\n",
       "      <th>joy</th>\n",
       "      <th>sadness</th>\n",
       "      <th>anger</th>\n",
       "      <th>fear</th>\n",
       "      <th>love</th>\n",
       "      <th>surprise</th>\n",
       "    </tr>\n",
       "  </thead>\n",
       "  <tbody>\n",
       "    <tr>\n",
       "      <th>0</th>\n",
       "      <td>i didnt feel humiliated</td>\n",
       "      <td>0</td>\n",
       "      <td>1</td>\n",
       "      <td>0</td>\n",
       "      <td>0</td>\n",
       "      <td>0</td>\n",
       "      <td>0</td>\n",
       "    </tr>\n",
       "    <tr>\n",
       "      <th>1</th>\n",
       "      <td>i can go from feeling so hopeless to so damned...</td>\n",
       "      <td>0</td>\n",
       "      <td>1</td>\n",
       "      <td>0</td>\n",
       "      <td>0</td>\n",
       "      <td>0</td>\n",
       "      <td>0</td>\n",
       "    </tr>\n",
       "    <tr>\n",
       "      <th>2</th>\n",
       "      <td>im grabbing a minute to post i feel greedy wrong</td>\n",
       "      <td>0</td>\n",
       "      <td>0</td>\n",
       "      <td>1</td>\n",
       "      <td>0</td>\n",
       "      <td>0</td>\n",
       "      <td>0</td>\n",
       "    </tr>\n",
       "    <tr>\n",
       "      <th>3</th>\n",
       "      <td>i am ever feeling nostalgic about the fireplac...</td>\n",
       "      <td>0</td>\n",
       "      <td>0</td>\n",
       "      <td>0</td>\n",
       "      <td>0</td>\n",
       "      <td>1</td>\n",
       "      <td>0</td>\n",
       "    </tr>\n",
       "    <tr>\n",
       "      <th>4</th>\n",
       "      <td>i am feeling grouchy</td>\n",
       "      <td>0</td>\n",
       "      <td>0</td>\n",
       "      <td>1</td>\n",
       "      <td>0</td>\n",
       "      <td>0</td>\n",
       "      <td>0</td>\n",
       "    </tr>\n",
       "  </tbody>\n",
       "</table>\n",
       "</div>"
      ],
      "text/plain": [
       "                                             Comment  joy  sadness  anger  \\\n",
       "0                            i didnt feel humiliated    0        1      0   \n",
       "1  i can go from feeling so hopeless to so damned...    0        1      0   \n",
       "2   im grabbing a minute to post i feel greedy wrong    0        0      1   \n",
       "3  i am ever feeling nostalgic about the fireplac...    0        0      0   \n",
       "4                               i am feeling grouchy    0        0      1   \n",
       "\n",
       "   fear  love  surprise  \n",
       "0     0     0         0  \n",
       "1     0     0         0  \n",
       "2     0     0         0  \n",
       "3     0     1         0  \n",
       "4     0     0         0  "
      ]
     },
     "execution_count": 58,
     "metadata": {},
     "output_type": "execute_result"
    }
   ],
   "source": [
    "df3.head()"
   ]
  },
  {
   "cell_type": "code",
   "execution_count": 60,
   "id": "bf430afe",
   "metadata": {},
   "outputs": [],
   "source": [
    "df3.to_csv(\"emotion_train_data.csv\")"
   ]
  },
  {
   "cell_type": "code",
   "execution_count": 61,
   "id": "20f669da",
   "metadata": {},
   "outputs": [
    {
     "data": {
      "text/html": [
       "<div>\n",
       "<style scoped>\n",
       "    .dataframe tbody tr th:only-of-type {\n",
       "        vertical-align: middle;\n",
       "    }\n",
       "\n",
       "    .dataframe tbody tr th {\n",
       "        vertical-align: top;\n",
       "    }\n",
       "\n",
       "    .dataframe thead th {\n",
       "        text-align: right;\n",
       "    }\n",
       "</style>\n",
       "<table border=\"1\" class=\"dataframe\">\n",
       "  <thead>\n",
       "    <tr style=\"text-align: right;\">\n",
       "      <th></th>\n",
       "      <th>Comment</th>\n",
       "      <th>Emotion</th>\n",
       "      <th>Label</th>\n",
       "    </tr>\n",
       "  </thead>\n",
       "  <tbody>\n",
       "    <tr>\n",
       "      <th>0</th>\n",
       "      <td>im feeling rather rotten so im not very ambiti...</td>\n",
       "      <td>sadness</td>\n",
       "      <td>1</td>\n",
       "    </tr>\n",
       "    <tr>\n",
       "      <th>1</th>\n",
       "      <td>im updating my blog because i feel shitty</td>\n",
       "      <td>sadness</td>\n",
       "      <td>1</td>\n",
       "    </tr>\n",
       "    <tr>\n",
       "      <th>2</th>\n",
       "      <td>i never make her separate from me because i do...</td>\n",
       "      <td>sadness</td>\n",
       "      <td>1</td>\n",
       "    </tr>\n",
       "    <tr>\n",
       "      <th>3</th>\n",
       "      <td>i left with my bouquet of red and yellow tulip...</td>\n",
       "      <td>joy</td>\n",
       "      <td>0</td>\n",
       "    </tr>\n",
       "    <tr>\n",
       "      <th>4</th>\n",
       "      <td>i was feeling a little vain when i did this one</td>\n",
       "      <td>sadness</td>\n",
       "      <td>1</td>\n",
       "    </tr>\n",
       "  </tbody>\n",
       "</table>\n",
       "</div>"
      ],
      "text/plain": [
       "                                             Comment  Emotion  Label\n",
       "0  im feeling rather rotten so im not very ambiti...  sadness      1\n",
       "1          im updating my blog because i feel shitty  sadness      1\n",
       "2  i never make her separate from me because i do...  sadness      1\n",
       "3  i left with my bouquet of red and yellow tulip...      joy      0\n",
       "4    i was feeling a little vain when i did this one  sadness      1"
      ]
     },
     "execution_count": 61,
     "metadata": {},
     "output_type": "execute_result"
    }
   ],
   "source": [
    "test_data.head()"
   ]
  },
  {
   "cell_type": "code",
   "execution_count": 63,
   "id": "f9237800",
   "metadata": {},
   "outputs": [
    {
     "data": {
      "text/html": [
       "<div>\n",
       "<style scoped>\n",
       "    .dataframe tbody tr th:only-of-type {\n",
       "        vertical-align: middle;\n",
       "    }\n",
       "\n",
       "    .dataframe tbody tr th {\n",
       "        vertical-align: top;\n",
       "    }\n",
       "\n",
       "    .dataframe thead th {\n",
       "        text-align: right;\n",
       "    }\n",
       "</style>\n",
       "<table border=\"1\" class=\"dataframe\">\n",
       "  <thead>\n",
       "    <tr style=\"text-align: right;\">\n",
       "      <th></th>\n",
       "      <th>Comment</th>\n",
       "      <th>Emotion</th>\n",
       "      <th>Label</th>\n",
       "      <th>0</th>\n",
       "      <th>1</th>\n",
       "      <th>2</th>\n",
       "      <th>3</th>\n",
       "      <th>4</th>\n",
       "      <th>5</th>\n",
       "    </tr>\n",
       "  </thead>\n",
       "  <tbody>\n",
       "    <tr>\n",
       "      <th>0</th>\n",
       "      <td>im feeling rather rotten so im not very ambiti...</td>\n",
       "      <td>sadness</td>\n",
       "      <td>1</td>\n",
       "      <td>0.0</td>\n",
       "      <td>1.0</td>\n",
       "      <td>0.0</td>\n",
       "      <td>0.0</td>\n",
       "      <td>0.0</td>\n",
       "      <td>0.0</td>\n",
       "    </tr>\n",
       "    <tr>\n",
       "      <th>1</th>\n",
       "      <td>im updating my blog because i feel shitty</td>\n",
       "      <td>sadness</td>\n",
       "      <td>1</td>\n",
       "      <td>0.0</td>\n",
       "      <td>1.0</td>\n",
       "      <td>0.0</td>\n",
       "      <td>0.0</td>\n",
       "      <td>0.0</td>\n",
       "      <td>0.0</td>\n",
       "    </tr>\n",
       "    <tr>\n",
       "      <th>2</th>\n",
       "      <td>i never make her separate from me because i do...</td>\n",
       "      <td>sadness</td>\n",
       "      <td>1</td>\n",
       "      <td>0.0</td>\n",
       "      <td>1.0</td>\n",
       "      <td>0.0</td>\n",
       "      <td>0.0</td>\n",
       "      <td>0.0</td>\n",
       "      <td>0.0</td>\n",
       "    </tr>\n",
       "    <tr>\n",
       "      <th>3</th>\n",
       "      <td>i left with my bouquet of red and yellow tulip...</td>\n",
       "      <td>joy</td>\n",
       "      <td>0</td>\n",
       "      <td>1.0</td>\n",
       "      <td>0.0</td>\n",
       "      <td>0.0</td>\n",
       "      <td>0.0</td>\n",
       "      <td>0.0</td>\n",
       "      <td>0.0</td>\n",
       "    </tr>\n",
       "    <tr>\n",
       "      <th>4</th>\n",
       "      <td>i was feeling a little vain when i did this one</td>\n",
       "      <td>sadness</td>\n",
       "      <td>1</td>\n",
       "      <td>0.0</td>\n",
       "      <td>1.0</td>\n",
       "      <td>0.0</td>\n",
       "      <td>0.0</td>\n",
       "      <td>0.0</td>\n",
       "      <td>0.0</td>\n",
       "    </tr>\n",
       "  </tbody>\n",
       "</table>\n",
       "</div>"
      ],
      "text/plain": [
       "                                             Comment  Emotion  Label    0  \\\n",
       "0  im feeling rather rotten so im not very ambiti...  sadness      1  0.0   \n",
       "1          im updating my blog because i feel shitty  sadness      1  0.0   \n",
       "2  i never make her separate from me because i do...  sadness      1  0.0   \n",
       "3  i left with my bouquet of red and yellow tulip...      joy      0  1.0   \n",
       "4    i was feeling a little vain when i did this one  sadness      1  0.0   \n",
       "\n",
       "     1    2    3    4    5  \n",
       "0  1.0  0.0  0.0  0.0  0.0  \n",
       "1  1.0  0.0  0.0  0.0  0.0  \n",
       "2  1.0  0.0  0.0  0.0  0.0  \n",
       "3  0.0  0.0  0.0  0.0  0.0  \n",
       "4  1.0  0.0  0.0  0.0  0.0  "
      ]
     },
     "execution_count": 63,
     "metadata": {},
     "output_type": "execute_result"
    }
   ],
   "source": [
    "# creating one hot encoder object \n",
    "onehotencoder = OneHotEncoder()\n",
    "#reshape the 1-D country array to 2-D as fit_transform expects 2-D and finally fit the object \n",
    "X = onehotencoder.fit_transform(test_data.Label.values.reshape(-1,1)).toarray()\n",
    "#To add this back into the original dataframe \n",
    "dfOneHot = pd.DataFrame(X, columns = [str(int(i)) for i in range(test_data[\"Label\"].nunique())]) \n",
    "df_test = pd.concat([test_data, dfOneHot], axis=1)\n",
    "#printing to verify \n",
    "df_test.head()"
   ]
  },
  {
   "cell_type": "code",
   "execution_count": 65,
   "id": "a90b18f2",
   "metadata": {},
   "outputs": [],
   "source": [
    "df_test.drop(['Emotion',\"Label\"],axis=1,inplace=True)"
   ]
  },
  {
   "cell_type": "code",
   "execution_count": 66,
   "id": "bcdcbb2d",
   "metadata": {
    "scrolled": true
   },
   "outputs": [
    {
     "data": {
      "text/html": [
       "<div>\n",
       "<style scoped>\n",
       "    .dataframe tbody tr th:only-of-type {\n",
       "        vertical-align: middle;\n",
       "    }\n",
       "\n",
       "    .dataframe tbody tr th {\n",
       "        vertical-align: top;\n",
       "    }\n",
       "\n",
       "    .dataframe thead th {\n",
       "        text-align: right;\n",
       "    }\n",
       "</style>\n",
       "<table border=\"1\" class=\"dataframe\">\n",
       "  <thead>\n",
       "    <tr style=\"text-align: right;\">\n",
       "      <th></th>\n",
       "      <th>Comment</th>\n",
       "      <th>0</th>\n",
       "      <th>1</th>\n",
       "      <th>2</th>\n",
       "      <th>3</th>\n",
       "      <th>4</th>\n",
       "      <th>5</th>\n",
       "    </tr>\n",
       "  </thead>\n",
       "  <tbody>\n",
       "    <tr>\n",
       "      <th>0</th>\n",
       "      <td>im feeling rather rotten so im not very ambiti...</td>\n",
       "      <td>0.0</td>\n",
       "      <td>1.0</td>\n",
       "      <td>0.0</td>\n",
       "      <td>0.0</td>\n",
       "      <td>0.0</td>\n",
       "      <td>0.0</td>\n",
       "    </tr>\n",
       "    <tr>\n",
       "      <th>1</th>\n",
       "      <td>im updating my blog because i feel shitty</td>\n",
       "      <td>0.0</td>\n",
       "      <td>1.0</td>\n",
       "      <td>0.0</td>\n",
       "      <td>0.0</td>\n",
       "      <td>0.0</td>\n",
       "      <td>0.0</td>\n",
       "    </tr>\n",
       "    <tr>\n",
       "      <th>2</th>\n",
       "      <td>i never make her separate from me because i do...</td>\n",
       "      <td>0.0</td>\n",
       "      <td>1.0</td>\n",
       "      <td>0.0</td>\n",
       "      <td>0.0</td>\n",
       "      <td>0.0</td>\n",
       "      <td>0.0</td>\n",
       "    </tr>\n",
       "    <tr>\n",
       "      <th>3</th>\n",
       "      <td>i left with my bouquet of red and yellow tulip...</td>\n",
       "      <td>1.0</td>\n",
       "      <td>0.0</td>\n",
       "      <td>0.0</td>\n",
       "      <td>0.0</td>\n",
       "      <td>0.0</td>\n",
       "      <td>0.0</td>\n",
       "    </tr>\n",
       "    <tr>\n",
       "      <th>4</th>\n",
       "      <td>i was feeling a little vain when i did this one</td>\n",
       "      <td>0.0</td>\n",
       "      <td>1.0</td>\n",
       "      <td>0.0</td>\n",
       "      <td>0.0</td>\n",
       "      <td>0.0</td>\n",
       "      <td>0.0</td>\n",
       "    </tr>\n",
       "  </tbody>\n",
       "</table>\n",
       "</div>"
      ],
      "text/plain": [
       "                                             Comment    0    1    2    3    4  \\\n",
       "0  im feeling rather rotten so im not very ambiti...  0.0  1.0  0.0  0.0  0.0   \n",
       "1          im updating my blog because i feel shitty  0.0  1.0  0.0  0.0  0.0   \n",
       "2  i never make her separate from me because i do...  0.0  1.0  0.0  0.0  0.0   \n",
       "3  i left with my bouquet of red and yellow tulip...  1.0  0.0  0.0  0.0  0.0   \n",
       "4    i was feeling a little vain when i did this one  0.0  1.0  0.0  0.0  0.0   \n",
       "\n",
       "     5  \n",
       "0  0.0  \n",
       "1  0.0  \n",
       "2  0.0  \n",
       "3  0.0  \n",
       "4  0.0  "
      ]
     },
     "execution_count": 66,
     "metadata": {},
     "output_type": "execute_result"
    }
   ],
   "source": [
    "df_test.head()"
   ]
  },
  {
   "cell_type": "code",
   "execution_count": 68,
   "id": "da20c1b1",
   "metadata": {},
   "outputs": [],
   "source": [
    "df_test.rename(columns={'0': 'joy', '1': 'sadness',\"2\":\"anger\",\"3\":\"fear\",\"4\":\"love\",\"5\":\"surprise\"}, inplace=True)"
   ]
  },
  {
   "cell_type": "code",
   "execution_count": 69,
   "id": "f185d880",
   "metadata": {},
   "outputs": [],
   "source": [
    "df_test1 = df_test[[\"joy\",\"sadness\",\"anger\",\"fear\",\"love\",\"surprise\"]].astype(int)"
   ]
  },
  {
   "cell_type": "code",
   "execution_count": 70,
   "id": "15c8f297",
   "metadata": {},
   "outputs": [
    {
     "data": {
      "text/html": [
       "<div>\n",
       "<style scoped>\n",
       "    .dataframe tbody tr th:only-of-type {\n",
       "        vertical-align: middle;\n",
       "    }\n",
       "\n",
       "    .dataframe tbody tr th {\n",
       "        vertical-align: top;\n",
       "    }\n",
       "\n",
       "    .dataframe thead th {\n",
       "        text-align: right;\n",
       "    }\n",
       "</style>\n",
       "<table border=\"1\" class=\"dataframe\">\n",
       "  <thead>\n",
       "    <tr style=\"text-align: right;\">\n",
       "      <th></th>\n",
       "      <th>joy</th>\n",
       "      <th>sadness</th>\n",
       "      <th>anger</th>\n",
       "      <th>fear</th>\n",
       "      <th>love</th>\n",
       "      <th>surprise</th>\n",
       "    </tr>\n",
       "  </thead>\n",
       "  <tbody>\n",
       "    <tr>\n",
       "      <th>0</th>\n",
       "      <td>0</td>\n",
       "      <td>1</td>\n",
       "      <td>0</td>\n",
       "      <td>0</td>\n",
       "      <td>0</td>\n",
       "      <td>0</td>\n",
       "    </tr>\n",
       "    <tr>\n",
       "      <th>1</th>\n",
       "      <td>0</td>\n",
       "      <td>1</td>\n",
       "      <td>0</td>\n",
       "      <td>0</td>\n",
       "      <td>0</td>\n",
       "      <td>0</td>\n",
       "    </tr>\n",
       "    <tr>\n",
       "      <th>2</th>\n",
       "      <td>0</td>\n",
       "      <td>1</td>\n",
       "      <td>0</td>\n",
       "      <td>0</td>\n",
       "      <td>0</td>\n",
       "      <td>0</td>\n",
       "    </tr>\n",
       "    <tr>\n",
       "      <th>3</th>\n",
       "      <td>1</td>\n",
       "      <td>0</td>\n",
       "      <td>0</td>\n",
       "      <td>0</td>\n",
       "      <td>0</td>\n",
       "      <td>0</td>\n",
       "    </tr>\n",
       "    <tr>\n",
       "      <th>4</th>\n",
       "      <td>0</td>\n",
       "      <td>1</td>\n",
       "      <td>0</td>\n",
       "      <td>0</td>\n",
       "      <td>0</td>\n",
       "      <td>0</td>\n",
       "    </tr>\n",
       "  </tbody>\n",
       "</table>\n",
       "</div>"
      ],
      "text/plain": [
       "   joy  sadness  anger  fear  love  surprise\n",
       "0    0        1      0     0     0         0\n",
       "1    0        1      0     0     0         0\n",
       "2    0        1      0     0     0         0\n",
       "3    1        0      0     0     0         0\n",
       "4    0        1      0     0     0         0"
      ]
     },
     "execution_count": 70,
     "metadata": {},
     "output_type": "execute_result"
    }
   ],
   "source": [
    "df_test1.head()"
   ]
  },
  {
   "cell_type": "code",
   "execution_count": 71,
   "id": "9e0a0a50",
   "metadata": {},
   "outputs": [],
   "source": [
    "df_test2 = pd.concat([df_test[\"Comment\"], df_test1], axis=1)"
   ]
  },
  {
   "cell_type": "code",
   "execution_count": 72,
   "id": "04648498",
   "metadata": {},
   "outputs": [
    {
     "data": {
      "text/html": [
       "<div>\n",
       "<style scoped>\n",
       "    .dataframe tbody tr th:only-of-type {\n",
       "        vertical-align: middle;\n",
       "    }\n",
       "\n",
       "    .dataframe tbody tr th {\n",
       "        vertical-align: top;\n",
       "    }\n",
       "\n",
       "    .dataframe thead th {\n",
       "        text-align: right;\n",
       "    }\n",
       "</style>\n",
       "<table border=\"1\" class=\"dataframe\">\n",
       "  <thead>\n",
       "    <tr style=\"text-align: right;\">\n",
       "      <th></th>\n",
       "      <th>Comment</th>\n",
       "      <th>joy</th>\n",
       "      <th>sadness</th>\n",
       "      <th>anger</th>\n",
       "      <th>fear</th>\n",
       "      <th>love</th>\n",
       "      <th>surprise</th>\n",
       "    </tr>\n",
       "  </thead>\n",
       "  <tbody>\n",
       "    <tr>\n",
       "      <th>0</th>\n",
       "      <td>im feeling rather rotten so im not very ambiti...</td>\n",
       "      <td>0</td>\n",
       "      <td>1</td>\n",
       "      <td>0</td>\n",
       "      <td>0</td>\n",
       "      <td>0</td>\n",
       "      <td>0</td>\n",
       "    </tr>\n",
       "    <tr>\n",
       "      <th>1</th>\n",
       "      <td>im updating my blog because i feel shitty</td>\n",
       "      <td>0</td>\n",
       "      <td>1</td>\n",
       "      <td>0</td>\n",
       "      <td>0</td>\n",
       "      <td>0</td>\n",
       "      <td>0</td>\n",
       "    </tr>\n",
       "    <tr>\n",
       "      <th>2</th>\n",
       "      <td>i never make her separate from me because i do...</td>\n",
       "      <td>0</td>\n",
       "      <td>1</td>\n",
       "      <td>0</td>\n",
       "      <td>0</td>\n",
       "      <td>0</td>\n",
       "      <td>0</td>\n",
       "    </tr>\n",
       "    <tr>\n",
       "      <th>3</th>\n",
       "      <td>i left with my bouquet of red and yellow tulip...</td>\n",
       "      <td>1</td>\n",
       "      <td>0</td>\n",
       "      <td>0</td>\n",
       "      <td>0</td>\n",
       "      <td>0</td>\n",
       "      <td>0</td>\n",
       "    </tr>\n",
       "    <tr>\n",
       "      <th>4</th>\n",
       "      <td>i was feeling a little vain when i did this one</td>\n",
       "      <td>0</td>\n",
       "      <td>1</td>\n",
       "      <td>0</td>\n",
       "      <td>0</td>\n",
       "      <td>0</td>\n",
       "      <td>0</td>\n",
       "    </tr>\n",
       "  </tbody>\n",
       "</table>\n",
       "</div>"
      ],
      "text/plain": [
       "                                             Comment  joy  sadness  anger  \\\n",
       "0  im feeling rather rotten so im not very ambiti...    0        1      0   \n",
       "1          im updating my blog because i feel shitty    0        1      0   \n",
       "2  i never make her separate from me because i do...    0        1      0   \n",
       "3  i left with my bouquet of red and yellow tulip...    1        0      0   \n",
       "4    i was feeling a little vain when i did this one    0        1      0   \n",
       "\n",
       "   fear  love  surprise  \n",
       "0     0     0         0  \n",
       "1     0     0         0  \n",
       "2     0     0         0  \n",
       "3     0     0         0  \n",
       "4     0     0         0  "
      ]
     },
     "execution_count": 72,
     "metadata": {},
     "output_type": "execute_result"
    }
   ],
   "source": [
    "df_test2.head()"
   ]
  },
  {
   "cell_type": "code",
   "execution_count": 73,
   "id": "cee5dda7",
   "metadata": {},
   "outputs": [],
   "source": [
    "df_test2.to_csv(\"emotion_test_data.csv\")"
   ]
  },
  {
   "cell_type": "code",
   "execution_count": 74,
   "id": "3d3f2be3",
   "metadata": {},
   "outputs": [
    {
     "data": {
      "text/html": [
       "<div>\n",
       "<style scoped>\n",
       "    .dataframe tbody tr th:only-of-type {\n",
       "        vertical-align: middle;\n",
       "    }\n",
       "\n",
       "    .dataframe tbody tr th {\n",
       "        vertical-align: top;\n",
       "    }\n",
       "\n",
       "    .dataframe thead th {\n",
       "        text-align: right;\n",
       "    }\n",
       "</style>\n",
       "<table border=\"1\" class=\"dataframe\">\n",
       "  <thead>\n",
       "    <tr style=\"text-align: right;\">\n",
       "      <th></th>\n",
       "      <th>Comment</th>\n",
       "      <th>Emotion</th>\n",
       "      <th>Label</th>\n",
       "    </tr>\n",
       "  </thead>\n",
       "  <tbody>\n",
       "    <tr>\n",
       "      <th>0</th>\n",
       "      <td>im feeling quite sad and sorry for myself but ...</td>\n",
       "      <td>sadness</td>\n",
       "      <td>1</td>\n",
       "    </tr>\n",
       "    <tr>\n",
       "      <th>1</th>\n",
       "      <td>i feel like i am still looking at a blank canv...</td>\n",
       "      <td>sadness</td>\n",
       "      <td>1</td>\n",
       "    </tr>\n",
       "    <tr>\n",
       "      <th>2</th>\n",
       "      <td>i feel like a faithful servant</td>\n",
       "      <td>love</td>\n",
       "      <td>4</td>\n",
       "    </tr>\n",
       "    <tr>\n",
       "      <th>3</th>\n",
       "      <td>i am just feeling cranky and blue</td>\n",
       "      <td>anger</td>\n",
       "      <td>2</td>\n",
       "    </tr>\n",
       "    <tr>\n",
       "      <th>4</th>\n",
       "      <td>i can have for a treat or if i am feeling festive</td>\n",
       "      <td>joy</td>\n",
       "      <td>0</td>\n",
       "    </tr>\n",
       "  </tbody>\n",
       "</table>\n",
       "</div>"
      ],
      "text/plain": [
       "                                             Comment  Emotion  Label\n",
       "0  im feeling quite sad and sorry for myself but ...  sadness      1\n",
       "1  i feel like i am still looking at a blank canv...  sadness      1\n",
       "2                     i feel like a faithful servant     love      4\n",
       "3                  i am just feeling cranky and blue    anger      2\n",
       "4  i can have for a treat or if i am feeling festive      joy      0"
      ]
     },
     "execution_count": 74,
     "metadata": {},
     "output_type": "execute_result"
    }
   ],
   "source": [
    "validation_data.head()"
   ]
  },
  {
   "cell_type": "code",
   "execution_count": 75,
   "id": "c8cbaf71",
   "metadata": {},
   "outputs": [
    {
     "data": {
      "text/html": [
       "<div>\n",
       "<style scoped>\n",
       "    .dataframe tbody tr th:only-of-type {\n",
       "        vertical-align: middle;\n",
       "    }\n",
       "\n",
       "    .dataframe tbody tr th {\n",
       "        vertical-align: top;\n",
       "    }\n",
       "\n",
       "    .dataframe thead th {\n",
       "        text-align: right;\n",
       "    }\n",
       "</style>\n",
       "<table border=\"1\" class=\"dataframe\">\n",
       "  <thead>\n",
       "    <tr style=\"text-align: right;\">\n",
       "      <th></th>\n",
       "      <th>Comment</th>\n",
       "      <th>Emotion</th>\n",
       "      <th>Label</th>\n",
       "      <th>0</th>\n",
       "      <th>1</th>\n",
       "      <th>2</th>\n",
       "      <th>3</th>\n",
       "      <th>4</th>\n",
       "      <th>5</th>\n",
       "    </tr>\n",
       "  </thead>\n",
       "  <tbody>\n",
       "    <tr>\n",
       "      <th>0</th>\n",
       "      <td>im feeling quite sad and sorry for myself but ...</td>\n",
       "      <td>sadness</td>\n",
       "      <td>1</td>\n",
       "      <td>0.0</td>\n",
       "      <td>1.0</td>\n",
       "      <td>0.0</td>\n",
       "      <td>0.0</td>\n",
       "      <td>0.0</td>\n",
       "      <td>0.0</td>\n",
       "    </tr>\n",
       "    <tr>\n",
       "      <th>1</th>\n",
       "      <td>i feel like i am still looking at a blank canv...</td>\n",
       "      <td>sadness</td>\n",
       "      <td>1</td>\n",
       "      <td>0.0</td>\n",
       "      <td>1.0</td>\n",
       "      <td>0.0</td>\n",
       "      <td>0.0</td>\n",
       "      <td>0.0</td>\n",
       "      <td>0.0</td>\n",
       "    </tr>\n",
       "    <tr>\n",
       "      <th>2</th>\n",
       "      <td>i feel like a faithful servant</td>\n",
       "      <td>love</td>\n",
       "      <td>4</td>\n",
       "      <td>0.0</td>\n",
       "      <td>0.0</td>\n",
       "      <td>0.0</td>\n",
       "      <td>0.0</td>\n",
       "      <td>1.0</td>\n",
       "      <td>0.0</td>\n",
       "    </tr>\n",
       "    <tr>\n",
       "      <th>3</th>\n",
       "      <td>i am just feeling cranky and blue</td>\n",
       "      <td>anger</td>\n",
       "      <td>2</td>\n",
       "      <td>0.0</td>\n",
       "      <td>0.0</td>\n",
       "      <td>1.0</td>\n",
       "      <td>0.0</td>\n",
       "      <td>0.0</td>\n",
       "      <td>0.0</td>\n",
       "    </tr>\n",
       "    <tr>\n",
       "      <th>4</th>\n",
       "      <td>i can have for a treat or if i am feeling festive</td>\n",
       "      <td>joy</td>\n",
       "      <td>0</td>\n",
       "      <td>1.0</td>\n",
       "      <td>0.0</td>\n",
       "      <td>0.0</td>\n",
       "      <td>0.0</td>\n",
       "      <td>0.0</td>\n",
       "      <td>0.0</td>\n",
       "    </tr>\n",
       "  </tbody>\n",
       "</table>\n",
       "</div>"
      ],
      "text/plain": [
       "                                             Comment  Emotion  Label    0  \\\n",
       "0  im feeling quite sad and sorry for myself but ...  sadness      1  0.0   \n",
       "1  i feel like i am still looking at a blank canv...  sadness      1  0.0   \n",
       "2                     i feel like a faithful servant     love      4  0.0   \n",
       "3                  i am just feeling cranky and blue    anger      2  0.0   \n",
       "4  i can have for a treat or if i am feeling festive      joy      0  1.0   \n",
       "\n",
       "     1    2    3    4    5  \n",
       "0  1.0  0.0  0.0  0.0  0.0  \n",
       "1  1.0  0.0  0.0  0.0  0.0  \n",
       "2  0.0  0.0  0.0  1.0  0.0  \n",
       "3  0.0  1.0  0.0  0.0  0.0  \n",
       "4  0.0  0.0  0.0  0.0  0.0  "
      ]
     },
     "execution_count": 75,
     "metadata": {},
     "output_type": "execute_result"
    }
   ],
   "source": [
    "# creating one hot encoder object \n",
    "onehotencoder = OneHotEncoder()\n",
    "#reshape the 1-D country array to 2-D as fit_transform expects 2-D and finally fit the object \n",
    "X = onehotencoder.fit_transform(validation_data.Label.values.reshape(-1,1)).toarray()\n",
    "#To add this back into the original dataframe \n",
    "dfOneHot = pd.DataFrame(X, columns = [str(int(i)) for i in range(validation_data[\"Label\"].nunique())]) \n",
    "df_val = pd.concat([validation_data, dfOneHot], axis=1)\n",
    "#printing to verify \n",
    "df_val.head()"
   ]
  },
  {
   "cell_type": "code",
   "execution_count": 78,
   "id": "fe25ff5f",
   "metadata": {},
   "outputs": [
    {
     "data": {
      "text/html": [
       "<div>\n",
       "<style scoped>\n",
       "    .dataframe tbody tr th:only-of-type {\n",
       "        vertical-align: middle;\n",
       "    }\n",
       "\n",
       "    .dataframe tbody tr th {\n",
       "        vertical-align: top;\n",
       "    }\n",
       "\n",
       "    .dataframe thead th {\n",
       "        text-align: right;\n",
       "    }\n",
       "</style>\n",
       "<table border=\"1\" class=\"dataframe\">\n",
       "  <thead>\n",
       "    <tr style=\"text-align: right;\">\n",
       "      <th></th>\n",
       "      <th>Comment</th>\n",
       "      <th>joy</th>\n",
       "      <th>sadness</th>\n",
       "      <th>anger</th>\n",
       "      <th>fear</th>\n",
       "      <th>love</th>\n",
       "      <th>surprise</th>\n",
       "    </tr>\n",
       "  </thead>\n",
       "  <tbody>\n",
       "    <tr>\n",
       "      <th>0</th>\n",
       "      <td>im feeling quite sad and sorry for myself but ...</td>\n",
       "      <td>0</td>\n",
       "      <td>1</td>\n",
       "      <td>0</td>\n",
       "      <td>0</td>\n",
       "      <td>0</td>\n",
       "      <td>0</td>\n",
       "    </tr>\n",
       "    <tr>\n",
       "      <th>1</th>\n",
       "      <td>i feel like i am still looking at a blank canv...</td>\n",
       "      <td>0</td>\n",
       "      <td>1</td>\n",
       "      <td>0</td>\n",
       "      <td>0</td>\n",
       "      <td>0</td>\n",
       "      <td>0</td>\n",
       "    </tr>\n",
       "    <tr>\n",
       "      <th>2</th>\n",
       "      <td>i feel like a faithful servant</td>\n",
       "      <td>0</td>\n",
       "      <td>0</td>\n",
       "      <td>0</td>\n",
       "      <td>0</td>\n",
       "      <td>1</td>\n",
       "      <td>0</td>\n",
       "    </tr>\n",
       "    <tr>\n",
       "      <th>3</th>\n",
       "      <td>i am just feeling cranky and blue</td>\n",
       "      <td>0</td>\n",
       "      <td>0</td>\n",
       "      <td>1</td>\n",
       "      <td>0</td>\n",
       "      <td>0</td>\n",
       "      <td>0</td>\n",
       "    </tr>\n",
       "    <tr>\n",
       "      <th>4</th>\n",
       "      <td>i can have for a treat or if i am feeling festive</td>\n",
       "      <td>1</td>\n",
       "      <td>0</td>\n",
       "      <td>0</td>\n",
       "      <td>0</td>\n",
       "      <td>0</td>\n",
       "      <td>0</td>\n",
       "    </tr>\n",
       "  </tbody>\n",
       "</table>\n",
       "</div>"
      ],
      "text/plain": [
       "                                             Comment  joy  sadness  anger  \\\n",
       "0  im feeling quite sad and sorry for myself but ...    0        1      0   \n",
       "1  i feel like i am still looking at a blank canv...    0        1      0   \n",
       "2                     i feel like a faithful servant    0        0      0   \n",
       "3                  i am just feeling cranky and blue    0        0      1   \n",
       "4  i can have for a treat or if i am feeling festive    1        0      0   \n",
       "\n",
       "   fear  love  surprise  \n",
       "0     0     0         0  \n",
       "1     0     0         0  \n",
       "2     0     1         0  \n",
       "3     0     0         0  \n",
       "4     0     0         0  "
      ]
     },
     "execution_count": 78,
     "metadata": {},
     "output_type": "execute_result"
    }
   ],
   "source": [
    "df_val.rename(columns={'0': 'joy', '1': 'sadness',\"2\":\"anger\",\"3\":\"fear\",\"4\":\"love\",\"5\":\"surprise\"}, inplace=True)\n",
    "df_val.drop(['Emotion',\"Label\"],axis=1,inplace=True)\n",
    "df_val1 = df_val[[\"joy\",\"sadness\",\"anger\",\"fear\",\"love\",\"surprise\"]].astype(int)\n",
    "df_val2 = pd.concat([df_val[\"Comment\"], df_val1], axis=1)\n",
    "df_val2.head()"
   ]
  },
  {
   "cell_type": "code",
   "execution_count": 79,
   "id": "60221f5b",
   "metadata": {},
   "outputs": [],
   "source": [
    "df_val2.to_csv(\"emotion_validation_data.csv\")"
   ]
  },
  {
   "cell_type": "code",
   "execution_count": 80,
   "id": "8a13eccb",
   "metadata": {},
   "outputs": [],
   "source": [
    "X = df3[\"Comment\"]"
   ]
  },
  {
   "cell_type": "code",
   "execution_count": 82,
   "id": "0a8b05c8",
   "metadata": {},
   "outputs": [],
   "source": [
    "y = df3[['joy',\"sadness\",\"anger\",\"fear\",\"love\",\"surprise\"]]"
   ]
  },
  {
   "cell_type": "code",
   "execution_count": 84,
   "id": "62abdf55",
   "metadata": {},
   "outputs": [
    {
     "data": {
      "text/html": [
       "<div>\n",
       "<style scoped>\n",
       "    .dataframe tbody tr th:only-of-type {\n",
       "        vertical-align: middle;\n",
       "    }\n",
       "\n",
       "    .dataframe tbody tr th {\n",
       "        vertical-align: top;\n",
       "    }\n",
       "\n",
       "    .dataframe thead th {\n",
       "        text-align: right;\n",
       "    }\n",
       "</style>\n",
       "<table border=\"1\" class=\"dataframe\">\n",
       "  <thead>\n",
       "    <tr style=\"text-align: right;\">\n",
       "      <th></th>\n",
       "      <th>joy</th>\n",
       "      <th>sadness</th>\n",
       "      <th>anger</th>\n",
       "      <th>fear</th>\n",
       "      <th>love</th>\n",
       "      <th>surprise</th>\n",
       "    </tr>\n",
       "  </thead>\n",
       "  <tbody>\n",
       "    <tr>\n",
       "      <th>0</th>\n",
       "      <td>0</td>\n",
       "      <td>1</td>\n",
       "      <td>0</td>\n",
       "      <td>0</td>\n",
       "      <td>0</td>\n",
       "      <td>0</td>\n",
       "    </tr>\n",
       "    <tr>\n",
       "      <th>1</th>\n",
       "      <td>0</td>\n",
       "      <td>1</td>\n",
       "      <td>0</td>\n",
       "      <td>0</td>\n",
       "      <td>0</td>\n",
       "      <td>0</td>\n",
       "    </tr>\n",
       "    <tr>\n",
       "      <th>2</th>\n",
       "      <td>0</td>\n",
       "      <td>0</td>\n",
       "      <td>1</td>\n",
       "      <td>0</td>\n",
       "      <td>0</td>\n",
       "      <td>0</td>\n",
       "    </tr>\n",
       "    <tr>\n",
       "      <th>3</th>\n",
       "      <td>0</td>\n",
       "      <td>0</td>\n",
       "      <td>0</td>\n",
       "      <td>0</td>\n",
       "      <td>1</td>\n",
       "      <td>0</td>\n",
       "    </tr>\n",
       "    <tr>\n",
       "      <th>4</th>\n",
       "      <td>0</td>\n",
       "      <td>0</td>\n",
       "      <td>1</td>\n",
       "      <td>0</td>\n",
       "      <td>0</td>\n",
       "      <td>0</td>\n",
       "    </tr>\n",
       "  </tbody>\n",
       "</table>\n",
       "</div>"
      ],
      "text/plain": [
       "   joy  sadness  anger  fear  love  surprise\n",
       "0    0        1      0     0     0         0\n",
       "1    0        1      0     0     0         0\n",
       "2    0        0      1     0     0         0\n",
       "3    0        0      0     0     1         0\n",
       "4    0        0      1     0     0         0"
      ]
     },
     "execution_count": 84,
     "metadata": {},
     "output_type": "execute_result"
    }
   ],
   "source": [
    "y.head()"
   ]
  },
  {
   "cell_type": "code",
   "execution_count": 85,
   "id": "3981ae1f",
   "metadata": {},
   "outputs": [
    {
     "data": {
      "text/plain": [
       "0                              i didnt feel humiliated\n",
       "1    i can go from feeling so hopeless to so damned...\n",
       "2     im grabbing a minute to post i feel greedy wrong\n",
       "3    i am ever feeling nostalgic about the fireplac...\n",
       "4                                 i am feeling grouchy\n",
       "Name: Comment, dtype: object"
      ]
     },
     "execution_count": 85,
     "metadata": {},
     "output_type": "execute_result"
    }
   ],
   "source": [
    "X.head()"
   ]
  },
  {
   "cell_type": "markdown",
   "id": "10329b46",
   "metadata": {},
   "source": [
    "### Tokenization function to process your text data"
   ]
  },
  {
   "cell_type": "code",
   "execution_count": 89,
   "id": "ee85e2a5",
   "metadata": {},
   "outputs": [],
   "source": [
    "lemmatizer = WordNetLemmatizer()"
   ]
  },
  {
   "cell_type": "code",
   "execution_count": 90,
   "id": "fcad3b59",
   "metadata": {},
   "outputs": [],
   "source": [
    "def tokenize(text):\n",
    "    lower_text = text.lower()\n",
    "    normalized_text = re.sub(r\"[^a-zA-Z0-9]\",\" \",lower_text)\n",
    "    text_token = word_tokenize(normalized_text)\n",
    "    remove_stop_words = [word for word in text_token if word not in stopwords.words('english')]\n",
    "    lemmatized = [lemmatizer.lemmatize(word) for word in remove_stop_words]\n",
    "    return lemmatized"
   ]
  },
  {
   "cell_type": "markdown",
   "id": "a27ad4d5",
   "metadata": {},
   "source": [
    "### A machine learning pipeline\n",
    "This machine pipeline should take in the comment column as input and output classification results on the other 6 categories in the dataset."
   ]
  },
  {
   "cell_type": "code",
   "execution_count": 91,
   "id": "bc136195",
   "metadata": {},
   "outputs": [],
   "source": [
    "pipeline = Pipeline([(\"vect\",CountVectorizer(tokenizer=tokenize)),\n",
    "          (\"tfidf\",TfidfTransformer()),\n",
    "          (\"clf\",MultiOutputClassifier(RandomForestClassifier()))])"
   ]
  },
  {
   "cell_type": "markdown",
   "id": "c6857805",
   "metadata": {},
   "source": [
    "### Train pipeline\n",
    "- Prepare data\n",
    "- Train pipeline\n"
   ]
  },
  {
   "cell_type": "code",
   "execution_count": 92,
   "id": "45b3495e",
   "metadata": {},
   "outputs": [],
   "source": [
    "X_train = X\n",
    "y_train = y\n",
    "X_test = df_test2[\"Comment\"]\n",
    "y_test = df_test2[['joy',\"sadness\",\"anger\",\"fear\",\"love\",\"surprise\"]]\n",
    "X_val = df_val2[\"Comment\"]\n",
    "y_val = df_val2[['joy',\"sadness\",\"anger\",\"fear\",\"love\",\"surprise\"]]"
   ]
  },
  {
   "cell_type": "code",
   "execution_count": 93,
   "id": "198bd50a",
   "metadata": {},
   "outputs": [
    {
     "name": "stdout",
     "output_type": "stream",
     "text": [
      "X_train shape =  (16000,)\n",
      "y_train shape =  (16000, 6)\n",
      "X_test shape =  (2000,)\n",
      "y_test shape =  (2000, 6)\n",
      "X_val shape =  (2000,)\n",
      "y_val shape =  (2000, 6)\n"
     ]
    }
   ],
   "source": [
    "print (\"X_train shape = \",X_train.shape)\n",
    "print (\"y_train shape = \",y_train.shape)\n",
    "print (\"X_test shape = \",X_test.shape)\n",
    "print (\"y_test shape = \",y_test.shape)\n",
    "print (\"X_val shape = \",X_val.shape)\n",
    "print (\"y_val shape = \",y_val.shape)"
   ]
  },
  {
   "cell_type": "code",
   "execution_count": 94,
   "id": "b9684f49",
   "metadata": {},
   "outputs": [
    {
     "data": {
      "text/plain": [
       "Pipeline(steps=[('vect',\n",
       "                 CountVectorizer(tokenizer=<function tokenize at 0x00000255A56036A8>)),\n",
       "                ('tfidf', TfidfTransformer()),\n",
       "                ('clf',\n",
       "                 MultiOutputClassifier(estimator=RandomForestClassifier()))])"
      ]
     },
     "execution_count": 94,
     "metadata": {},
     "output_type": "execute_result"
    }
   ],
   "source": [
    "pipeline.fit(X_train,y_train)"
   ]
  },
  {
   "cell_type": "markdown",
   "id": "b41df4e1",
   "metadata": {},
   "source": [
    "### Display Results"
   ]
  },
  {
   "cell_type": "code",
   "execution_count": 95,
   "id": "64bea81c",
   "metadata": {},
   "outputs": [],
   "source": [
    "def display_results(y_test, y_pred):\n",
    "    labels = np.unique(y_pred)\n",
    "    confusion_mat = confusion_matrix(y_test, y_pred, labels=labels)\n",
    "    accuracy = (y_pred == y_test).mean()\n",
    "\n",
    "    print(\"Labels:\", labels)\n",
    "    print(\"Confusion Matrix:\\n\", confusion_mat)\n",
    "    print(\"Accuracy:\", accuracy)"
   ]
  },
  {
   "cell_type": "code",
   "execution_count": 96,
   "id": "5a16d72c",
   "metadata": {},
   "outputs": [],
   "source": [
    "# predict on test data\n",
    "y_pred = pipeline.predict(X_test)"
   ]
  },
  {
   "cell_type": "markdown",
   "id": "eabfdea0",
   "metadata": {},
   "source": [
    "## Test the model\n",
    "f1 score, precision and recall for each output category of the dataset. By iterating through the columns and calling sklearn's classification_report on each."
   ]
  },
  {
   "cell_type": "code",
   "execution_count": 104,
   "id": "643b0e44",
   "metadata": {},
   "outputs": [
    {
     "name": "stdout",
     "output_type": "stream",
     "text": [
      "Accuracy for preditcion Joy class is  92.65  %\n"
     ]
    }
   ],
   "source": [
    "print (\"Accuracy for preditcion Joy class is \" ,accuracy_score(y_test.iloc[:,0],y_pred[:,0]) * 100 ,\" %\")"
   ]
  },
  {
   "cell_type": "code",
   "execution_count": 106,
   "id": "ee498d82",
   "metadata": {},
   "outputs": [
    {
     "name": "stdout",
     "output_type": "stream",
     "text": [
      "Accuracy for preditcion Sadness class is  94.89999999999999  %\n"
     ]
    }
   ],
   "source": [
    "print (\"Accuracy for preditcion Sadness class is \" ,accuracy_score(y_test.iloc[:,1],y_pred[:,1]) * 100 ,\" %\")"
   ]
  },
  {
   "cell_type": "code",
   "execution_count": 108,
   "id": "edc74137",
   "metadata": {},
   "outputs": [
    {
     "name": "stdout",
     "output_type": "stream",
     "text": [
      "Accuracy for preditcion Anger class is  96.8  %\n"
     ]
    }
   ],
   "source": [
    "print (\"Accuracy for preditcion Anger class is \" ,accuracy_score(y_test.iloc[:,2],y_pred[:,2]) * 100 ,\" %\")"
   ]
  },
  {
   "cell_type": "code",
   "execution_count": 110,
   "id": "f55bbdbe",
   "metadata": {},
   "outputs": [
    {
     "name": "stdout",
     "output_type": "stream",
     "text": [
      "Accuracy for preditcion Fear class is  96.39999999999999  %\n"
     ]
    }
   ],
   "source": [
    "print (\"Accuracy for preditcion Fear class is \" ,accuracy_score(y_test.iloc[:,3],y_pred[:,3]) * 100 ,\" %\")"
   ]
  },
  {
   "cell_type": "code",
   "execution_count": 112,
   "id": "46298aae",
   "metadata": {},
   "outputs": [
    {
     "name": "stdout",
     "output_type": "stream",
     "text": [
      "Accuracy for preditcion Love class is  96.05  %\n"
     ]
    }
   ],
   "source": [
    "print (\"Accuracy for preditcion Love class is \" ,accuracy_score(y_test.iloc[:,4],y_pred[:,4]) * 100 ,\" %\")"
   ]
  },
  {
   "cell_type": "code",
   "execution_count": 114,
   "id": "a13a0ac0",
   "metadata": {},
   "outputs": [
    {
     "name": "stdout",
     "output_type": "stream",
     "text": [
      "Accuracy for preditcion Surprise class is  97.89999999999999  %\n"
     ]
    }
   ],
   "source": [
    "print (\"Accuracy for preditcion Surprise class is \" ,accuracy_score(y_test.iloc[:,5],y_pred[:,5]) * 100 ,\" %\")"
   ]
  },
  {
   "cell_type": "code",
   "execution_count": 115,
   "id": "07497dcc",
   "metadata": {},
   "outputs": [],
   "source": [
    "scores = []\n",
    "for i in range (len(y_test.columns)):\n",
    "    accuracy = accuracy_score(y_test.iloc[:,i],y_pred[:,i])\n",
    "    scores.append(accuracy)"
   ]
  },
  {
   "cell_type": "code",
   "execution_count": 116,
   "id": "c8a7ee47",
   "metadata": {},
   "outputs": [
    {
     "name": "stdout",
     "output_type": "stream",
     "text": [
      "Accuracy of Random Forest Model is  0.9578333333333333\n"
     ]
    }
   ],
   "source": [
    "accuracy_rf =  np.mean(scores)\n",
    "print(\"Accuracy of Random Forest Model is \", accuracy_rf)"
   ]
  },
  {
   "cell_type": "code",
   "execution_count": 117,
   "id": "2ab26d79",
   "metadata": {},
   "outputs": [],
   "source": [
    "total_scores = []\n",
    "def accuracy_report(y_test,y_pred):\n",
    "    i = 0\n",
    "    for feat in y_test:\n",
    "        print(\"Feature {}: {}\".format(i+1,feat))\n",
    "        print(classification_report(y_test[feat],y_pred[:,i]))\n",
    "        accuracy = accuracy_score(y_test.iloc[:,i],y_pred[:,i])\n",
    "        total_scores.append(accuracy)\n",
    "        i+=1\n",
    "    print(\"Total Accuracy : {:.4f}\".format(np.mean(total_scores)))"
   ]
  },
  {
   "cell_type": "code",
   "execution_count": 118,
   "id": "e883b715",
   "metadata": {},
   "outputs": [
    {
     "name": "stdout",
     "output_type": "stream",
     "text": [
      "Feature 1: joy\n",
      "              precision    recall  f1-score   support\n",
      "\n",
      "           0       0.94      0.95      0.94      1305\n",
      "           1       0.91      0.88      0.89       695\n",
      "\n",
      "    accuracy                           0.93      2000\n",
      "   macro avg       0.92      0.92      0.92      2000\n",
      "weighted avg       0.93      0.93      0.93      2000\n",
      "\n",
      "Feature 2: sadness\n",
      "              precision    recall  f1-score   support\n",
      "\n",
      "           0       0.96      0.97      0.96      1419\n",
      "           1       0.92      0.91      0.91       581\n",
      "\n",
      "    accuracy                           0.95      2000\n",
      "   macro avg       0.94      0.94      0.94      2000\n",
      "weighted avg       0.95      0.95      0.95      2000\n",
      "\n",
      "Feature 3: anger\n",
      "              precision    recall  f1-score   support\n",
      "\n",
      "           0       0.98      0.98      0.98      1725\n",
      "           1       0.90      0.87      0.88       275\n",
      "\n",
      "    accuracy                           0.97      2000\n",
      "   macro avg       0.94      0.93      0.93      2000\n",
      "weighted avg       0.97      0.97      0.97      2000\n",
      "\n",
      "Feature 4: fear\n",
      "              precision    recall  f1-score   support\n",
      "\n",
      "           0       0.97      0.99      0.98      1776\n",
      "           1       0.88      0.79      0.83       224\n",
      "\n",
      "    accuracy                           0.96      2000\n",
      "   macro avg       0.93      0.89      0.91      2000\n",
      "weighted avg       0.96      0.96      0.96      2000\n",
      "\n",
      "Feature 5: love\n",
      "              precision    recall  f1-score   support\n",
      "\n",
      "           0       0.97      0.99      0.98      1841\n",
      "           1       0.81      0.66      0.73       159\n",
      "\n",
      "    accuracy                           0.96      2000\n",
      "   macro avg       0.89      0.82      0.85      2000\n",
      "weighted avg       0.96      0.96      0.96      2000\n",
      "\n",
      "Feature 6: surprise\n",
      "              precision    recall  f1-score   support\n",
      "\n",
      "           0       0.98      0.99      0.99      1934\n",
      "           1       0.77      0.52      0.62        66\n",
      "\n",
      "    accuracy                           0.98      2000\n",
      "   macro avg       0.88      0.75      0.80      2000\n",
      "weighted avg       0.98      0.98      0.98      2000\n",
      "\n",
      "Total Accuracy : 0.9578\n"
     ]
    }
   ],
   "source": [
    "accuracy_report(y_test,y_pred)"
   ]
  },
  {
   "cell_type": "code",
   "execution_count": 126,
   "id": "f0e5f69d",
   "metadata": {},
   "outputs": [],
   "source": [
    "## Improve the model\n",
    "pipeline_adaboost = Pipeline([(\"vect\",CountVectorizer(tokenizer=tokenize)),\n",
    "          (\"tfidf\",TfidfTransformer()),\n",
    "          ('clf', MultiOutputClassifier(AdaBoostClassifier()))])"
   ]
  },
  {
   "cell_type": "code",
   "execution_count": 127,
   "id": "f1c410fc",
   "metadata": {},
   "outputs": [
    {
     "data": {
      "text/plain": [
       "<bound method Pipeline.get_params of Pipeline(steps=[('vect',\n",
       "                 CountVectorizer(tokenizer=<function tokenize at 0x00000255A56036A8>)),\n",
       "                ('tfidf', TfidfTransformer()),\n",
       "                ('clf', MultiOutputClassifier(estimator=AdaBoostClassifier()))])>"
      ]
     },
     "execution_count": 127,
     "metadata": {},
     "output_type": "execute_result"
    }
   ],
   "source": [
    "pipeline_adaboost.get_params"
   ]
  },
  {
   "cell_type": "code",
   "execution_count": 131,
   "id": "52b68d49",
   "metadata": {
    "scrolled": true
   },
   "outputs": [
    {
     "data": {
      "text/plain": [
       "dict_keys(['memory', 'steps', 'verbose', 'vect', 'tfidf', 'clf', 'vect__analyzer', 'vect__binary', 'vect__decode_error', 'vect__dtype', 'vect__encoding', 'vect__input', 'vect__lowercase', 'vect__max_df', 'vect__max_features', 'vect__min_df', 'vect__ngram_range', 'vect__preprocessor', 'vect__stop_words', 'vect__strip_accents', 'vect__token_pattern', 'vect__tokenizer', 'vect__vocabulary', 'tfidf__norm', 'tfidf__smooth_idf', 'tfidf__sublinear_tf', 'tfidf__use_idf', 'clf__estimator__algorithm', 'clf__estimator__base_estimator', 'clf__estimator__learning_rate', 'clf__estimator__n_estimators', 'clf__estimator__random_state', 'clf__estimator', 'clf__n_jobs'])"
      ]
     },
     "execution_count": 131,
     "metadata": {},
     "output_type": "execute_result"
    }
   ],
   "source": [
    "pipeline_adaboost.get_params().keys()"
   ]
  },
  {
   "cell_type": "code",
   "execution_count": 132,
   "id": "bc572826",
   "metadata": {},
   "outputs": [
    {
     "data": {
      "text/plain": [
       "Pipeline(steps=[('vect',\n",
       "                 CountVectorizer(tokenizer=<function tokenize at 0x00000255A56036A8>)),\n",
       "                ('tfidf', TfidfTransformer()),\n",
       "                ('clf', MultiOutputClassifier(estimator=AdaBoostClassifier()))])"
      ]
     },
     "execution_count": 132,
     "metadata": {},
     "output_type": "execute_result"
    }
   ],
   "source": [
    "pipeline_adaboost.fit(X_train,y_train)"
   ]
  },
  {
   "cell_type": "code",
   "execution_count": 133,
   "id": "4d3ee03d",
   "metadata": {},
   "outputs": [],
   "source": [
    "# predict on test data\n",
    "y_pred = pipeline_adaboost.predict(X_test)"
   ]
  },
  {
   "cell_type": "code",
   "execution_count": 134,
   "id": "e42e26a5",
   "metadata": {},
   "outputs": [
    {
     "name": "stdout",
     "output_type": "stream",
     "text": [
      "Feature 1: joy\n",
      "              precision    recall  f1-score   support\n",
      "\n",
      "           0       0.77      0.97      0.86      1305\n",
      "           1       0.88      0.47      0.61       695\n",
      "\n",
      "    accuracy                           0.79      2000\n",
      "   macro avg       0.83      0.72      0.74      2000\n",
      "weighted avg       0.81      0.79      0.77      2000\n",
      "\n",
      "Feature 2: sadness\n",
      "              precision    recall  f1-score   support\n",
      "\n",
      "           0       0.84      0.98      0.90      1419\n",
      "           1       0.91      0.54      0.68       581\n",
      "\n",
      "    accuracy                           0.85      2000\n",
      "   macro avg       0.88      0.76      0.79      2000\n",
      "weighted avg       0.86      0.85      0.84      2000\n",
      "\n",
      "Feature 3: anger\n",
      "              precision    recall  f1-score   support\n",
      "\n",
      "           0       0.96      0.99      0.97      1725\n",
      "           1       0.93      0.73      0.82       275\n",
      "\n",
      "    accuracy                           0.95      2000\n",
      "   macro avg       0.94      0.86      0.90      2000\n",
      "weighted avg       0.95      0.95      0.95      2000\n",
      "\n",
      "Feature 4: fear\n",
      "              precision    recall  f1-score   support\n",
      "\n",
      "           0       0.96      0.99      0.98      1776\n",
      "           1       0.93      0.66      0.77       224\n",
      "\n",
      "    accuracy                           0.96      2000\n",
      "   macro avg       0.94      0.83      0.87      2000\n",
      "weighted avg       0.96      0.96      0.95      2000\n",
      "\n",
      "Feature 5: love\n",
      "              precision    recall  f1-score   support\n",
      "\n",
      "           0       0.96      0.99      0.97      1841\n",
      "           1       0.80      0.52      0.63       159\n",
      "\n",
      "    accuracy                           0.95      2000\n",
      "   macro avg       0.88      0.76      0.80      2000\n",
      "weighted avg       0.95      0.95      0.95      2000\n",
      "\n",
      "Feature 6: surprise\n",
      "              precision    recall  f1-score   support\n",
      "\n",
      "           0       0.98      0.99      0.99      1934\n",
      "           1       0.73      0.55      0.63        66\n",
      "\n",
      "    accuracy                           0.98      2000\n",
      "   macro avg       0.86      0.77      0.81      2000\n",
      "weighted avg       0.98      0.98      0.98      2000\n",
      "\n",
      "Total Accuracy : 0.9362\n"
     ]
    }
   ],
   "source": [
    "accuracy_report(y_test,y_pred)"
   ]
  },
  {
   "cell_type": "code",
   "execution_count": null,
   "id": "570bdb52",
   "metadata": {},
   "outputs": [],
   "source": [
    "GradientBoostingClassifier ,BaggingClassifier ,ExtraTreesClassifier"
   ]
  },
  {
   "cell_type": "code",
   "execution_count": 136,
   "id": "0f75ea4f",
   "metadata": {},
   "outputs": [],
   "source": [
    "## Improve the model\n",
    "pipeline_boosting = Pipeline([(\"vect\",CountVectorizer(tokenizer=tokenize)),\n",
    "          (\"tfidf\",TfidfTransformer()),\n",
    "          ('clf', MultiOutputClassifier(GradientBoostingClassifier()))])"
   ]
  },
  {
   "cell_type": "code",
   "execution_count": 137,
   "id": "8e27ad6b",
   "metadata": {},
   "outputs": [
    {
     "data": {
      "text/plain": [
       "Pipeline(steps=[('vect',\n",
       "                 CountVectorizer(tokenizer=<function tokenize at 0x00000255A56036A8>)),\n",
       "                ('tfidf', TfidfTransformer()),\n",
       "                ('clf',\n",
       "                 MultiOutputClassifier(estimator=GradientBoostingClassifier()))])"
      ]
     },
     "execution_count": 137,
     "metadata": {},
     "output_type": "execute_result"
    }
   ],
   "source": [
    "pipeline_boosting.fit(X_train,y_train)"
   ]
  },
  {
   "cell_type": "code",
   "execution_count": 138,
   "id": "f1b53b9b",
   "metadata": {},
   "outputs": [
    {
     "name": "stdout",
     "output_type": "stream",
     "text": [
      "Feature 1: joy\n",
      "              precision    recall  f1-score   support\n",
      "\n",
      "           0       0.72      0.99      0.84      1305\n",
      "           1       0.96      0.29      0.44       695\n",
      "\n",
      "    accuracy                           0.75      2000\n",
      "   macro avg       0.84      0.64      0.64      2000\n",
      "weighted avg       0.80      0.75      0.70      2000\n",
      "\n",
      "Feature 2: sadness\n",
      "              precision    recall  f1-score   support\n",
      "\n",
      "           0       0.75      1.00      0.86      1419\n",
      "           1       0.97      0.20      0.33       581\n",
      "\n",
      "    accuracy                           0.77      2000\n",
      "   macro avg       0.86      0.60      0.59      2000\n",
      "weighted avg       0.82      0.77      0.70      2000\n",
      "\n",
      "Feature 3: anger\n",
      "              precision    recall  f1-score   support\n",
      "\n",
      "           0       0.93      1.00      0.96      1725\n",
      "           1       0.95      0.53      0.68       275\n",
      "\n",
      "    accuracy                           0.93      2000\n",
      "   macro avg       0.94      0.76      0.82      2000\n",
      "weighted avg       0.93      0.93      0.92      2000\n",
      "\n",
      "Feature 4: fear\n",
      "              precision    recall  f1-score   support\n",
      "\n",
      "           0       0.93      1.00      0.96      1776\n",
      "           1       0.95      0.43      0.60       224\n",
      "\n",
      "    accuracy                           0.93      2000\n",
      "   macro avg       0.94      0.72      0.78      2000\n",
      "weighted avg       0.94      0.93      0.92      2000\n",
      "\n",
      "Feature 5: love\n",
      "              precision    recall  f1-score   support\n",
      "\n",
      "           0       0.96      0.99      0.98      1841\n",
      "           1       0.86      0.55      0.67       159\n",
      "\n",
      "    accuracy                           0.96      2000\n",
      "   macro avg       0.91      0.77      0.82      2000\n",
      "weighted avg       0.95      0.96      0.95      2000\n",
      "\n",
      "Feature 6: surprise\n",
      "              precision    recall  f1-score   support\n",
      "\n",
      "           0       0.99      0.99      0.99      1934\n",
      "           1       0.71      0.56      0.63        66\n",
      "\n",
      "    accuracy                           0.98      2000\n",
      "   macro avg       0.85      0.78      0.81      2000\n",
      "weighted avg       0.98      0.98      0.98      2000\n",
      "\n",
      "Total Accuracy : 0.9193\n"
     ]
    }
   ],
   "source": [
    "# predict on test data\n",
    "y_pred = pipeline_boosting.predict(X_test)\n",
    "## display accuracy\n",
    "accuracy_report(y_test,y_pred)"
   ]
  },
  {
   "cell_type": "code",
   "execution_count": 139,
   "id": "ac01ec49",
   "metadata": {},
   "outputs": [
    {
     "name": "stdout",
     "output_type": "stream",
     "text": [
      "Feature 1: joy\n",
      "              precision    recall  f1-score   support\n",
      "\n",
      "           0       0.95      0.93      0.94      1305\n",
      "           1       0.87      0.90      0.89       695\n",
      "\n",
      "    accuracy                           0.92      2000\n",
      "   macro avg       0.91      0.92      0.91      2000\n",
      "weighted avg       0.92      0.92      0.92      2000\n",
      "\n",
      "Feature 2: sadness\n",
      "              precision    recall  f1-score   support\n",
      "\n",
      "           0       0.96      0.96      0.96      1419\n",
      "           1       0.91      0.90      0.90       581\n",
      "\n",
      "    accuracy                           0.94      2000\n",
      "   macro avg       0.93      0.93      0.93      2000\n",
      "weighted avg       0.94      0.94      0.94      2000\n",
      "\n",
      "Feature 3: anger\n",
      "              precision    recall  f1-score   support\n",
      "\n",
      "           0       0.98      0.98      0.98      1725\n",
      "           1       0.88      0.88      0.88       275\n",
      "\n",
      "    accuracy                           0.97      2000\n",
      "   macro avg       0.93      0.93      0.93      2000\n",
      "weighted avg       0.97      0.97      0.97      2000\n",
      "\n",
      "Feature 4: fear\n",
      "              precision    recall  f1-score   support\n",
      "\n",
      "           0       0.98      0.98      0.98      1776\n",
      "           1       0.83      0.88      0.85       224\n",
      "\n",
      "    accuracy                           0.97      2000\n",
      "   macro avg       0.91      0.93      0.92      2000\n",
      "weighted avg       0.97      0.97      0.97      2000\n",
      "\n",
      "Feature 5: love\n",
      "              precision    recall  f1-score   support\n",
      "\n",
      "           0       0.98      0.98      0.98      1841\n",
      "           1       0.75      0.75      0.75       159\n",
      "\n",
      "    accuracy                           0.96      2000\n",
      "   macro avg       0.87      0.87      0.87      2000\n",
      "weighted avg       0.96      0.96      0.96      2000\n",
      "\n",
      "Feature 6: surprise\n",
      "              precision    recall  f1-score   support\n",
      "\n",
      "           0       0.99      0.99      0.99      1934\n",
      "           1       0.75      0.58      0.65        66\n",
      "\n",
      "    accuracy                           0.98      2000\n",
      "   macro avg       0.87      0.78      0.82      2000\n",
      "weighted avg       0.98      0.98      0.98      2000\n",
      "\n",
      "Total Accuracy : 0.9285\n"
     ]
    }
   ],
   "source": [
    "pipeline_bagging = Pipeline([(\"vect\",CountVectorizer(tokenizer=tokenize)),\n",
    "          (\"tfidf\",TfidfTransformer()),\n",
    "          ('clf', MultiOutputClassifier(BaggingClassifier()))])\n",
    "pipeline_bagging.fit(X_train,y_train)\n",
    "# predict on test data\n",
    "y_pred = pipeline_bagging.predict(X_test)\n",
    "## display accuracy\n",
    "accuracy_report(y_test,y_pred)"
   ]
  },
  {
   "cell_type": "code",
   "execution_count": 140,
   "id": "877493ef",
   "metadata": {},
   "outputs": [
    {
     "name": "stdout",
     "output_type": "stream",
     "text": [
      "Feature 1: joy\n",
      "              precision    recall  f1-score   support\n",
      "\n",
      "           0       0.95      0.95      0.95      1305\n",
      "           1       0.91      0.91      0.91       695\n",
      "\n",
      "    accuracy                           0.94      2000\n",
      "   macro avg       0.93      0.93      0.93      2000\n",
      "weighted avg       0.94      0.94      0.94      2000\n",
      "\n",
      "Feature 2: sadness\n",
      "              precision    recall  f1-score   support\n",
      "\n",
      "           0       0.97      0.96      0.96      1419\n",
      "           1       0.90      0.93      0.91       581\n",
      "\n",
      "    accuracy                           0.95      2000\n",
      "   macro avg       0.93      0.94      0.94      2000\n",
      "weighted avg       0.95      0.95      0.95      2000\n",
      "\n",
      "Feature 3: anger\n",
      "              precision    recall  f1-score   support\n",
      "\n",
      "           0       0.98      0.98      0.98      1725\n",
      "           1       0.88      0.86      0.87       275\n",
      "\n",
      "    accuracy                           0.97      2000\n",
      "   macro avg       0.93      0.92      0.93      2000\n",
      "weighted avg       0.97      0.97      0.97      2000\n",
      "\n",
      "Feature 4: fear\n",
      "              precision    recall  f1-score   support\n",
      "\n",
      "           0       0.98      0.99      0.98      1776\n",
      "           1       0.88      0.82      0.85       224\n",
      "\n",
      "    accuracy                           0.97      2000\n",
      "   macro avg       0.93      0.90      0.92      2000\n",
      "weighted avg       0.97      0.97      0.97      2000\n",
      "\n",
      "Feature 5: love\n",
      "              precision    recall  f1-score   support\n",
      "\n",
      "           0       0.97      0.99      0.98      1841\n",
      "           1       0.82      0.68      0.74       159\n",
      "\n",
      "    accuracy                           0.96      2000\n",
      "   macro avg       0.90      0.83      0.86      2000\n",
      "weighted avg       0.96      0.96      0.96      2000\n",
      "\n",
      "Feature 6: surprise\n",
      "              precision    recall  f1-score   support\n",
      "\n",
      "           0       0.98      0.99      0.99      1934\n",
      "           1       0.77      0.55      0.64        66\n",
      "\n",
      "    accuracy                           0.98      2000\n",
      "   macro avg       0.88      0.77      0.81      2000\n",
      "weighted avg       0.98      0.98      0.98      2000\n",
      "\n",
      "Total Accuracy : 0.9348\n"
     ]
    }
   ],
   "source": [
    "pipeline_extratrees = Pipeline([(\"vect\",CountVectorizer(tokenizer=tokenize)),\n",
    "          (\"tfidf\",TfidfTransformer()),\n",
    "          ('clf', MultiOutputClassifier(ExtraTreesClassifier()))])\n",
    "pipeline_extratrees.fit(X_train,y_train)\n",
    "# predict on test data\n",
    "y_pred = pipeline_extratrees.predict(X_test)\n",
    "## display accuracy\n",
    "accuracy_report(y_test,y_pred)"
   ]
  },
  {
   "cell_type": "code",
   "execution_count": null,
   "id": "8ae1bbc9",
   "metadata": {},
   "outputs": [],
   "source": []
  }
 ],
 "metadata": {
  "kernelspec": {
   "display_name": "Python 3",
   "language": "python",
   "name": "python3"
  },
  "language_info": {
   "codemirror_mode": {
    "name": "ipython",
    "version": 3
   },
   "file_extension": ".py",
   "mimetype": "text/x-python",
   "name": "python",
   "nbconvert_exporter": "python",
   "pygments_lexer": "ipython3",
   "version": "3.6.9"
  }
 },
 "nbformat": 4,
 "nbformat_minor": 5
}
