{
 "cells": [
  {
   "cell_type": "code",
   "execution_count": 1,
   "id": "a82b8dc3",
   "metadata": {},
   "outputs": [],
   "source": [
    "import numpy as np # linear algebra\n",
    "import pandas as pd # data processing, CSV file I/O (e.g. pd.read_csv)\n",
    "import os"
   ]
  },
  {
   "cell_type": "code",
   "execution_count": 2,
   "id": "ea3a33c3",
   "metadata": {},
   "outputs": [],
   "source": [
    "import keras\n",
    "from  keras.preprocessing.text import Tokenizer\n",
    "from keras.preprocessing.sequence import pad_sequences\n",
    "from keras.utils import to_categorical\n",
    "import matplotlib.pyplot as plt\n",
    "from sklearn.metrics import classification_report\n",
    "import scikitplot\n",
    "from scikitplot.metrics import plot_confusion_matrix"
   ]
  },
  {
   "cell_type": "code",
   "execution_count": 65,
   "id": "6af2024a",
   "metadata": {},
   "outputs": [],
   "source": [
    "from keras.models import Sequential\n",
    "from keras.layers import LSTM,Bidirectional,Dense,Embedding,Dropout"
   ]
  },
  {
   "cell_type": "code",
   "execution_count": 3,
   "id": "e4dd8708",
   "metadata": {},
   "outputs": [
    {
     "data": {
      "text/plain": [
       "['.ipynb_checkpoints',\n",
       " 'emotion_detection.ipynb',\n",
       " 'test.txt',\n",
       " 'train.txt',\n",
       " 'val.txt']"
      ]
     },
     "execution_count": 3,
     "metadata": {},
     "output_type": "execute_result"
    }
   ],
   "source": [
    "os.listdir()"
   ]
  },
  {
   "cell_type": "code",
   "execution_count": 7,
   "id": "f0c64421",
   "metadata": {},
   "outputs": [],
   "source": [
    "train_df = pd.read_csv('train.txt', header =None, sep =';', names = ['text','emotion'], encoding='utf-8')\n",
    "test_df = pd.read_csv('test.txt', header = None, sep =';', names = ['text','emotion'],encoding='utf-8')\n",
    "val_df=pd.read_csv('val.txt',header=None,sep=';',names=['text','emotion'],encoding='utf-8')"
   ]
  },
  {
   "cell_type": "code",
   "execution_count": 8,
   "id": "0187e96e",
   "metadata": {},
   "outputs": [
    {
     "data": {
      "text/html": [
       "<div>\n",
       "<style scoped>\n",
       "    .dataframe tbody tr th:only-of-type {\n",
       "        vertical-align: middle;\n",
       "    }\n",
       "\n",
       "    .dataframe tbody tr th {\n",
       "        vertical-align: top;\n",
       "    }\n",
       "\n",
       "    .dataframe thead th {\n",
       "        text-align: right;\n",
       "    }\n",
       "</style>\n",
       "<table border=\"1\" class=\"dataframe\">\n",
       "  <thead>\n",
       "    <tr style=\"text-align: right;\">\n",
       "      <th></th>\n",
       "      <th>text</th>\n",
       "      <th>emotion</th>\n",
       "    </tr>\n",
       "  </thead>\n",
       "  <tbody>\n",
       "    <tr>\n",
       "      <th>0</th>\n",
       "      <td>i didnt feel humiliated</td>\n",
       "      <td>sadness</td>\n",
       "    </tr>\n",
       "    <tr>\n",
       "      <th>1</th>\n",
       "      <td>i can go from feeling so hopeless to so damned...</td>\n",
       "      <td>sadness</td>\n",
       "    </tr>\n",
       "    <tr>\n",
       "      <th>2</th>\n",
       "      <td>im grabbing a minute to post i feel greedy wrong</td>\n",
       "      <td>anger</td>\n",
       "    </tr>\n",
       "    <tr>\n",
       "      <th>3</th>\n",
       "      <td>i am ever feeling nostalgic about the fireplac...</td>\n",
       "      <td>love</td>\n",
       "    </tr>\n",
       "    <tr>\n",
       "      <th>4</th>\n",
       "      <td>i am feeling grouchy</td>\n",
       "      <td>anger</td>\n",
       "    </tr>\n",
       "  </tbody>\n",
       "</table>\n",
       "</div>"
      ],
      "text/plain": [
       "                                                text  emotion\n",
       "0                            i didnt feel humiliated  sadness\n",
       "1  i can go from feeling so hopeless to so damned...  sadness\n",
       "2   im grabbing a minute to post i feel greedy wrong    anger\n",
       "3  i am ever feeling nostalgic about the fireplac...     love\n",
       "4                               i am feeling grouchy    anger"
      ]
     },
     "execution_count": 8,
     "metadata": {},
     "output_type": "execute_result"
    }
   ],
   "source": [
    "train_df.head()"
   ]
  },
  {
   "cell_type": "code",
   "execution_count": 9,
   "id": "8735cd6b",
   "metadata": {},
   "outputs": [
    {
     "name": "stdout",
     "output_type": "stream",
     "text": [
      "<class 'pandas.core.frame.DataFrame'>\n",
      "RangeIndex: 16000 entries, 0 to 15999\n",
      "Data columns (total 2 columns):\n",
      " #   Column   Non-Null Count  Dtype \n",
      "---  ------   --------------  ----- \n",
      " 0   text     16000 non-null  object\n",
      " 1   emotion  16000 non-null  object\n",
      "dtypes: object(2)\n",
      "memory usage: 250.1+ KB\n"
     ]
    }
   ],
   "source": [
    "train_df.info()"
   ]
  },
  {
   "cell_type": "code",
   "execution_count": 10,
   "id": "30817a12",
   "metadata": {},
   "outputs": [
    {
     "data": {
      "text/plain": [
       "joy         5362\n",
       "sadness     4666\n",
       "anger       2159\n",
       "fear        1937\n",
       "love        1304\n",
       "surprise     572\n",
       "Name: emotion, dtype: int64"
      ]
     },
     "execution_count": 10,
     "metadata": {},
     "output_type": "execute_result"
    }
   ],
   "source": [
    "train_df.emotion.value_counts()"
   ]
  },
  {
   "cell_type": "code",
   "execution_count": 11,
   "id": "ef40f3d7",
   "metadata": {},
   "outputs": [],
   "source": [
    "X = train_df[\"text\"]"
   ]
  },
  {
   "cell_type": "code",
   "execution_count": 12,
   "id": "e39c6408",
   "metadata": {},
   "outputs": [],
   "source": [
    "lst = []\n",
    "for i in X:\n",
    "    lst.append(len(i))"
   ]
  },
  {
   "cell_type": "code",
   "execution_count": 15,
   "id": "d1d63026",
   "metadata": {},
   "outputs": [
    {
     "data": {
      "text/plain": [
       "300"
      ]
     },
     "execution_count": 15,
     "metadata": {},
     "output_type": "execute_result"
    }
   ],
   "source": [
    "max(lst)"
   ]
  },
  {
   "cell_type": "code",
   "execution_count": 16,
   "id": "91e3db98",
   "metadata": {
    "scrolled": true
   },
   "outputs": [
    {
     "data": {
      "text/plain": [
       "7"
      ]
     },
     "execution_count": 16,
     "metadata": {},
     "output_type": "execute_result"
    }
   ],
   "source": [
    "min(lst)"
   ]
  },
  {
   "cell_type": "code",
   "execution_count": 17,
   "id": "06a5a9f7",
   "metadata": {},
   "outputs": [
    {
     "data": {
      "text/plain": [
       "96.8458125"
      ]
     },
     "execution_count": 17,
     "metadata": {},
     "output_type": "execute_result"
    }
   ],
   "source": [
    "np.mean(lst)"
   ]
  },
  {
   "cell_type": "code",
   "execution_count": 18,
   "id": "cb669a3f",
   "metadata": {},
   "outputs": [],
   "source": [
    "lst2 = []\n",
    "for i in range(7,301):\n",
    "    ls = 0\n",
    "    for l in lst:\n",
    "        if l==i:\n",
    "            ls+=1\n",
    "    lst2.append(ls)"
   ]
  },
  {
   "cell_type": "code",
   "execution_count": null,
   "id": "e125b1ca",
   "metadata": {},
   "outputs": [],
   "source": []
  },
  {
   "cell_type": "code",
   "execution_count": 23,
   "id": "d16696e0",
   "metadata": {
    "scrolled": true
   },
   "outputs": [
    {
     "data": {
      "image/png": "[encoded data removed]",
      "text/plain": [
       "<Figure size 432x288 with 1 Axes>"
      ]
     },
     "metadata": {
      "needs_background": "light"
     },
     "output_type": "display_data"
    }
   ],
   "source": [
    "plt.bar(range(7,301),lst2)\n",
    "plt.show()"
   ]
  },
  {
   "cell_type": "markdown",
   "id": "380edc78",
   "metadata": {},
   "source": [
    "### Convert the text into word vectors and prepare X and y train dat"
   ]
  },
  {
   "cell_type": "code",
   "execution_count": 24,
   "id": "5954fbcc",
   "metadata": {},
   "outputs": [],
   "source": [
    "tokenizer = Tokenizer(15212,lower=True,oov_token=\"UNK\")"
   ]
  },
  {
   "cell_type": "code",
   "execution_count": 26,
   "id": "dba9e279",
   "metadata": {},
   "outputs": [],
   "source": [
    "tokenizer.fit_on_texts(X)"
   ]
  },
  {
   "cell_type": "code",
   "execution_count": 27,
   "id": "edd9be64",
   "metadata": {},
   "outputs": [],
   "source": [
    "X_train = tokenizer.texts_to_sequences(X)"
   ]
  },
  {
   "cell_type": "code",
   "execution_count": 29,
   "id": "dca7b469",
   "metadata": {},
   "outputs": [],
   "source": [
    "X_train_padding = pad_sequences(X_train,maxlen=100,padding=\"post\")"
   ]
  },
  {
   "cell_type": "code",
   "execution_count": 30,
   "id": "1c6cb306",
   "metadata": {},
   "outputs": [
    {
     "data": {
      "text/plain": [
       "array([[   2,  139,    3, ...,    0,    0,    0],\n",
       "       [   2,   40,  101, ...,    0,    0,    0],\n",
       "       [  17, 3060,    7, ...,    0,    0,    0],\n",
       "       ...,\n",
       "       [   2,    3,  327, ...,    0,    0,    0],\n",
       "       [   2,    3,   14, ...,    0,    0,    0],\n",
       "       [   2,   47,    7, ...,    0,    0,    0]])"
      ]
     },
     "execution_count": 30,
     "metadata": {},
     "output_type": "execute_result"
    }
   ],
   "source": [
    "X_train_padding"
   ]
  },
  {
   "cell_type": "code",
   "execution_count": 31,
   "id": "4a8469dc",
   "metadata": {},
   "outputs": [],
   "source": [
    "train_df['emotion'] = train_df.emotion.replace({\"joy\":0,'anger':1,\"love\":2,\"sadness\":3,\"fear\":4,\"surprise\":5})"
   ]
  },
  {
   "cell_type": "code",
   "execution_count": 32,
   "id": "cce24ff2",
   "metadata": {},
   "outputs": [
    {
     "data": {
      "text/html": [
       "<div>\n",
       "<style scoped>\n",
       "    .dataframe tbody tr th:only-of-type {\n",
       "        vertical-align: middle;\n",
       "    }\n",
       "\n",
       "    .dataframe tbody tr th {\n",
       "        vertical-align: top;\n",
       "    }\n",
       "\n",
       "    .dataframe thead th {\n",
       "        text-align: right;\n",
       "    }\n",
       "</style>\n",
       "<table border=\"1\" class=\"dataframe\">\n",
       "  <thead>\n",
       "    <tr style=\"text-align: right;\">\n",
       "      <th></th>\n",
       "      <th>text</th>\n",
       "      <th>emotion</th>\n",
       "    </tr>\n",
       "  </thead>\n",
       "  <tbody>\n",
       "    <tr>\n",
       "      <th>0</th>\n",
       "      <td>i didnt feel humiliated</td>\n",
       "      <td>3</td>\n",
       "    </tr>\n",
       "    <tr>\n",
       "      <th>1</th>\n",
       "      <td>i can go from feeling so hopeless to so damned...</td>\n",
       "      <td>3</td>\n",
       "    </tr>\n",
       "    <tr>\n",
       "      <th>2</th>\n",
       "      <td>im grabbing a minute to post i feel greedy wrong</td>\n",
       "      <td>1</td>\n",
       "    </tr>\n",
       "    <tr>\n",
       "      <th>3</th>\n",
       "      <td>i am ever feeling nostalgic about the fireplac...</td>\n",
       "      <td>2</td>\n",
       "    </tr>\n",
       "    <tr>\n",
       "      <th>4</th>\n",
       "      <td>i am feeling grouchy</td>\n",
       "      <td>1</td>\n",
       "    </tr>\n",
       "  </tbody>\n",
       "</table>\n",
       "</div>"
      ],
      "text/plain": [
       "                                                text  emotion\n",
       "0                            i didnt feel humiliated        3\n",
       "1  i can go from feeling so hopeless to so damned...        3\n",
       "2   im grabbing a minute to post i feel greedy wrong        1\n",
       "3  i am ever feeling nostalgic about the fireplac...        2\n",
       "4                               i am feeling grouchy        1"
      ]
     },
     "execution_count": 32,
     "metadata": {},
     "output_type": "execute_result"
    }
   ],
   "source": [
    "train_df.head()"
   ]
  },
  {
   "cell_type": "code",
   "execution_count": 33,
   "id": "f08276f7",
   "metadata": {},
   "outputs": [],
   "source": [
    "y_train = train_df.emotion.values"
   ]
  },
  {
   "cell_type": "code",
   "execution_count": 34,
   "id": "f2393ab9",
   "metadata": {},
   "outputs": [
    {
     "data": {
      "text/plain": [
       "array([3, 3, 1, ..., 0, 1, 3], dtype=int64)"
      ]
     },
     "execution_count": 34,
     "metadata": {},
     "output_type": "execute_result"
    }
   ],
   "source": [
    "y_train"
   ]
  },
  {
   "cell_type": "markdown",
   "id": "ad43f10c",
   "metadata": {},
   "source": [
    "### One hot Encoding the Emotion Values"
   ]
  },
  {
   "cell_type": "code",
   "execution_count": 36,
   "id": "7a187aa6",
   "metadata": {},
   "outputs": [],
   "source": [
    "y_train_one = to_categorical(y_train)"
   ]
  },
  {
   "cell_type": "code",
   "execution_count": 38,
   "id": "1ea933e2",
   "metadata": {},
   "outputs": [
    {
     "data": {
      "text/plain": [
       "(16000, 6)"
      ]
     },
     "execution_count": 38,
     "metadata": {},
     "output_type": "execute_result"
    }
   ],
   "source": [
    "y_train_one.shape"
   ]
  },
  {
   "cell_type": "code",
   "execution_count": 39,
   "id": "7f67b3b4",
   "metadata": {},
   "outputs": [
    {
     "data": {
      "text/plain": [
       "(16000, 100)"
      ]
     },
     "execution_count": 39,
     "metadata": {},
     "output_type": "execute_result"
    }
   ],
   "source": [
    "X_train_padding.shape"
   ]
  },
  {
   "cell_type": "markdown",
   "id": "dffe6ae9",
   "metadata": {},
   "source": [
    "### Prepare validation and test data"
   ]
  },
  {
   "cell_type": "code",
   "execution_count": 42,
   "id": "adb9b933",
   "metadata": {},
   "outputs": [],
   "source": [
    "X_val = val_df.text"
   ]
  },
  {
   "cell_type": "code",
   "execution_count": 44,
   "id": "19544448",
   "metadata": {
    "scrolled": true
   },
   "outputs": [
    {
     "data": {
      "text/plain": [
       "0    im feeling quite sad and sorry for myself but ...\n",
       "1    i feel like i am still looking at a blank canv...\n",
       "2                       i feel like a faithful servant\n",
       "3                    i am just feeling cranky and blue\n",
       "4    i can have for a treat or if i am feeling festive\n",
       "Name: text, dtype: object"
      ]
     },
     "execution_count": 44,
     "metadata": {},
     "output_type": "execute_result"
    }
   ],
   "source": [
    "X_val.head()"
   ]
  },
  {
   "cell_type": "code",
   "execution_count": null,
   "id": "93a6e23b",
   "metadata": {},
   "outputs": [],
   "source": [
    "val_df['emotion']=val_df.emotion.replace({'joy':0,'anger':1,'love':2,'sadness':3,'fear':4,'surprise':5})"
   ]
  },
  {
   "cell_type": "code",
   "execution_count": 47,
   "id": "b79b791a",
   "metadata": {},
   "outputs": [],
   "source": [
    "X_val_t = tokenizer.texts_to_sequences(X_val)"
   ]
  },
  {
   "cell_type": "code",
   "execution_count": 48,
   "id": "fb187175",
   "metadata": {},
   "outputs": [],
   "source": [
    "X_val_t_padding = pad_sequences(X_val_t,maxlen=100,padding=\"post\")"
   ]
  },
  {
   "cell_type": "code",
   "execution_count": 49,
   "id": "9fbd1497",
   "metadata": {},
   "outputs": [],
   "source": [
    "y_val = val_df.emotion.values"
   ]
  },
  {
   "cell_type": "code",
   "execution_count": 50,
   "id": "213621aa",
   "metadata": {},
   "outputs": [
    {
     "data": {
      "text/html": [
       "<div>\n",
       "<style scoped>\n",
       "    .dataframe tbody tr th:only-of-type {\n",
       "        vertical-align: middle;\n",
       "    }\n",
       "\n",
       "    .dataframe tbody tr th {\n",
       "        vertical-align: top;\n",
       "    }\n",
       "\n",
       "    .dataframe thead th {\n",
       "        text-align: right;\n",
       "    }\n",
       "</style>\n",
       "<table border=\"1\" class=\"dataframe\">\n",
       "  <thead>\n",
       "    <tr style=\"text-align: right;\">\n",
       "      <th></th>\n",
       "      <th>text</th>\n",
       "      <th>emotion</th>\n",
       "    </tr>\n",
       "  </thead>\n",
       "  <tbody>\n",
       "    <tr>\n",
       "      <th>0</th>\n",
       "      <td>im feeling quite sad and sorry for myself but ...</td>\n",
       "      <td>3</td>\n",
       "    </tr>\n",
       "    <tr>\n",
       "      <th>1</th>\n",
       "      <td>i feel like i am still looking at a blank canv...</td>\n",
       "      <td>3</td>\n",
       "    </tr>\n",
       "    <tr>\n",
       "      <th>2</th>\n",
       "      <td>i feel like a faithful servant</td>\n",
       "      <td>2</td>\n",
       "    </tr>\n",
       "    <tr>\n",
       "      <th>3</th>\n",
       "      <td>i am just feeling cranky and blue</td>\n",
       "      <td>1</td>\n",
       "    </tr>\n",
       "    <tr>\n",
       "      <th>4</th>\n",
       "      <td>i can have for a treat or if i am feeling festive</td>\n",
       "      <td>0</td>\n",
       "    </tr>\n",
       "    <tr>\n",
       "      <th>...</th>\n",
       "      <td>...</td>\n",
       "      <td>...</td>\n",
       "    </tr>\n",
       "    <tr>\n",
       "      <th>1995</th>\n",
       "      <td>im having ssa examination tomorrow in the morn...</td>\n",
       "      <td>3</td>\n",
       "    </tr>\n",
       "    <tr>\n",
       "      <th>1996</th>\n",
       "      <td>i constantly worry about their fight against n...</td>\n",
       "      <td>0</td>\n",
       "    </tr>\n",
       "    <tr>\n",
       "      <th>1997</th>\n",
       "      <td>i feel its important to share this info for th...</td>\n",
       "      <td>0</td>\n",
       "    </tr>\n",
       "    <tr>\n",
       "      <th>1998</th>\n",
       "      <td>i truly feel that if you are passionate enough...</td>\n",
       "      <td>0</td>\n",
       "    </tr>\n",
       "    <tr>\n",
       "      <th>1999</th>\n",
       "      <td>i feel like i just wanna buy any cute make up ...</td>\n",
       "      <td>0</td>\n",
       "    </tr>\n",
       "  </tbody>\n",
       "</table>\n",
       "<p>2000 rows × 2 columns</p>\n",
       "</div>"
      ],
      "text/plain": [
       "                                                   text  emotion\n",
       "0     im feeling quite sad and sorry for myself but ...        3\n",
       "1     i feel like i am still looking at a blank canv...        3\n",
       "2                        i feel like a faithful servant        2\n",
       "3                     i am just feeling cranky and blue        1\n",
       "4     i can have for a treat or if i am feeling festive        0\n",
       "...                                                 ...      ...\n",
       "1995  im having ssa examination tomorrow in the morn...        3\n",
       "1996  i constantly worry about their fight against n...        0\n",
       "1997  i feel its important to share this info for th...        0\n",
       "1998  i truly feel that if you are passionate enough...        0\n",
       "1999  i feel like i just wanna buy any cute make up ...        0\n",
       "\n",
       "[2000 rows x 2 columns]"
      ]
     },
     "execution_count": 50,
     "metadata": {},
     "output_type": "execute_result"
    }
   ],
   "source": [
    "val_df"
   ]
  },
  {
   "cell_type": "code",
   "execution_count": 51,
   "id": "623af638",
   "metadata": {},
   "outputs": [],
   "source": [
    "y_val_one = to_categorical(y_val)"
   ]
  },
  {
   "cell_type": "code",
   "execution_count": 52,
   "id": "ec7e7d7e",
   "metadata": {},
   "outputs": [
    {
     "data": {
      "text/plain": [
       "array([[0., 0., 0., 1., 0., 0.],\n",
       "       [0., 0., 0., 1., 0., 0.],\n",
       "       [0., 0., 1., 0., 0., 0.],\n",
       "       ...,\n",
       "       [1., 0., 0., 0., 0., 0.],\n",
       "       [1., 0., 0., 0., 0., 0.],\n",
       "       [1., 0., 0., 0., 0., 0.]], dtype=float32)"
      ]
     },
     "execution_count": 52,
     "metadata": {},
     "output_type": "execute_result"
    }
   ],
   "source": [
    "y_val_one"
   ]
  },
  {
   "cell_type": "code",
   "execution_count": 53,
   "id": "9b6fa9ae",
   "metadata": {},
   "outputs": [
    {
     "data": {
      "text/plain": [
       "(2000, 6)"
      ]
     },
     "execution_count": 53,
     "metadata": {},
     "output_type": "execute_result"
    }
   ],
   "source": [
    "y_val_one.shape"
   ]
  },
  {
   "cell_type": "code",
   "execution_count": 54,
   "id": "fbc77c13",
   "metadata": {},
   "outputs": [
    {
     "data": {
      "text/plain": [
       "(2000, 100)"
      ]
     },
     "execution_count": 54,
     "metadata": {},
     "output_type": "execute_result"
    }
   ],
   "source": [
    "X_val_t_padding.shape"
   ]
  },
  {
   "cell_type": "code",
   "execution_count": 55,
   "id": "adfaf82e",
   "metadata": {},
   "outputs": [],
   "source": [
    "X_test = test_df.text"
   ]
  },
  {
   "cell_type": "code",
   "execution_count": 56,
   "id": "7e024ab3",
   "metadata": {},
   "outputs": [],
   "source": [
    "X_test_t = tokenizer.texts_to_sequences(X_test)\n",
    "X_test_t_padding = pad_sequences(X_test_t,maxlen=100,padding=\"post\")"
   ]
  },
  {
   "cell_type": "code",
   "execution_count": 57,
   "id": "d372b941",
   "metadata": {},
   "outputs": [],
   "source": [
    "test_df['emotion']=test_df.emotion.replace({'joy':0,'anger':1,'love':2,'sadness':3,'fear':4,'surprise':5})"
   ]
  },
  {
   "cell_type": "code",
   "execution_count": 58,
   "id": "fbae177b",
   "metadata": {},
   "outputs": [],
   "source": [
    "y_test = test_df.emotion.values"
   ]
  },
  {
   "cell_type": "code",
   "execution_count": 59,
   "id": "47239145",
   "metadata": {},
   "outputs": [],
   "source": [
    "y_test_one = to_categorical(y_test)"
   ]
  },
  {
   "cell_type": "code",
   "execution_count": 60,
   "id": "e0783897",
   "metadata": {},
   "outputs": [
    {
     "data": {
      "text/html": [
       "<div>\n",
       "<style scoped>\n",
       "    .dataframe tbody tr th:only-of-type {\n",
       "        vertical-align: middle;\n",
       "    }\n",
       "\n",
       "    .dataframe tbody tr th {\n",
       "        vertical-align: top;\n",
       "    }\n",
       "\n",
       "    .dataframe thead th {\n",
       "        text-align: right;\n",
       "    }\n",
       "</style>\n",
       "<table border=\"1\" class=\"dataframe\">\n",
       "  <thead>\n",
       "    <tr style=\"text-align: right;\">\n",
       "      <th></th>\n",
       "      <th>text</th>\n",
       "      <th>emotion</th>\n",
       "    </tr>\n",
       "  </thead>\n",
       "  <tbody>\n",
       "    <tr>\n",
       "      <th>0</th>\n",
       "      <td>im feeling rather rotten so im not very ambiti...</td>\n",
       "      <td>3</td>\n",
       "    </tr>\n",
       "    <tr>\n",
       "      <th>1</th>\n",
       "      <td>im updating my blog because i feel shitty</td>\n",
       "      <td>3</td>\n",
       "    </tr>\n",
       "    <tr>\n",
       "      <th>2</th>\n",
       "      <td>i never make her separate from me because i do...</td>\n",
       "      <td>3</td>\n",
       "    </tr>\n",
       "    <tr>\n",
       "      <th>3</th>\n",
       "      <td>i left with my bouquet of red and yellow tulip...</td>\n",
       "      <td>0</td>\n",
       "    </tr>\n",
       "    <tr>\n",
       "      <th>4</th>\n",
       "      <td>i was feeling a little vain when i did this one</td>\n",
       "      <td>3</td>\n",
       "    </tr>\n",
       "  </tbody>\n",
       "</table>\n",
       "</div>"
      ],
      "text/plain": [
       "                                                text  emotion\n",
       "0  im feeling rather rotten so im not very ambiti...        3\n",
       "1          im updating my blog because i feel shitty        3\n",
       "2  i never make her separate from me because i do...        3\n",
       "3  i left with my bouquet of red and yellow tulip...        0\n",
       "4    i was feeling a little vain when i did this one        3"
      ]
     },
     "execution_count": 60,
     "metadata": {},
     "output_type": "execute_result"
    }
   ],
   "source": [
    "test_df.head()"
   ]
  },
  {
   "cell_type": "code",
   "execution_count": 61,
   "id": "5403692d",
   "metadata": {},
   "outputs": [
    {
     "data": {
      "text/plain": [
       "(2000, 100)"
      ]
     },
     "execution_count": 61,
     "metadata": {},
     "output_type": "execute_result"
    }
   ],
   "source": [
    "X_test_t_padding.shape"
   ]
  },
  {
   "cell_type": "code",
   "execution_count": 63,
   "id": "922297db",
   "metadata": {},
   "outputs": [
    {
     "data": {
      "text/plain": [
       "(2000, 6)"
      ]
     },
     "execution_count": 63,
     "metadata": {},
     "output_type": "execute_result"
    }
   ],
   "source": [
    "y_test_one.shape"
   ]
  },
  {
   "cell_type": "markdown",
   "id": "cb84cac7",
   "metadata": {},
   "source": [
    "## Creating The Model"
   ]
  },
  {
   "cell_type": "code",
   "execution_count": 66,
   "id": "b0c48b41",
   "metadata": {},
   "outputs": [
    {
     "name": "stdout",
     "output_type": "stream",
     "text": [
      "Model: \"sequential\"\n",
      "_________________________________________________________________\n",
      "Layer (type)                 Output Shape              Param #   \n",
      "=================================================================\n",
      "embedding (Embedding)        (None, 100, 64)           973568    \n",
      "_________________________________________________________________\n",
      "dropout (Dropout)            (None, 100, 64)           0         \n",
      "_________________________________________________________________\n",
      "bidirectional (Bidirectional (None, 100, 200)          132000    \n",
      "_________________________________________________________________\n",
      "bidirectional_1 (Bidirection (None, 256)               336896    \n",
      "_________________________________________________________________\n",
      "dense (Dense)                (None, 6)                 1542      \n",
      "=================================================================\n",
      "Total params: 1,444,006\n",
      "Trainable params: 1,444,006\n",
      "Non-trainable params: 0\n",
      "_________________________________________________________________\n",
      "None\n"
     ]
    }
   ],
   "source": [
    "model=Sequential()\n",
    "model.add(Embedding(15212,64,input_length=100))\n",
    "model.add(Dropout(0.5))\n",
    "model.add(Bidirectional(LSTM(100,return_sequences=True)))\n",
    "model.add(Bidirectional(LSTM(128)))\n",
    "model.add(Dense(6,activation='softmax'))\n",
    "print(model.summary())"
   ]
  },
  {
   "cell_type": "code",
   "execution_count": 67,
   "id": "b272715e",
   "metadata": {},
   "outputs": [],
   "source": [
    "model.compile(optimizer='adam',loss='categorical_crossentropy',metrics=['accuracy'])"
   ]
  },
  {
   "cell_type": "code",
   "execution_count": 68,
   "id": "55791c25",
   "metadata": {},
   "outputs": [
    {
     "name": "stdout",
     "output_type": "stream",
     "text": [
      "Epoch 1/10\n",
      "500/500 [==============================] - 166s 307ms/step - loss: 1.4344 - accuracy: 0.4102 - val_loss: 0.4698 - val_accuracy: 0.8330\n",
      "Epoch 2/10\n",
      "500/500 [==============================] - 155s 310ms/step - loss: 0.4177 - accuracy: 0.8569 - val_loss: 0.2742 - val_accuracy: 0.9085\n",
      "Epoch 3/10\n",
      "500/500 [==============================] - 155s 309ms/step - loss: 0.2346 - accuracy: 0.9174 - val_loss: 0.2510 - val_accuracy: 0.9145\n",
      "Epoch 4/10\n",
      "500/500 [==============================] - 161s 323ms/step - loss: 0.1620 - accuracy: 0.9398 - val_loss: 0.2035 - val_accuracy: 0.9215\n",
      "Epoch 5/10\n",
      "500/500 [==============================] - 157s 314ms/step - loss: 0.1185 - accuracy: 0.9583 - val_loss: 0.2184 - val_accuracy: 0.9210\n",
      "Epoch 6/10\n",
      "500/500 [==============================] - 171s 343ms/step - loss: 0.1039 - accuracy: 0.9638 - val_loss: 0.1793 - val_accuracy: 0.9280\n",
      "Epoch 7/10\n",
      "500/500 [==============================] - 169s 338ms/step - loss: 0.0882 - accuracy: 0.9672 - val_loss: 0.1876 - val_accuracy: 0.9310\n",
      "Epoch 8/10\n",
      "500/500 [==============================] - 171s 343ms/step - loss: 0.0771 - accuracy: 0.9736 - val_loss: 0.2085 - val_accuracy: 0.9260\n",
      "Epoch 9/10\n",
      "500/500 [==============================] - 188s 376ms/step - loss: 0.0656 - accuracy: 0.9739 - val_loss: 0.1951 - val_accuracy: 0.9315\n",
      "Epoch 10/10\n",
      "500/500 [==============================] - 184s 368ms/step - loss: 0.0618 - accuracy: 0.9771 - val_loss: 0.2158 - val_accuracy: 0.9285\n"
     ]
    }
   ],
   "source": [
    "hist=model.fit(X_train_padding,y_train_one,epochs=10,validation_data=(X_val_t_padding,y_val_one))"
   ]
  },
  {
   "cell_type": "code",
   "execution_count": 72,
   "id": "59c6a15f",
   "metadata": {},
   "outputs": [
    {
     "data": {
      "image/png": "[encoded data removed]",
      "text/plain": [
       "<Figure size 432x288 with 1 Axes>"
      ]
     },
     "metadata": {
      "needs_background": "light"
     },
     "output_type": "display_data"
    }
   ],
   "source": [
    "plt.plot(hist.history['accuracy'],c='b',label='train')\n",
    "plt.plot(hist.history['val_accuracy'],c='r',label='validation')\n",
    "plt.legend(loc='lower right')\n",
    "plt.show()"
   ]
  },
  {
   "cell_type": "code",
   "execution_count": 71,
   "id": "6515d295",
   "metadata": {},
   "outputs": [
    {
     "data": {
      "image/png": "[encoded data removed]",
      "text/plain": [
       "<Figure size 432x288 with 1 Axes>"
      ]
     },
     "metadata": {
      "needs_background": "light"
     },
     "output_type": "display_data"
    }
   ],
   "source": [
    "plt.plot(hist.history['loss'],c='orange',label='train')\n",
    "plt.plot(hist.history['val_loss'],c='g',label='validation')\n",
    "plt.legend(loc='upper right')\n",
    "plt.show()"
   ]
  },
  {
   "cell_type": "markdown",
   "id": "2bbc6639",
   "metadata": {},
   "source": [
    "### Check Accuracy for test data"
   ]
  },
  {
   "cell_type": "code",
   "execution_count": 76,
   "id": "2745f605",
   "metadata": {},
   "outputs": [
    {
     "name": "stderr",
     "output_type": "stream",
     "text": [
      "C:\\Users\\Ahmad Abd Elhameed\\Anaconda3\\envs\\nlp\\lib\\site-packages\\tensorflow\\python\\keras\\engine\\sequential.py:450: UserWarning: `model.predict_classes()` is deprecated and will be removed after 2021-01-01. Please use instead:* `np.argmax(model.predict(x), axis=-1)`,   if your model does multi-class classification   (e.g. if it uses a `softmax` last-layer activation).* `(model.predict(x) > 0.5).astype(\"int32\")`,   if your model does binary classification   (e.g. if it uses a `sigmoid` last-layer activation).\n",
      "  warnings.warn('`model.predict_classes()` is deprecated and '\n"
     ]
    }
   ],
   "source": [
    "y_test_pred = model.predict_classes(X_test_t_padding)"
   ]
  },
  {
   "cell_type": "code",
   "execution_count": 74,
   "id": "53790ad1",
   "metadata": {},
   "outputs": [
    {
     "name": "stdout",
     "output_type": "stream",
     "text": [
      "63/63 [==============================] - 5s 84ms/step - loss: 0.2253 - accuracy: 0.9275 1s - loss:\n"
     ]
    },
    {
     "data": {
      "text/plain": [
       "[0.22530052065849304, 0.9275000095367432]"
      ]
     },
     "execution_count": 74,
     "metadata": {},
     "output_type": "execute_result"
    }
   ],
   "source": [
    "model.evaluate(X_test_t_padding,y_test_one)"
   ]
  },
  {
   "cell_type": "code",
   "execution_count": null,
   "id": "60599a1c",
   "metadata": {},
   "outputs": [],
   "source": []
  },
  {
   "cell_type": "code",
   "execution_count": 79,
   "id": "e9cf68c0",
   "metadata": {},
   "outputs": [
    {
     "data": {
      "text/plain": [
       "array([[0., 0., 0., 1., 0., 0.],\n",
       "       [0., 0., 0., 1., 0., 0.],\n",
       "       [0., 0., 0., 1., 0., 0.],\n",
       "       ...,\n",
       "       [1., 0., 0., 0., 0., 0.],\n",
       "       [1., 0., 0., 0., 0., 0.],\n",
       "       [0., 0., 0., 0., 1., 0.]], dtype=float32)"
      ]
     },
     "execution_count": 79,
     "metadata": {},
     "output_type": "execute_result"
    }
   ],
   "source": [
    "y_test_one"
   ]
  },
  {
   "cell_type": "code",
   "execution_count": 82,
   "id": "0be0d887",
   "metadata": {},
   "outputs": [
    {
     "data": {
      "text/plain": [
       "3"
      ]
     },
     "execution_count": 82,
     "metadata": {},
     "output_type": "execute_result"
    }
   ],
   "source": [
    "rounded_labels=np.argmax(y_test_one, axis=1)\n",
    "rounded_labels[0]"
   ]
  },
  {
   "cell_type": "code",
   "execution_count": 80,
   "id": "6784aa49",
   "metadata": {},
   "outputs": [
    {
     "data": {
      "text/plain": [
       "array([3, 3, 3, ..., 0, 0, 5], dtype=int64)"
      ]
     },
     "execution_count": 80,
     "metadata": {},
     "output_type": "execute_result"
    }
   ],
   "source": [
    "y_test_pred"
   ]
  },
  {
   "cell_type": "code",
   "execution_count": 85,
   "id": "e2c1a479",
   "metadata": {},
   "outputs": [
    {
     "data": {
      "text/plain": [
       "(2000,)"
      ]
     },
     "execution_count": 85,
     "metadata": {},
     "output_type": "execute_result"
    }
   ],
   "source": [
    "y_test_pred.shape"
   ]
  },
  {
   "cell_type": "code",
   "execution_count": 84,
   "id": "a1a941a8",
   "metadata": {},
   "outputs": [
    {
     "data": {
      "text/plain": [
       "(2000,)"
      ]
     },
     "execution_count": 84,
     "metadata": {},
     "output_type": "execute_result"
    }
   ],
   "source": [
    "rounded_labels.shape"
   ]
  },
  {
   "cell_type": "code",
   "execution_count": 87,
   "id": "4e096837",
   "metadata": {},
   "outputs": [
    {
     "name": "stdout",
     "output_type": "stream",
     "text": [
      "<class 'numpy.ndarray'>\n",
      "<class 'numpy.ndarray'>\n"
     ]
    }
   ],
   "source": [
    "print(type(y_test_pred))\n",
    "print(type(rounded_labels))\n"
   ]
  },
  {
   "cell_type": "code",
   "execution_count": 86,
   "id": "c739b3e2",
   "metadata": {},
   "outputs": [
    {
     "name": "stdout",
     "output_type": "stream",
     "text": [
      "              precision    recall  f1-score   support\n",
      "\n",
      "           0       0.93      0.96      0.95       695\n",
      "           1       0.93      0.92      0.93       275\n",
      "           2       0.88      0.73      0.80       159\n",
      "           3       0.95      0.98      0.96       581\n",
      "           4       0.92      0.88      0.90       224\n",
      "           5       0.80      0.79      0.79        66\n",
      "\n",
      "    accuracy                           0.93      2000\n",
      "   macro avg       0.90      0.88      0.89      2000\n",
      "weighted avg       0.93      0.93      0.93      2000\n",
      "\n"
     ]
    }
   ],
   "source": [
    "print(classification_report(rounded_labels,y_test_pred))"
   ]
  },
  {
   "cell_type": "code",
   "execution_count": 88,
   "id": "2bbf384b",
   "metadata": {},
   "outputs": [
    {
     "data": {
      "text/plain": [
       "<AxesSubplot:title={'center':'Confusion Matrix'}, xlabel='Predicted label', ylabel='True label'>"
      ]
     },
     "execution_count": 88,
     "metadata": {},
     "output_type": "execute_result"
    },
    {
     "data": {
      "image/png": "[encoded data removed]",
      "text/plain": [
       "<Figure size 432x288 with 2 Axes>"
      ]
     },
     "metadata": {
      "needs_background": "light"
     },
     "output_type": "display_data"
    }
   ],
   "source": [
    "plot_confusion_matrix(rounded_labels,y_test_pred)"
   ]
  },
  {
   "cell_type": "markdown",
   "id": "50ae590c",
   "metadata": {},
   "source": [
    "## Check Custom input text"
   ]
  },
  {
   "cell_type": "code",
   "execution_count": 91,
   "id": "507777d8",
   "metadata": {},
   "outputs": [],
   "source": [
    "def get_emotion(sent):\n",
    "    emotions_dict = {'joy':0,'anger':1,'love':2,'sadness':3,'fear':4,'surprise':5}\n",
    "    for key , value in emotions_dict.items():\n",
    "        if (value == sent) :\n",
    "            return key"
   ]
  },
  {
   "cell_type": "code",
   "execution_count": 92,
   "id": "7c848646",
   "metadata": {},
   "outputs": [],
   "source": [
    "def predict(text):\n",
    "    text_list = []\n",
    "    text_list.append(text)\n",
    "    text_seq = tokenizer.texts_to_sequences(text_list)\n",
    "    texts_pad = pad_sequences(text_seq,maxlen=100,padding='post')\n",
    "    result = get_emotion(model.predict_classes(texts_pad))\n",
    "    print(\"The Emotion for this review is \",result)"
   ]
  },
  {
   "cell_type": "code",
   "execution_count": 94,
   "id": "71506e97",
   "metadata": {},
   "outputs": [
    {
     "name": "stdout",
     "output_type": "stream",
     "text": [
      "The Emotion for this review is  anger\n"
     ]
    }
   ],
   "source": [
    "predict(\"I hate you\")"
   ]
  },
  {
   "cell_type": "code",
   "execution_count": 98,
   "id": "5f4625b3",
   "metadata": {},
   "outputs": [
    {
     "name": "stdout",
     "output_type": "stream",
     "text": [
      "The Emotion for this review is  joy\n"
     ]
    }
   ],
   "source": [
    "predict(\"love this\")"
   ]
  },
  {
   "cell_type": "code",
   "execution_count": 97,
   "id": "f6257444",
   "metadata": {},
   "outputs": [
    {
     "name": "stdout",
     "output_type": "stream",
     "text": [
      "The Emotion for this review is  joy\n"
     ]
    }
   ],
   "source": [
    "predict(\"haha i love it\")"
   ]
  },
  {
   "cell_type": "code",
   "execution_count": 99,
   "id": "e42bb091",
   "metadata": {},
   "outputs": [
    {
     "name": "stdout",
     "output_type": "stream",
     "text": [
      "The Emotion for this review is  joy\n"
     ]
    }
   ],
   "source": [
    "predict(\"I hope everythings is ok , good bye \")"
   ]
  },
  {
   "cell_type": "code",
   "execution_count": null,
   "id": "c5ea1953",
   "metadata": {},
   "outputs": [],
   "source": []
  }
 ],
 "metadata": {
  "kernelspec": {
   "display_name": "Python 3",
   "language": "python",
   "name": "python3"
  },
  "language_info": {
   "codemirror_mode": {
    "name": "ipython",
    "version": 3
   },
   "file_extension": ".py",
   "mimetype": "text/x-python",
   "name": "python",
   "nbconvert_exporter": "python",
   "pygments_lexer": "ipython3",
   "version": "3.6.9"
  }
 },
 "nbformat": 4,
 "nbformat_minor": 5
}
